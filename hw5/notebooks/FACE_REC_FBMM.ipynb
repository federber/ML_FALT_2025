{
  "cells": [
    {
      "cell_type": "markdown",
      "metadata": {
        "id": "khVlml-8_bgX"
      },
      "source": [
        "# Face recognition using deep neural networks"
      ]
    },
    {
      "cell_type": "markdown",
      "metadata": {
        "id": "xuZindgh_PP_"
      },
      "source": [
        "### Состав команды\n",
        "##Микишева Мария гр. Б03-213с\n",
        "##Берёзкин Фёдор гр. Б03-212и"
      ]
    },
    {
      "cell_type": "code",
      "execution_count": null,
      "metadata": {
        "colab": {
          "base_uri": "https://localhost:8080/"
        },
        "id": "UjfnimGFNDZm",
        "outputId": "310e40b0-578d-4468-bb93-0c1b05332e88"
      },
      "outputs": [
        {
          "name": "stdout",
          "output_type": "stream",
          "text": [
            "Drive not mounted, so nothing to flush and unmount.\n"
          ]
        }
      ],
      "source": [
        "from google.colab import drive\n",
        "drive.flush_and_unmount()  # отключим"
      ]
    },
    {
      "cell_type": "code",
      "execution_count": null,
      "metadata": {
        "colab": {
          "base_uri": "https://localhost:8080/"
        },
        "id": "9UG_wSh4NmnG",
        "outputId": "f087bf2a-2bd7-4b5a-c8a5-fa4038b24ae7"
      },
      "outputs": [
        {
          "output_type": "stream",
          "name": "stdout",
          "text": [
            "Mounted at /content/drive\n"
          ]
        }
      ],
      "source": [
        "from google.colab import drive\n",
        "drive.mount('/content/drive')"
      ]
    },
    {
      "cell_type": "code",
      "execution_count": null,
      "metadata": {
        "id": "pXcL_m5QAx8k"
      },
      "outputs": [],
      "source": [
        "from google.colab import drive\n",
        "drive.mount('/content/drive', force_remount=True)"
      ]
    },
    {
      "cell_type": "code",
      "source": [
        "device = torch.device(\"cuda\" if torch.cuda.is_available() else \"cpu\")\n",
        "print(f\"Using device: {device}\")"
      ],
      "metadata": {
        "colab": {
          "base_uri": "https://localhost:8080/"
        },
        "id": "Dg9Y9f_oucBi",
        "outputId": "46f12a2d-3eea-486a-bf12-c0b6734afae6"
      },
      "execution_count": null,
      "outputs": [
        {
          "output_type": "stream",
          "name": "stdout",
          "text": [
            "Using device: cuda\n"
          ]
        }
      ]
    },
    {
      "cell_type": "code",
      "execution_count": null,
      "metadata": {
        "id": "RduRCqp8A4qK"
      },
      "outputs": [],
      "source": [
        "import os\n",
        "\n",
        "save_path = SAVE_PATH = \"/content/drive/MyDrive/ml_hw5\""
      ]
    },
    {
      "cell_type": "markdown",
      "source": [],
      "metadata": {
        "id": "L5I30RlTl6wl"
      }
    },
    {
      "cell_type": "code",
      "execution_count": null,
      "metadata": {
        "id": "boalw5HgJAe7"
      },
      "outputs": [],
      "source": [
        "import pickle\n",
        "from pathlib import Path\n",
        "\n",
        "import cv2\n",
        "import matplotlib.pyplot as plt\n",
        "import numpy as np\n",
        "import pandas as pd\n",
        "import torch\n",
        "from sklearn.model_selection import train_test_split\n",
        "from torch import nn\n",
        "from torch.utils.data import Dataset, DataLoader, SubsetRandomSampler\n",
        "from torchvision import datasets, models, transforms\n",
        "import torchvision\n",
        "import albumentations as A\n",
        "from albumentations.pytorch.transforms import ToTensorV2 as ToTensor\n",
        "from tqdm import tqdm"
      ]
    },
    {
      "cell_type": "markdown",
      "metadata": {
        "id": "N9KVcWfnJk8M"
      },
      "source": [
        "# Section 1: Data Collection and Preparation"
      ]
    },
    {
      "cell_type": "code",
      "execution_count": null,
      "metadata": {
        "id": "7_lN_aD7JFYu"
      },
      "outputs": [],
      "source": [
        "celeba_dir = \"/content/drive/MyDrive/ml_hw5/celeba\"\n",
        "\n",
        "base_data_path  = Path(f\"{celeba_dir}/img_align_celeba\")\n",
        "\n",
        "identity_file   = f\"{celeba_dir}/identity_CelebA.txt\"\n",
        "partition_file  = f\"{celeba_dir}/list_eval_partition.txt\"\n",
        "output_dir      = Path(celeba_dir)"
      ]
    },
    {
      "cell_type": "code",
      "execution_count": null,
      "metadata": {
        "colab": {
          "base_uri": "https://localhost:8080/"
        },
        "id": "hI27F4H5QeKz",
        "outputId": "ab7911ea-6c07-483a-ef6c-99fb05686649"
      },
      "outputs": [
        {
          "output_type": "stream",
          "name": "stdout",
          "text": [
            "Drive already mounted at /content/drive; to attempt to forcibly remount, call drive.mount(\"/content/drive\", force_remount=True).\n"
          ]
        }
      ],
      "source": [
        "from google.colab import drive\n",
        "drive.mount('/content/drive')"
      ]
    },
    {
      "cell_type": "code",
      "execution_count": null,
      "metadata": {
        "colab": {
          "base_uri": "https://localhost:8080/"
        },
        "id": "8RwPp_EcJFbY",
        "outputId": "4434bb61-b0bc-4564-e603-2bad13342036"
      },
      "outputs": [
        {
          "output_type": "stream",
          "name": "stderr",
          "text": [
            "100%|██████████| 202600/202600 [09:53<00:00, 341.35it/s]\n"
          ]
        }
      ],
      "source": [
        "# Build a DataFrame of (image_path, id)\n",
        "celeba_id_dataframe = pd.DataFrame(columns=['path', 'id'])\n",
        "with open(identity_file, 'r') as f:\n",
        "    data = f.read()\n",
        "    for line in tqdm(data.split('\\n')):\n",
        "        if not line:\n",
        "            continue\n",
        "        name, id_ = line.split()\n",
        "        celeba_id_dataframe = pd.concat([\n",
        "            celeba_id_dataframe,\n",
        "            pd.DataFrame({'path': [str(base_data_path / name)], 'id': [id_]})\n",
        "        ], ignore_index=True)\n",
        "\n",
        "celeba_id_dataframe.to_csv(output_dir / 'celeba_id.csv', index=False)"
      ]
    },
    {
      "cell_type": "code",
      "source": [
        "import csv\n",
        "\n",
        "# преобразование файла из txt в csv, иначе проблемы со чтением\n",
        "input_file_p = f\"{celeba_dir}/list_eval_partition.txt\"\n",
        "output_file_p = f\"{celeba_dir}/list_eval_partition.csv\"\n",
        "\n",
        "with open(input_file_p, 'r') as infile, open(output_file_p, 'w', newline='') as outfile:\n",
        "    writer = csv.writer(outfile)\n",
        "    writer.writerow(['filename', 'partition'])\n",
        "\n",
        "    for line in infile:\n",
        "        filename, index = line.strip().split()\n",
        "        writer.writerow([filename, int(index)])\n",
        "\n",
        "print(f\"Файл преобразован и сохранён как {output_file_p}\")"
      ],
      "metadata": {
        "id": "XSTaS6iMlaqj",
        "colab": {
          "base_uri": "https://localhost:8080/"
        },
        "outputId": "e12130ad-6acd-4b12-89f9-790fd6798ae6"
      },
      "execution_count": null,
      "outputs": [
        {
          "output_type": "stream",
          "name": "stdout",
          "text": [
            "Файл успешно преобразован и сохранён как /content/drive/MyDrive/ml_hw5/celeba/list_eval_partition.csv\n"
          ]
        }
      ]
    },
    {
      "cell_type": "code",
      "source": [
        "celeba_id_dataframe = pd.read_csv(output_dir / 'celeba_id.csv')"
      ],
      "metadata": {
        "id": "ulN-RRINlayn"
      },
      "execution_count": null,
      "outputs": []
    },
    {
      "cell_type": "code",
      "source": [],
      "metadata": {
        "id": "d5gleshPH1L2"
      },
      "execution_count": null,
      "outputs": []
    },
    {
      "cell_type": "code",
      "execution_count": null,
      "metadata": {
        "id": "xXBK6pv5KaRj"
      },
      "outputs": [],
      "source": [
        "# Load evaluation partition\n",
        "celeba_eval_partition = pd.read_csv(output_file_p)"
      ]
    },
    {
      "cell_type": "code",
      "source": [
        "print(celeba_eval_partition.columns)"
      ],
      "metadata": {
        "id": "eUQNsmg_lw9J",
        "colab": {
          "base_uri": "https://localhost:8080/"
        },
        "outputId": "493adc8c-1ff6-4a7f-a0e2-fe5120c6d9a0"
      },
      "execution_count": null,
      "outputs": [
        {
          "output_type": "stream",
          "name": "stdout",
          "text": [
            "Index(['filename', 'partition'], dtype='object')\n"
          ]
        }
      ]
    },
    {
      "cell_type": "code",
      "execution_count": null,
      "metadata": {
        "id": "k3nhgWmCKji2"
      },
      "outputs": [],
      "source": [
        "# Разделение на train / valid / test по partition\n",
        "train_data = celeba_id_dataframe.loc[(celeba_eval_partition.partition == 0).values].reset_index(drop=True)\n",
        "valid_data = celeba_id_dataframe.loc[(celeba_eval_partition.partition == 1).values].reset_index(drop=True)\n",
        "test_data  = celeba_id_dataframe.loc[(celeba_eval_partition.partition == 2).values].reset_index(drop=True)"
      ]
    },
    {
      "cell_type": "code",
      "execution_count": null,
      "metadata": {
        "id": "eZxOGL1yKjlt"
      },
      "outputs": [],
      "source": [
        "\n",
        "train_data.to_csv(output_dir / 'train_data_id.csv', index=False)\n",
        "valid_data.to_csv(output_dir / 'valid_data_id.csv', index=False)\n",
        "test_data.to_csv(output_dir / 'test_data_id.csv', index=False)"
      ]
    },
    {
      "cell_type": "code",
      "execution_count": null,
      "metadata": {
        "id": "hSyyPaDmKnLy"
      },
      "outputs": [],
      "source": [
        "# Построение словаря в формате: id -> list of image paths\n",
        "def build_id_to_paths(df: pd.DataFrame) -> dict:\n",
        "    id_paths = {i: [] for i in np.unique(df.id.values)}\n",
        "    for _, row in df.iterrows():\n",
        "        id_paths[row.id].append(row.path)\n",
        "    return id_paths"
      ]
    },
    {
      "cell_type": "code",
      "execution_count": null,
      "metadata": {
        "id": "0fAGLDssKqvF"
      },
      "outputs": [],
      "source": [
        "id_to_paths_train = build_id_to_paths(train_data)\n",
        "id_to_paths_valid = build_id_to_paths(valid_data)\n",
        "id_to_paths_test  = build_id_to_paths(test_data)"
      ]
    },
    {
      "cell_type": "markdown",
      "metadata": {
        "id": "otZMq5nlKy2J"
      },
      "source": [
        "# Section 2: Triplet Dataset Construction"
      ]
    },
    {
      "cell_type": "code",
      "execution_count": null,
      "metadata": {
        "id": "CroCUPQ1Kuhs"
      },
      "outputs": [],
      "source": [
        "triplet_train_file = output_dir / 'triplet_train1.csv'\n",
        "triplet_dataframe_train = pd.DataFrame(columns=['anchor', 'positive', 'negative'])\n",
        "\n",
        "ids_train = list(id_to_paths_train.keys())\n",
        "num_triplets_per_round = 70000"
      ]
    },
    {
      "cell_type": "code",
      "execution_count": null,
      "metadata": {
        "id": "KwVQfkXDK1fV"
      },
      "outputs": [],
      "source": [
        "for _ in range(9):\n",
        "    temp_df = pd.DataFrame(columns=['anchor', 'positive', 'negative'])\n",
        "    for _ in tqdm(range(num_triplets_per_round)):\n",
        "        # Выбираем anchor_id с как минимум 2 картинками, а также negative_id != anchor_id\n",
        "        while True:\n",
        "            anchor_id, negative_id = np.random.choice(ids_train, 2, replace=False)\n",
        "            if len(id_to_paths_train[anchor_id]) > 1:\n",
        "                break\n",
        "\n",
        "        anchor_list = id_to_paths_train[anchor_id]\n",
        "        anchor_idx = np.random.randint(0, len(anchor_list))\n",
        "        anchor_path = anchor_list[anchor_idx]\n",
        "\n",
        "        positive_candidates = anchor_list[:anchor_idx] + anchor_list[anchor_idx + 1:]\n",
        "        positive_path = np.random.choice(positive_candidates)\n",
        "\n",
        "        negative_path = np.random.choice(id_to_paths_train[negative_id])\n",
        "\n",
        "        temp_df = pd.concat([\n",
        "            temp_df,\n",
        "            pd.DataFrame({\n",
        "                'anchor': [anchor_path],\n",
        "                'positive': [positive_path],\n",
        "                'negative': [negative_path]\n",
        "            })\n",
        "        ], ignore_index=True)\n",
        "\n",
        "    triplet_dataframe_train = pd.concat([triplet_dataframe_train, temp_df], ignore_index=True)"
      ]
    },
    {
      "cell_type": "code",
      "execution_count": null,
      "metadata": {
        "id": "U3Dr81cqK1h2"
      },
      "outputs": [],
      "source": [
        "triplet_dataframe_train.to_csv(triplet_train_file, index=False)"
      ]
    },
    {
      "cell_type": "code",
      "execution_count": null,
      "metadata": {
        "id": "YoxfsPwcK1ki"
      },
      "outputs": [],
      "source": [
        "triplet_valid_file = output_dir / 'triplet_valid.csv'\n",
        "triplet_dataframe_valid = pd.DataFrame(columns=['anchor', 'positive', 'negative'])"
      ]
    },
    {
      "cell_type": "code",
      "execution_count": null,
      "metadata": {
        "id": "4gKAtlHhLGaP"
      },
      "outputs": [],
      "source": [
        "ids_valid = list(id_to_paths_valid.keys())\n",
        "for _ in tqdm(range(num_triplets_per_round)):\n",
        "    while True:\n",
        "        anchor_id, negative_id = np.random.choice(ids_valid, 2, replace=False)\n",
        "        if len(id_to_paths_valid[anchor_id]) > 1:\n",
        "            break\n",
        "\n",
        "    anchor_list = id_to_paths_valid[anchor_id]\n",
        "    anchor_idx = np.random.randint(0, len(anchor_list))\n",
        "    anchor_path = anchor_list[anchor_idx]\n",
        "\n",
        "    positive_candidates = anchor_list[:anchor_idx] + anchor_list[anchor_idx + 1:]\n",
        "    positive_path = np.random.choice(positive_candidates)\n",
        "\n",
        "    negative_path = np.random.choice(id_to_paths_valid[negative_id])\n",
        "\n",
        "    triplet_dataframe_valid = pd.concat([\n",
        "        triplet_dataframe_valid,\n",
        "        pd.DataFrame({\n",
        "            'anchor': [anchor_path],\n",
        "            'positive': [positive_path],\n",
        "            'negative': [negative_path]\n",
        "        })\n",
        "    ], ignore_index=True)"
      ]
    },
    {
      "cell_type": "code",
      "execution_count": null,
      "metadata": {
        "id": "Lgd7KvIeLGdI"
      },
      "outputs": [],
      "source": [
        "triplet_dataframe_valid.to_csv(triplet_valid_file, index=False)"
      ]
    },
    {
      "cell_type": "code",
      "source": [
        "import pandas as pd\n",
        "\n",
        "df = pd.read_csv(f\"{celeba_dir}/triplet_valid.csv\")\n",
        "print(\"Rows (без учёта заголовка):\", len(df))"
      ],
      "metadata": {
        "colab": {
          "base_uri": "https://localhost:8080/"
        },
        "id": "-9R6Gc7VwJYn",
        "outputId": "972557eb-47c5-42b2-c3c5-8ded29447b1d"
      },
      "execution_count": null,
      "outputs": [
        {
          "output_type": "stream",
          "name": "stdout",
          "text": [
            "Rows (без учёта заголовка): 70000\n"
          ]
        }
      ]
    },
    {
      "cell_type": "code",
      "source": [
        "import pandas as pd\n",
        "\n",
        "df = pd.read_csv(f\"{celeba_dir}/triplet_train1.csv\")\n",
        "print(\"Number of triplets (строк без заголовка):\", len(df))"
      ],
      "metadata": {
        "colab": {
          "base_uri": "https://localhost:8080/"
        },
        "id": "8I5tjfZ7wJbF",
        "outputId": "c89a8f01-bdc7-49b6-b42d-174c5b7f31d0"
      },
      "execution_count": null,
      "outputs": [
        {
          "output_type": "stream",
          "name": "stdout",
          "text": [
            "Number of triplets (строк без заголовка): 630000\n"
          ]
        }
      ]
    },
    {
      "cell_type": "markdown",
      "metadata": {
        "id": "GHzFXYHxLKmI"
      },
      "source": [
        "# Section 3: Verification Dataset Construction"
      ]
    },
    {
      "cell_type": "code",
      "execution_count": null,
      "metadata": {
        "id": "pP02N4H6LGge"
      },
      "outputs": [],
      "source": [
        "verification_valid_file = output_dir / 'verification_valid.csv'\n",
        "verification_dataframe_valid = pd.DataFrame(columns=['lhs_path', 'rhs_path', 'same'])"
      ]
    },
    {
      "cell_type": "code",
      "execution_count": null,
      "metadata": {
        "id": "sJaysenFLQmX"
      },
      "outputs": [],
      "source": [
        "# Positive pairs (same ID)\n",
        "for _ in tqdm(range(5000)):\n",
        "    while True:\n",
        "        id_ = np.random.choice(ids_valid)\n",
        "        if len(id_to_paths_valid[id_]) > 1:\n",
        "            break\n",
        "    lhs_path, rhs_path = np.random.choice(id_to_paths_valid[id_], 2, replace=False)\n",
        "    verification_dataframe_valid = pd.concat([\n",
        "        verification_dataframe_valid,\n",
        "        pd.DataFrame({'lhs_path': [lhs_path], 'rhs_path': [rhs_path], 'same': [1]})\n",
        "    ], ignore_index=True)"
      ]
    },
    {
      "cell_type": "code",
      "execution_count": null,
      "metadata": {
        "id": "Qo_2gB41LQsi"
      },
      "outputs": [],
      "source": [
        "# Negative pairs (different IDs)\n",
        "for _ in tqdm(range(5000)):\n",
        "    id_lhs, id_rhs = np.random.choice(ids_valid, 2, replace=False)\n",
        "    lhs_path = np.random.choice(id_to_paths_valid[id_lhs])\n",
        "    rhs_path = np.random.choice(id_to_paths_valid[id_rhs])\n",
        "    verification_dataframe_valid = pd.concat([\n",
        "        verification_dataframe_valid,\n",
        "        pd.DataFrame({'lhs_path': [lhs_path], 'rhs_path': [rhs_path], 'same': [0]})\n",
        "    ], ignore_index=True)"
      ]
    },
    {
      "cell_type": "code",
      "execution_count": null,
      "metadata": {
        "id": "6whrFA41Lbz-"
      },
      "outputs": [],
      "source": [
        "verification_dataframe_valid.to_csv(verification_valid_file, index=False)"
      ]
    },
    {
      "cell_type": "code",
      "execution_count": null,
      "metadata": {
        "id": "jsynUR-CLXV9"
      },
      "outputs": [],
      "source": [
        "# Test verification pairs without labels\n",
        "verification_test_file = output_dir / 'verification_test.csv'\n",
        "verification_dataframe_test = pd.DataFrame(columns=['lhs_path', 'rhs_path', 'same'])\n",
        "\n",
        "ids_test = list(id_to_paths_test.keys())"
      ]
    },
    {
      "cell_type": "code",
      "execution_count": null,
      "metadata": {
        "id": "BRgbu40qLXZC"
      },
      "outputs": [],
      "source": [
        "# Positive pairs (same ID)\n",
        "for _ in tqdm(range(5000)):\n",
        "    while True:\n",
        "        id_ = np.random.choice(ids_test)\n",
        "        if len(id_to_paths_test[id_]) > 1:\n",
        "            break\n",
        "    lhs_path, rhs_path = np.random.choice(id_to_paths_test[id_], 2, replace=False)\n",
        "    verification_dataframe_test = pd.concat([\n",
        "        verification_dataframe_test,\n",
        "        pd.DataFrame({'lhs_path': [lhs_path], 'rhs_path': [rhs_path], 'same': [1]})\n",
        "    ], ignore_index=True)"
      ]
    },
    {
      "cell_type": "code",
      "execution_count": null,
      "metadata": {
        "id": "RKTYbqmELft9"
      },
      "outputs": [],
      "source": [
        "# Negative pairs (different IDs)\n",
        "for _ in tqdm(range(5000)):\n",
        "    id_lhs, id_rhs = np.random.choice(ids_test, 2, replace=False)\n",
        "    lhs_path = np.random.choice(id_to_paths_test[id_lhs])\n",
        "    rhs_path = np.random.choice(id_to_paths_test[id_rhs])\n",
        "    verification_dataframe_test = pd.concat([\n",
        "        verification_dataframe_test,\n",
        "        pd.DataFrame({'lhs_path': [lhs_path], 'rhs_path': [rhs_path], 'same': [0]})\n",
        "    ], ignore_index=True)\n"
      ]
    },
    {
      "cell_type": "code",
      "execution_count": null,
      "metadata": {
        "id": "pPBqNQ0ELf0f"
      },
      "outputs": [],
      "source": [
        "verification_dataframe_test.to_csv(verification_test_file, index=False)"
      ]
    },
    {
      "cell_type": "code",
      "source": [
        "celeba_dir = \"/content/drive/MyDrive/ml_hw5/celeba\"\n",
        "verification_valid_path = f\"{celeba_dir}/verification_valid.csv\"\n",
        "verification_test_path  = f\"{celeba_dir}/verification_test.csv\"\n",
        "\n",
        "verification_valid_df = pd.read_csv(verification_valid_path)\n",
        "verification_test_df  = pd.read_csv(verification_test_path)\n",
        "\n",
        "print(f\"verification_valid.csv → {len(verification_valid_df)} строк (без учёта заголовка)\")\n",
        "print(f\"verification_test.csv  → {len(verification_test_df)} строк (без учёта заголовка)\")"
      ],
      "metadata": {
        "colab": {
          "base_uri": "https://localhost:8080/"
        },
        "id": "g3Cc4BJa0NmS",
        "outputId": "a2db0f38-e6fc-4a87-bfb9-d1a827cc588f"
      },
      "execution_count": null,
      "outputs": [
        {
          "output_type": "stream",
          "name": "stdout",
          "text": [
            "verification_valid.csv → 10000 строк (без учёта заголовка)\n",
            "verification_test.csv  → 10000 строк (без учёта заголовка)\n"
          ]
        }
      ]
    },
    {
      "cell_type": "markdown",
      "metadata": {
        "id": "Oh3lvv2cLmBG"
      },
      "source": [
        "# Section 4: Dataset Classes & DataLoader Setup"
      ]
    },
    {
      "cell_type": "code",
      "execution_count": null,
      "metadata": {
        "id": "VJeFluZZLkDG"
      },
      "outputs": [],
      "source": [
        "def imread(path: str) -> np.ndarray:\n",
        "    im = cv2.imread(path)\n",
        "    return cv2.cvtColor(im, cv2.COLOR_BGR2RGB)\n"
      ]
    },
    {
      "cell_type": "code",
      "execution_count": null,
      "metadata": {
        "id": "FrZMUJc2LkHN"
      },
      "outputs": [],
      "source": [
        "class FaceDatasetTriplet(Dataset):\n",
        "    \"\"\"Датасет из триплет, для обучения с TripletMarginLoss.\"\"\"\n",
        "    def __init__(self, df: pd.DataFrame):\n",
        "        self.data = df.reset_index(drop=True)\n",
        "        self.transforms = A.Compose([\n",
        "            A.Normalize(),\n",
        "            ToTensor()\n",
        "        ])\n",
        "\n",
        "    def __len__(self):\n",
        "        return len(self.data)\n",
        "\n",
        "    def __getitem__(self, idx: int):\n",
        "        anchor_path, positive_path, negative_path = self.data.iloc[idx]\n",
        "        anchor_img = self.transforms(image=imread(anchor_path))['image']\n",
        "        positive_img = self.transforms(image=imread(positive_path))['image']\n",
        "        negative_img = self.transforms(image=imread(negative_path))['image']\n",
        "        return anchor_img, positive_img, negative_img"
      ]
    },
    {
      "cell_type": "code",
      "execution_count": null,
      "metadata": {
        "id": "poX9L61fLkKV"
      },
      "outputs": [],
      "source": [
        "class FaceDatasetVerification(Dataset):\n",
        "    def __init__(self, df: pd.DataFrame):\n",
        "        self.data = df.reset_index(drop=True)\n",
        "        self.transforms = A.Compose([\n",
        "            A.Normalize(),\n",
        "            ToTensor()\n",
        "        ])\n",
        "\n",
        "    def __len__(self):\n",
        "        return len(self.data)\n",
        "\n",
        "    def __getitem__(self, idx: int):\n",
        "        lhs_path, rhs_path, same = self.data.iloc[idx]\n",
        "        lhs_img = self.transforms(image=imread(lhs_path))['image']\n",
        "        rhs_img = self.transforms(image=imread(rhs_path))['image']\n",
        "        return lhs_img, rhs_img, same"
      ]
    },
    {
      "cell_type": "code",
      "execution_count": null,
      "metadata": {
        "id": "VZuze0NiLkM_"
      },
      "outputs": [],
      "source": [
        "# Load CSVs, drop unnecessary columns\n",
        "triplet_train_df = pd.read_csv(triplet_train_file)\n",
        "triplet_valid_df = pd.read_csv(triplet_valid_file)\n",
        "verification_valid_df = pd.read_csv(verification_valid_file)\n",
        "verification_test_df = pd.read_csv(verification_test_file)"
      ]
    },
    {
      "cell_type": "code",
      "execution_count": null,
      "metadata": {
        "id": "VBynE0hjLujT"
      },
      "outputs": [],
      "source": [
        "# Instantiate Dataset objects (sample if dataset is large)\n",
        "train_triplet_dataset = FaceDatasetTriplet(triplet_train_df.sample(n=100000, random_state=42))\n",
        "valid_triplet_dataset = FaceDatasetTriplet(triplet_valid_df.sample(n=15000, random_state=42))\n",
        "valid_verification_dataset = FaceDatasetVerification(verification_valid_df)"
      ]
    },
    {
      "cell_type": "code",
      "execution_count": null,
      "metadata": {
        "id": "4g1nmJriLume",
        "colab": {
          "base_uri": "https://localhost:8080/"
        },
        "outputId": "b6560292-1ea8-4a01-80d6-caa4d9ca9601"
      },
      "outputs": [
        {
          "output_type": "stream",
          "name": "stderr",
          "text": [
            "/usr/local/lib/python3.11/dist-packages/torch/utils/data/dataloader.py:624: UserWarning: This DataLoader will create 12 worker processes in total. Our suggested max number of worker in current system is 2, which is smaller than what this DataLoader is going to create. Please be aware that excessive worker creation might get DataLoader running slow or even freeze, lower the worker number to avoid potential slowness/freeze if necessary.\n",
            "  warnings.warn(\n"
          ]
        }
      ],
      "source": [
        "# DataLoaders\n",
        "train_loader = DataLoader(\n",
        "    train_triplet_dataset,\n",
        "    sampler=SubsetRandomSampler(range(len(train_triplet_dataset))),\n",
        "    batch_size=16,\n",
        "    num_workers=12,\n",
        "    #drop_last=True,\n",
        "    pin_memory=True\n",
        ")\n"
      ]
    },
    {
      "cell_type": "code",
      "execution_count": null,
      "metadata": {
        "id": "dxQgwlGtLupV"
      },
      "outputs": [],
      "source": [
        "valid_loader = DataLoader(\n",
        "    valid_triplet_dataset,\n",
        "    sampler=SubsetRandomSampler(range(len(valid_triplet_dataset))),\n",
        "    batch_size=16,\n",
        "    num_workers=12,\n",
        "    #drop_last=True,\n",
        "    pin_memory=True\n",
        ")"
      ]
    },
    {
      "cell_type": "markdown",
      "metadata": {
        "id": "-Q71_Y7yL3A9"
      },
      "source": [
        "# Section 5: Model Training (Triplet Loss)\n"
      ]
    },
    {
      "cell_type": "code",
      "source": [
        "def imread(path: str) -> np.ndarray:\n",
        "\n",
        "    im = cv2.imread(path)\n",
        "    if im is None:\n",
        "        raise FileNotFoundError(f\"Файл изображения не найден: {path}\")\n",
        "    return cv2.cvtColor(im, cv2.COLOR_BGR2RGB)"
      ],
      "metadata": {
        "id": "ZdXKLAtF1VBm"
      },
      "execution_count": null,
      "outputs": []
    },
    {
      "cell_type": "code",
      "execution_count": null,
      "metadata": {
        "id": "ttfBRObxLurn",
        "colab": {
          "base_uri": "https://localhost:8080/"
        },
        "outputId": "b157f818-86df-41fa-d662-c508124983d2"
      },
      "outputs": [
        {
          "output_type": "stream",
          "name": "stderr",
          "text": [
            "/usr/local/lib/python3.11/dist-packages/torchvision/models/_utils.py:208: UserWarning: The parameter 'pretrained' is deprecated since 0.13 and may be removed in the future, please use 'weights' instead.\n",
            "  warnings.warn(\n",
            "/usr/local/lib/python3.11/dist-packages/torchvision/models/_utils.py:223: UserWarning: Arguments other than a weight enum or `None` for 'weights' are deprecated since 0.13 and may be removed in the future. The current behavior is equivalent to passing `weights=ResNet18_Weights.IMAGENET1K_V1`. You can also use `weights=ResNet18_Weights.DEFAULT` to get the most up-to-date weights.\n",
            "  warnings.warn(msg)\n"
          ]
        }
      ],
      "source": [
        "encoder = models.resnet18(pretrained=True).to(device)\n",
        "encoder.fc = nn.Identity()\n",
        "\n",
        "lr = 1e-4\n",
        "weight_decay = 1e-2\n",
        "num_epochs = 5\n",
        "margin = 1.0"
      ]
    },
    {
      "cell_type": "code",
      "execution_count": null,
      "metadata": {
        "id": "cN2rTSDDLkP9"
      },
      "outputs": [],
      "source": [
        "criterion = nn.TripletMarginLoss(margin=margin)\n",
        "optimizer = torch.optim.Adam(encoder.parameters(), lr=lr, weight_decay=weight_decay)\n",
        "\n",
        "best_validation_loss = float('inf')\n",
        "epochs_without_improvement = 0\n",
        "max_epochs_without_improvement = 1"
      ]
    },
    {
      "cell_type": "code",
      "source": [
        "import wandb\n",
        "import csv\n",
        "import matplotlib.pyplot as plt"
      ],
      "metadata": {
        "id": "lyUL8aB4wzCz"
      },
      "execution_count": null,
      "outputs": []
    },
    {
      "cell_type": "code",
      "source": [
        "wandb.init(\n",
        "    project=\"face-recognition-hw5\",\n",
        "    config={\n",
        "        \"architecture\": \"ResNet18\",\n",
        "        \"loss\": \"TripletMarginLoss\",\n",
        "        \"batch_size\": 16,\n",
        "        \"learning_rate\": lr,\n",
        "        \"weight_decay\": weight_decay,\n",
        "        \"margin\": margin,\n",
        "        \"epochs\": num_epochs\n",
        "    }\n",
        ")"
      ],
      "metadata": {
        "colab": {
          "base_uri": "https://localhost:8080/",
          "height": 212
        },
        "id": "8rv7xGbmw1oj",
        "outputId": "74fa8d09-9b2e-40e0-8de5-24c007815916"
      },
      "execution_count": null,
      "outputs": [
        {
          "output_type": "display_data",
          "data": {
            "text/plain": [
              "<IPython.core.display.HTML object>"
            ],
            "text/html": [
              "Finishing previous runs because reinit is set to 'default'."
            ]
          },
          "metadata": {}
        },
        {
          "output_type": "display_data",
          "data": {
            "text/plain": [
              "<IPython.core.display.HTML object>"
            ],
            "text/html": []
          },
          "metadata": {}
        },
        {
          "output_type": "display_data",
          "data": {
            "text/plain": [
              "<IPython.core.display.HTML object>"
            ],
            "text/html": [
              " View run <strong style=\"color:#cdcd00\">crimson-salad-26</strong> at: <a href='https://wandb.ai/mikisevam-/face-recognition-hw5/runs/bpw1va8n' target=\"_blank\">https://wandb.ai/mikisevam-/face-recognition-hw5/runs/bpw1va8n</a><br> View project at: <a href='https://wandb.ai/mikisevam-/face-recognition-hw5' target=\"_blank\">https://wandb.ai/mikisevam-/face-recognition-hw5</a><br>Synced 5 W&B file(s), 0 media file(s), 0 artifact file(s) and 0 other file(s)"
            ]
          },
          "metadata": {}
        },
        {
          "output_type": "display_data",
          "data": {
            "text/plain": [
              "<IPython.core.display.HTML object>"
            ],
            "text/html": [
              "Find logs at: <code>./wandb/run-20250605_121421-bpw1va8n/logs</code>"
            ]
          },
          "metadata": {}
        },
        {
          "output_type": "display_data",
          "data": {
            "text/plain": [
              "<IPython.core.display.HTML object>"
            ],
            "text/html": [
              "Tracking run with wandb version 0.19.11"
            ]
          },
          "metadata": {}
        },
        {
          "output_type": "display_data",
          "data": {
            "text/plain": [
              "<IPython.core.display.HTML object>"
            ],
            "text/html": [
              "Run data is saved locally in <code>/content/wandb/run-20250605_125501-nl2880l1</code>"
            ]
          },
          "metadata": {}
        },
        {
          "output_type": "display_data",
          "data": {
            "text/plain": [
              "<IPython.core.display.HTML object>"
            ],
            "text/html": [
              "Syncing run <strong><a href='https://wandb.ai/mikisevam-/face-recognition-hw5/runs/nl2880l1' target=\"_blank\">skilled-tree-27</a></strong> to <a href='https://wandb.ai/mikisevam-/face-recognition-hw5' target=\"_blank\">Weights & Biases</a> (<a href='https://wandb.me/developer-guide' target=\"_blank\">docs</a>)<br>"
            ]
          },
          "metadata": {}
        },
        {
          "output_type": "display_data",
          "data": {
            "text/plain": [
              "<IPython.core.display.HTML object>"
            ],
            "text/html": [
              " View project at <a href='https://wandb.ai/mikisevam-/face-recognition-hw5' target=\"_blank\">https://wandb.ai/mikisevam-/face-recognition-hw5</a>"
            ]
          },
          "metadata": {}
        },
        {
          "output_type": "display_data",
          "data": {
            "text/plain": [
              "<IPython.core.display.HTML object>"
            ],
            "text/html": [
              " View run at <a href='https://wandb.ai/mikisevam-/face-recognition-hw5/runs/nl2880l1' target=\"_blank\">https://wandb.ai/mikisevam-/face-recognition-hw5/runs/nl2880l1</a>"
            ]
          },
          "metadata": {}
        },
        {
          "output_type": "execute_result",
          "data": {
            "text/html": [
              "<button onClick=\"this.nextSibling.style.display='block';this.style.display='none';\">Display W&B run</button><iframe src='https://wandb.ai/mikisevam-/face-recognition-hw5/runs/nl2880l1?jupyter=true' style='border:none;width:100%;height:420px;display:none;'></iframe>"
            ],
            "text/plain": [
              "<wandb.sdk.wandb_run.Run at 0x7a20a1ce2d10>"
            ]
          },
          "metadata": {},
          "execution_count": 76
        }
      ]
    },
    {
      "cell_type": "code",
      "source": [
        "csv_log_path = \"training_log.csv\"\n",
        "with open(csv_log_path, \"w\", newline=\"\") as csvfile:\n",
        "    csv_writer = csv.writer(csvfile)\n",
        "    csv_writer.writerow([\n",
        "        \"epoch\",\n",
        "        \"train_loss\",\n",
        "        \"valid_loss\",\n",
        "        \"learning_rate\"\n",
        "    ])"
      ],
      "metadata": {
        "id": "wUZE0uO5w59y"
      },
      "execution_count": null,
      "outputs": []
    },
    {
      "cell_type": "code",
      "source": [
        "history = {\n",
        "    \"epoch\": [],\n",
        "    \"train_loss\": [],\n",
        "    \"valid_loss\": [],\n",
        "    \"learning_rate\": []\n",
        "}"
      ],
      "metadata": {
        "id": "19Qqe_Z8w6AO"
      },
      "execution_count": null,
      "outputs": []
    },
    {
      "cell_type": "code",
      "source": [
        "device"
      ],
      "metadata": {
        "colab": {
          "base_uri": "https://localhost:8080/"
        },
        "id": "UC5zvjXFEH-w",
        "outputId": "5ac5aced-5390-47df-df29-1de1333e4c2f"
      },
      "execution_count": null,
      "outputs": [
        {
          "output_type": "execute_result",
          "data": {
            "text/plain": [
              "device(type='cuda')"
            ]
          },
          "metadata": {},
          "execution_count": 79
        }
      ]
    },
    {
      "cell_type": "code",
      "execution_count": null,
      "metadata": {
        "id": "PUKNy3z2LkSb",
        "colab": {
          "base_uri": "https://localhost:8080/",
          "height": 1000
        },
        "outputId": "4fba9976-e923-4241-bb04-b4fe10b80464"
      },
      "outputs": [
        {
          "output_type": "stream",
          "name": "stderr",
          "text": [
            "Train Epoch 1/5, Loss: 0.225: 100%|██████████| 6250/6250 [1:11:15<00:00,  1.46it/s]\n",
            "Valid Epoch 1/5, Loss: 0.263: 100%|██████████| 938/938 [10:03<00:00,  1.55it/s]\n",
            "Train Epoch 2/5, Loss: 0.165: 100%|██████████| 6250/6250 [25:15<00:00,  4.13it/s]\n",
            "Valid Epoch 2/5, Loss: 0.261: 100%|██████████| 938/938 [03:17<00:00,  4.75it/s]\n",
            "Train Epoch 3/5, Loss: 0.158: 100%|██████████| 6250/6250 [25:18<00:00,  4.11it/s]\n",
            "Valid Epoch 3/5, Loss: 0.250: 100%|██████████| 938/938 [03:14<00:00,  4.83it/s]\n",
            "Train Epoch 4/5, Loss: 0.168: 100%|██████████| 6250/6250 [24:41<00:00,  4.22it/s]\n",
            "Valid Epoch 4/5, Loss: 0.260: 100%|██████████| 938/938 [03:12<00:00,  4.86it/s]\n",
            "Train Epoch 5/5, Loss: 0.161: 100%|██████████| 6250/6250 [24:28<00:00,  4.26it/s]\n",
            "Valid Epoch 5/5, Loss: 0.250: 100%|██████████| 938/938 [03:09<00:00,  4.94it/s]\n"
          ]
        },
        {
          "output_type": "display_data",
          "data": {
            "text/plain": [
              "<IPython.core.display.HTML object>"
            ],
            "text/html": []
          },
          "metadata": {}
        },
        {
          "output_type": "display_data",
          "data": {
            "text/plain": [
              "<IPython.core.display.HTML object>"
            ],
            "text/html": [
              "<br>    <style><br>        .wandb-row {<br>            display: flex;<br>            flex-direction: row;<br>            flex-wrap: wrap;<br>            justify-content: flex-start;<br>            width: 100%;<br>        }<br>        .wandb-col {<br>            display: flex;<br>            flex-direction: column;<br>            flex-basis: 100%;<br>            flex: 1;<br>            padding: 10px;<br>        }<br>    </style><br><div class=\"wandb-row\"><div class=\"wandb-col\"><h3>Run history:</h3><br/><table class=\"wandb\"><tr><td>epoch</td><td>▁▃▅▆█</td></tr><tr><td>learning_rate</td><td>▁▁▁▁▁</td></tr><tr><td>train_loss</td><td>█▂▁▂▁</td></tr><tr><td>valid_loss</td><td>█▇▁▇▁</td></tr></table><br/></div><div class=\"wandb-col\"><h3>Run summary:</h3><br/><table class=\"wandb\"><tr><td>epoch</td><td>5</td></tr><tr><td>learning_rate</td><td>0.0001</td></tr><tr><td>train_loss</td><td>0.16119</td></tr><tr><td>valid_loss</td><td>0.24997</td></tr></table><br/></div></div>"
            ]
          },
          "metadata": {}
        },
        {
          "output_type": "display_data",
          "data": {
            "text/plain": [
              "<IPython.core.display.HTML object>"
            ],
            "text/html": [
              " View run <strong style=\"color:#cdcd00\">skilled-tree-27</strong> at: <a href='https://wandb.ai/mikisevam-/face-recognition-hw5/runs/nl2880l1' target=\"_blank\">https://wandb.ai/mikisevam-/face-recognition-hw5/runs/nl2880l1</a><br> View project at: <a href='https://wandb.ai/mikisevam-/face-recognition-hw5' target=\"_blank\">https://wandb.ai/mikisevam-/face-recognition-hw5</a><br>Synced 5 W&B file(s), 0 media file(s), 0 artifact file(s) and 0 other file(s)"
            ]
          },
          "metadata": {}
        },
        {
          "output_type": "display_data",
          "data": {
            "text/plain": [
              "<IPython.core.display.HTML object>"
            ],
            "text/html": [
              "Find logs at: <code>./wandb/run-20250605_125501-nl2880l1/logs</code>"
            ]
          },
          "metadata": {}
        },
        {
          "output_type": "display_data",
          "data": {
            "text/plain": [
              "<Figure size 800x500 with 1 Axes>"
            ],
            "image/png": "[encoded data removed]"
          },
          "metadata": {}
        },
        {
          "output_type": "display_data",
          "data": {
            "text/plain": [
              "<Figure size 800x300 with 1 Axes>"
            ],
            "image/png": "[encoded data removed]"
          },
          "metadata": {}
        }
      ],
      "source": [
        "for epoch in range(1, num_epochs + 1):\n",
        "\n",
        "    #  Train for one epoch\n",
        "    encoder.train()\n",
        "    pbar_train = tqdm(\n",
        "        enumerate(train_loader),\n",
        "        total=len(train_loader),\n",
        "        desc=f\"Train Epoch {epoch}/{num_epochs}\"\n",
        "    )\n",
        "    running_train_loss = 0.0\n",
        "\n",
        "    for idx, (anchor, positive, negative) in pbar_train:\n",
        "      anchor   = anchor.to(device, non_blocking=True)\n",
        "      positive = positive.to(device, non_blocking=True)\n",
        "      negative = negative.to(device, non_blocking=True)\n",
        "\n",
        "      optimizer.zero_grad()\n",
        "      anchor_embed   = encoder(anchor)\n",
        "      positive_embed = encoder(positive)\n",
        "      negative_embed = encoder(negative)\n",
        "\n",
        "      loss_value = criterion(anchor_embed, positive_embed, negative_embed)\n",
        "      loss_value.backward()\n",
        "      optimizer.step()\n",
        "\n",
        "      running_train_loss = (running_train_loss * idx + loss_value.item()) / (idx + 1)\n",
        "      pbar_train.set_description(\n",
        "       f\"Train Epoch {epoch}/{num_epochs}, Loss: {running_train_loss:.3f}\"\n",
        "            )\n",
        "\n",
        "    train_loss_epoch = running_train_loss\n",
        "\n",
        "    #  Validate for one epoch\n",
        "    encoder.eval()\n",
        "    pbar_valid = tqdm(\n",
        "        enumerate(valid_loader),\n",
        "        total=len(valid_loader),\n",
        "        desc=f\"Valid Epoch {epoch}/{num_epochs}\"\n",
        "    )\n",
        "    running_valid_loss = 0.0\n",
        "    total_valid_loss   = 0.0\n",
        "\n",
        "    with torch.no_grad():\n",
        "        for idx, (anchor, positive, negative) in pbar_valid:\n",
        "            anchor   = anchor.to(device, non_blocking=True)\n",
        "            positive = positive.to(device, non_blocking=True)\n",
        "            negative = negative.to(device, non_blocking=True)\n",
        "\n",
        "            anchor_embed   = encoder(anchor)\n",
        "            positive_embed = encoder(positive)\n",
        "            negative_embed = encoder(negative)\n",
        "\n",
        "            loss_value = criterion(anchor_embed, positive_embed, negative_embed)\n",
        "            total_valid_loss += loss_value.item()\n",
        "            running_valid_loss = (running_valid_loss * idx + loss_value.item()) / (idx + 1)\n",
        "\n",
        "            pbar_valid.set_description(\n",
        "                f\"Valid Epoch {epoch}/{num_epochs}, Loss: {running_valid_loss:.3f}\"\n",
        "            )\n",
        "\n",
        "    avg_valid_loss = total_valid_loss / len(valid_loader)\n",
        "    valid_loss_epoch = avg_valid_loss\n",
        "\n",
        "    current_lr = optimizer.param_groups[0][\"lr\"]\n",
        "\n",
        "    wandb.log({\n",
        "        \"epoch\": epoch,\n",
        "        \"train_loss\": train_loss_epoch,\n",
        "        \"valid_loss\": valid_loss_epoch,\n",
        "        \"learning_rate\": current_lr\n",
        "    })\n",
        "\n",
        "    history[\"epoch\"].append(epoch)\n",
        "    history[\"train_loss\"].append(train_loss_epoch)\n",
        "    history[\"valid_loss\"].append(valid_loss_epoch)\n",
        "    history[\"learning_rate\"].append(current_lr)\n",
        "\n",
        "    with open(csv_log_path, \"a\", newline=\"\") as csvfile:\n",
        "        csv_writer = csv.writer(csvfile)\n",
        "        csv_writer.writerow([\n",
        "            epoch,\n",
        "            f\"{train_loss_epoch:.6f}\",\n",
        "            f\"{valid_loss_epoch:.6f}\",\n",
        "            f\"{current_lr:.6e}\"\n",
        "        ])\n",
        "\n",
        "    if valid_loss_epoch < best_validation_loss:\n",
        "        torch.save({\n",
        "            \"model_state_dict\": encoder.state_dict(),\n",
        "            \"optimizer_state_dict\": optimizer.state_dict()\n",
        "        }, \"verification_model.pt\")\n",
        "        best_validation_loss  = valid_loss_epoch\n",
        "        epochs_without_improvement = 0\n",
        "    else:\n",
        "        epochs_without_improvement += 1\n",
        "        if epochs_without_improvement > max_epochs_without_improvement:\n",
        "            print(\"Early stopping triggered.\")\n",
        "            break\n",
        "\n",
        "wandb.finish()\n",
        "\n",
        "plt.figure(figsize=(8, 5))\n",
        "plt.plot(history[\"epoch\"], history[\"train_loss\"], label=\"Train Loss\")\n",
        "plt.plot(history[\"epoch\"], history[\"valid_loss\"], label=\"Valid Loss\")\n",
        "plt.xlabel(\"Epoch\")\n",
        "plt.ylabel(\"Loss\")\n",
        "plt.title(\"Training & Validation Loss\")\n",
        "plt.grid()\n",
        "plt.legend()\n",
        "plt.show()\n",
        "\n",
        "plt.figure(figsize=(8, 3))\n",
        "plt.plot(history[\"epoch\"], history[\"learning_rate\"], label=\"Learning Rate\")\n",
        "plt.xlabel(\"Epoch\")\n",
        "plt.ylabel(\"LR\")\n",
        "plt.title(\"Learning Rate Schedule\")\n",
        "plt.grid()\n",
        "plt.legend()\n",
        "plt.show()"
      ]
    },
    {
      "cell_type": "code",
      "source": [
        "torch.save(encoder, f\"{save_path}/model_5ep.pth\")"
      ],
      "metadata": {
        "id": "VhpD-yRerJlq"
      },
      "execution_count": null,
      "outputs": []
    },
    {
      "cell_type": "code",
      "source": [
        "plt.figure(figsize=(8, 5))\n",
        "plt.plot(history[\"epoch\"], history[\"train_loss\"], label=\"Train Loss\")\n",
        "plt.plot(history[\"epoch\"], history[\"valid_loss\"], label=\"Valid Loss\")\n",
        "plt.xlabel(\"Epoch\")\n",
        "plt.ylabel(\"Loss\")\n",
        "plt.title(\"Training & Validation Loss\")\n",
        "plt.grid()\n",
        "plt.legend()\n",
        "plt.show()\n",
        "\n",
        "plt.figure(figsize=(8, 3))\n",
        "plt.plot(history[\"epoch\"], history[\"learning_rate\"], label=\"Learning Rate\")\n",
        "plt.xlabel(\"Epoch\")\n",
        "plt.ylabel(\"LR\")\n",
        "plt.title(\"Learning Rate Schedule\")\n",
        "plt.grid()\n",
        "plt.legend()\n",
        "plt.show()"
      ],
      "metadata": {
        "id": "BY1vwJZrxMd2",
        "colab": {
          "base_uri": "https://localhost:8080/",
          "height": 803
        },
        "outputId": "4951dbfd-6015-403b-a97d-70e20625405d"
      },
      "execution_count": null,
      "outputs": [
        {
          "output_type": "display_data",
          "data": {
            "text/plain": [
              "<Figure size 800x500 with 1 Axes>"
            ],
            "image/png": "[encoded data removed]"
          },
          "metadata": {}
        },
        {
          "output_type": "display_data",
          "data": {
            "text/plain": [
              "<Figure size 800x300 with 1 Axes>"
            ],
            "image/png": "[encoded data removed]"
          },
          "metadata": {}
        }
      ]
    },
    {
      "cell_type": "code",
      "execution_count": null,
      "metadata": {
        "id": "L9VelE3AL_mm"
      },
      "outputs": [],
      "source": [
        "# Reload best model\n",
        "encoder = models.resnet18(pretrained=True).cuda()\n",
        "encoder.fc = nn.Identity()\n",
        "checkpoint = torch.load('verification_model.pt', map_location='cuda:0')\n",
        "encoder.load_state_dict(checkpoint['model_state_dict'])\n",
        "encoder.eval()"
      ]
    },
    {
      "cell_type": "code",
      "source": [
        "# Reload best model\n",
        "encoder = models.resnet18(pretrained=True).cuda()\n",
        "encoder.fc = nn.Identity()\n",
        "encoder = torch.load(f\"{save_path}/model_5ep.pth\", map_location='cuda:0',weights_only = False)\n",
        "encoder.eval()"
      ],
      "metadata": {
        "colab": {
          "base_uri": "https://localhost:8080/"
        },
        "id": "y5QWi2Gd4vAx",
        "outputId": "b4c2fe89-af53-46f9-8567-82f23ea56185"
      },
      "execution_count": null,
      "outputs": [
        {
          "output_type": "stream",
          "name": "stderr",
          "text": [
            "/usr/local/lib/python3.11/dist-packages/torchvision/models/_utils.py:208: UserWarning: The parameter 'pretrained' is deprecated since 0.13 and may be removed in the future, please use 'weights' instead.\n",
            "  warnings.warn(\n",
            "/usr/local/lib/python3.11/dist-packages/torchvision/models/_utils.py:223: UserWarning: Arguments other than a weight enum or `None` for 'weights' are deprecated since 0.13 and may be removed in the future. The current behavior is equivalent to passing `weights=ResNet18_Weights.IMAGENET1K_V1`. You can also use `weights=ResNet18_Weights.DEFAULT` to get the most up-to-date weights.\n",
            "  warnings.warn(msg)\n"
          ]
        },
        {
          "output_type": "execute_result",
          "data": {
            "text/plain": [
              "ResNet(\n",
              "  (conv1): Conv2d(3, 64, kernel_size=(7, 7), stride=(2, 2), padding=(3, 3), bias=False)\n",
              "  (bn1): BatchNorm2d(64, eps=1e-05, momentum=0.1, affine=True, track_running_stats=True)\n",
              "  (relu): ReLU(inplace=True)\n",
              "  (maxpool): MaxPool2d(kernel_size=3, stride=2, padding=1, dilation=1, ceil_mode=False)\n",
              "  (layer1): Sequential(\n",
              "    (0): BasicBlock(\n",
              "      (conv1): Conv2d(64, 64, kernel_size=(3, 3), stride=(1, 1), padding=(1, 1), bias=False)\n",
              "      (bn1): BatchNorm2d(64, eps=1e-05, momentum=0.1, affine=True, track_running_stats=True)\n",
              "      (relu): ReLU(inplace=True)\n",
              "      (conv2): Conv2d(64, 64, kernel_size=(3, 3), stride=(1, 1), padding=(1, 1), bias=False)\n",
              "      (bn2): BatchNorm2d(64, eps=1e-05, momentum=0.1, affine=True, track_running_stats=True)\n",
              "    )\n",
              "    (1): BasicBlock(\n",
              "      (conv1): Conv2d(64, 64, kernel_size=(3, 3), stride=(1, 1), padding=(1, 1), bias=False)\n",
              "      (bn1): BatchNorm2d(64, eps=1e-05, momentum=0.1, affine=True, track_running_stats=True)\n",
              "      (relu): ReLU(inplace=True)\n",
              "      (conv2): Conv2d(64, 64, kernel_size=(3, 3), stride=(1, 1), padding=(1, 1), bias=False)\n",
              "      (bn2): BatchNorm2d(64, eps=1e-05, momentum=0.1, affine=True, track_running_stats=True)\n",
              "    )\n",
              "  )\n",
              "  (layer2): Sequential(\n",
              "    (0): BasicBlock(\n",
              "      (conv1): Conv2d(64, 128, kernel_size=(3, 3), stride=(2, 2), padding=(1, 1), bias=False)\n",
              "      (bn1): BatchNorm2d(128, eps=1e-05, momentum=0.1, affine=True, track_running_stats=True)\n",
              "      (relu): ReLU(inplace=True)\n",
              "      (conv2): Conv2d(128, 128, kernel_size=(3, 3), stride=(1, 1), padding=(1, 1), bias=False)\n",
              "      (bn2): BatchNorm2d(128, eps=1e-05, momentum=0.1, affine=True, track_running_stats=True)\n",
              "      (downsample): Sequential(\n",
              "        (0): Conv2d(64, 128, kernel_size=(1, 1), stride=(2, 2), bias=False)\n",
              "        (1): BatchNorm2d(128, eps=1e-05, momentum=0.1, affine=True, track_running_stats=True)\n",
              "      )\n",
              "    )\n",
              "    (1): BasicBlock(\n",
              "      (conv1): Conv2d(128, 128, kernel_size=(3, 3), stride=(1, 1), padding=(1, 1), bias=False)\n",
              "      (bn1): BatchNorm2d(128, eps=1e-05, momentum=0.1, affine=True, track_running_stats=True)\n",
              "      (relu): ReLU(inplace=True)\n",
              "      (conv2): Conv2d(128, 128, kernel_size=(3, 3), stride=(1, 1), padding=(1, 1), bias=False)\n",
              "      (bn2): BatchNorm2d(128, eps=1e-05, momentum=0.1, affine=True, track_running_stats=True)\n",
              "    )\n",
              "  )\n",
              "  (layer3): Sequential(\n",
              "    (0): BasicBlock(\n",
              "      (conv1): Conv2d(128, 256, kernel_size=(3, 3), stride=(2, 2), padding=(1, 1), bias=False)\n",
              "      (bn1): BatchNorm2d(256, eps=1e-05, momentum=0.1, affine=True, track_running_stats=True)\n",
              "      (relu): ReLU(inplace=True)\n",
              "      (conv2): Conv2d(256, 256, kernel_size=(3, 3), stride=(1, 1), padding=(1, 1), bias=False)\n",
              "      (bn2): BatchNorm2d(256, eps=1e-05, momentum=0.1, affine=True, track_running_stats=True)\n",
              "      (downsample): Sequential(\n",
              "        (0): Conv2d(128, 256, kernel_size=(1, 1), stride=(2, 2), bias=False)\n",
              "        (1): BatchNorm2d(256, eps=1e-05, momentum=0.1, affine=True, track_running_stats=True)\n",
              "      )\n",
              "    )\n",
              "    (1): BasicBlock(\n",
              "      (conv1): Conv2d(256, 256, kernel_size=(3, 3), stride=(1, 1), padding=(1, 1), bias=False)\n",
              "      (bn1): BatchNorm2d(256, eps=1e-05, momentum=0.1, affine=True, track_running_stats=True)\n",
              "      (relu): ReLU(inplace=True)\n",
              "      (conv2): Conv2d(256, 256, kernel_size=(3, 3), stride=(1, 1), padding=(1, 1), bias=False)\n",
              "      (bn2): BatchNorm2d(256, eps=1e-05, momentum=0.1, affine=True, track_running_stats=True)\n",
              "    )\n",
              "  )\n",
              "  (layer4): Sequential(\n",
              "    (0): BasicBlock(\n",
              "      (conv1): Conv2d(256, 512, kernel_size=(3, 3), stride=(2, 2), padding=(1, 1), bias=False)\n",
              "      (bn1): BatchNorm2d(512, eps=1e-05, momentum=0.1, affine=True, track_running_stats=True)\n",
              "      (relu): ReLU(inplace=True)\n",
              "      (conv2): Conv2d(512, 512, kernel_size=(3, 3), stride=(1, 1), padding=(1, 1), bias=False)\n",
              "      (bn2): BatchNorm2d(512, eps=1e-05, momentum=0.1, affine=True, track_running_stats=True)\n",
              "      (downsample): Sequential(\n",
              "        (0): Conv2d(256, 512, kernel_size=(1, 1), stride=(2, 2), bias=False)\n",
              "        (1): BatchNorm2d(512, eps=1e-05, momentum=0.1, affine=True, track_running_stats=True)\n",
              "      )\n",
              "    )\n",
              "    (1): BasicBlock(\n",
              "      (conv1): Conv2d(512, 512, kernel_size=(3, 3), stride=(1, 1), padding=(1, 1), bias=False)\n",
              "      (bn1): BatchNorm2d(512, eps=1e-05, momentum=0.1, affine=True, track_running_stats=True)\n",
              "      (relu): ReLU(inplace=True)\n",
              "      (conv2): Conv2d(512, 512, kernel_size=(3, 3), stride=(1, 1), padding=(1, 1), bias=False)\n",
              "      (bn2): BatchNorm2d(512, eps=1e-05, momentum=0.1, affine=True, track_running_stats=True)\n",
              "    )\n",
              "  )\n",
              "  (avgpool): AdaptiveAvgPool2d(output_size=(1, 1))\n",
              "  (fc): Identity()\n",
              ")"
            ]
          },
          "metadata": {},
          "execution_count": 89
        }
      ]
    },
    {
      "cell_type": "markdown",
      "metadata": {
        "id": "i2Ve0vkCMHtt"
      },
      "source": [
        "# Section 6: Validation & Threshold Selection\n"
      ]
    },
    {
      "cell_type": "code",
      "execution_count": null,
      "metadata": {
        "id": "ZHV-vVdgL_ox"
      },
      "outputs": [],
      "source": [
        "valid_ver_loader = DataLoader(\n",
        "    valid_verification_dataset,\n",
        "    sampler=SubsetRandomSampler(range(len(valid_verification_dataset))),\n",
        "    batch_size=1,\n",
        "    num_workers=0,\n",
        "    drop_last=True,\n",
        "    pin_memory=True\n",
        ")\n",
        "\n",
        "distances = np.zeros(len(valid_verification_dataset))\n",
        "targets = np.zeros(len(valid_verification_dataset))"
      ]
    },
    {
      "cell_type": "code",
      "execution_count": null,
      "metadata": {
        "id": "hdhzTCPzL_rw"
      },
      "outputs": [],
      "source": [
        "with torch.no_grad():\n",
        "    for idx, (lhs, rhs, target) in enumerate(valid_ver_loader):\n",
        "        lhs = lhs.cuda()\n",
        "        rhs = rhs.cuda()\n",
        "        lhs_embed = encoder(lhs)\n",
        "        rhs_embed = encoder(rhs)\n",
        "\n",
        "        distances[idx] = (lhs_embed - rhs_embed).pow(2).sum().sqrt().item()\n",
        "        targets[idx] = target"
      ]
    },
    {
      "cell_type": "code",
      "execution_count": null,
      "metadata": {
        "id": "g2FTaCTuL_un"
      },
      "outputs": [],
      "source": [
        "num_steps = 20000\n",
        "tpr = np.zeros(num_steps)\n",
        "fpr = np.zeros(num_steps)\n",
        "precision = np.zeros(num_steps)\n",
        "recall = np.zeros(num_steps)\n",
        "\n",
        "thresholds = np.linspace(distances.min() + 0.01, distances.max() - 0.01, num_steps)\n",
        "for i, thresh in enumerate(thresholds):\n",
        "    preds = (distances < thresh).astype(int)\n",
        "    tp = ((preds == 1) & (targets == 1)).sum()\n",
        "    fp = ((preds == 1) & (targets == 0)).sum()\n",
        "    tn = ((preds == 0) & (targets == 0)).sum()\n",
        "    fn = ((preds == 0) & (targets == 1)).sum()\n",
        "\n",
        "    tpr[i] = tp / (tp + fn + 1e-8)\n",
        "    fpr[i] = fp / (fp + tn + 1e-8)\n",
        "    precision[i] = tp / (tp + fp + 1e-8)\n",
        "    recall[i] = tp / (tp + fn + 1e-8)\n",
        "\n",
        "f1_score = 2 * precision * recall / (precision + recall + 1e-8)"
      ]
    },
    {
      "cell_type": "code",
      "execution_count": null,
      "metadata": {
        "id": "jVtnpYSmMTNv",
        "colab": {
          "base_uri": "https://localhost:8080/",
          "height": 472
        },
        "outputId": "84e73e92-9e7a-4a40-a608-cb08416c1a6f"
      },
      "outputs": [
        {
          "output_type": "display_data",
          "data": {
            "text/plain": [
              "<Figure size 640x480 with 1 Axes>"
            ],
            "image/png": "[encoded data removed]"
          },
          "metadata": {}
        }
      ],
      "source": [
        "# Построение ROC curve\n",
        "plt.figure()\n",
        "plt.plot(fpr, tpr)\n",
        "plt.xlabel('False Positive Rate')\n",
        "plt.ylabel('True Positive Rate')\n",
        "plt.title('ROC Curve')\n",
        "plt.grid()\n",
        "plt.show()"
      ]
    },
    {
      "cell_type": "code",
      "execution_count": null,
      "metadata": {
        "id": "K5MThhwjMTQy",
        "colab": {
          "base_uri": "https://localhost:8080/",
          "height": 472
        },
        "outputId": "ad0ff6ca-3ca1-48dc-8e65-27540f02ca70"
      },
      "outputs": [
        {
          "output_type": "display_data",
          "data": {
            "text/plain": [
              "<Figure size 640x480 with 1 Axes>"
            ],
            "image/png": "[encoded data removed]"
          },
          "metadata": {}
        }
      ],
      "source": [
        "# Построение precision curve\n",
        "plt.figure()\n",
        "plt.plot(thresholds, precision)\n",
        "plt.xlabel('Threshold')\n",
        "plt.ylabel('Precision')\n",
        "plt.title('Precision Curve')\n",
        "plt.grid()\n",
        "plt.show()"
      ]
    },
    {
      "cell_type": "code",
      "execution_count": null,
      "metadata": {
        "id": "4oNv11c5MTTu",
        "colab": {
          "base_uri": "https://localhost:8080/",
          "height": 472
        },
        "outputId": "fa5988c2-6dbb-45f1-9d24-a7f8320f375b"
      },
      "outputs": [
        {
          "output_type": "display_data",
          "data": {
            "text/plain": [
              "<Figure size 640x480 with 1 Axes>"
            ],
            "image/png": "[encoded data removed]"
          },
          "metadata": {}
        }
      ],
      "source": [
        "# Построение recall curve\n",
        "plt.figure()\n",
        "plt.plot(thresholds, recall)\n",
        "plt.xlabel('Threshold')\n",
        "plt.ylabel('Recall')\n",
        "plt.title('Recall Curve')\n",
        "plt.grid()\n",
        "plt.show()"
      ]
    },
    {
      "cell_type": "code",
      "execution_count": null,
      "metadata": {
        "id": "ZZwThQkxMTlQ",
        "colab": {
          "base_uri": "https://localhost:8080/",
          "height": 472
        },
        "outputId": "ace8e2e1-4285-4abd-899b-a86cacc486ed"
      },
      "outputs": [
        {
          "output_type": "display_data",
          "data": {
            "text/plain": [
              "<Figure size 640x480 with 1 Axes>"
            ],
            "image/png": "[encoded data removed]"
          },
          "metadata": {}
        }
      ],
      "source": [
        "# Построение F1-score curve\n",
        "plt.figure()\n",
        "plt.plot(thresholds, f1_score)\n",
        "plt.xlabel('Threshold')\n",
        "plt.ylabel('F1-Score')\n",
        "plt.title('F1-Score Curve')\n",
        "plt.grid()\n",
        "plt.show()"
      ]
    },
    {
      "cell_type": "code",
      "execution_count": null,
      "metadata": {
        "id": "jytiOrdbMTn6",
        "colab": {
          "base_uri": "https://localhost:8080/",
          "height": 472
        },
        "outputId": "5cbc9028-a2c8-4b90-a2a6-67fd673bf53f"
      },
      "outputs": [
        {
          "output_type": "display_data",
          "data": {
            "text/plain": [
              "<Figure size 640x480 with 1 Axes>"
            ],
            "image/png": "[encoded data removed]"
          },
          "metadata": {}
        }
      ],
      "source": [
        "# Построение Fβ (β = 0.7) кривой\n",
        "beta = 0.7\n",
        "f_beta = (1 + beta**2) * precision * recall / (beta**2 * precision + recall + 1e-8)\n",
        "\n",
        "plt.figure()\n",
        "plt.plot(thresholds, f_beta)\n",
        "plt.xlabel('Threshold')\n",
        "plt.ylabel('Fβ Score (β=0.7)')\n",
        "plt.title('Fβ Curve')\n",
        "plt.grid()\n",
        "plt.show()"
      ]
    },
    {
      "cell_type": "code",
      "execution_count": null,
      "metadata": {
        "id": "lcR1LiC7Me5m",
        "colab": {
          "base_uri": "https://localhost:8080/"
        },
        "outputId": "68e7cb02-4144-4c25-c172-bfbf3bdb845a"
      },
      "outputs": [
        {
          "output_type": "stream",
          "name": "stdout",
          "text": [
            "Selected threshold (max F1): 1.6701\n"
          ]
        }
      ],
      "source": [
        "# Выбирраем threshold для максимального F1\n",
        "best_thresh_f1 = thresholds[np.argmax(f1_score)]\n",
        "print(f\"Selected threshold (max F1): {best_thresh_f1:.4f}\")"
      ]
    },
    {
      "cell_type": "code",
      "execution_count": null,
      "metadata": {
        "id": "gYO9pk7BMe8E",
        "colab": {
          "base_uri": "https://localhost:8080/"
        },
        "outputId": "76042668-0d9a-4727-c925-8c76c47db857"
      },
      "outputs": [
        {
          "output_type": "stream",
          "name": "stdout",
          "text": [
            "Selected threshold (max Fβ): 1.4999\n"
          ]
        }
      ],
      "source": [
        "# Дополнительно т выбираем threshold для максимального Fβ\n",
        "best_thresh_fb = thresholds[np.argmax(f_beta)]\n",
        "print(f\"Selected threshold (max Fβ): {best_thresh_fb:.4f}\")"
      ]
    },
    {
      "cell_type": "code",
      "execution_count": null,
      "metadata": {
        "id": "kvl1BCubMjZ9"
      },
      "outputs": [],
      "source": [
        "# в итоге используем f1\n",
        "threshold = best_thresh_f1"
      ]
    },
    {
      "cell_type": "markdown",
      "metadata": {
        "id": "j_f0Xyb6Mkyr"
      },
      "source": [
        "# Section 7: Testing the Model"
      ]
    },
    {
      "cell_type": "code",
      "execution_count": null,
      "metadata": {
        "id": "k6VxVnwYMjcZ"
      },
      "outputs": [],
      "source": [
        "test_verification_dataset = FaceDatasetVerification(verification_test_df)"
      ]
    },
    {
      "cell_type": "code",
      "execution_count": null,
      "metadata": {
        "id": "S929Pw_aMjfU",
        "colab": {
          "base_uri": "https://localhost:8080/"
        },
        "outputId": "1b78fd19-16d7-4871-8b4b-13772c123732"
      },
      "outputs": [
        {
          "output_type": "execute_result",
          "data": {
            "text/plain": [
              "ResNet(\n",
              "  (conv1): Conv2d(3, 64, kernel_size=(7, 7), stride=(2, 2), padding=(3, 3), bias=False)\n",
              "  (bn1): BatchNorm2d(64, eps=1e-05, momentum=0.1, affine=True, track_running_stats=True)\n",
              "  (relu): ReLU(inplace=True)\n",
              "  (maxpool): MaxPool2d(kernel_size=3, stride=2, padding=1, dilation=1, ceil_mode=False)\n",
              "  (layer1): Sequential(\n",
              "    (0): BasicBlock(\n",
              "      (conv1): Conv2d(64, 64, kernel_size=(3, 3), stride=(1, 1), padding=(1, 1), bias=False)\n",
              "      (bn1): BatchNorm2d(64, eps=1e-05, momentum=0.1, affine=True, track_running_stats=True)\n",
              "      (relu): ReLU(inplace=True)\n",
              "      (conv2): Conv2d(64, 64, kernel_size=(3, 3), stride=(1, 1), padding=(1, 1), bias=False)\n",
              "      (bn2): BatchNorm2d(64, eps=1e-05, momentum=0.1, affine=True, track_running_stats=True)\n",
              "    )\n",
              "    (1): BasicBlock(\n",
              "      (conv1): Conv2d(64, 64, kernel_size=(3, 3), stride=(1, 1), padding=(1, 1), bias=False)\n",
              "      (bn1): BatchNorm2d(64, eps=1e-05, momentum=0.1, affine=True, track_running_stats=True)\n",
              "      (relu): ReLU(inplace=True)\n",
              "      (conv2): Conv2d(64, 64, kernel_size=(3, 3), stride=(1, 1), padding=(1, 1), bias=False)\n",
              "      (bn2): BatchNorm2d(64, eps=1e-05, momentum=0.1, affine=True, track_running_stats=True)\n",
              "    )\n",
              "  )\n",
              "  (layer2): Sequential(\n",
              "    (0): BasicBlock(\n",
              "      (conv1): Conv2d(64, 128, kernel_size=(3, 3), stride=(2, 2), padding=(1, 1), bias=False)\n",
              "      (bn1): BatchNorm2d(128, eps=1e-05, momentum=0.1, affine=True, track_running_stats=True)\n",
              "      (relu): ReLU(inplace=True)\n",
              "      (conv2): Conv2d(128, 128, kernel_size=(3, 3), stride=(1, 1), padding=(1, 1), bias=False)\n",
              "      (bn2): BatchNorm2d(128, eps=1e-05, momentum=0.1, affine=True, track_running_stats=True)\n",
              "      (downsample): Sequential(\n",
              "        (0): Conv2d(64, 128, kernel_size=(1, 1), stride=(2, 2), bias=False)\n",
              "        (1): BatchNorm2d(128, eps=1e-05, momentum=0.1, affine=True, track_running_stats=True)\n",
              "      )\n",
              "    )\n",
              "    (1): BasicBlock(\n",
              "      (conv1): Conv2d(128, 128, kernel_size=(3, 3), stride=(1, 1), padding=(1, 1), bias=False)\n",
              "      (bn1): BatchNorm2d(128, eps=1e-05, momentum=0.1, affine=True, track_running_stats=True)\n",
              "      (relu): ReLU(inplace=True)\n",
              "      (conv2): Conv2d(128, 128, kernel_size=(3, 3), stride=(1, 1), padding=(1, 1), bias=False)\n",
              "      (bn2): BatchNorm2d(128, eps=1e-05, momentum=0.1, affine=True, track_running_stats=True)\n",
              "    )\n",
              "  )\n",
              "  (layer3): Sequential(\n",
              "    (0): BasicBlock(\n",
              "      (conv1): Conv2d(128, 256, kernel_size=(3, 3), stride=(2, 2), padding=(1, 1), bias=False)\n",
              "      (bn1): BatchNorm2d(256, eps=1e-05, momentum=0.1, affine=True, track_running_stats=True)\n",
              "      (relu): ReLU(inplace=True)\n",
              "      (conv2): Conv2d(256, 256, kernel_size=(3, 3), stride=(1, 1), padding=(1, 1), bias=False)\n",
              "      (bn2): BatchNorm2d(256, eps=1e-05, momentum=0.1, affine=True, track_running_stats=True)\n",
              "      (downsample): Sequential(\n",
              "        (0): Conv2d(128, 256, kernel_size=(1, 1), stride=(2, 2), bias=False)\n",
              "        (1): BatchNorm2d(256, eps=1e-05, momentum=0.1, affine=True, track_running_stats=True)\n",
              "      )\n",
              "    )\n",
              "    (1): BasicBlock(\n",
              "      (conv1): Conv2d(256, 256, kernel_size=(3, 3), stride=(1, 1), padding=(1, 1), bias=False)\n",
              "      (bn1): BatchNorm2d(256, eps=1e-05, momentum=0.1, affine=True, track_running_stats=True)\n",
              "      (relu): ReLU(inplace=True)\n",
              "      (conv2): Conv2d(256, 256, kernel_size=(3, 3), stride=(1, 1), padding=(1, 1), bias=False)\n",
              "      (bn2): BatchNorm2d(256, eps=1e-05, momentum=0.1, affine=True, track_running_stats=True)\n",
              "    )\n",
              "  )\n",
              "  (layer4): Sequential(\n",
              "    (0): BasicBlock(\n",
              "      (conv1): Conv2d(256, 512, kernel_size=(3, 3), stride=(2, 2), padding=(1, 1), bias=False)\n",
              "      (bn1): BatchNorm2d(512, eps=1e-05, momentum=0.1, affine=True, track_running_stats=True)\n",
              "      (relu): ReLU(inplace=True)\n",
              "      (conv2): Conv2d(512, 512, kernel_size=(3, 3), stride=(1, 1), padding=(1, 1), bias=False)\n",
              "      (bn2): BatchNorm2d(512, eps=1e-05, momentum=0.1, affine=True, track_running_stats=True)\n",
              "      (downsample): Sequential(\n",
              "        (0): Conv2d(256, 512, kernel_size=(1, 1), stride=(2, 2), bias=False)\n",
              "        (1): BatchNorm2d(512, eps=1e-05, momentum=0.1, affine=True, track_running_stats=True)\n",
              "      )\n",
              "    )\n",
              "    (1): BasicBlock(\n",
              "      (conv1): Conv2d(512, 512, kernel_size=(3, 3), stride=(1, 1), padding=(1, 1), bias=False)\n",
              "      (bn1): BatchNorm2d(512, eps=1e-05, momentum=0.1, affine=True, track_running_stats=True)\n",
              "      (relu): ReLU(inplace=True)\n",
              "      (conv2): Conv2d(512, 512, kernel_size=(3, 3), stride=(1, 1), padding=(1, 1), bias=False)\n",
              "      (bn2): BatchNorm2d(512, eps=1e-05, momentum=0.1, affine=True, track_running_stats=True)\n",
              "    )\n",
              "  )\n",
              "  (avgpool): AdaptiveAvgPool2d(output_size=(1, 1))\n",
              "  (fc): Identity()\n",
              ")"
            ]
          },
          "metadata": {},
          "execution_count": 102
        }
      ],
      "source": [
        "tp = fp = tn = fn = 0\n",
        "encoder.eval()"
      ]
    },
    {
      "cell_type": "code",
      "execution_count": null,
      "metadata": {
        "id": "ijkRNgnmMjkH",
        "colab": {
          "base_uri": "https://localhost:8080/"
        },
        "outputId": "90c533b7-6540-4934-8f0b-95ee4929cc84"
      },
      "outputs": [
        {
          "output_type": "stream",
          "name": "stderr",
          "text": [
            "/usr/local/lib/python3.11/dist-packages/torch/utils/data/dataloader.py:624: UserWarning: This DataLoader will create 12 worker processes in total. Our suggested max number of worker in current system is 2, which is smaller than what this DataLoader is going to create. Please be aware that excessive worker creation might get DataLoader running slow or even freeze, lower the worker number to avoid potential slowness/freeze if necessary.\n",
            "  warnings.warn(\n"
          ]
        }
      ],
      "source": [
        "\n",
        "test_ver_loader = DataLoader(\n",
        "    test_verification_dataset,\n",
        "    sampler=SubsetRandomSampler(range(len(test_verification_dataset))),\n",
        "    batch_size=1,\n",
        "    num_workers=12,\n",
        "    #drop_last=True,\n",
        "    pin_memory=True\n",
        ")\n",
        "\n"
      ]
    },
    {
      "cell_type": "code",
      "execution_count": null,
      "metadata": {
        "id": "LfvTGvxLMe_B"
      },
      "outputs": [],
      "source": [
        "with torch.no_grad():\n",
        "    for lhs, rhs, target in test_ver_loader:\n",
        "        lhs = lhs.cuda()\n",
        "        rhs = rhs.cuda()\n",
        "        lhs_embed = encoder(lhs)\n",
        "        rhs_embed = encoder(rhs)\n",
        "\n",
        "        distance = (lhs_embed - rhs_embed).pow(2).sum().sqrt().item()\n",
        "        pred = int(distance < threshold)\n",
        "\n",
        "        if pred == 1 and target.item() == 1:\n",
        "            tp += 1\n",
        "        elif pred == 1 and target.item() == 0:\n",
        "            fp += 1\n",
        "        elif pred == 0 and target.item() == 0:\n",
        "            tn += 1\n",
        "        elif pred == 0 and target.item() == 1:\n",
        "            fn += 1"
      ]
    },
    {
      "cell_type": "code",
      "execution_count": null,
      "metadata": {
        "id": "f-lNjxUCMt_1",
        "colab": {
          "base_uri": "https://localhost:8080/"
        },
        "outputId": "4c6f2126-92c0-4c74-b841-a251a045e99c"
      },
      "outputs": [
        {
          "output_type": "stream",
          "name": "stdout",
          "text": [
            "Test Recall:    0.9139\n",
            "Test Precision: 0.7794\n",
            "Test F1-Score:  0.8413\n"
          ]
        }
      ],
      "source": [
        "precision_test = tp / (tp + fp + 1e-8)\n",
        "recall_test = tp / (tp + fn + 1e-8)\n",
        "f1_test = 2 * precision_test * recall_test / (precision_test + recall_test + 1e-8)\n",
        "\n",
        "print(f\"Test Recall:    {recall_test:.4f}\")\n",
        "print(f\"Test Precision: {precision_test:.4f}\")\n",
        "print(f\"Test F1-Score:  {f1_test:.4f}\")"
      ]
    },
    {
      "cell_type": "markdown",
      "metadata": {
        "id": "IUbPMSRqMzNp"
      },
      "source": [
        "# Section 8: Demonstration on Sample Images\n"
      ]
    },
    {
      "cell_type": "code",
      "execution_count": null,
      "metadata": {
        "id": "jBc1vrLdMyKV"
      },
      "outputs": [],
      "source": []
    },
    {
      "cell_type": "code",
      "execution_count": null,
      "metadata": {
        "id": "FdcXGrYtMuCf"
      },
      "outputs": [],
      "source": [
        "train_data_id = pd.read_csv(output_dir / 'train_data_id.csv')\n",
        "test_data_id  = pd.read_csv(output_dir / 'test_data_id.csv')"
      ]
    },
    {
      "cell_type": "code",
      "source": [
        "test_data_id.tail()"
      ],
      "metadata": {
        "colab": {
          "base_uri": "https://localhost:8080/",
          "height": 206
        },
        "id": "0m7koSOHHW1B",
        "outputId": "a6810977-4e7e-435b-9996-efbf09173491"
      },
      "execution_count": null,
      "outputs": [
        {
          "output_type": "execute_result",
          "data": {
            "text/plain": [
              "                                                    path     id\n",
              "19957  /content/drive/MyDrive/ml_hw5/celeba/img_align...   9761\n",
              "19958  /content/drive/MyDrive/ml_hw5/celeba/img_align...   7192\n",
              "19959  /content/drive/MyDrive/ml_hw5/celeba/img_align...   9852\n",
              "19960  /content/drive/MyDrive/ml_hw5/celeba/img_align...   5570\n",
              "19961  /content/drive/MyDrive/ml_hw5/celeba/img_align...  10101"
            ],
            "text/html": [
              "\n",
              "  <div id=\"df-cc5eca72-585c-46d8-8487-a7626b380f02\" class=\"colab-df-container\">\n",
              "    <div>\n",
              "<style scoped>\n",
              "    .dataframe tbody tr th:only-of-type {\n",
              "        vertical-align: middle;\n",
              "    }\n",
              "\n",
              "    .dataframe tbody tr th {\n",
              "        vertical-align: top;\n",
              "    }\n",
              "\n",
              "    .dataframe thead th {\n",
              "        text-align: right;\n",
              "    }\n",
              "</style>\n",
              "<table border=\"1\" class=\"dataframe\">\n",
              "  <thead>\n",
              "    <tr style=\"text-align: right;\">\n",
              "      <th></th>\n",
              "      <th>path</th>\n",
              "      <th>id</th>\n",
              "    </tr>\n",
              "  </thead>\n",
              "  <tbody>\n",
              "    <tr>\n",
              "      <th>19957</th>\n",
              "      <td>/content/drive/MyDrive/ml_hw5/celeba/img_align...</td>\n",
              "      <td>9761</td>\n",
              "    </tr>\n",
              "    <tr>\n",
              "      <th>19958</th>\n",
              "      <td>/content/drive/MyDrive/ml_hw5/celeba/img_align...</td>\n",
              "      <td>7192</td>\n",
              "    </tr>\n",
              "    <tr>\n",
              "      <th>19959</th>\n",
              "      <td>/content/drive/MyDrive/ml_hw5/celeba/img_align...</td>\n",
              "      <td>9852</td>\n",
              "    </tr>\n",
              "    <tr>\n",
              "      <th>19960</th>\n",
              "      <td>/content/drive/MyDrive/ml_hw5/celeba/img_align...</td>\n",
              "      <td>5570</td>\n",
              "    </tr>\n",
              "    <tr>\n",
              "      <th>19961</th>\n",
              "      <td>/content/drive/MyDrive/ml_hw5/celeba/img_align...</td>\n",
              "      <td>10101</td>\n",
              "    </tr>\n",
              "  </tbody>\n",
              "</table>\n",
              "</div>\n",
              "    <div class=\"colab-df-buttons\">\n",
              "\n",
              "  <div class=\"colab-df-container\">\n",
              "    <button class=\"colab-df-convert\" onclick=\"convertToInteractive('df-cc5eca72-585c-46d8-8487-a7626b380f02')\"\n",
              "            title=\"Convert this dataframe to an interactive table.\"\n",
              "            style=\"display:none;\">\n",
              "\n",
              "  <svg xmlns=\"http://www.w3.org/2000/svg\" height=\"24px\" viewBox=\"0 -960 960 960\">\n",
              "    <path d=\"M120-120v-720h720v720H120Zm60-500h600v-160H180v160Zm220 220h160v-160H400v160Zm0 220h160v-160H400v160ZM180-400h160v-160H180v160Zm440 0h160v-160H620v160ZM180-180h160v-160H180v160Zm440 0h160v-160H620v160Z\"/>\n",
              "  </svg>\n",
              "    </button>\n",
              "\n",
              "  <style>\n",
              "    .colab-df-container {\n",
              "      display:flex;\n",
              "      gap: 12px;\n",
              "    }\n",
              "\n",
              "    .colab-df-convert {\n",
              "      background-color: #E8F0FE;\n",
              "      border: none;\n",
              "      border-radius: 50%;\n",
              "      cursor: pointer;\n",
              "      display: none;\n",
              "      fill: #1967D2;\n",
              "      height: 32px;\n",
              "      padding: 0 0 0 0;\n",
              "      width: 32px;\n",
              "    }\n",
              "\n",
              "    .colab-df-convert:hover {\n",
              "      background-color: #E2EBFA;\n",
              "      box-shadow: 0px 1px 2px rgba(60, 64, 67, 0.3), 0px 1px 3px 1px rgba(60, 64, 67, 0.15);\n",
              "      fill: #174EA6;\n",
              "    }\n",
              "\n",
              "    .colab-df-buttons div {\n",
              "      margin-bottom: 4px;\n",
              "    }\n",
              "\n",
              "    [theme=dark] .colab-df-convert {\n",
              "      background-color: #3B4455;\n",
              "      fill: #D2E3FC;\n",
              "    }\n",
              "\n",
              "    [theme=dark] .colab-df-convert:hover {\n",
              "      background-color: #434B5C;\n",
              "      box-shadow: 0px 1px 3px 1px rgba(0, 0, 0, 0.15);\n",
              "      filter: drop-shadow(0px 1px 2px rgba(0, 0, 0, 0.3));\n",
              "      fill: #FFFFFF;\n",
              "    }\n",
              "  </style>\n",
              "\n",
              "    <script>\n",
              "      const buttonEl =\n",
              "        document.querySelector('#df-cc5eca72-585c-46d8-8487-a7626b380f02 button.colab-df-convert');\n",
              "      buttonEl.style.display =\n",
              "        google.colab.kernel.accessAllowed ? 'block' : 'none';\n",
              "\n",
              "      async function convertToInteractive(key) {\n",
              "        const element = document.querySelector('#df-cc5eca72-585c-46d8-8487-a7626b380f02');\n",
              "        const dataTable =\n",
              "          await google.colab.kernel.invokeFunction('convertToInteractive',\n",
              "                                                    [key], {});\n",
              "        if (!dataTable) return;\n",
              "\n",
              "        const docLinkHtml = 'Like what you see? Visit the ' +\n",
              "          '<a target=\"_blank\" href=https://colab.research.google.com/notebooks/data_table.ipynb>data table notebook</a>'\n",
              "          + ' to learn more about interactive tables.';\n",
              "        element.innerHTML = '';\n",
              "        dataTable['output_type'] = 'display_data';\n",
              "        await google.colab.output.renderOutput(dataTable, element);\n",
              "        const docLink = document.createElement('div');\n",
              "        docLink.innerHTML = docLinkHtml;\n",
              "        element.appendChild(docLink);\n",
              "      }\n",
              "    </script>\n",
              "  </div>\n",
              "\n",
              "\n",
              "    <div id=\"df-d1a2d15d-03c7-41df-837b-5fc24e386475\">\n",
              "      <button class=\"colab-df-quickchart\" onclick=\"quickchart('df-d1a2d15d-03c7-41df-837b-5fc24e386475')\"\n",
              "                title=\"Suggest charts\"\n",
              "                style=\"display:none;\">\n",
              "\n",
              "<svg xmlns=\"http://www.w3.org/2000/svg\" height=\"24px\"viewBox=\"0 0 24 24\"\n",
              "     width=\"24px\">\n",
              "    <g>\n",
              "        <path d=\"M19 3H5c-1.1 0-2 .9-2 2v14c0 1.1.9 2 2 2h14c1.1 0 2-.9 2-2V5c0-1.1-.9-2-2-2zM9 17H7v-7h2v7zm4 0h-2V7h2v10zm4 0h-2v-4h2v4z\"/>\n",
              "    </g>\n",
              "</svg>\n",
              "      </button>\n",
              "\n",
              "<style>\n",
              "  .colab-df-quickchart {\n",
              "      --bg-color: #E8F0FE;\n",
              "      --fill-color: #1967D2;\n",
              "      --hover-bg-color: #E2EBFA;\n",
              "      --hover-fill-color: #174EA6;\n",
              "      --disabled-fill-color: #AAA;\n",
              "      --disabled-bg-color: #DDD;\n",
              "  }\n",
              "\n",
              "  [theme=dark] .colab-df-quickchart {\n",
              "      --bg-color: #3B4455;\n",
              "      --fill-color: #D2E3FC;\n",
              "      --hover-bg-color: #434B5C;\n",
              "      --hover-fill-color: #FFFFFF;\n",
              "      --disabled-bg-color: #3B4455;\n",
              "      --disabled-fill-color: #666;\n",
              "  }\n",
              "\n",
              "  .colab-df-quickchart {\n",
              "    background-color: var(--bg-color);\n",
              "    border: none;\n",
              "    border-radius: 50%;\n",
              "    cursor: pointer;\n",
              "    display: none;\n",
              "    fill: var(--fill-color);\n",
              "    height: 32px;\n",
              "    padding: 0;\n",
              "    width: 32px;\n",
              "  }\n",
              "\n",
              "  .colab-df-quickchart:hover {\n",
              "    background-color: var(--hover-bg-color);\n",
              "    box-shadow: 0 1px 2px rgba(60, 64, 67, 0.3), 0 1px 3px 1px rgba(60, 64, 67, 0.15);\n",
              "    fill: var(--button-hover-fill-color);\n",
              "  }\n",
              "\n",
              "  .colab-df-quickchart-complete:disabled,\n",
              "  .colab-df-quickchart-complete:disabled:hover {\n",
              "    background-color: var(--disabled-bg-color);\n",
              "    fill: var(--disabled-fill-color);\n",
              "    box-shadow: none;\n",
              "  }\n",
              "\n",
              "  .colab-df-spinner {\n",
              "    border: 2px solid var(--fill-color);\n",
              "    border-color: transparent;\n",
              "    border-bottom-color: var(--fill-color);\n",
              "    animation:\n",
              "      spin 1s steps(1) infinite;\n",
              "  }\n",
              "\n",
              "  @keyframes spin {\n",
              "    0% {\n",
              "      border-color: transparent;\n",
              "      border-bottom-color: var(--fill-color);\n",
              "      border-left-color: var(--fill-color);\n",
              "    }\n",
              "    20% {\n",
              "      border-color: transparent;\n",
              "      border-left-color: var(--fill-color);\n",
              "      border-top-color: var(--fill-color);\n",
              "    }\n",
              "    30% {\n",
              "      border-color: transparent;\n",
              "      border-left-color: var(--fill-color);\n",
              "      border-top-color: var(--fill-color);\n",
              "      border-right-color: var(--fill-color);\n",
              "    }\n",
              "    40% {\n",
              "      border-color: transparent;\n",
              "      border-right-color: var(--fill-color);\n",
              "      border-top-color: var(--fill-color);\n",
              "    }\n",
              "    60% {\n",
              "      border-color: transparent;\n",
              "      border-right-color: var(--fill-color);\n",
              "    }\n",
              "    80% {\n",
              "      border-color: transparent;\n",
              "      border-right-color: var(--fill-color);\n",
              "      border-bottom-color: var(--fill-color);\n",
              "    }\n",
              "    90% {\n",
              "      border-color: transparent;\n",
              "      border-bottom-color: var(--fill-color);\n",
              "    }\n",
              "  }\n",
              "</style>\n",
              "\n",
              "      <script>\n",
              "        async function quickchart(key) {\n",
              "          const quickchartButtonEl =\n",
              "            document.querySelector('#' + key + ' button');\n",
              "          quickchartButtonEl.disabled = true;  // To prevent multiple clicks.\n",
              "          quickchartButtonEl.classList.add('colab-df-spinner');\n",
              "          try {\n",
              "            const charts = await google.colab.kernel.invokeFunction(\n",
              "                'suggestCharts', [key], {});\n",
              "          } catch (error) {\n",
              "            console.error('Error during call to suggestCharts:', error);\n",
              "          }\n",
              "          quickchartButtonEl.classList.remove('colab-df-spinner');\n",
              "          quickchartButtonEl.classList.add('colab-df-quickchart-complete');\n",
              "        }\n",
              "        (() => {\n",
              "          let quickchartButtonEl =\n",
              "            document.querySelector('#df-d1a2d15d-03c7-41df-837b-5fc24e386475 button');\n",
              "          quickchartButtonEl.style.display =\n",
              "            google.colab.kernel.accessAllowed ? 'block' : 'none';\n",
              "        })();\n",
              "      </script>\n",
              "    </div>\n",
              "    </div>\n",
              "  </div>\n"
            ],
            "application/vnd.google.colaboratory.intrinsic+json": {
              "type": "dataframe",
              "summary": "{\n  \"name\": \"test_data_id\",\n  \"rows\": 5,\n  \"fields\": [\n    {\n      \"column\": \"path\",\n      \"properties\": {\n        \"dtype\": \"string\",\n        \"num_unique_values\": 5,\n        \"samples\": [\n          \"/content/drive/MyDrive/ml_hw5/celeba/img_align_celeba/202596.jpg\",\n          \"/content/drive/MyDrive/ml_hw5/celeba/img_align_celeba/202599.jpg\",\n          \"/content/drive/MyDrive/ml_hw5/celeba/img_align_celeba/202597.jpg\"\n        ],\n        \"semantic_type\": \"\",\n        \"description\": \"\"\n      }\n    },\n    {\n      \"column\": \"id\",\n      \"properties\": {\n        \"dtype\": \"number\",\n        \"std\": 2017,\n        \"min\": 5570,\n        \"max\": 10101,\n        \"num_unique_values\": 5,\n        \"samples\": [\n          7192,\n          10101,\n          9852\n        ],\n        \"semantic_type\": \"\",\n        \"description\": \"\"\n      }\n    }\n  ]\n}"
            }
          },
          "metadata": {},
          "execution_count": 139
        }
      ]
    },
    {
      "cell_type": "code",
      "execution_count": null,
      "metadata": {
        "id": "ZnAi2nyhMuHX"
      },
      "outputs": [],
      "source": [
        "# Проверка на пересечение\n",
        "assert set(test_data_id.id).isdisjoint(set(train_data_id.id)), \"Train and test IDs must not overlap.\""
      ]
    },
    {
      "cell_type": "code",
      "execution_count": null,
      "metadata": {
        "id": "ik2jEn0PMuKB",
        "colab": {
          "base_uri": "https://localhost:8080/"
        },
        "outputId": "eb1e83d0-1e4c-453a-dcd1-b5d05a911b9e"
      },
      "outputs": [
        {
          "output_type": "stream",
          "name": "stdout",
          "text": [
            "Selected reference ID: 9584\n"
          ]
        }
      ],
      "source": [
        "# Отбираем test IDs у которых >15 images\n",
        "uniques, counts = np.unique(test_data_id.id, return_counts=True)\n",
        "valid_test_ids = uniques[counts > 15]\n",
        "test_data_id = test_data_id[test_data_id.id.isin(valid_test_ids)]\n",
        "\n",
        "# Рандомно выбираем один ID\n",
        "chosen_id = np.random.choice(valid_test_ids, 1, replace=False)[0]\n",
        "print(f\"Selected reference ID: {chosen_id}\")"
      ]
    },
    {
      "cell_type": "code",
      "execution_count": null,
      "metadata": {
        "id": "C10OW5a4M7kV"
      },
      "outputs": [],
      "source": [
        "# Build a small test set: 1 reference + 5 same-ID + 10 different-ID\n",
        "reference_row = test_data_id[test_data_id.id == chosen_id].iloc[0]\n",
        "same_id_rows = test_data_id[test_data_id.id == chosen_id].iloc[1:6]\n",
        "other_rows = test_data_id[test_data_id.id != chosen_id].sample(10)\n",
        "test_paths = pd.concat([same_id_rows, other_rows], ignore_index=True)"
      ]
    },
    {
      "cell_type": "code",
      "execution_count": null,
      "metadata": {
        "id": "3aS6rmLRM7nA"
      },
      "outputs": [],
      "source": [
        "# Prepare reference image\n",
        "transforms = A.Compose([A.Normalize(), ToTensor()])\n",
        "ref_img = imread(reference_row.path)\n",
        "ref_tensor = transforms(image=ref_img)['image'].unsqueeze(0).cuda()\n",
        "ref_embed = encoder(ref_tensor)"
      ]
    },
    {
      "cell_type": "code",
      "execution_count": null,
      "metadata": {
        "id": "EH1uInKzM7pg"
      },
      "outputs": [],
      "source": [
        "# Evaluate on the 15 samples\n",
        "tp = tn = fp = fn = 0\n",
        "for idx, row in test_paths.iterrows():\n",
        "    curr_img = imread(row.path)\n",
        "    curr_tensor = transforms(image=curr_img)['image'].unsqueeze(0).cuda()\n",
        "    curr_embed = encoder(curr_tensor)\n",
        "\n",
        "    distance = (ref_embed - curr_embed).pow(2).sum().sqrt().item()\n",
        "    pred = int(distance < threshold)\n",
        "    target = int(row.id == reference_row.id)\n",
        "\n",
        "    if pred == 1 and target == 1:\n",
        "        tp += 1\n",
        "    elif pred == 1 and target == 0:\n",
        "        fp += 1\n",
        "    elif pred == 0 and target == 0:\n",
        "        tn += 1\n",
        "    elif pred == 0 and target == 1:\n",
        "        fn += 1"
      ]
    },
    {
      "cell_type": "code",
      "execution_count": null,
      "metadata": {
        "id": "JasBuWeBNAOo",
        "colab": {
          "base_uri": "https://localhost:8080/"
        },
        "outputId": "4452539e-e72c-4b04-a56f-7fea7ac2ca44"
      },
      "outputs": [
        {
          "output_type": "stream",
          "name": "stdout",
          "text": [
            "Out of 10 different-ID images, correctly flagged as different: 10\n",
            "Out of 5 same-ID images, correctly flagged as same:      5\n"
          ]
        }
      ],
      "source": [
        "print(f\"Out of 10 different-ID images, correctly flagged as different: {tn}\")\n",
        "print(f\"Out of 5 same-ID images, correctly flagged as same:      {tp}\")"
      ]
    },
    {
      "cell_type": "code",
      "execution_count": null,
      "metadata": {
        "id": "BKnqcUWhJBdL"
      },
      "outputs": [],
      "source": []
    }
  ],
  "metadata": {
    "accelerator": "GPU",
    "colab": {
      "gpuType": "T4",
      "provenance": []
    },
    "kernelspec": {
      "display_name": "Python 3",
      "name": "python3"
    },
    "language_info": {
      "name": "python"
    }
  },
  "nbformat": 4,
  "nbformat_minor": 0
}