{
  "cells": [
    {
      "cell_type": "markdown",
      "metadata": {
        "id": "YW-6O8o5QAsp"
      },
      "source": [
        "### Задание выполняли\n",
        "\n",
        "### Микишева М.А. - гр.Б03-213с\n",
        "### Берёзкин Ф.П. - гр.Б03-212и"
      ]
    },
    {
      "cell_type": "markdown",
      "metadata": {
        "id": "cNcZUSKUQtHn"
      },
      "source": [
        "## Распределение задач:\n",
        "\n",
        "Задание № 1 Добавьте генератор суммаризации для модели, приведет демонстрацию результата для 5 примеров из теста и 5 собственных примеров. - Микишева М. А.\n",
        "\n",
        "Задание № 2 Добавьте оценку для модели с помощью ROUGE metric - Берёзкин Ф.П\n",
        "\n",
        "Задание № 3 Добавьте визуализацию механизма attention после обучения модели на конкретном примере (не менее 3 примеров). - Берёзкин Ф.П\n",
        "\n",
        "Задание № 4 Сделайте общими матрицы эмбеддингов - их тут три (входные в энкодер и декодер + выход декодера). - Берёзкин Ф.П\n",
        "\n",
        "Задание № 5 Замените функцию ошибки на LabelSmoothing. - Микишева М. А.\n",
        "\n",
        "Задание № 6 Добавьте предодученные эмбединги при обучении модели, покажите разницу в метрике до и после. -  Микишева М. А."
      ]
    },
    {
      "cell_type": "code",
      "execution_count": null,
      "metadata": {
        "colab": {
          "base_uri": "https://localhost:8080/"
        },
        "id": "GouH9gZzQgjv",
        "outputId": "2e7ad108-783c-43cc-9474-554be356d14f"
      },
      "outputs": [
        {
          "output_type": "stream",
          "name": "stdout",
          "text": [
            "Requirement already satisfied: torchtext==0.6.0 in /usr/local/lib/python3.11/dist-packages (0.6.0)\n",
            "Requirement already satisfied: sacremoses in /usr/local/lib/python3.11/dist-packages (0.1.1)\n",
            "Requirement already satisfied: spacy in /usr/local/lib/python3.11/dist-packages (3.8.6)\n",
            "Requirement already satisfied: tqdm in /usr/local/lib/python3.11/dist-packages (from torchtext==0.6.0) (4.67.1)\n",
            "Requirement already satisfied: requests in /usr/local/lib/python3.11/dist-packages (from torchtext==0.6.0) (2.32.3)\n",
            "Requirement already satisfied: torch in /usr/local/lib/python3.11/dist-packages (from torchtext==0.6.0) (2.6.0+cu124)\n",
            "Requirement already satisfied: numpy in /usr/local/lib/python3.11/dist-packages (from torchtext==0.6.0) (2.0.2)\n",
            "Requirement already satisfied: six in /usr/local/lib/python3.11/dist-packages (from torchtext==0.6.0) (1.17.0)\n",
            "Requirement already satisfied: sentencepiece in /usr/local/lib/python3.11/dist-packages (from torchtext==0.6.0) (0.2.0)\n",
            "Requirement already satisfied: regex in /usr/local/lib/python3.11/dist-packages (from sacremoses) (2024.11.6)\n",
            "Requirement already satisfied: click in /usr/local/lib/python3.11/dist-packages (from sacremoses) (8.2.1)\n",
            "Requirement already satisfied: joblib in /usr/local/lib/python3.11/dist-packages (from sacremoses) (1.5.0)\n",
            "Requirement already satisfied: spacy-legacy<3.1.0,>=3.0.11 in /usr/local/lib/python3.11/dist-packages (from spacy) (3.0.12)\n",
            "Requirement already satisfied: spacy-loggers<2.0.0,>=1.0.0 in /usr/local/lib/python3.11/dist-packages (from spacy) (1.0.5)\n",
            "Requirement already satisfied: murmurhash<1.1.0,>=0.28.0 in /usr/local/lib/python3.11/dist-packages (from spacy) (1.0.12)\n",
            "Requirement already satisfied: cymem<2.1.0,>=2.0.2 in /usr/local/lib/python3.11/dist-packages (from spacy) (2.0.11)\n",
            "Requirement already satisfied: preshed<3.1.0,>=3.0.2 in /usr/local/lib/python3.11/dist-packages (from spacy) (3.0.9)\n",
            "Requirement already satisfied: thinc<8.4.0,>=8.3.4 in /usr/local/lib/python3.11/dist-packages (from spacy) (8.3.6)\n",
            "Requirement already satisfied: wasabi<1.2.0,>=0.9.1 in /usr/local/lib/python3.11/dist-packages (from spacy) (1.1.3)\n",
            "Requirement already satisfied: srsly<3.0.0,>=2.4.3 in /usr/local/lib/python3.11/dist-packages (from spacy) (2.5.1)\n",
            "Requirement already satisfied: catalogue<2.1.0,>=2.0.6 in /usr/local/lib/python3.11/dist-packages (from spacy) (2.0.10)\n",
            "Requirement already satisfied: weasel<0.5.0,>=0.1.0 in /usr/local/lib/python3.11/dist-packages (from spacy) (0.4.1)\n",
            "Requirement already satisfied: typer<1.0.0,>=0.3.0 in /usr/local/lib/python3.11/dist-packages (from spacy) (0.15.3)\n",
            "Requirement already satisfied: pydantic!=1.8,!=1.8.1,<3.0.0,>=1.7.4 in /usr/local/lib/python3.11/dist-packages (from spacy) (2.11.4)\n",
            "Requirement already satisfied: jinja2 in /usr/local/lib/python3.11/dist-packages (from spacy) (3.1.6)\n",
            "Requirement already satisfied: setuptools in /usr/local/lib/python3.11/dist-packages (from spacy) (75.2.0)\n",
            "Requirement already satisfied: packaging>=20.0 in /usr/local/lib/python3.11/dist-packages (from spacy) (24.2)\n",
            "Requirement already satisfied: langcodes<4.0.0,>=3.2.0 in /usr/local/lib/python3.11/dist-packages (from spacy) (3.5.0)\n",
            "Requirement already satisfied: language-data>=1.2 in /usr/local/lib/python3.11/dist-packages (from langcodes<4.0.0,>=3.2.0->spacy) (1.3.0)\n",
            "Requirement already satisfied: annotated-types>=0.6.0 in /usr/local/lib/python3.11/dist-packages (from pydantic!=1.8,!=1.8.1,<3.0.0,>=1.7.4->spacy) (0.7.0)\n",
            "Requirement already satisfied: pydantic-core==2.33.2 in /usr/local/lib/python3.11/dist-packages (from pydantic!=1.8,!=1.8.1,<3.0.0,>=1.7.4->spacy) (2.33.2)\n",
            "Requirement already satisfied: typing-extensions>=4.12.2 in /usr/local/lib/python3.11/dist-packages (from pydantic!=1.8,!=1.8.1,<3.0.0,>=1.7.4->spacy) (4.13.2)\n",
            "Requirement already satisfied: typing-inspection>=0.4.0 in /usr/local/lib/python3.11/dist-packages (from pydantic!=1.8,!=1.8.1,<3.0.0,>=1.7.4->spacy) (0.4.1)\n",
            "Requirement already satisfied: charset-normalizer<4,>=2 in /usr/local/lib/python3.11/dist-packages (from requests->torchtext==0.6.0) (3.4.2)\n",
            "Requirement already satisfied: idna<4,>=2.5 in /usr/local/lib/python3.11/dist-packages (from requests->torchtext==0.6.0) (3.10)\n",
            "Requirement already satisfied: urllib3<3,>=1.21.1 in /usr/local/lib/python3.11/dist-packages (from requests->torchtext==0.6.0) (2.4.0)\n",
            "Requirement already satisfied: certifi>=2017.4.17 in /usr/local/lib/python3.11/dist-packages (from requests->torchtext==0.6.0) (2025.4.26)\n",
            "Requirement already satisfied: blis<1.4.0,>=1.3.0 in /usr/local/lib/python3.11/dist-packages (from thinc<8.4.0,>=8.3.4->spacy) (1.3.0)\n",
            "Requirement already satisfied: confection<1.0.0,>=0.0.1 in /usr/local/lib/python3.11/dist-packages (from thinc<8.4.0,>=8.3.4->spacy) (0.1.5)\n",
            "Requirement already satisfied: shellingham>=1.3.0 in /usr/local/lib/python3.11/dist-packages (from typer<1.0.0,>=0.3.0->spacy) (1.5.4)\n",
            "Requirement already satisfied: rich>=10.11.0 in /usr/local/lib/python3.11/dist-packages (from typer<1.0.0,>=0.3.0->spacy) (13.9.4)\n",
            "Requirement already satisfied: cloudpathlib<1.0.0,>=0.7.0 in /usr/local/lib/python3.11/dist-packages (from weasel<0.5.0,>=0.1.0->spacy) (0.21.1)\n",
            "Requirement already satisfied: smart-open<8.0.0,>=5.2.1 in /usr/local/lib/python3.11/dist-packages (from weasel<0.5.0,>=0.1.0->spacy) (7.1.0)\n",
            "Requirement already satisfied: MarkupSafe>=2.0 in /usr/local/lib/python3.11/dist-packages (from jinja2->spacy) (3.0.2)\n",
            "Requirement already satisfied: filelock in /usr/local/lib/python3.11/dist-packages (from torch->torchtext==0.6.0) (3.18.0)\n",
            "Requirement already satisfied: networkx in /usr/local/lib/python3.11/dist-packages (from torch->torchtext==0.6.0) (3.4.2)\n",
            "Requirement already satisfied: fsspec in /usr/local/lib/python3.11/dist-packages (from torch->torchtext==0.6.0) (2025.3.2)\n",
            "Requirement already satisfied: nvidia-cuda-nvrtc-cu12==12.4.127 in /usr/local/lib/python3.11/dist-packages (from torch->torchtext==0.6.0) (12.4.127)\n",
            "Requirement already satisfied: nvidia-cuda-runtime-cu12==12.4.127 in /usr/local/lib/python3.11/dist-packages (from torch->torchtext==0.6.0) (12.4.127)\n",
            "Requirement already satisfied: nvidia-cuda-cupti-cu12==12.4.127 in /usr/local/lib/python3.11/dist-packages (from torch->torchtext==0.6.0) (12.4.127)\n",
            "Requirement already satisfied: nvidia-cudnn-cu12==9.1.0.70 in /usr/local/lib/python3.11/dist-packages (from torch->torchtext==0.6.0) (9.1.0.70)\n",
            "Requirement already satisfied: nvidia-cublas-cu12==12.4.5.8 in /usr/local/lib/python3.11/dist-packages (from torch->torchtext==0.6.0) (12.4.5.8)\n",
            "Requirement already satisfied: nvidia-cufft-cu12==11.2.1.3 in /usr/local/lib/python3.11/dist-packages (from torch->torchtext==0.6.0) (11.2.1.3)\n",
            "Requirement already satisfied: nvidia-curand-cu12==10.3.5.147 in /usr/local/lib/python3.11/dist-packages (from torch->torchtext==0.6.0) (10.3.5.147)\n",
            "Requirement already satisfied: nvidia-cusolver-cu12==11.6.1.9 in /usr/local/lib/python3.11/dist-packages (from torch->torchtext==0.6.0) (11.6.1.9)\n",
            "Requirement already satisfied: nvidia-cusparse-cu12==12.3.1.170 in /usr/local/lib/python3.11/dist-packages (from torch->torchtext==0.6.0) (12.3.1.170)\n",
            "Requirement already satisfied: nvidia-cusparselt-cu12==0.6.2 in /usr/local/lib/python3.11/dist-packages (from torch->torchtext==0.6.0) (0.6.2)\n",
            "Requirement already satisfied: nvidia-nccl-cu12==2.21.5 in /usr/local/lib/python3.11/dist-packages (from torch->torchtext==0.6.0) (2.21.5)\n",
            "Requirement already satisfied: nvidia-nvtx-cu12==12.4.127 in /usr/local/lib/python3.11/dist-packages (from torch->torchtext==0.6.0) (12.4.127)\n",
            "Requirement already satisfied: nvidia-nvjitlink-cu12==12.4.127 in /usr/local/lib/python3.11/dist-packages (from torch->torchtext==0.6.0) (12.4.127)\n",
            "Requirement already satisfied: triton==3.2.0 in /usr/local/lib/python3.11/dist-packages (from torch->torchtext==0.6.0) (3.2.0)\n",
            "Requirement already satisfied: sympy==1.13.1 in /usr/local/lib/python3.11/dist-packages (from torch->torchtext==0.6.0) (1.13.1)\n",
            "Requirement already satisfied: mpmath<1.4,>=1.1.0 in /usr/local/lib/python3.11/dist-packages (from sympy==1.13.1->torch->torchtext==0.6.0) (1.3.0)\n",
            "Requirement already satisfied: marisa-trie>=1.1.0 in /usr/local/lib/python3.11/dist-packages (from language-data>=1.2->langcodes<4.0.0,>=3.2.0->spacy) (1.2.1)\n",
            "Requirement already satisfied: markdown-it-py>=2.2.0 in /usr/local/lib/python3.11/dist-packages (from rich>=10.11.0->typer<1.0.0,>=0.3.0->spacy) (3.0.0)\n",
            "Requirement already satisfied: pygments<3.0.0,>=2.13.0 in /usr/local/lib/python3.11/dist-packages (from rich>=10.11.0->typer<1.0.0,>=0.3.0->spacy) (2.19.1)\n",
            "Requirement already satisfied: wrapt in /usr/local/lib/python3.11/dist-packages (from smart-open<8.0.0,>=5.2.1->weasel<0.5.0,>=0.1.0->spacy) (1.17.2)\n",
            "Requirement already satisfied: mdurl~=0.1 in /usr/local/lib/python3.11/dist-packages (from markdown-it-py>=2.2.0->rich>=10.11.0->typer<1.0.0,>=0.3.0->spacy) (0.1.2)\n",
            "Collecting ru-core-news-sm==3.8.0\n",
            "  Downloading https://github.com/explosion/spacy-models/releases/download/ru_core_news_sm-3.8.0/ru_core_news_sm-3.8.0-py3-none-any.whl (15.3 MB)\n",
            "\u001b[2K     \u001b[90m━━━━━━━━━━━━━━━━━━━━━━━━━━━━━━━━━━━━━━━\u001b[0m \u001b[32m15.3/15.3 MB\u001b[0m \u001b[31m123.6 MB/s\u001b[0m eta \u001b[36m0:00:00\u001b[0m\n",
            "\u001b[?25hRequirement already satisfied: pymorphy3>=1.0.0 in /usr/local/lib/python3.11/dist-packages (from ru-core-news-sm==3.8.0) (2.0.3)\n",
            "Requirement already satisfied: dawg2-python>=0.8.0 in /usr/local/lib/python3.11/dist-packages (from pymorphy3>=1.0.0->ru-core-news-sm==3.8.0) (0.9.0)\n",
            "Requirement already satisfied: pymorphy3-dicts-ru in /usr/local/lib/python3.11/dist-packages (from pymorphy3>=1.0.0->ru-core-news-sm==3.8.0) (2.4.417150.4580142)\n",
            "\u001b[38;5;2m✔ Download and installation successful\u001b[0m\n",
            "You can now load the package via spacy.load('ru_core_news_sm')\n",
            "\u001b[38;5;3m⚠ Restart to reload dependencies\u001b[0m\n",
            "If you are in a Jupyter or Colab notebook, you may need to restart Python in\n",
            "order to load all the package's dependencies. You can do this by selecting the\n",
            "'Restart kernel' or 'Restart runtime' option.\n"
          ]
        }
      ],
      "source": [
        "!pip install torchtext==0.6.0 sacremoses spacy\n",
        "!python -m spacy download ru_core_news_sm"
      ]
    },
    {
      "cell_type": "code",
      "execution_count": null,
      "metadata": {
        "id": "CWIgiw9oCNJq"
      },
      "outputs": [],
      "source": [
        "import os\n",
        "import re\n",
        "import dill\n",
        "import gzip\n",
        "import heapq\n",
        "import random\n",
        "import numpy as np\n",
        "import pandas as pd\n",
        "import spacy\n",
        "import matplotlib.pyplot as plt\n",
        "import sentencepiece as sp\n",
        "import torch\n",
        "import torch.nn as nn\n",
        "import torch.nn.functional as F\n",
        "import torch.optim as optim\n",
        "from torch.autograd import Variable\n",
        "from torchtext.data import Field, Example, Dataset, BucketIterator\n",
        "from collections import Counter\n",
        "from tqdm.auto import tqdm\n",
        "import nltk\n",
        "from nltk.corpus import stopwords\n",
        "\n",
        "%matplotlib inline"
      ]
    },
    {
      "cell_type": "code",
      "execution_count": null,
      "metadata": {
        "colab": {
          "base_uri": "https://localhost:8080/"
        },
        "id": "w7QWUmLpelWp",
        "outputId": "5823c0ab-2a64-45ed-f584-4b52dd86faec"
      },
      "outputs": [
        {
          "output_type": "stream",
          "name": "stdout",
          "text": [
            "Running on GPU: Tesla T4\n"
          ]
        }
      ],
      "source": [
        "if torch.cuda.is_available():\n",
        "    device = torch.device('cuda')\n",
        "    DEVICE = torch.device('cuda')\n",
        "    print(f\"Running on GPU: {torch.cuda.get_device_name(0)}\")\n",
        "else:\n",
        "    device = torch.device('cpu')\n",
        "    DEVICE = torch.device('cpu')\n",
        "    print(\"No GPU found, running on CPU\")\n",
        "\n",
        "np.random.seed(42)"
      ]
    },
    {
      "cell_type": "code",
      "execution_count": null,
      "metadata": {
        "colab": {
          "base_uri": "https://localhost:8080/"
        },
        "id": "vL7SkG3FQzkb",
        "outputId": "60085680-6ba5-4d9a-be02-6997d195e0af"
      },
      "outputs": [
        {
          "output_type": "stream",
          "name": "stdout",
          "text": [
            "Drive already mounted at /content/drive; to attempt to forcibly remount, call drive.mount(\"/content/drive\", force_remount=True).\n"
          ]
        }
      ],
      "source": [
        "from google.colab import drive\n",
        "drive.mount('/content/drive')"
      ]
    },
    {
      "cell_type": "code",
      "execution_count": null,
      "metadata": {
        "id": "hwrHtSK8Q26w"
      },
      "outputs": [],
      "source": [
        "save_path = \"/content/drive/MyDrive/Colab Notebooks/коалиция_ниггавуманов/\""
      ]
    },
    {
      "cell_type": "markdown",
      "metadata": {
        "id": "l-mue3E1RWFe"
      },
      "source": [
        "### Датасет"
      ]
    },
    {
      "cell_type": "code",
      "execution_count": null,
      "metadata": {
        "colab": {
          "base_uri": "https://localhost:8080/"
        },
        "id": "OE7fXh-OSJYF",
        "outputId": "be632bab-1f41-4efa-8abc-fd25db3cdf51"
      },
      "outputs": [
        {
          "metadata": {
            "tags": null
          },
          "name": "stdout",
          "output_type": "stream",
          "text": [
            "Archive:  news.zip\n",
            "replace news.csv? [y]es, [n]o, [A]ll, [N]one, [r]ename: "
          ]
        }
      ],
      "source": [
        "!wget -O news.zip -qq --no-check-certificate \"https://drive.google.com/uc?export=download&id=1hIVVpBqM6VU4n3ERkKq4tFaH4sKN0Hab\"\n",
        "!unzip news.zip"
      ]
    },
    {
      "cell_type": "code",
      "execution_count": null,
      "metadata": {
        "id": "IY7Ai6s3uikw"
      },
      "outputs": [],
      "source": [
        "!shuf -n 10 news.csv"
      ]
    },
    {
      "cell_type": "markdown",
      "metadata": {
        "id": "K4ovXAJbRRlX"
      },
      "source": [
        "### NLTK стоп-слова"
      ]
    },
    {
      "cell_type": "code",
      "execution_count": null,
      "metadata": {
        "id": "iApMLJenQfzc"
      },
      "outputs": [],
      "source": [
        "nltk.download('stopwords')\n",
        "ru_stopwords = set(stopwords.words(\"russian\"))"
      ]
    },
    {
      "cell_type": "markdown",
      "metadata": {
        "id": "txWqIO_74A4s"
      },
      "source": [
        "# Abstactive Summarization"
      ]
    },
    {
      "cell_type": "markdown",
      "metadata": {
        "id": "gJ7JQJMO2R7z"
      },
      "source": [
        "Задача - по тексту сгенерировать выдержку из него.\n",
        "\n",
        "Например, попробуем по новостям генерировать заголовки:"
      ]
    },
    {
      "cell_type": "code",
      "execution_count": null,
      "metadata": {
        "id": "NzNGUFOcXMUs"
      },
      "outputs": [],
      "source": [
        "!shuf -n 10 news.csv"
      ]
    },
    {
      "cell_type": "markdown",
      "metadata": {
        "id": "QOVlO5_Qlg5y"
      },
      "source": [
        "Токенизируем их. Будем использовать единый словарь для текста и заголовков."
      ]
    },
    {
      "cell_type": "markdown",
      "metadata": {
        "id": "V4CBhNdCTbnD"
      },
      "source": [
        "### Токенизатор"
      ]
    },
    {
      "cell_type": "code",
      "execution_count": null,
      "metadata": {
        "id": "Lv4xcHAvt8Ci"
      },
      "outputs": [],
      "source": [
        "nlp = spacy.load(\"ru_core_news_sm\")\n",
        "ru_stopwords = set(stopwords.words(\"russian\"))\n",
        "\n",
        "def spacy_tokenize(text):\n",
        "    return [\n",
        "        token.text.lower()\n",
        "        for token in nlp(text)\n",
        "        if not token.is_space and not token.is_punct\n",
        "    ]"
      ]
    },
    {
      "cell_type": "code",
      "execution_count": null,
      "metadata": {
        "id": "fsOvtO0fpCHa"
      },
      "outputs": [],
      "source": [
        "BOS_TOKEN = \"<s>\"\n",
        "EOS_TOKEN = \"</s>\"\n",
        "UNK_TOKEN = \"<unk>\"\n",
        "PAD_TOKEN = \"<pad>\"\n",
        "\n",
        "word_field = Field(\n",
        "    tokenize=spacy_tokenize,\n",
        "    init_token=BOS_TOKEN,\n",
        "    eos_token=EOS_TOKEN,\n",
        "    unk_token=UNK_TOKEN,\n",
        "    pad_token=PAD_TOKEN,\n",
        "    lower=False,\n",
        "    include_lengths=True\n",
        ")\n",
        "fields = [(\"source\", word_field), (\"target\", word_field)]"
      ]
    },
    {
      "cell_type": "markdown",
      "metadata": {
        "id": "lLcFOAxZTh85"
      },
      "source": [
        "### Генерация examples"
      ]
    },
    {
      "cell_type": "code",
      "execution_count": null,
      "metadata": {
        "id": "rVdyvbwZTrQC"
      },
      "outputs": [],
      "source": [
        "examples_path = save_path + \"/dataset_examples_пупу.pkl\""
      ]
    },
    {
      "cell_type": "code",
      "execution_count": null,
      "metadata": {
        "id": "oU4qdS-rTwiJ"
      },
      "outputs": [],
      "source": [
        "if os.path.exists(examples_path):\n",
        "    print(\"загружаем examples из файла...\")\n",
        "    with open(examples_path, \"rb\") as f:\n",
        "        examples = dill.load(f)\n",
        "else:\n",
        "    print(\"генерация examples с нуля. (~1 час пупупу...)\")\n",
        "\n",
        "    data = pd.read_csv(\"news.csv\", delimiter=\",\", encoding=\"utf-8-sig\")\n",
        "    examples = []\n",
        "    for _, row in tqdm(data.iterrows(), total=len(data)):\n",
        "        source_text = word_field.preprocess(row.text)\n",
        "        target_text = word_field.preprocess(row.title)\n",
        "        examples.append(Example.fromlist([source_text, target_text], fields))\n",
        "\n",
        "    with open(examples_path, \"wb\") as f:\n",
        "        dill.dump(examples, f)\n",
        "    print(\"examples в\", examples_path)"
      ]
    },
    {
      "cell_type": "markdown",
      "metadata": {
        "id": "A8uCsMEglm6V"
      },
      "source": [
        "Построим датасеты:"
      ]
    },
    {
      "cell_type": "code",
      "execution_count": null,
      "metadata": {
        "id": "XpHuFVgPwAJV",
        "colab": {
          "base_uri": "https://localhost:8080/"
        },
        "outputId": "4a4e9c0a-956d-482d-a18b-6aad6701ae2b"
      },
      "outputs": [
        {
          "output_type": "stream",
          "name": "stdout",
          "text": [
            "распаковано: /content/cc.ru.300.vec\n"
          ]
        }
      ],
      "source": [
        "vec_gz_path = save_path + 'cc.ru.300.vec.gz'\n",
        "vec_txt_path = save_path + 'cc.ru.300.vec'\n",
        "\n",
        "if not os.path.exists(vec_txt_path):\n",
        "    with gzip.open(vec_gz_path, 'rt', encoding='utf-8') as f_in:\n",
        "        with open(vec_txt_path, 'w', encoding='utf-8') as f_out:\n",
        "            for line in f_in:\n",
        "                f_out.write(line)\n",
        "else:\n",
        "    print(\"распаковано:\", vec_txt_path)"
      ]
    },
    {
      "cell_type": "code",
      "execution_count": null,
      "metadata": {
        "id": "ZOBgLAgVTrk1",
        "colab": {
          "base_uri": "https://localhost:8080/"
        },
        "outputId": "5247c5c2-2304-4bef-8721-86f9bb64df0b"
      },
      "outputs": [
        {
          "output_type": "stream",
          "name": "stdout",
          "text": [
            "Train size = 63136\n",
            "Test size = 11142\n"
          ]
        }
      ],
      "source": [
        "dataset = Dataset(examples, fields)\n",
        "\n",
        "train_dataset, test_dataset = dataset.split(split_ratio=0.85)\n",
        "\n",
        "print(\"Train size =\", len(train_dataset))\n",
        "print(\"Test size =\", len(test_dataset))"
      ]
    },
    {
      "cell_type": "markdown",
      "metadata": {
        "id": "V9O-rN4uUgBY"
      },
      "source": [
        "### Построение словаря с учётом стоп-слов"
      ]
    },
    {
      "cell_type": "code",
      "execution_count": null,
      "metadata": {
        "id": "xC-e6D0VQ9c0"
      },
      "outputs": [],
      "source": [
        "from collections import Counter\n",
        "token_counter = Counter()\n",
        "for ex in train_dataset.examples:\n",
        "    token_counter.update(ex.source)\n",
        "\n",
        "for stopword in ru_stopwords:\n",
        "    if stopword in token_counter:\n",
        "\n",
        "        token_counter[stopword] = max(1, token_counter[stopword] // 10)"
      ]
    },
    {
      "cell_type": "code",
      "execution_count": null,
      "metadata": {
        "id": "gcm977bnUkvI"
      },
      "outputs": [],
      "source": [
        "from torchtext.vocab import Vocab\n",
        "word_field.vocab = Vocab(token_counter, specials=[UNK_TOKEN, PAD_TOKEN, BOS_TOKEN, EOS_TOKEN], min_freq=10)"
      ]
    },
    {
      "cell_type": "markdown",
      "metadata": {
        "id": "rj0li_IrUpeS"
      },
      "source": [
        "### Подгрузка русских FastText эмбеддингов"
      ]
    },
    {
      "cell_type": "code",
      "execution_count": null,
      "metadata": {
        "id": "Pg7Y3yOWvJ9n"
      },
      "outputs": [],
      "source": [
        "fasttext_path = save_path + \"cc.ru.300.vec\"\n",
        "vectors = {}"
      ]
    },
    {
      "cell_type": "code",
      "execution_count": null,
      "metadata": {
        "id": "ff6eBd94wLGe"
      },
      "outputs": [],
      "source": [
        "with open(fasttext_path, 'r', encoding='utf-8') as f:\n",
        "    next(f)\n",
        "    for line in f:\n",
        "        tokens = line.rstrip().split(' ')\n",
        "        word = tokens[0]\n",
        "        vector = np.array(tokens[1:], dtype=np.float32)\n",
        "\n",
        "        norm = np.linalg.norm(vector)\n",
        "        if norm > 0:\n",
        "            vector /= norm\n",
        "\n",
        "        vectors[word] = vector"
      ]
    },
    {
      "cell_type": "markdown",
      "metadata": {
        "id": "YghBEeg3VBNK"
      },
      "source": [
        "### Формируем embedding matrix\n"
      ]
    },
    {
      "cell_type": "code",
      "execution_count": null,
      "metadata": {
        "id": "YKlXovJUw5Ad"
      },
      "outputs": [],
      "source": [
        "embedding_dim = 300\n",
        "embedding_matrix = np.random.normal(scale=0.01, size=(len(word_field.vocab), embedding_dim))"
      ]
    },
    {
      "cell_type": "code",
      "execution_count": null,
      "metadata": {
        "id": "IdUkhiMyc1OG"
      },
      "outputs": [],
      "source": [
        "for i in range(len(embedding_matrix)):\n",
        "    if word_field.vocab.itos[i] not in vectors:\n",
        "        norm = np.linalg.norm(embedding_matrix[i])\n",
        "        if norm > 0:\n",
        "            embedding_matrix[i] /= norm"
      ]
    },
    {
      "cell_type": "code",
      "execution_count": null,
      "metadata": {
        "id": "UAkNB961w7Ed"
      },
      "outputs": [],
      "source": [
        "for i, token in enumerate(word_field.vocab.itos):\n",
        "    if token in vectors:\n",
        "        embedding_matrix[i] = vectors[token]\n",
        "\n",
        "pretrained_embeddings = torch.tensor(embedding_matrix, dtype=torch.float)"
      ]
    },
    {
      "cell_type": "code",
      "execution_count": null,
      "metadata": {
        "id": "2LPx1NOEw7HJ"
      },
      "outputs": [],
      "source": [
        "DEVICE = torch.device(\"cuda\" if torch.cuda.is_available() else \"cpu\")\n",
        "train_iter, test_iter = BucketIterator.splits(\n",
        "    datasets=(train_dataset, test_dataset),\n",
        "    batch_sizes=(16, 32),\n",
        "    shuffle=True,\n",
        "    device=DEVICE,\n",
        "    sort=False,\n",
        "    sort_key=lambda x: len(x.source),\n",
        ")"
      ]
    },
    {
      "cell_type": "markdown",
      "metadata": {
        "id": "m-p7bG53V-of"
      },
      "source": [
        "#### Статистика"
      ]
    },
    {
      "cell_type": "code",
      "execution_count": null,
      "metadata": {
        "id": "CQMV9-upw7Jr"
      },
      "outputs": [],
      "source": [
        "print(\"Размер словаря (vocab size):\", len(word_field.vocab))\n",
        "print(\"Размер embedding_matrix:\", embedding_matrix.shape)\n",
        "print(\"Размер pretrained_embeddings:\", pretrained_embeddings.shape)"
      ]
    },
    {
      "cell_type": "code",
      "execution_count": null,
      "metadata": {
        "colab": {
          "base_uri": "https://localhost:8080/"
        },
        "id": "yjrA2NhccjM_",
        "outputId": "f0252c49-4226-440f-b6cb-72b0c8ee94b2"
      },
      "outputs": [
        {
          "name": "stdout",
          "output_type": "stream",
          "text": [
            "Слов в UNK: 1\n"
          ]
        }
      ],
      "source": [
        "\n",
        "unk_idx = word_field.vocab.stoi[UNK_TOKEN]\n",
        "print(f\"Слов в UNK: {sum(1 for word in word_field.vocab.itos if word_field.vocab.stoi[word] == unk_idx)}\")"
      ]
    },
    {
      "cell_type": "markdown",
      "metadata": {
        "id": "8LmXT4pkWE-8"
      },
      "source": [
        "#### Покрытие слов фасттекстом"
      ]
    },
    {
      "cell_type": "code",
      "execution_count": null,
      "metadata": {
        "colab": {
          "base_uri": "https://localhost:8080/"
        },
        "id": "ulLcBCTgWJDV",
        "outputId": "dde2da31-ea3e-4b57-8328-921a78d7e363"
      },
      "outputs": [
        {
          "name": "stdout",
          "output_type": "stream",
          "text": [
            "Найдено в fastText векторов: 37777/40877\n",
            "Процент покрытия: 92.42%\n"
          ]
        }
      ],
      "source": [
        "found = sum(1 for token in word_field.vocab.itos if token in vectors)\n",
        "print(f\"Найдено в fastText векторов: {found}/{len(word_field.vocab)}\")\n",
        "print(f\"Процент покрытия: {found / len(word_field.vocab) * 100:.2f}%\")"
      ]
    },
    {
      "cell_type": "markdown",
      "metadata": {
        "id": "5cFMo31TWNUc"
      },
      "source": [
        "#### Примеры эмббедингов"
      ]
    },
    {
      "cell_type": "code",
      "execution_count": null,
      "metadata": {
        "colab": {
          "base_uri": "https://localhost:8080/"
        },
        "id": "rkwIQfblw7OH",
        "outputId": "9697aaee-7c70-4a26-dc0e-3a60b71e852f"
      },
      "outputs": [
        {
          "name": "stdout",
          "output_type": "stream",
          "text": [
            "Слово '<unk>' индекс 0, эмбеддинг: tensor([-0.0025, -0.0968, -0.0303, -0.0351, -0.0216])\n",
            "Слово 'москва' индекс 642, эмбеддинг: tensor([ 0.1637, -0.0695,  0.0518, -0.0765,  0.0932])\n",
            "Слово 'президент' индекс 107, эмбеддинг: tensor([ 0.1002, -0.0172,  0.0429, -0.0020, -0.0215])\n",
            "Слово 'экономика' индекс 10679, эмбеддинг: tensor([ 0.0380, -0.1065, -0.0602,  0.0646, -0.0701])\n"
          ]
        }
      ],
      "source": [
        "for word in ['<unk>', 'москва', 'президент', 'экономика']:\n",
        "    idx = word_field.vocab.stoi.get(word)\n",
        "    if idx is not None:\n",
        "        print(f\"Слово '{word}' индекс {idx}, эмбеддинг: {pretrained_embeddings[idx][:5]}\")\n",
        "    else:\n",
        "        print(f\"Слово '{word}' не найдено в словаре.\")"
      ]
    },
    {
      "cell_type": "code",
      "execution_count": null,
      "metadata": {
        "colab": {
          "base_uri": "https://localhost:8080/"
        },
        "id": "D10INxO8aBcU",
        "outputId": "054a3883-4645-472a-ca32-80498019eb08"
      },
      "outputs": [
        {
          "name": "stdout",
          "output_type": "stream",
          "text": [
            "Embedding stats:\n",
            "Mean: 0.0007\n",
            "Std: 0.0577\n",
            "NaN values: 0\n"
          ]
        }
      ],
      "source": [
        "print(\"Embedding stats:\")\n",
        "print(f\"Mean: {pretrained_embeddings.mean().item():.4f}\")\n",
        "print(f\"Std: {pretrained_embeddings.std().item():.4f}\")\n",
        "print(f\"NaN values: {torch.isnan(pretrained_embeddings).sum().item()}\")"
      ]
    },
    {
      "cell_type": "code",
      "execution_count": null,
      "metadata": {
        "colab": {
          "base_uri": "https://localhost:8080/",
          "height": 676
        },
        "id": "p_Zx5ZgrdSOh",
        "outputId": "01876c45-f21b-49e1-d355-427adb3d52a1"
      },
      "outputs": [
        {
          "data": {
            "image/png": "[encoded data removed]",
            "text/plain": [
              "<Figure size 1000x800 with 1 Axes>"
            ]
          },
          "metadata": {},
          "output_type": "display_data"
        }
      ],
      "source": [
        "from sklearn.manifold import TSNE\n",
        "import matplotlib.pyplot as plt\n",
        "\n",
        "sample_words = np.random.choice(word_field.vocab.itos, 100, replace=False)\n",
        "sample_embeddings = np.array([embedding_matrix[word_field.vocab.stoi[word]] for word in sample_words])\n",
        "\n",
        "tsne = TSNE(n_components=2, random_state=42)\n",
        "embeddings_2d = tsne.fit_transform(sample_embeddings)\n",
        "\n",
        "plt.figure(figsize=(10, 8))\n",
        "for i, word in enumerate(sample_words):\n",
        "    plt.scatter(embeddings_2d[i, 0], embeddings_2d[i, 1])\n",
        "    plt.annotate(word, (embeddings_2d[i, 0], embeddings_2d[i, 1]))\n",
        "plt.show()"
      ]
    },
    {
      "cell_type": "code",
      "execution_count": null,
      "metadata": {
        "colab": {
          "base_uri": "https://localhost:8080/",
          "height": 868
        },
        "id": "Mxat6oNYezCG",
        "outputId": "c29b0e55-ee56-47fd-ddef-e21a1658ac07"
      },
      "outputs": [
        {
          "name": "stderr",
          "output_type": "stream",
          "text": [
            "/usr/local/lib/python3.11/dist-packages/sklearn/manifold/_t_sne.py:1164: FutureWarning: 'n_iter' was renamed to 'max_iter' in version 1.5 and will be removed in 1.7.\n",
            "  warnings.warn(\n"
          ]
        },
        {
          "data": {
            "image/png": "[encoded data removed]",
            "text/plain": [
              "<Figure size 1200x1000 with 1 Axes>"
            ]
          },
          "metadata": {},
          "output_type": "display_data"
        }
      ],
      "source": [
        "from sklearn.preprocessing import MinMaxScaler\n",
        "\n",
        "words = [\"Москва\", \"город\", \"столица\", \"Россия\",\n",
        "         \"президент\", \"правительство\", \"доллар\", \"валюта\",\n",
        "         \"компания\", \"бизнес\", \"развитие\", \"технологии\",\n",
        "         \"и\", \"в\", \"на\", \"с\", \"к\"]  # + служебные слова\n",
        "\n",
        "words = [w for w in words if w in word_field.vocab.stoi]\n",
        "\n",
        "embeddings = pretrained_embeddings[[word_field.vocab.stoi[w] for w in words]].numpy()\n",
        "embeddings = MinMaxScaler().fit_transform(embeddings)\n",
        "\n",
        "tsne = TSNE(\n",
        "    n_components=2,\n",
        "    perplexity=min(5, len(words)-1),\n",
        "    early_exaggeration=12,\n",
        "    learning_rate=200,\n",
        "    n_iter=5000,\n",
        "    random_state=42,\n",
        "    metric='cosine'\n",
        ")\n",
        "\n",
        "result = tsne.fit_transform(embeddings)\n",
        "plt.figure(figsize=(12, 10))\n",
        "plt.scatter(result[:, 0], result[:, 1], s=100, alpha=0.7)\n",
        "\n",
        "for i, word in enumerate(words):\n",
        "    x, y = result[i]\n",
        "    plt.annotate(\n",
        "        word,\n",
        "        (x, y),\n",
        "        textcoords=\"offset points\",\n",
        "        xytext=(5, 5 if i%2 else -15),\n",
        "        ha='center',\n",
        "        fontsize=10,\n",
        "        alpha=0.9\n",
        "    )\n",
        "\n",
        "plt.grid(alpha=0.2)\n",
        "plt.show()"
      ]
    },
    {
      "cell_type": "code",
      "execution_count": null,
      "metadata": {
        "colab": {
          "base_uri": "https://localhost:8080/"
        },
        "id": "WhpO1IBldjQJ",
        "outputId": "14c98348-380e-43c4-cb5d-33aad0fe6d50"
      },
      "outputs": [
        {
          "name": "stdout",
          "output_type": "stream",
          "text": [
            "UNK в тестовых данных: 64795 слов\n"
          ]
        }
      ],
      "source": [
        "test_words = set(word for ex in test_dataset.examples for word in ex.source)\n",
        "unk_in_test = test_words - set(word_field.vocab.itos)\n",
        "print(f\"UNK в тестовых данных: {len(unk_in_test)} слов\")"
      ]
    },
    {
      "cell_type": "markdown",
      "metadata": {
        "id": "tHXCn6nWWWtq"
      },
      "source": [
        "### Топ и хвост словаря"
      ]
    },
    {
      "cell_type": "markdown",
      "metadata": {
        "id": "Nwac2CYzxHah"
      },
      "source": [
        "Выведем топ 50 самых частых слов"
      ]
    },
    {
      "cell_type": "code",
      "execution_count": null,
      "metadata": {
        "colab": {
          "base_uri": "https://localhost:8080/"
        },
        "id": "jJxoe9ZQxK2f",
        "outputId": "e8300705-616d-4681-af11-14bb334705c0"
      },
      "outputs": [
        {
          "name": "stdout",
          "output_type": "stream",
          "text": [
            "\n",
            "Топ 50 слов:\n",
            "1: сообщает — 37258\n",
            "2: в — 29301\n",
            "3: года — 15873\n",
            "4: человек — 12791\n",
            "5: также — 12644\n",
            "6: россии — 12490\n",
            "7: время — 12449\n",
            "8: на — 12362\n",
            "9: новости — 12198\n",
            "10: риа — 11822\n",
            "11: результате — 11546\n",
            "12: около — 10257\n",
            "13: и — 10074\n",
            "14: данным — 10063\n",
            "15: словам — 8250\n",
            "16: ссылкой — 7842\n",
            "17: году — 7658\n",
            "18: интерфакс — 7631\n",
            "19: сша — 7532\n",
            "20: передает — 7384\n",
            "21: это — 7323\n",
            "22: агентство — 7262\n",
            "23: пока — 7256\n",
            "24: который — 7193\n",
            "25: по — 7128\n",
            "26: пресс — 6891\n",
            "27: сообщается — 6666\n",
            "28: произошел — 6535\n",
            "29: однако — 6471\n",
            "30: тысяч — 6337\n",
            "31: области — 6134\n",
            "32: ранее — 6105\n",
            "33: города — 6031\n",
            "34: погибли — 5778\n",
            "35: заявил — 5701\n",
            "36: происшествия — 5519\n",
            "37: сообщили — 5460\n",
            "38: несколько — 5440\n",
            "39: долларов — 5405\n",
            "40: москвы — 5331\n",
            "41: с — 5323\n",
            "42: которые — 5214\n",
            "43: место — 5122\n",
            "44: районе — 5118\n",
            "45: сообщил — 5044\n",
            "46: информации — 4925\n",
            "47: рф — 4835\n",
            "48: москве — 4632\n",
            "49: получили — 4534\n",
            "50: времени — 4514\n"
          ]
        }
      ],
      "source": [
        "vocab_words_sorted = sorted(word_field.vocab.freqs.items(), key=lambda x: -x[1])\n",
        "print(\"\\nТоп 50 слов:\")\n",
        "for i, (word, freq) in enumerate(vocab_words_sorted[:50]):\n",
        "    print(f\"{i+1}: {word} — {freq}\")"
      ]
    },
    {
      "cell_type": "markdown",
      "metadata": {
        "id": "2iycks12xHdb"
      },
      "source": [
        "Топ редких слов(50 шт)"
      ]
    },
    {
      "cell_type": "code",
      "execution_count": null,
      "metadata": {
        "colab": {
          "base_uri": "https://localhost:8080/"
        },
        "id": "8I9-RWNgxPSm",
        "outputId": "55c22b36-b522-4a55-b9d3-8463780ee39f"
      },
      "outputs": [
        {
          "name": "stdout",
          "output_type": "stream",
          "text": [
            "\n",
            "Последние 50 слов:\n",
            "256561: позировавшая — 1\n",
            "256562: чулках — 1\n",
            "256563: подвязками — 1\n",
            "256564: блудницей — 1\n",
            "256565: раав — 1\n",
            "256566: hовосмоленской — 1\n",
            "256567: агентство\"интерфакс — 1\n",
            "256568: хадзиева — 1\n",
            "256569: таллиннская — 1\n",
            "256570: тулатайп — 1\n",
            "256571: шипела — 1\n",
            "256572: таланг — 1\n",
            "256573: оонами — 1\n",
            "256574: савагири — 1\n",
            "256575: курама — 1\n",
            "256576: медат — 1\n",
            "256577: авдюкова — 1\n",
            "256578: порядкового — 1\n",
            "256579: прикинулись — 1\n",
            "256580: палеевой — 1\n",
            "256581: райдера — 1\n",
            "256582: бросании — 1\n",
            "256583: игральной — 1\n",
            "256584: контест — 1\n",
            "256585: удостоившихся — 1\n",
            "256586: обаятельной — 1\n",
            "256587: munn — 1\n",
            "256588: заберем — 1\n",
            "256589: ищете — 1\n",
            "256590: вэньчан — 1\n",
            "256591: fourniret — 1\n",
            "256592: тили — 1\n",
            "256593: thily — 1\n",
            "256594: един — 1\n",
            "256595: описаниях — 1\n",
            "256596: шенксвилле — 1\n",
            "256597: дарваз — 1\n",
            "256598: летти — 1\n",
            "256599: рожериу — 1\n",
            "256600: бомбардирскими — 1\n",
            "256601: подвигами — 1\n",
            "256602: сисиньо — 1\n",
            "256603: луизао — 1\n",
            "256604: эдмилсон — 1\n",
            "256605: пернамбукану — 1\n",
            "256606: рикардиньо — 1\n",
            "256607: вэгонер — 1\n",
            "256608: kltv — 1\n",
            "256609: gondwana — 1\n",
            "256610: смонтировало — 1\n"
          ]
        }
      ],
      "source": [
        "print(\"\\nПоследние 50 слов:\")\n",
        "for i, (word, freq) in enumerate(vocab_words_sorted[-50:]):\n",
        "    print(f\"{len(vocab_words_sorted)-50+i+1}: {word} — {freq}\")"
      ]
    },
    {
      "cell_type": "markdown",
      "metadata": {
        "id": "FcNwltSQ393W"
      },
      "source": [
        " Проверим наличие <unk> токенов при токенизации нормальных текстов"
      ]
    },
    {
      "cell_type": "code",
      "execution_count": null,
      "metadata": {
        "colab": {
          "base_uri": "https://localhost:8080/"
        },
        "id": "Wc7ROGj57jLR",
        "outputId": "bde3540d-3f12-46d6-fc1c-0f0a0921321d"
      },
      "outputs": [
        {
          "name": "stdout",
          "output_type": "stream",
          "text": [
            "\n",
            "Всего токенов: 8\n",
            "Из них UNK токенов: 0\n"
          ]
        }
      ],
      "source": [
        "sample_text = \"посол россии пересек границу после эвакуации\"\n",
        "tokens = [word_field.init_token] + word_field.tokenize(sample_text.lower()) + [word_field.eos_token]\n",
        "indexed_tokens = [\n",
        "    word_field.vocab.stoi.get(token, word_field.vocab.stoi[word_field.unk_token])\n",
        "    for token in tokens\n",
        "]\n",
        "unk_count = sum(1 for idx in indexed_tokens if idx == word_field.vocab.stoi[word_field.unk_token])\n",
        "print(f\"\\nВсего токенов: {len(tokens)}\")\n",
        "print(f\"Из них UNK токенов: {unk_count}\")"
      ]
    },
    {
      "cell_type": "code",
      "execution_count": null,
      "metadata": {
        "id": "L-mgPAED33E3"
      },
      "outputs": [],
      "source": [
        "def analyze_vocabulary(vocab, data=None, max_words_to_print=20):\n",
        "    \"\"\"\n",
        "    Анализирует словарь и предоставляет информацию о его составе и качестве.\n",
        "\n",
        "    Args:\n",
        "        vocab: Объект словаря (например, word_field.vocab из torchtext).\n",
        "        data:  Список или итератор с текстовыми данными (для оценки покрытия словаря).  Если None, оценка покрытия не производится.\n",
        "        max_words_to_print: Максимальное количество самых частых и самых редких слов для отображения.\n",
        "\n",
        "    Returns:\n",
        "        None.  Функция печатает результаты анализа в консоль.\n",
        "    \"\"\"\n",
        "\n",
        "    vocab_size = len(vocab)\n",
        "    unk_index = vocab.stoi.get(\"<unk>\")\n",
        "    pad_index = vocab.stoi.get(\"<pad>\")\n",
        "    bos_index = vocab.stoi.get(\"<s>\")\n",
        "    eos_index = vocab.stoi.get(\"</s>\")\n",
        "\n",
        "    print(f\"Размер словаря: {vocab_size}\")\n",
        "\n",
        "    print(\"\\nПроверка специальных токенов:\")\n",
        "    if \"<unk>\" in vocab.stoi:\n",
        "        print(f\"  Токен <unk> найден в словаре, индекс: {unk_index}\")\n",
        "    else:\n",
        "        print(\"  Токен <unk> НЕ найден в словаре.\")\n",
        "    if \"<pad>\" in vocab.stoi:\n",
        "        print(f\"  Токен <pad> найден в словаре, индекс: {pad_index}\")\n",
        "    else:\n",
        "        print(\"  Токен <pad> НЕ найден в словаре.\")\n",
        "    if \"<s>\" in vocab.stoi:\n",
        "        print(f\"  Токен <s> (BOS) найден в словаре, индекс: {bos_index}\")\n",
        "    else:\n",
        "        print(\"  Токен <s> (BOS) НЕ найден в словаре.\")\n",
        "    if \"</s>\" in vocab.stoi:\n",
        "        print(f\"  Токен </s> (EOS) найден в словаре, индекс: {eos_index}\")\n",
        "    else:\n",
        "        print(\"  Токен </s> (EOS) НЕ найден в словаре.\")\n",
        "\n",
        "    if hasattr(vocab, 'freqs'):\n",
        "        print(\"\\nАнализ частотности слов:\")\n",
        "        vocab_words_sorted = sorted(vocab.freqs.items(), key=lambda x: -x[1])\n",
        "\n",
        "        print(f\"  {max_words_to_print} самых частых слов:\")\n",
        "        for i, (word, freq) in enumerate(vocab_words_sorted[:max_words_to_print]):\n",
        "            print(f\"    {i+1}: {word} — {freq}\")\n",
        "\n",
        "        print(f\"\\n  {max_words_to_print} самых редких слов:\")\n",
        "        for i, (word, freq) in enumerate(vocab_words_sorted[-max_words_to_print:]):\n",
        "            print(f\"    {vocab_size-max_words_to_print+i+1}: {word} — {freq}\")\n",
        "    else:\n",
        "        print(\"\\nИнформация о частотах слов недоступна в словаре.\")\n",
        "\n",
        "    if data:\n",
        "        print(\"\\nОценка покрытия словаря:\")\n",
        "        unk_count = 0\n",
        "        total_tokens = 0\n",
        "        for text in data:\n",
        "            for token in text:\n",
        "                total_tokens += 1\n",
        "                if vocab.stoi.get(token, unk_index) == unk_index:\n",
        "                    unk_count += 1\n",
        "\n",
        "        unk_percentage = (unk_count / total_tokens) * 100\n",
        "        print(f\"  Всего токенов в данных: {total_tokens}\")\n",
        "        print(f\"  Количество токенов <unk>: {unk_count}\")\n",
        "        print(f\"  Процент токенов <unk>: {unk_percentage:.2f}%\")\n",
        "\n",
        "        if hasattr(vocab, 'freqs'):\n",
        "            frequencies = [freq for word, freq in vocab_words_sorted]\n",
        "            plt.figure(figsize=(10, 5))\n",
        "            plt.plot(frequencies)\n",
        "            plt.xlabel(\"Ранг слова\")\n",
        "            plt.ylabel(\"Частота\")\n",
        "            plt.title(\"Распределение частот слов\")\n",
        "            plt.yscale('log')\n",
        "            plt.show()\n",
        "\n",
        "        print(\"\\nКритерии 'хорошести' словаря (ориентировочные):\")\n",
        "        if vocab_size < 1000:\n",
        "            print(\"  Словарь слишком маленький. Рассмотрите увеличение min_freq или использование большего объема данных.\")\n",
        "        elif vocab_size > 50000:\n",
        "            print(\"  Словарь может быть слишком большим.  Рассмотрите уменьшение объема данных, увеличение min_freq или использование subword токенизации.\")\n",
        "\n",
        "        if unk_percentage > 5.0:\n",
        "            print(\"  Процент неизвестных слов слишком высок.  Рассмотрите уменьшение min_freq, использование большего объема данных или subword токенизацию.\")\n",
        "        else:\n",
        "            print(\"  Процент неизвестных слов находится в приемлемом диапазоне.\")\n",
        "    else:\n",
        "        print(\"\\nДанные для оценки покрытия словаря не предоставлены.\")"
      ]
    },
    {
      "cell_type": "code",
      "execution_count": null,
      "metadata": {
        "colab": {
          "base_uri": "https://localhost:8080/",
          "height": 1000
        },
        "id": "HY_7JdAh4Dks",
        "outputId": "52d16cd1-c19d-4417-e76f-2bbda8e6752b"
      },
      "outputs": [
        {
          "name": "stdout",
          "output_type": "stream",
          "text": [
            "Размер словаря: 40877\n",
            "\n",
            "Проверка специальных токенов:\n",
            "  Токен <unk> найден в словаре, индекс: 0\n",
            "  Токен <pad> найден в словаре, индекс: 1\n",
            "  Токен <s> (BOS) найден в словаре, индекс: 2\n",
            "  Токен </s> (EOS) найден в словаре, индекс: 3\n",
            "\n",
            "Анализ частотности слов:\n",
            "  20 самых частых слов:\n",
            "    1: сообщает — 37258\n",
            "    2: в — 29301\n",
            "    3: года — 15873\n",
            "    4: человек — 12791\n",
            "    5: также — 12644\n",
            "    6: россии — 12490\n",
            "    7: время — 12449\n",
            "    8: на — 12362\n",
            "    9: новости — 12198\n",
            "    10: риа — 11822\n",
            "    11: результате — 11546\n",
            "    12: около — 10257\n",
            "    13: и — 10074\n",
            "    14: данным — 10063\n",
            "    15: словам — 8250\n",
            "    16: ссылкой — 7842\n",
            "    17: году — 7658\n",
            "    18: интерфакс — 7631\n",
            "    19: сша — 7532\n",
            "    20: передает — 7384\n",
            "\n",
            "  20 самых редких слов:\n",
            "    40858: fourniret — 1\n",
            "    40859: тили — 1\n",
            "    40860: thily — 1\n",
            "    40861: един — 1\n",
            "    40862: описаниях — 1\n",
            "    40863: шенксвилле — 1\n",
            "    40864: дарваз — 1\n",
            "    40865: летти — 1\n",
            "    40866: рожериу — 1\n",
            "    40867: бомбардирскими — 1\n",
            "    40868: подвигами — 1\n",
            "    40869: сисиньо — 1\n",
            "    40870: луизао — 1\n",
            "    40871: эдмилсон — 1\n",
            "    40872: пернамбукану — 1\n",
            "    40873: рикардиньо — 1\n",
            "    40874: вэгонер — 1\n",
            "    40875: kltv — 1\n",
            "    40876: gondwana — 1\n",
            "    40877: смонтировало — 1\n",
            "\n",
            "Оценка покрытия словаря:\n",
            "  Всего токенов в данных: 5568750\n",
            "  Количество токенов <unk>: 477395\n",
            "  Процент токенов <unk>: 8.57%\n"
          ]
        },
        {
          "data": {
            "image/png": "[encoded data removed]",
            "text/plain": [
              "<Figure size 1000x500 with 1 Axes>"
            ]
          },
          "metadata": {},
          "output_type": "display_data"
        },
        {
          "name": "stdout",
          "output_type": "stream",
          "text": [
            "\n",
            "Критерии 'хорошести' словаря (ориентировочные):\n",
            "  Процент неизвестных слов слишком высок.  Рассмотрите уменьшение min_freq, использование большего объема данных или subword токенизацию.\n"
          ]
        }
      ],
      "source": [
        "    analyze_vocabulary(word_field.vocab, data=[ex.source for ex in train_dataset.examples])"
      ]
    },
    {
      "cell_type": "markdown",
      "metadata": {
        "id": "sNNp0gwsXe4V"
      },
      "source": [
        "#### Сохрнение словаря (если новый!!/)"
      ]
    },
    {
      "cell_type": "code",
      "execution_count": null,
      "metadata": {
        "id": "82A5-vbgXm9m"
      },
      "outputs": [],
      "source": [
        "vocab_save_path = save_path + \"vocab_nlp_pupupu.pt\"\n",
        "word_field_save_path = save_path + \"word_field_nlp_pupupu.pt\"\n",
        "\n",
        "\n",
        "torch.save(word_field.vocab, vocab_save_path, pickle_module=dill)\n",
        "\n",
        "torch.save(word_field, word_field_save_path, pickle_module=dill)"
      ]
    },
    {
      "cell_type": "markdown",
      "metadata": {
        "id": "_ys_dMUHX1Wl"
      },
      "source": [
        "#### Подгрузка словаря"
      ]
    },
    {
      "cell_type": "code",
      "execution_count": null,
      "metadata": {
        "id": "tkcQwnSk1ppk"
      },
      "outputs": [],
      "source": [
        "word_field = torch.load(save_path + \"word_field_nlp_pupupu.pt\", pickle_module=dill)\n",
        "print(\"word_field загружен целиком\")\n",
        "\n",
        "vocab = torch.load(save_path + \"vocab_nlp_pupupu.pt\", pickle_module=dill)\n",
        "word_field.vocab = vocab\n",
        "print(\"vocab подставлен в word_field\")"
      ]
    },
    {
      "cell_type": "code",
      "execution_count": null,
      "metadata": {
        "id": "bzk2RWqoS-XC"
      },
      "outputs": [],
      "source": [
        "#word_field = torch.load(save_path+\"word_field_nlp1.pt\", pickle_module=dill)\n",
        "#vocab = torch.load(save_path+\"vocab_nlp1.pt\", pickle_module=dill)\n",
        "#word_field.vocab = vocab"
      ]
    },
    {
      "cell_type": "markdown",
      "metadata": {
        "id": "tHQGgoit2ljv"
      },
      "source": [
        "## Seq2seq for Abstractive Summarization\n",
        "\n",
        "Вообще задача не сильно отличается от машинного перевода:\n",
        "\n",
        "![](https://image.ibb.co/jAf3S0/2018-11-20-9-42-17.png)\n",
        "*From [Get To The Point: Summarization with Pointer-Generator Networks](https://arxiv.org/pdf/1704.04368.pdf)*\n",
        "\n",
        "Тут на каждом шаге декодер подглядывает на все токены - точнее, их эмбеддинги после BiRNN.\n",
        "\n",
        "Возникает вопрос - а зачем вообще RNN, если потом все равно будем смотреть на всё."
      ]
    },
    {
      "cell_type": "markdown",
      "metadata": {
        "id": "8FYJe2CA8GcY"
      },
      "source": [
        "# Transformer\n",
        "\n",
        "Из этой идеи - отказ от RNN - и получился Transformer.\n",
        "\n",
        "![](https://hsto.org/webt/59/f0/44/59f04410c0e56192990801.png)  \n",
        "*From Attention is all you need*\n",
        "\n",
        "Как в случае с RNN мы на каждом шаге применяем одну и ту же операцию (ячейку LSTM) к текущему входу, так и здесь - только теперь связей между timestamp'ами нет и можно обрабатывать их почти параллельно.\n",
        "\n",
        "*Код дальше очень сильно опирается на шикарную статью [The Annotated Transformer](http://nlp.seas.harvard.edu/2018/04/03/attention.html).*"
      ]
    },
    {
      "cell_type": "markdown",
      "metadata": {
        "id": "env8rDS_dM86"
      },
      "source": [
        "## Encoder\n",
        "\n",
        "Начнем с энкодера:\n",
        "\n",
        "![](http://jalammar.github.io/images/t/transformer_resideual_layer_norm.png)  \n",
        "*From [Illustrated Transformer](http://jalammar.github.io/illustrated-transformer/)*\n",
        "\n",
        "Он представляет из себя последовательность одинаковых блоков с self-attention + полносвязными слоями.\n",
        "\n",
        "Можно представить, что это - ячейка LSTM: она тоже применяется к каждому входу с одинаковыми весами. Разница основная в отсутствии рекуррентных связей: за счет этого энкодер может применяться одновременно ко всем входам батча."
      ]
    },
    {
      "cell_type": "markdown",
      "metadata": {
        "id": "rXjWcnpCJY92"
      },
      "source": [
        "### Positional Encoding\n",
        "\n",
        "Нужно как-то кодировать информацию о том, в каком месте в предложении стоит токен. Авторы предложили делать так:\n",
        "$$PE_{(pos,2i)} = sin(pos / 10000^{2i/d_{\\text{model}}})$$\n",
        "$$PE_{(pos,2i+1)} = cos(pos / 10000^{2i/d_{\\text{model}}})$$\n",
        "\n",
        "где $(pos, i)$ - позиция в предложении и индекс в скрытом векторе размерности до $d_{model}$."
      ]
    },
    {
      "cell_type": "code",
      "execution_count": null,
      "metadata": {
        "id": "zI2rMiZhJcKX"
      },
      "outputs": [],
      "source": [
        "import math\n",
        "\n",
        "class PositionalEncoding(nn.Module):\n",
        "    def __init__(self, d_model, dropout, max_len=5000):\n",
        "        super().__init__()\n",
        "        self.dropout = nn.Dropout(p=dropout)\n",
        "\n",
        "        pe = torch.zeros(max_len, d_model)\n",
        "        position = torch.arange(0, max_len, dtype=torch.float).unsqueeze(1)\n",
        "        div_term = torch.exp(torch.arange(0, d_model, 2, dtype=torch.float) * (-math.log(10000.0) / d_model))\n",
        "        pe[:, 0::2] = torch.sin(position * div_term)\n",
        "        pe[:, 1::2] = torch.cos(position * div_term)\n",
        "        pe = pe.unsqueeze(0)\n",
        "        self.register_buffer('pe', pe)\n",
        "\n",
        "    def forward(self, x):\n",
        "        x = x + self.pe[:, :x.size(1)]\n",
        "        return self.dropout(x)"
      ]
    },
    {
      "cell_type": "code",
      "execution_count": null,
      "metadata": {
        "id": "XEL9VppyKCBz"
      },
      "outputs": [],
      "source": [
        "plt.figure(figsize=(15, 5))\n",
        "pe = PositionalEncoding(20, 0)\n",
        "y = pe(torch.zeros(1, 100, 20))\n",
        "plt.plot(np.arange(100), y[0, :, 4:8].data.numpy())\n",
        "plt.legend([\"dim %d\"%p for p in [4,5,6,7]])"
      ]
    },
    {
      "cell_type": "markdown",
      "metadata": {
        "id": "a7OeqTcOdgud"
      },
      "source": [
        "В итоге эмбеддинги токена получается как сумма обычного эмбеддинга и эмбеддинга позиции:  \n",
        "![](http://jalammar.github.io/images/t/transformer_positional_encoding_vectors.png)  \n",
        "*From [Illustrated Transformer](http://jalammar.github.io/illustrated-transformer/)*"
      ]
    },
    {
      "cell_type": "markdown",
      "metadata": {
        "id": "9rvG4ZQ_icKH"
      },
      "source": [
        "### Residual Connection\n",
        "\n",
        "Разберем блок энкодера - повторяющейся N раз комбинации операций на первом рисунке.\n",
        "\n",
        "Самое простое здесь - residual connection. Вместо к выходу произвольной функции $F$ прибавляется её вход\n",
        "$$y = F(x) \\quad \\to \\quad y = F(x) + x$$\n",
        "\n",
        "Идея в том, что обычные сети сложно делать слишком глубокими - градиенты затухают. А через этот residual вход $x$ градиентам течь ничего не стоит. В итоге в картинках благодаря таким блокам получилось настакать дофига слоев и улучшить качество (см. ResNet).\n",
        "\n",
        "Ничего не мешает нам поступить также."
      ]
    },
    {
      "cell_type": "code",
      "execution_count": null,
      "metadata": {
        "id": "7QLCqNeEjKpD"
      },
      "outputs": [],
      "source": [
        "class ResidualBlock(nn.Module):\n",
        "    def __init__(self, size, dropout_rate):\n",
        "        super().__init__()\n",
        "        self._norm = LayerNorm(size)\n",
        "        self._dropout = nn.Dropout(dropout_rate)\n",
        "\n",
        "    def forward(self, inputs, sublayer):\n",
        "        return inputs + self._dropout(sublayer(self._norm(inputs)))"
      ]
    },
    {
      "cell_type": "markdown",
      "metadata": {
        "id": "EHUqCsifmd5e"
      },
      "source": [
        "### Layer Norm\n",
        "\n",
        "Дополнительно применяется нормализация LayerNorm.\n",
        "\n",
        "**Batch normalization**  \n",
        "Мы вообще не разбирали, но BatchNorm работает так:\n",
        "$$\\mu_j = \\frac{1}{m}\\sum_{i=1}^{m}x_{ij} \\\\    \\sigma_j^2 = \\frac{1}{m}\\sum_{i=1}^{m}(x_{ij} - \\mu_j)^2 \\\\    \\hat{x}_{ij} = \\frac{x_{ij} - \\mu_j}{\\sqrt{\\sigma_j^2 + \\epsilon}}$$\n",
        "$$y_{ij} = \\gamma \\ \\hat{x}_{ij} + \\beta$$\n",
        "\n",
        "На каждом батче эти $\\mu$ и $\\sigma$ пересчитываются, обновляя статистики. На инференсе используются накопленные статистики.\n",
        "\n",
        "Основной его недостаток - он плохо работает с рекуррентными сетями. Чтобы побороть это придумали:\n",
        "\n",
        "**Layer normalization**  \n",
        "А сейчас мы будем пользоваться немного другими формулами:\n",
        "$$\\mu_i = \\frac{1}{m}\\sum_{j=1}^{m}x_{ij} \\\\    \\sigma_i^2 = \\frac{1}{m}\\sum_{j=1}^{m}(x_{ij} - \\mu_i)^2 \\\\    \\hat{x}_{ij} = \\frac{x_{ij} - \\mu_i}{\\sqrt{\\sigma_i^2 + \\epsilon}}$$\n",
        "$$y_{ij} = \\gamma \\ \\hat{x}_{ij} + \\beta$$\n",
        "\n",
        "Разницу с ходу не видно, но она есть:\n",
        "![](https://image.ibb.co/hjtuX0/layernorm.png)  \n",
        "*From [Weight Normalization and Layer Normalization Explained ](http://mlexplained.com/2018/01/13/weight-normalization-and-layer-normalization-explained-normalization-in-deep-learning-part-2/)*\n",
        "\n",
        "Если в BatchNorm статистики считаются для каждой фичи усреднением по батчу, то теперь - для каждого входа усредением по фичам."
      ]
    },
    {
      "cell_type": "code",
      "execution_count": null,
      "metadata": {
        "id": "Q5XLZZ3zrK24"
      },
      "outputs": [],
      "source": [
        "class LayerNorm(nn.Module):\n",
        "    def __init__(self, features, eps=1e-6):\n",
        "        super().__init__()\n",
        "\n",
        "        self._gamma = nn.Parameter(torch.ones(features))\n",
        "        self._beta = nn.Parameter(torch.zeros(features))\n",
        "        self._eps = eps\n",
        "\n",
        "    def forward(self, inputs):\n",
        "        mean = inputs.mean(-1, keepdim=True)\n",
        "        std = inputs.std(-1, keepdim=True)\n",
        "        return self._gamma * (inputs - mean) / (std + self._eps) + self._beta"
      ]
    },
    {
      "cell_type": "markdown",
      "metadata": {
        "id": "WrWvtymp2G8o"
      },
      "source": [
        "### Attention\n",
        "\n",
        "Весь Transformer опирается на идею self-attention. Выглядит это так:\n",
        "\n",
        "![](http://jalammar.github.io/images/t/transformer_self-attention_visualization.png)  \n",
        "*From [Tensor2Tensor Tutorial](https://colab.research.google.com/github/tensorflow/tensor2tensor/blob/master/tensor2tensor/notebooks/hello_t2t.ipynb)*\n",
        "\n",
        "Эмбеддинг слова *it* строится как комбинация всех эмбеддингов предложения.\n",
        "\n",
        "В статье придумали делать такой аттеншен:\n",
        "\n",
        "$$\\mathrm{Attention}(Q, K, V) = \\mathrm{softmax}\\left(\\frac{QK^T}{\\sqrt{d_k}}\\right)V$$\n",
        "\n",
        "Это примерно как dot-attention на прошлом занятии: запрос (**Q**uery) умножается на ключи (**K**ey) скалярно, затем берется софтмакс - получаются оценки того, насколько интересны разные таймстемпы из значений (**V**alue).\n",
        "\n",
        "Например, $\\mathrm{emb}(\\text{it}) = \\mathrm{Attention}(\\text{it}, \\ldots\\text{because it was too tired}, \\ldots\\text{because it was too tired})$.\n",
        "\n",
        "Только теперь ещё с параметром $\\frac{1}{\\sqrt{d_k}}$, где $d_k$ - это размерность ключа. Утверждается, это работает лучше при больших размерностях ключа $d_k$."
      ]
    },
    {
      "cell_type": "code",
      "execution_count": null,
      "metadata": {
        "id": "2ApuVJZn5i4R"
      },
      "outputs": [],
      "source": [
        "class ScaledDotProductAttention(nn.Module):\n",
        "    def __init__(self, dropout_rate):\n",
        "        super().__init__()\n",
        "\n",
        "        self._dropout = nn.Dropout(dropout_rate)\n",
        "\n",
        "    def forward(self, query, key, value, mask):\n",
        "        d_k = query.size(-1)\n",
        "        scores = torch.matmul(query, key.transpose(-2, -1)) / math.sqrt(d_k)\n",
        "        if mask is not None:\n",
        "            scores = scores.masked_fill(mask == 0, -1e9)\n",
        "        p_attn = F.softmax(scores, dim=-1)\n",
        "        p_attn = self._dropout(p_attn)\n",
        "\n",
        "        return torch.matmul(p_attn, value), p_attn"
      ]
    },
    {
      "cell_type": "markdown",
      "metadata": {
        "id": "uZ-xQbgM6MNl"
      },
      "source": [
        "### Multi-Head Attention\n",
        "\n",
        "![](https://hsto.org/webt/59/f0/44/59f0440f1109b864893781.png)\n",
        "\n",
        "Важная идея, почему attention (и, главное, self-attention) заработал - использование нескольких голов (multi-head).\n",
        "\n",
        "Вообще, когда мы делаем attention - мы определяем похожесть ключа и запроса. Многоголовость помогает (должна) определять эту похожесть по разным критериям - синтаксически, семантически и т.д.\n",
        "\n",
        "Например, на картинке используется две головы и одна голова смотрит на *the animal* при генерации *it*, вторая - на *tired*:\n",
        "\n",
        "![](http://jalammar.github.io/images/t/transformer_self-attention_visualization_2.png)  \n",
        "*From [Tensor2Tensor Tutorial](https://colab.research.google.com/github/tensorflow/tensor2tensor/blob/master/tensor2tensor/notebooks/hello_t2t.ipynb)*\n",
        "\n",
        "Применяется это таким образом:\n",
        "\n",
        "$$\\mathrm{MultiHead}(Q, K, V) = \\mathrm{Concat}(\\mathrm{head_1}, ...,\n",
        "\\mathrm{head_h})W^O    \\\\\n",
        "    \\mathrm{head_i} = \\mathrm{Attention}(QW^Q_i, KW^K_i, VW^V_i)$$\n",
        "    \n",
        "где $W^Q_i \\in \\mathbb{R}^{d_{model} \\times d_k}, W_i^K \\in \\mathbb{R}^{d_{model} \\times d_k}, W^V_i \\in \\mathbb{R}^{d_{model} \\times d_v}, W^O \\in \\mathbb{R}^{hd_v \\times d_{model}}$.\n",
        "\n",
        "В оригинальной статье использовали $h=8$, $d_k=d_v=d_{\\text{model}}/h=64$.\n",
        "\n",
        "Процесс применения такой:\n",
        "![](http://jalammar.github.io/images/t/transformer_multi-headed_self-attention-recap.png)  \n",
        "*From Illustrated Transformer*"
      ]
    },
    {
      "cell_type": "code",
      "execution_count": null,
      "metadata": {
        "id": "rg-CxvPDAJPP"
      },
      "outputs": [],
      "source": [
        "class MultiHeadedAttention(nn.Module):\n",
        "    def __init__(self, heads_count, d_model, dropout_rate=0.1):\n",
        "        super().__init__()\n",
        "\n",
        "        assert d_model % heads_count == 0\n",
        "\n",
        "        self._d_k = d_model // heads_count\n",
        "        self._heads_count = heads_count\n",
        "        self._attention = ScaledDotProductAttention(dropout_rate)\n",
        "        self._attn_probs = None\n",
        "\n",
        "        self._w_q = nn.Linear(d_model, d_model)\n",
        "        self._w_k = nn.Linear(d_model, d_model)\n",
        "        self._w_v = nn.Linear(d_model, d_model)\n",
        "        self._w_o = nn.Linear(d_model, d_model)\n",
        "\n",
        "    def forward(self, query, key, value, mask=None):\n",
        "        if mask is not None:\n",
        "            mask = mask.unsqueeze(1)\n",
        "        nbatches = query.size(0)\n",
        "\n",
        "        query = self._w_q(query).view(nbatches, -1, self._heads_count, self._d_k).transpose(1, 2)\n",
        "        key = self._w_k(key).view(nbatches, -1, self._heads_count, self._d_k).transpose(1, 2)\n",
        "        value = self._w_v(value).view(nbatches, -1, self._heads_count, self._d_k).transpose(1, 2)\n",
        "        x, self._attn_probs = self._attention(query, key, value, mask)\n",
        "\n",
        "        x = x.transpose(1, 2).contiguous().view(nbatches, -1, self._heads_count * self._d_k)\n",
        "        x = self._w_o(x)\n",
        "        return x"
      ]
    },
    {
      "cell_type": "markdown",
      "metadata": {
        "id": "pOKwneaKGaJi"
      },
      "source": [
        "### Position-wise Feed-Forward Networks\n",
        "\n",
        "Линейный блок в энкодере выглядит так:\n",
        "$$\\mathrm{FFN}(x)=\\max(0, xW_1 + b_1) W_2 + b_2$$"
      ]
    },
    {
      "cell_type": "code",
      "execution_count": null,
      "metadata": {
        "id": "uh1UVkAUGiwh"
      },
      "outputs": [],
      "source": [
        "class PositionwiseFeedForward(nn.Module):\n",
        "    def __init__(self, d_model, d_ff, dropout=0.1):\n",
        "        super().__init__()\n",
        "\n",
        "        self.w_1 = nn.Linear(d_model, d_ff)\n",
        "        self.w_2 = nn.Linear(d_ff, d_model)\n",
        "        self.dropout = nn.Dropout(dropout)\n",
        "\n",
        "    def forward(self, inputs):\n",
        "        return self.w_2(self.dropout(F.relu(self.w_1(inputs))))"
      ]
    },
    {
      "cell_type": "markdown",
      "metadata": {
        "id": "_dZoU1JIt6QP"
      },
      "source": [
        "### Encoder block\n",
        "\n",
        "Соберем все в блок:"
      ]
    },
    {
      "cell_type": "code",
      "execution_count": null,
      "metadata": {
        "id": "Nh7wQL65sBmk"
      },
      "outputs": [],
      "source": [
        "class EncoderBlock(nn.Module):\n",
        "    def __init__(self, size, self_attn, feed_forward, dropout_rate):\n",
        "        super().__init__()\n",
        "\n",
        "        self._self_attn = self_attn\n",
        "        self._feed_forward = feed_forward\n",
        "        self._self_attention_block = ResidualBlock(size, dropout_rate)\n",
        "        self._feed_forward_block = ResidualBlock(size, dropout_rate)\n",
        "\n",
        "    def forward(self, inputs, mask):\n",
        "        outputs = self._self_attention_block(inputs, lambda inputs: self._self_attn(inputs, inputs, inputs, mask))\n",
        "        return self._feed_forward_block(outputs, self._feed_forward)"
      ]
    },
    {
      "cell_type": "code",
      "execution_count": null,
      "metadata": {
        "id": "x8ndCRZLl4ZZ"
      },
      "outputs": [],
      "source": []
    },
    {
      "cell_type": "markdown",
      "metadata": {
        "id": "9Enw99qjjinq"
      },
      "source": [
        "Предполагается, что использование"
      ]
    },
    {
      "cell_type": "code",
      "execution_count": null,
      "metadata": {
        "id": "SMxYZy4RVUOt"
      },
      "outputs": [],
      "source": [
        "class Encoder(nn.Module):\n",
        "    def __init__(self, vocab_size, d_model, d_ff, blocks_count, heads_count, dropout_rate, save_probs = False, pretrained_embeddings = None, shared_embeddings = None):\n",
        "        super().__init__()\n",
        "\n",
        "        if pretrained_embeddings is not None:\n",
        "            self.embedding_layer = nn.Embedding(vocab_size, 300)\n",
        "\n",
        "            self.embedding_layer.weight.data.copy_(pretrained_embeddings)\n",
        "            self.embedding_layer.weight.requires_grad = True\n",
        "\n",
        "            #  проекция из 300 в d_model\n",
        "            self.embedding_proj = nn.Linear(300, d_model)\n",
        "\n",
        "            self._pos_enc = PositionalEncoding(d_model, dropout_rate)\n",
        "            self._emb = nn.Sequential(\n",
        "                    self.embedding_layer,\n",
        "                    self.embedding_proj,\n",
        "                    self._pos_enc\n",
        "             )\n",
        "        elif shared_embeddings is None:\n",
        "            self._emb = nn.Sequential(\n",
        "                nn.Embedding(vocab_size, d_model),\n",
        "                PositionalEncoding(d_model, dropout_rate)\n",
        "            )\n",
        "        else:\n",
        "            self._emb = shared_embeddings\n",
        "\n",
        "        block = lambda: EncoderBlock(\n",
        "            size=d_model,\n",
        "            self_attn=MultiHeadedAttention(heads_count, d_model, dropout_rate),\n",
        "            feed_forward=PositionwiseFeedForward(d_model, d_ff, dropout_rate),\n",
        "            dropout_rate=dropout_rate\n",
        "        )\n",
        "        self._blocks = nn.ModuleList([block() for _ in range(blocks_count)])\n",
        "        self._norm = LayerNorm(d_model)\n",
        "\n",
        "        self.save_probs = save_probs\n",
        "        self.attn_probs = []\n",
        "\n",
        "    def forward(self, inputs, mask):\n",
        "        inputs = self._emb(inputs)\n",
        "        self.attn_probs = []\n",
        "        for block in self._blocks:\n",
        "            inputs = block(inputs, mask)\n",
        "            if self.save_probs:\n",
        "                self.attn_probs.append(block._self_attn._attn_probs)\n",
        "\n",
        "        return self._norm(inputs)"
      ]
    },
    {
      "cell_type": "code",
      "execution_count": null,
      "metadata": {
        "id": "tdWtUwSI_Qw4"
      },
      "outputs": [],
      "source": [
        "# Вот это\n",
        "\n",
        "class Encoder(nn.Module):\n",
        "    def __init__(self, vocab_size, d_model, d_ff, blocks_count, heads_count, dropout_rate, embeddings, save_probs = False):\n",
        "        super().__init__()\n",
        "\n",
        "        self._emb = embeddings\n",
        "\n",
        "        block = lambda: EncoderBlock(\n",
        "            size=d_model,\n",
        "            self_attn=MultiHeadedAttention(heads_count, d_model, dropout_rate),\n",
        "            feed_forward=PositionwiseFeedForward(d_model, d_ff, dropout_rate),\n",
        "            dropout_rate=dropout_rate\n",
        "        )\n",
        "        self._blocks = nn.ModuleList([block() for _ in range(blocks_count)])\n",
        "        self._norm = LayerNorm(d_model)\n",
        "\n",
        "        self.save_probs = save_probs\n",
        "        self.attn_probs = []\n",
        "\n",
        "    def forward(self, inputs, mask):\n",
        "        inputs = self._emb(inputs)\n",
        "        self.attn_probs = []\n",
        "        for block in self._blocks:\n",
        "            inputs = block(inputs, mask)\n",
        "            if self.save_probs:\n",
        "                self.attn_probs.append(block._self_attn._attn_probs)\n",
        "\n",
        "        return self._norm(inputs)"
      ]
    },
    {
      "cell_type": "markdown",
      "metadata": {
        "id": "_pphRcbTvqnq"
      },
      "source": [
        "## Decoder\n",
        "\n",
        "![](https://hsto.org/webt/59/f0/44/59f0440f7d88f805415140.png)\n",
        "\n",
        "Блок декодера (серая часть) состоит уже из трех частей:\n",
        "1. Сперва - тот же self-attention, что и в энкодере\n",
        "2. Затем - стандартный attention на выходы из энкодера + текущее состояние декодера (такой же был в seq2seq with attention)\n",
        "3. Наконец - feed-forward блок\n",
        "\n",
        "Всё это, конечно, с residual связями."
      ]
    },
    {
      "cell_type": "code",
      "execution_count": null,
      "metadata": {
        "id": "6LTWjKUXx2LP"
      },
      "outputs": [],
      "source": [
        "\n",
        "class DecoderLayer(nn.Module):\n",
        "    def __init__(self, size, self_attn, encoder_attn, feed_forward, dropout_rate):\n",
        "        super().__init__()\n",
        "\n",
        "        self._self_attn = self_attn\n",
        "        self._encoder_attn = encoder_attn\n",
        "        self._feed_forward = feed_forward\n",
        "        self._self_attention_block = ResidualBlock(size, dropout_rate)\n",
        "        self._attention_block = ResidualBlock(size, dropout_rate)\n",
        "        self._feed_forward_block = ResidualBlock(size, dropout_rate)\n",
        "\n",
        "    def forward(self, inputs, encoder_output, source_mask, target_mask):\n",
        "        outputs = self._self_attention_block(\n",
        "            inputs, lambda inputs: self._self_attn(inputs, inputs, inputs, target_mask)\n",
        "        )\n",
        "        outputs = self._attention_block(\n",
        "            outputs, lambda inputs: self._encoder_attn(inputs, encoder_output, encoder_output, source_mask)\n",
        "        )\n",
        "        return self._feed_forward_block(outputs, self._feed_forward)"
      ]
    },
    {
      "cell_type": "code",
      "execution_count": null,
      "metadata": {
        "id": "Un0AOmdqLPp_"
      },
      "outputs": [],
      "source": []
    },
    {
      "cell_type": "code",
      "execution_count": null,
      "metadata": {
        "id": "-j7s3qbDU9Ia"
      },
      "outputs": [],
      "source": [
        "class Decoder(nn.Module):\n",
        "    def __init__(self, vocab_size, d_model, d_ff, blocks_count, heads_count, dropout_rate, save_probs = False, pretrained_embeddings = None, shared_embeddings = None):\n",
        "        super().__init__()\n",
        "        self._out_layer = nn.Linear(d_model, vocab_size)\n",
        "\n",
        "        if pretrained_embeddings is not None:\n",
        "            self.embedding_layer = nn.Embedding(vocab_size, 300)\n",
        "\n",
        "            self.embedding_layer.weight.data.copy_(pretrained_embeddings)\n",
        "            self.embedding_layer.weight.requires_grad = True\n",
        "\n",
        "            #  проекция из 300 в d_model\n",
        "            self.embedding_proj = nn.Linear(300, d_model)\n",
        "\n",
        "            self._pos_enc = PositionalEncoding(d_model, dropout_rate)\n",
        "            self._emb = nn.Sequential(\n",
        "                    self.embedding_layer,\n",
        "                    self.embedding_proj,\n",
        "                    self._pos_enc\n",
        "             )\n",
        "        elif shared_embeddings is None:\n",
        "            self._emb = nn.Sequential(\n",
        "                nn.Embedding(vocab_size, d_model),\n",
        "                PositionalEncoding(d_model, dropout_rate)\n",
        "            )\n",
        "        else:\n",
        "            self._emb = shared_embeddings\n",
        "            self._out_layer.weight = self._emb[0].weight  # Весовая привязка\n",
        "\n",
        "\n",
        "\n",
        "        block = lambda: DecoderLayer(\n",
        "            size=d_model,\n",
        "            self_attn=MultiHeadedAttention(heads_count, d_model, dropout_rate),\n",
        "            encoder_attn=MultiHeadedAttention(heads_count, d_model, dropout_rate),\n",
        "            feed_forward=PositionwiseFeedForward(d_model, d_ff, dropout_rate),\n",
        "            dropout_rate=dropout_rate\n",
        "        )\n",
        "        self._blocks = nn.ModuleList([block() for _ in range(blocks_count)])\n",
        "        self._norm = LayerNorm(d_model)\n",
        "\n",
        "\n",
        "        self.save_probs = save_probs\n",
        "        self.self_attn_probs = []\n",
        "        self.enc_attn_probs = []\n",
        "\n",
        "    def forward(self, inputs, encoder_output, source_mask, target_mask):\n",
        "        inputs = self._emb(inputs)\n",
        "        self.self_attn_probs = []\n",
        "        self.enc_attn_probs = []\n",
        "        for block in self._blocks:\n",
        "            inputs = block(inputs, encoder_output, source_mask, target_mask)\n",
        "            if self.save_probs:\n",
        "                self.self_attn_probs.append(block._self_attn._attn_probs)\n",
        "                self.enc_attn_probs.append(block._encoder_attn._attn_probs)\n",
        "        return self._out_layer(self._norm(inputs))"
      ]
    },
    {
      "cell_type": "code",
      "execution_count": null,
      "metadata": {
        "id": "X5SjlsOw_HUE"
      },
      "outputs": [],
      "source": [
        "#Вот это\n",
        "\n",
        "class Decoder(nn.Module):\n",
        "    def __init__(self, vocab_size, d_model, d_ff, blocks_count, heads_count, dropout_rate, embeddings, out_layer, save_probs = False):\n",
        "        super().__init__()\n",
        "        self._out_layer = out_layer\n",
        "        self._emb = embeddings\n",
        "\n",
        "        block = lambda: DecoderLayer(\n",
        "            size=d_model,\n",
        "            self_attn=MultiHeadedAttention(heads_count, d_model, dropout_rate),\n",
        "            encoder_attn=MultiHeadedAttention(heads_count, d_model, dropout_rate),\n",
        "            feed_forward=PositionwiseFeedForward(d_model, d_ff, dropout_rate),\n",
        "            dropout_rate=dropout_rate\n",
        "        )\n",
        "        self._blocks = nn.ModuleList([block() for _ in range(blocks_count)])\n",
        "        self._norm = LayerNorm(d_model)\n",
        "\n",
        "\n",
        "        self.save_probs = save_probs\n",
        "        self.self_attn_probs = []\n",
        "        self.enc_attn_probs = []\n",
        "\n",
        "    def forward(self, inputs, encoder_output, source_mask, target_mask):\n",
        "        inputs = self._emb(inputs)\n",
        "        self.self_attn_probs = []\n",
        "        self.enc_attn_probs = []\n",
        "        for block in self._blocks:\n",
        "            inputs = block(inputs, encoder_output, source_mask, target_mask)\n",
        "            if self.save_probs:\n",
        "                self.self_attn_probs.append(block._self_attn._attn_probs)\n",
        "                self.enc_attn_probs.append(block._encoder_attn._attn_probs)\n",
        "        return self._out_layer(self._norm(inputs))"
      ]
    },
    {
      "cell_type": "markdown",
      "metadata": {
        "id": "tbEkHtwWz0Yh"
      },
      "source": [
        "В декодере нужно аттентиться только на предыдущие токены - сгенерируем маску для этого:"
      ]
    },
    {
      "cell_type": "code",
      "execution_count": null,
      "metadata": {
        "id": "EbVkZSRq0cD5"
      },
      "outputs": [],
      "source": [
        "def subsequent_mask(size):\n",
        "    mask = torch.ones(size, size, device=DEVICE).triu_()\n",
        "    return mask.unsqueeze(0) == 0"
      ]
    },
    {
      "cell_type": "code",
      "execution_count": null,
      "metadata": {
        "id": "_8X_fqeL0jeW"
      },
      "outputs": [],
      "source": [
        "plt.figure(figsize=(5,5))\n",
        "plt.imshow(subsequent_mask(20)[0].cpu().numpy())"
      ]
    },
    {
      "cell_type": "markdown",
      "metadata": {
        "id": "b7UEsntVj9lb"
      },
      "source": [
        "## Полная модель"
      ]
    },
    {
      "cell_type": "code",
      "execution_count": null,
      "metadata": {
        "id": "niG-PnInlF1I"
      },
      "outputs": [],
      "source": [
        "\n"
      ]
    },
    {
      "cell_type": "code",
      "execution_count": null,
      "metadata": {
        "id": "LNWf00AzUv4h"
      },
      "outputs": [],
      "source": [
        "class Generator(nn.Module):\n",
        "    \"Define standard linear + softmax generation step.\"\n",
        "    def __init__(self, d_model, vocab):\n",
        "        super(Generator, self).__init__()\n",
        "        self.proj = nn.Linear(d_model, vocab)\n",
        "\n",
        "    def forward(self, x):\n",
        "        return F.log_softmax(self.proj(x), dim=-1)\n",
        "\n",
        "\n",
        "class EncoderDecoder(nn.Module):\n",
        "    \"\"\"\n",
        "    A standard Encoder-Decoder architecture. Base for this and many\n",
        "    other models.\n",
        "    \"\"\"\n",
        "    def __init__(self, source_vocab_size, target_vocab_size, d_model=256, d_ff=1024,\n",
        "                 blocks_count=4, heads_count=8, dropout_rate=0.1, save_probs = False, use_shared_emb = False, pretrained_embeddings=None):\n",
        "        super(EncoderDecoder, self).__init__()\n",
        "\n",
        "        shared_embeddings = None\n",
        "        if use_shared_emb:\n",
        "            assert source_vocab_size == target_vocab_size, \"Vocab sizes must match for shared embeddings\"\n",
        "            self._emb = nn.Sequential(\n",
        "                nn.Embedding(source_vocab_size, d_model),\n",
        "                PositionalEncoding(d_model, dropout_rate)\n",
        "            )\n",
        "            shared_embeddings = self._emb\n",
        "\n",
        "\n",
        "        self.d_model = d_model\n",
        "        self.encoder = Encoder(source_vocab_size, d_model, d_ff, blocks_count, heads_count, dropout_rate, save_probs, pretrained_embeddings, shared_embeddings)\n",
        "        self.decoder = Decoder(target_vocab_size, d_model, d_ff, blocks_count, heads_count, dropout_rate, save_probs, pretrained_embeddings, shared_embeddings)\n",
        "        # self.generator = Generator(d_model, target_vocab_size)\n",
        "\n",
        "        for p in self.parameters():\n",
        "            if p.dim() > 1:\n",
        "                nn.init.xavier_uniform_(p)\n",
        "\n",
        "    def forward(self, source_inputs, target_inputs, source_mask, target_mask):\n",
        "        encoder_output = self.encoder(source_inputs, source_mask)\n",
        "        return self.decoder(target_inputs, encoder_output, source_mask, target_mask)"
      ]
    },
    {
      "cell_type": "code",
      "execution_count": null,
      "metadata": {
        "id": "D0qDTyzc-8KH"
      },
      "outputs": [],
      "source": [
        "# это нужный\n",
        "class Generator(nn.Module):\n",
        "    \"Define standard linear + softmax generation step.\"\n",
        "    def __init__(self, d_model, vocab_size):\n",
        "        super(Generator, self).__init__()\n",
        "        self.proj = nn.Linear(d_model, vocab_size)\n",
        "\n",
        "    def forward(self, x):\n",
        "        return F.log_softmax(self.proj(x), dim=-1)\n",
        "\n",
        "\n",
        "class EncoderDecoder(nn.Module):\n",
        "    \"\"\"\n",
        "    A standard Encoder-Decoder architecture.\n",
        "    \"\"\"\n",
        "    def __init__(self, source_vocab_size, target_vocab_size, d_model=256, d_ff=1024,\n",
        "                 blocks_count=4, heads_count=8, dropout_rate=0.1, save_probs=False, use_shared_emb=False,\n",
        "                 pretrained_embeddings=None):\n",
        "        super(EncoderDecoder, self).__init__()\n",
        "\n",
        "        self._out_layer = nn.Linear(d_model, target_vocab_size)\n",
        "        self.d_model = d_model\n",
        "\n",
        "        if pretrained_embeddings is not None:\n",
        "            # Общий эмбеддинг-слой (для энкодера)\n",
        "            self.embedding_layer = nn.Embedding(source_vocab_size, 300)\n",
        "            self.embedding_layer.weight.data.copy_(pretrained_embeddings)\n",
        "            self.embedding_layer.weight.requires_grad = True\n",
        "\n",
        "            self.embedding_proj = nn.Linear(300, d_model)\n",
        "            self._pos_enc = PositionalEncoding(d_model, dropout_rate)\n",
        "            self.enc_emb = nn.Sequential(self.embedding_layer, self.embedding_proj, self._pos_enc)\n",
        "\n",
        "            if use_shared_emb:\n",
        "                self.dec_emb = self.enc_emb\n",
        "                self._out_layer.weight = self.dec_emb[0].weight  # весовая привязка\n",
        "            else:\n",
        "                self.embedding_layer2 = nn.Embedding(target_vocab_size, 300)\n",
        "                self.embedding_layer2.weight.data.copy_(pretrained_embeddings)\n",
        "                self.embedding_layer2.weight.requires_grad = True\n",
        "\n",
        "                self.embedding_proj2 = nn.Linear(300, d_model)\n",
        "                self._pos_enc2 = PositionalEncoding(d_model, dropout_rate)\n",
        "                self.dec_emb = nn.Sequential(self.embedding_layer2, self.embedding_proj2, self._pos_enc2)\n",
        "\n",
        "        else:\n",
        "            if use_shared_emb:\n",
        "                self.enc_emb = nn.Sequential(\n",
        "                    nn.Embedding(source_vocab_size, d_model),\n",
        "                    PositionalEncoding(d_model, dropout_rate)\n",
        "                )\n",
        "                self.dec_emb = self.enc_emb\n",
        "                self._out_layer.weight = self.dec_emb[0].weight  # весовая привязка\n",
        "            else:\n",
        "                self.enc_emb = nn.Sequential(\n",
        "                    nn.Embedding(source_vocab_size, d_model),\n",
        "                    PositionalEncoding(d_model, dropout_rate)\n",
        "                )\n",
        "                self.dec_emb = nn.Sequential(\n",
        "                    nn.Embedding(target_vocab_size, d_model),\n",
        "                    PositionalEncoding(d_model, dropout_rate)\n",
        "                )\n",
        "\n",
        "        self.encoder = Encoder(source_vocab_size, d_model, d_ff, blocks_count, heads_count, dropout_rate, self.enc_emb, save_probs)\n",
        "        self.decoder = Decoder(target_vocab_size, d_model, d_ff, blocks_count, heads_count, dropout_rate, self.dec_emb, self._out_layer, save_probs)\n",
        "\n",
        "        for p in self.parameters():\n",
        "            if p.dim() > 1:\n",
        "                nn.init.xavier_uniform_(p)\n",
        "\n",
        "    def forward(self, source_inputs, target_inputs, source_mask, target_mask):\n",
        "        encoder_output = self.encoder(source_inputs, source_mask)\n",
        "        return self.decoder(target_inputs, encoder_output, source_mask, target_mask)"
      ]
    },
    {
      "cell_type": "code",
      "execution_count": null,
      "metadata": {
        "id": "BmucSaUOjlmh"
      },
      "outputs": [],
      "source": [
        "def make_mask(source_inputs, target_inputs, pad_idx):\n",
        "    source_mask = (source_inputs != pad_idx).unsqueeze(-2)\n",
        "    target_mask = (target_inputs != pad_idx).unsqueeze(-2)\n",
        "    target_mask = target_mask & subsequent_mask(target_inputs.size(-1)).type_as(target_mask)\n",
        "    return source_mask, target_mask\n",
        "\n",
        "\n",
        "def convert_batch(batch, pad_idx=1):\n",
        "    source_inputs, _ = batch.source\n",
        "    target_inputs, _ = batch.target\n",
        "\n",
        "    source_inputs = source_inputs.transpose(0, 1)\n",
        "    target_inputs = target_inputs.transpose(0, 1)\n",
        "\n",
        "    source_mask, target_mask = make_mask(source_inputs, target_inputs, pad_idx)\n",
        "    return source_inputs, target_inputs, source_mask, target_mask"
      ]
    },
    {
      "cell_type": "code",
      "execution_count": null,
      "metadata": {
        "id": "tEgt5TKu9xqS"
      },
      "outputs": [],
      "source": [
        "import dill\n",
        "from torchtext.data import Example, Dataset, BucketIterator\n",
        "\n",
        "word_field = torch.load(save_path + \"word_field_nlp_pupupu.pt\", pickle_module=dill)\n",
        "vocab = torch.load(save_path + \"vocab_nlp_pupupu.pt\", pickle_module=dill)\n",
        "word_field.vocab = vocab\n",
        "\n",
        "fields = [(\"source\", word_field), (\"target\", word_field)]\n",
        "\n",
        "with open(save_path + \"dataset_examples_пупу.pkl\", \"rb\") as f:\n",
        "    examples = dill.load(f)\n",
        "\n",
        "dataset = Dataset(examples, fields)\n",
        "train_dataset, test_dataset = dataset.split(split_ratio=0.85)\n",
        "\n",
        "train_iter, test_iter = BucketIterator.splits(\n",
        "    (train_dataset, test_dataset),\n",
        "    batch_sizes=(32, 64),\n",
        "    sort_key=lambda x: len(x.source),\n",
        "    sort=False,\n",
        "    device=DEVICE\n",
        ")"
      ]
    },
    {
      "cell_type": "code",
      "execution_count": null,
      "metadata": {
        "id": "9iWSl6m6jfbl"
      },
      "outputs": [],
      "source": [
        "batch = next(iter(train_iter))"
      ]
    },
    {
      "cell_type": "code",
      "execution_count": null,
      "metadata": {
        "id": "5_qVuSL8QJg4"
      },
      "outputs": [],
      "source": [
        "model = EncoderDecoder(\n",
        "    source_vocab_size=len(word_field.vocab),\n",
        "    target_vocab_size=len(word_field.vocab),\n",
        "    d_model=512,\n",
        "    heads_count=8,\n",
        "    pretrained_embeddings=pretrained_embeddings,\n",
        "    use_shared_emb = None\n",
        ").to(DEVICE)\n",
        "\n",
        "out = model(*convert_batch(batch))"
      ]
    },
    {
      "cell_type": "code",
      "execution_count": null,
      "metadata": {
        "id": "XBGpOunnGEW2"
      },
      "outputs": [],
      "source": [
        "print(len(word_field.vocab))              # сейчас используемый словарь\n",
        "print(pretrained_embeddings.shape[0])     # эмбеддинги"
      ]
    },
    {
      "cell_type": "markdown",
      "metadata": {
        "id": "vX6PrVksnaq7"
      },
      "source": [
        "## Оптимизатор\n",
        "\n",
        "Тоже очень важно в данной модели - использовать правильный оптимизатор"
      ]
    },
    {
      "cell_type": "code",
      "execution_count": null,
      "metadata": {
        "id": "KMhopCgTnh-w"
      },
      "outputs": [],
      "source": [
        "class NoamOpt(object):\n",
        "    def __init__(self, model_size, factor=2, warmup=4000, optimizer=None):\n",
        "        if optimizer is not None:\n",
        "            self.optimizer = optimizer\n",
        "        else:\n",
        "            self.optimizer = optim.Adam(model.parameters(), lr=0, betas=(0.9, 0.98), eps=1e-9)\n",
        "        self._step = 0\n",
        "        self.warmup = warmup\n",
        "        self.factor = factor\n",
        "        self.model_size = model_size\n",
        "        self._rate = 0\n",
        "\n",
        "    def step(self):\n",
        "        self._step += 1\n",
        "        rate = self.rate()\n",
        "        for p in self.optimizer.param_groups:\n",
        "            p['lr'] = rate\n",
        "        self._rate = rate\n",
        "        self.optimizer.step()\n",
        "\n",
        "    def rate(self, step = None):\n",
        "        if step is None:\n",
        "            step = self._step\n",
        "        return self.factor * (self.model_size ** (-0.5) * min(step ** (-0.5), step * self.warmup ** (-1.5)))"
      ]
    },
    {
      "cell_type": "markdown",
      "metadata": {
        "id": "OuYc21J5oIdb"
      },
      "source": [
        "Идея в том, чтобы повышать learning rate в течении первых warmup шагов линейно, а затем понижать его по сложной формуле:\n",
        "\n",
        "$$\n",
        "lrate = d_{\\text{model}}^{-0.5} \\cdot\n",
        "  \\min({step\\_num}^{-0.5},\n",
        "    {step\\_num} \\cdot {warmup\\_steps}^{-1.5})\n",
        "$$"
      ]
    },
    {
      "cell_type": "code",
      "execution_count": null,
      "metadata": {
        "id": "kMBL261hoA58"
      },
      "outputs": [],
      "source": [
        "opts = [NoamOpt(512, 1, 4000, None),\n",
        "        NoamOpt(512, 1, 8000, None),\n",
        "        NoamOpt(256, 1, 4000, None)]\n",
        "plt.plot(np.arange(1, 20000), [[opt.rate(i) for opt in opts] for i in range(1, 20000)])\n",
        "plt.legend([\"512:4000\", \"512:8000\", \"256:4000\"])"
      ]
    },
    {
      "cell_type": "markdown",
      "metadata": {
        "id": "W71i85Q4pdOS"
      },
      "source": [
        "## Тренировка модели"
      ]
    },
    {
      "cell_type": "code",
      "execution_count": null,
      "metadata": {
        "id": "q5SzxSQPyajw"
      },
      "outputs": [],
      "source": [
        "class LabelSmoothingLoss(nn.Module):\n",
        "    def __init__(self, smoothing=0.1, vocab_size=None, ignore_index=-100):\n",
        "        super(LabelSmoothingLoss, self).__init__()\n",
        "        assert 0.0 <= smoothing < 1.0\n",
        "        self.smoothing = smoothing\n",
        "        self.vocab_size = vocab_size\n",
        "        self.ignore_index = ignore_index\n",
        "\n",
        "    def forward(self, pred, target):\n",
        "        # pred: (batch_size * seq_len, vocab_size)\n",
        "        # target: (batch_size * seq_len)\n",
        "\n",
        "        pred = pred.log_softmax(dim=-1)\n",
        "\n",
        "        with torch.no_grad():\n",
        "            true_dist = torch.zeros_like(pred)\n",
        "            true_dist.fill_(self.smoothing / (self.vocab_size - 2))\n",
        "            mask = (target != self.ignore_index).unsqueeze(1)\n",
        "            true_dist.scatter_(1, target.data.unsqueeze(1), 1.0 - self.smoothing)\n",
        "            true_dist = true_dist * mask\n",
        "\n",
        "        return torch.mean(torch.sum(-true_dist * pred, dim=-1))"
      ]
    },
    {
      "cell_type": "code",
      "execution_count": null,
      "metadata": {
        "id": "Q32ZfDfRYL_S"
      },
      "outputs": [],
      "source": [
        "pip install rouge-score"
      ]
    },
    {
      "cell_type": "code",
      "execution_count": null,
      "metadata": {
        "id": "r2jezUMK3-yj"
      },
      "outputs": [],
      "source": [
        "from pathlib import Path"
      ]
    },
    {
      "cell_type": "code",
      "execution_count": null,
      "metadata": {
        "id": "kVeqgbS1wsYN"
      },
      "outputs": [],
      "source": [
        "def save_metrics(save_path, epoch, metrics):\n",
        "    metrics['epoch'] = epoch\n",
        "    df = pd.DataFrame([metrics])\n",
        "\n",
        "    if not save_path.exists():\n",
        "        df.to_csv(save_path, index=False)\n",
        "    else:\n",
        "        df.to_csv(save_path, mode='a', header=False, index=False)"
      ]
    },
    {
      "cell_type": "code",
      "execution_count": null,
      "metadata": {
        "id": "_E2JxfRuphch"
      },
      "outputs": [],
      "source": [
        "tqdm.get_lock().locks = []\n",
        "from rouge_score import rouge_scorer\n",
        "\n",
        "def do_epoch(model, criterion, data_iter, optimizer=None, name=None, teacher_forcing_ratio=0.5):\n",
        "    epoch_loss = 0\n",
        "    total_rouge1 = 0\n",
        "    total_rouge2 = 0\n",
        "    total_rougeL = 0\n",
        "\n",
        "    is_train = optimizer is not None\n",
        "    name = name or ''\n",
        "    model.train(is_train)\n",
        "\n",
        "    batches_count = len(data_iter)\n",
        "\n",
        "    scorer = rouge_scorer.RougeScorer(['rouge1', 'rouge2', 'rougeL'], use_stemmer=True)\n",
        "\n",
        "    with torch.autograd.set_grad_enabled(is_train):\n",
        "        with tqdm(total=batches_count) as progress_bar:\n",
        "            for i, batch in enumerate(data_iter):\n",
        "                source_inputs, target_inputs, source_mask, target_mask = convert_batch(batch)\n",
        "                encoder_output = model.encoder(source_inputs, source_mask)\n",
        "\n",
        "                batch_size, target_len = target_inputs.size()\n",
        "\n",
        "                output_teacher = target_inputs[:, 0].unsqueeze(1)  # Для обучения (с Teacher Forcing)\n",
        "                output_autoregressive = target_inputs[:, 0].unsqueeze(1)  # Для ROUGE (без Teacher Forcing)\n",
        "\n",
        "                for t in range(1, target_len):\n",
        "                    # Общая часть: вычисление logits для обоих режимов\n",
        "                    logits_teacher = model.decoder(output_teacher, encoder_output, source_mask, target_mask[:, :t, :t])\n",
        "                    logits_autoregressive = model.decoder(output_autoregressive, encoder_output, source_mask, target_mask[:, :t, :t])\n",
        "\n",
        "                    next_token_logits = logits_teacher[:, -1, :]\n",
        "                    next_token = next_token_logits.argmax(dim=-1)\n",
        "\n",
        "                    # Teacher Forcing для обучения\n",
        "                    teacher_force = random.random() < teacher_forcing_ratio\n",
        "                    next_input_teacher = target_inputs[:, t] if teacher_force else next_token\n",
        "                    next_input_teacher = next_input_teacher.unsqueeze(1)\n",
        "                    output_teacher = torch.cat((output_teacher, next_input_teacher), dim=1)\n",
        "\n",
        "                    # Авторегрессия для ROUGE\n",
        "                    next_input_autoregressive = next_token\n",
        "                    output_autoregressive = torch.cat((output_autoregressive, next_input_autoregressive.unsqueeze(1)), dim=1)\n",
        "\n",
        "                # Вычисление потерь на предсказаниях с Teacher Forcing\n",
        "                logits = model.decoder(output_teacher[:, :-1], encoder_output, source_mask, target_mask[:, :-1, :-1])\n",
        "                logits = logits.contiguous().view(-1, logits.shape[-1])\n",
        "                target = target_inputs[:, 1:].contiguous().view(-1)\n",
        "                loss = criterion(logits, target)\n",
        "                epoch_loss += loss.item()\n",
        "\n",
        "\n",
        "                # Вычисление ROUGE на авторегрессионных предсказаниях\n",
        "                pred_sentences = decode_tokens(output_autoregressive, vocab)\n",
        "                target_sentences = decode_tokens(target_inputs[:, 1:], vocab)  # Игнорируем начальный токен\n",
        "\n",
        "\n",
        "                # Считаем метрики Rouge\n",
        "                batch_rouge1 = 0\n",
        "                batch_rouge2 = 0\n",
        "                batch_rougeL = 0\n",
        "                for pred, ref in zip(pred_sentences, target_sentences):\n",
        "                    scores = scorer.score(ref, pred)\n",
        "                    batch_rouge1 += scores['rouge1'].fmeasure\n",
        "                    batch_rouge2 += scores['rouge2'].fmeasure\n",
        "                    batch_rougeL += scores['rougeL'].fmeasure\n",
        "\n",
        "                total_rouge1 += batch_rouge1 / batch_size\n",
        "                total_rouge2 += batch_rouge2 / batch_size\n",
        "                total_rougeL += batch_rougeL / batch_size\n",
        "\n",
        "\n",
        "                if optimizer:\n",
        "                    optimizer.optimizer.zero_grad()\n",
        "                    loss.backward()\n",
        "                    optimizer.step()\n",
        "\n",
        "                progress_bar.update()\n",
        "                progress_bar.set_description(\n",
        "                    '{:>5s} Loss = {:.5f}, PPX = {:.2f}, R1 = {:.3f}, R2 = {:.3f}, RL = {:.3f}'.format(\n",
        "                        name, loss.item(), math.exp(loss.item()),\n",
        "                        batch_rouge1 / batch_size, batch_rouge2 / batch_size, batch_rougeL / batch_size\n",
        "                    )\n",
        "                )\n",
        "\n",
        "\n",
        "            avg_loss = epoch_loss / batches_count\n",
        "            avg_rouge1 = total_rouge1 / batches_count\n",
        "            avg_rouge2 = total_rouge2 / batches_count\n",
        "            avg_rougeL = total_rougeL / batches_count\n",
        "\n",
        "            progress_bar.set_description(\n",
        "                '{:>5s} Loss = {:.5f}, PPX = {:.2f}, R1 = {:.3f}, R2 = {:.3f}, RL = {:.3f}'.format(\n",
        "                    name, avg_loss, math.exp(avg_loss), avg_rouge1, avg_rouge2, avg_rougeL\n",
        "                )\n",
        "            )\n",
        "            progress_bar.refresh()\n",
        "\n",
        "    return {\n",
        "        'loss': avg_loss,\n",
        "        'ppx': math.exp(avg_loss),\n",
        "        'rouge1': avg_rouge1,\n",
        "        'rouge2': avg_rouge2,\n",
        "        'rougeL': avg_rougeL\n",
        "    }\n",
        "\n",
        "def fit(model, criterion, optimizer, train_iter, epochs_count=1, val_iter=None,\n",
        "        save_path1=None, patience=7, start_epoch=0, best_val_loss=float('inf'),\n",
        "        train_metrics_file = Path('train_metrics.csv'), val_metrics_file = Path('val_metrics.csv')):\n",
        "\n",
        "    epochs_no_improve = 0\n",
        "    best_model_state = None\n",
        "\n",
        "    initial_teacher_forcing = 0.7\n",
        "    min_teacher_forcing = 0.1\n",
        "    decay_rate = 0.03\n",
        "\n",
        "    for epoch in range(start_epoch, start_epoch + epochs_count):\n",
        "        name_prefix = f\"[{epoch + 1} / {start_epoch + epochs_count}] \"\n",
        "        teacher_forcing_ratio = max(min_teacher_forcing, initial_teacher_forcing - decay_rate * epoch)\n",
        "\n",
        "        train_metrics = do_epoch(model, criterion, train_iter, optimizer, name_prefix + \"Train:\", teacher_forcing_ratio)\n",
        "        train_loss = train_metrics['loss']\n",
        "        save_metrics(train_metrics_file,epoch,train_metrics)\n",
        "        if val_iter is not None:\n",
        "            val_metrics = do_epoch(model, criterion, val_iter, None, name_prefix + \"Val:\", teacher_forcing_ratio=0.0)\n",
        "            val_loss = val_metrics['loss']\n",
        "            save_metrics(val_metrics_file,epoch,val_metrics)\n",
        "\n",
        "\n",
        "\n",
        "            if val_loss < best_val_loss - 1e-4:  # небольшая дельта, чтобы избежать флуктуаций\n",
        "                best_val_loss = val_loss\n",
        "                best_model_state = model.state_dict()\n",
        "                epochs_no_improve = 0\n",
        "                print(f\"New best model found! val_loss={val_loss:.4f}\")\n",
        "                if save_path1:\n",
        "                    torch.save({\n",
        "                        'model_state_dict': best_model_state,\n",
        "                        'optimizer_state_dict': optimizer.optimizer.state_dict(),\n",
        "                        'noam_step': optimizer._step,\n",
        "                        'best_val_loss': best_val_loss,\n",
        "                        'epoch': epoch\n",
        "                    }, save_path1)\n",
        "            else:\n",
        "                epochs_no_improve += 1\n",
        "                print(f\"No improvement. Patience: {epochs_no_improve}/{patience}\")\n",
        "                if epochs_no_improve >= patience:\n",
        "                    print(\"Early stopping triggered!\")\n",
        "                    if save_path and best_model_state is not None:\n",
        "                        model.load_state_dict(best_model_state)\n",
        "                    break\n",
        "\n",
        "        print(f\"Epoch {epoch + 1}: Teacher Forcing Ratio = {teacher_forcing_ratio:.2f}\")\n",
        "\n",
        "\n",
        "\n",
        "\n",
        "\n",
        "def decode_tokens(tensor, vocab, skip_tokens=('<pad>', '<sos>', '<eos>')):\n",
        "    \"\"\"\n",
        "    Декодирует тензор с индексами токенов в строки, пропуская служебные токены.\n",
        "\n",
        "    Args:\n",
        "        tensor (torch.Tensor): Тензор формы [batch_size, seq_len].\n",
        "        vocab (torchtext.vocab.Vocab): Словарь для преобразования индексов в слова.\n",
        "        skip_tokens (tuple): Токены, которые нужно пропустить (например, паддинг).\n",
        "\n",
        "    Returns:\n",
        "        list[str]: Декодированные предложения.\n",
        "    \"\"\"\n",
        "    sentences = []\n",
        "    skip_ids = [vocab.stoi[token] for token in skip_tokens if token in vocab.stoi]\n",
        "\n",
        "    for seq in tensor:\n",
        "        tokens = [\n",
        "            vocab.itos[token.item()]\n",
        "            for token in seq\n",
        "            if token.item() not in skip_ids\n",
        "        ]\n",
        "        sentences.append(\" \".join(tokens))\n",
        "\n",
        "    return sentences"
      ]
    },
    {
      "cell_type": "markdown",
      "metadata": {
        "id": "WtL3fbn5L17c"
      },
      "source": [
        "дообучаем нашу модель на общих+предобученных эмббеингах 30эпох"
      ]
    },
    {
      "cell_type": "code",
      "execution_count": null,
      "metadata": {
        "colab": {
          "base_uri": "https://localhost:8080/"
        },
        "id": "5X2kYDU_rCjP",
        "outputId": "c32bae2e-6448-4567-aff4-52f659b403f4"
      },
      "outputs": [
        {
          "output_type": "execute_result",
          "data": {
            "text/plain": [
              "<All keys matched successfully>"
            ]
          },
          "metadata": {},
          "execution_count": 60
        }
      ],
      "source": [
        "model = EncoderDecoder(\n",
        "    source_vocab_size=len(word_field.vocab),\n",
        "    target_vocab_size=len(word_field.vocab),\n",
        "    d_model=512,\n",
        "    heads_count=8,\n",
        "    pretrained_embeddings=pretrained_embeddings,\n",
        "    use_shared_emb=False\n",
        ").to(DEVICE)\n",
        "\n",
        "model.load_state_dict(torch.load(save_path + \"NLP_goyda.pt\"))  # <-- старая модель"
      ]
    },
    {
      "cell_type": "code",
      "execution_count": null,
      "metadata": {
        "id": "8nDVA94DKeG1"
      },
      "outputs": [],
      "source": [
        "old_train_path = Path(save_path + \"train_metrics.csv\")\n",
        "old_val_path = Path(save_path + \"val_metrics.csv\")\n",
        "\n",
        "train_metrics_old = pd.read_csv(old_train_path)\n",
        "val_metrics_old = pd.read_csv(old_val_path)"
      ]
    },
    {
      "cell_type": "code",
      "execution_count": null,
      "metadata": {
        "id": "mMXW0Xp6LxiS"
      },
      "outputs": [],
      "source": [
        "finetuned_train_path = Path(save_path + \"train_metrics_finetuned.csv\")\n",
        "finetuned_val_path = Path(save_path + \"val_metrics_finetuned.csv\")"
      ]
    },
    {
      "cell_type": "code",
      "execution_count": null,
      "metadata": {
        "colab": {
          "base_uri": "https://localhost:8080/"
        },
        "id": "lfJW9BlkLzgS",
        "outputId": "63a93d26-cb12-42f8-9e40-eed0cdbd01a6"
      },
      "outputs": [
        {
          "data": {
            "text/plain": [
              "30"
            ]
          },
          "execution_count": 82,
          "metadata": {},
          "output_type": "execute_result"
        }
      ],
      "source": [
        "start_epoch = train_metrics_old[\"epoch\"].max() + 1\n",
        "start_epoch"
      ]
    },
    {
      "cell_type": "code",
      "execution_count": null,
      "metadata": {
        "id": "cAbjV54cICKi"
      },
      "outputs": [],
      "source": [
        "optimizer = NoamOpt(model.d_model, factor=2.0, warmup=4000, optimizer=torch.optim.Adam(\n",
        "    model.parameters(), lr=0, betas=(0.9, 0.98), eps=1e-9))"
      ]
    },
    {
      "cell_type": "markdown",
      "source": [
        "#тут у нас не сработало автосохранение коллаба и он сохранил только старую версию в открытой вкладке.... у нас было обучение на 30 эпох + 2 дообучения по 10 с побышенным фактором в NoamOPt. К счастью модели и логи мы сохранили."
      ],
      "metadata": {
        "id": "71pU2wo2ncIi"
      }
    },
    {
      "cell_type": "code",
      "execution_count": null,
      "metadata": {
        "colab": {
          "base_uri": "https://localhost:8080/",
          "height": 151,
          "referenced_widgets": [
            "c3d3e09c1ddf42b4b2da21ac938fd81a",
            "31ba259d750b429d9a4069fae98b933c",
            "842bc486356b487f91ef9e6d9b418f79",
            "d920cca67d274a41b950c4cce8ecbd8a",
            "0abf6f75fdf84ac8bf2b326701e4ee83",
            "1a04a52b79194dc78da0351afbb308fd",
            "6cdaef02343b49e2a4942226dc6c2f69",
            "4dd5e2ca6f1c416aaefe251c061e6da3",
            "c68322afd86942b1b158ded1e2438977",
            "76ed7804fac64c199e8c32d870b928c9",
            "e3145893ad8f48eeb45741823ada1ade",
            "dc5b53c5276e40c0af08dcb2eb9a5af1",
            "953f6e686e4846c8bc3fa8511ab7178a",
            "365c340292d2495ba5f6f8840af1a400",
            "5ca38e9598a3409fb39416a66333c439",
            "4ef6720ce5774e0dbb9f581deb8c7cfd",
            "25f6720345944daf9abd392035422198",
            "0cf116f9f22445cea64393cb58c42f75",
            "924621a422554118894ea65ac3f7c08e",
            "271c60847a924497a691dbd07698163f",
            "65af7a0f91994de2b9763c76597a23f9",
            "6acee469d9d94d5b83b4defedbf8a8dd",
            "3c6a6ea1411b42e2a9dc540cfd5f0896",
            "454f2daa5fd54b19ad01cb62d750d354",
            "56f5d249595c414d80707796b1890f32",
            "c97532d083044182b8c04777f7ce42d6",
            "0e68d49f6db04054b6165040a7f4f740",
            "03dee7058e1a4b6e84e43217a05e45f8",
            "41c2096c64974a27b215f0ae68b85245",
            "33437bd2a1044be289d068faa00bde23",
            "7e7c5354faf0454ba9fd6b0d15bacec8",
            "4c05c034f2ed470f95e0c1d3b2ea5780",
            "9b72debe2bd64509a3c8b1f6d5813677"
          ]
        },
        "id": "rNxgQnqcKXp4",
        "outputId": "1fedff55-435f-40b6-b9ce-631dc9e8bbff"
      },
      "outputs": [
        {
          "data": {
            "application/vnd.jupyter.widget-view+json": {
              "model_id": "c3d3e09c1ddf42b4b2da21ac938fd81a",
              "version_major": 2,
              "version_minor": 0
            },
            "text/plain": [
              "  0%|          | 0/1973 [00:00<?, ?it/s]"
            ]
          },
          "metadata": {},
          "output_type": "display_data"
        },
        {
          "data": {
            "application/vnd.jupyter.widget-view+json": {
              "model_id": "dc5b53c5276e40c0af08dcb2eb9a5af1",
              "version_major": 2,
              "version_minor": 0
            },
            "text/plain": [
              "  0%|          | 0/175 [00:00<?, ?it/s]"
            ]
          },
          "metadata": {},
          "output_type": "display_data"
        },
        {
          "name": "stdout",
          "output_type": "stream",
          "text": [
            "New best model found! val_loss=3.6001\n",
            "Epoch 31: Teacher Forcing Ratio = 0.10\n"
          ]
        },
        {
          "data": {
            "application/vnd.jupyter.widget-view+json": {
              "model_id": "3c6a6ea1411b42e2a9dc540cfd5f0896",
              "version_major": 2,
              "version_minor": 0
            },
            "text/plain": [
              "  0%|          | 0/1973 [00:00<?, ?it/s]"
            ]
          },
          "metadata": {},
          "output_type": "display_data"
        }
      ],
      "source": [
        " fit(\n",
        "    model, criterion, optimizer,\n",
        "    train_iter,\n",
        "    epochs_count=10,\n",
        "    val_iter=test_iter,\n",
        "    save_path1=save_path + \"NLP_goyda_finetuned1.pt\",\n",
        "    patience=7,\n",
        "    train_metrics_file=finetuned_train_path,\n",
        "    val_metrics_file=finetuned_val_path,\n",
        "    start_epoch=start_epoch\n",
        ")\n",
        "torch.save(model.state_dict(), save_path + \"NLP_goyda_finetuned1.pt\")"
      ]
    },
    {
      "cell_type": "markdown",
      "source": [
        "## Первые 30 эпох с фактором 1"
      ],
      "metadata": {
        "id": "kglX5f1wn7Dc"
      }
    },
    {
      "cell_type": "code",
      "execution_count": null,
      "metadata": {
        "colab": {
          "base_uri": "https://localhost:8080/",
          "height": 696
        },
        "id": "c0xWzx8b_d04",
        "outputId": "d8f84d93-6086-4102-e2e0-8e2cfeb5cad5"
      },
      "outputs": [
        {
          "name": "stdout",
          "output_type": "stream",
          "text": [
            "       loss        ppx    rouge1    rouge2    rougeL  epoch\n",
            "0  4.407014  82.024161  0.276159  0.164263  0.269733      0\n",
            "1  4.039030  56.771220  0.260653  0.156408  0.251553      0\n",
            "2  3.734557  41.869492  0.257634  0.166097  0.257038      1\n",
            "3  3.727992  41.595501  0.258182  0.166640  0.257580      2\n",
            "4  3.704721  40.638707  0.262504  0.164127  0.261688      3\n",
            "Index(['loss', 'ppx', 'rouge1', 'rouge2', 'rougeL', 'epoch'], dtype='object')\n"
          ]
        },
        {
          "data": {
            "image/png": "[encoded data removed]",
            "text/plain": [
              "<Figure size 1000x600 with 1 Axes>"
            ]
          },
          "metadata": {},
          "output_type": "display_data"
        }
      ],
      "source": [
        "import pandas as pd\n",
        "import matplotlib.pyplot as plt\n",
        "\n",
        "train_df = pd.read_csv(save_path + 'train_metrics.csv', sep=',')\n",
        "val_df = pd.read_csv(save_path + 'val_metrics.csv', sep=',')\n",
        "\n",
        "print(train_df.head())\n",
        "print(train_df.columns)\n",
        "\n",
        "plt.figure(figsize=(10,6))\n",
        "plt.plot(train_df['epoch'], train_df['loss'], label='Train Loss', marker='o')\n",
        "plt.plot(val_df['epoch'], val_df['loss'], label='Validation Loss', marker='x')\n",
        "\n",
        "plt.xlabel('Epoch')\n",
        "plt.ylabel('Loss')\n",
        "plt.title('Train and Validation Loss by Epoch')\n",
        "plt.legend()\n",
        "plt.grid(True)\n",
        "plt.show()"
      ]
    },
    {
      "cell_type": "markdown",
      "source": [
        "## дообучение еще на 10 с фактором 2"
      ],
      "metadata": {
        "id": "35rdM_KNoDw6"
      }
    },
    {
      "cell_type": "code",
      "source": [
        "import pandas as pd\n",
        "import matplotlib.pyplot as plt\n",
        "\n",
        "train_df = pd.read_csv(save_path + 'train_metrics_finetuned.csv', sep=',')\n",
        "val_df = pd.read_csv(save_path + 'val_metrics_finetuned.csv', sep=',')\n",
        "\n",
        "print(train_df.head())\n",
        "print(train_df.columns)\n",
        "\n",
        "plt.figure(figsize=(10,6))\n",
        "plt.plot(train_df['epoch'], train_df['loss'], label='Train Loss', marker='o')\n",
        "plt.plot(val_df['epoch'], val_df['loss'], label='Validation Loss', marker='x')\n",
        "\n",
        "plt.xlabel('Epoch')\n",
        "plt.ylabel('Loss')\n",
        "plt.title('Train and Validation Loss by Epoch')\n",
        "plt.legend()\n",
        "plt.grid(True)\n",
        "plt.show()"
      ],
      "metadata": {
        "colab": {
          "base_uri": "https://localhost:8080/",
          "height": 696
        },
        "id": "Pg1CdTFUoAQK",
        "outputId": "3b5fb845-5216-402c-f44c-84aaa03010d0"
      },
      "execution_count": null,
      "outputs": [
        {
          "output_type": "stream",
          "name": "stdout",
          "text": [
            "       loss        ppx    rouge1    rouge2    rougeL  epoch\n",
            "0  3.625410  37.540098  0.262836  0.172363  0.262515     30\n",
            "1  3.688312  39.977311  0.261167  0.170221  0.260649     31\n",
            "2  3.709873  40.848622  0.262480  0.168035  0.262003     32\n",
            "3  3.693887  40.200787  0.263374  0.170222  0.263012     33\n",
            "4  3.675418  39.465133  0.261227  0.168675  0.260819     34\n",
            "Index(['loss', 'ppx', 'rouge1', 'rouge2', 'rougeL', 'epoch'], dtype='object')\n"
          ]
        },
        {
          "output_type": "display_data",
          "data": {
            "text/plain": [
              "<Figure size 1000x600 with 1 Axes>"
            ],
            "image/png": "[encoded data removed]"
          },
          "metadata": {}
        }
      ]
    },
    {
      "cell_type": "markdown",
      "source": [
        "## дообучение еще на 10 с фактором 3"
      ],
      "metadata": {
        "id": "Gbdcupkeoa-E"
      }
    },
    {
      "cell_type": "code",
      "source": [
        "import pandas as pd\n",
        "import matplotlib.pyplot as plt\n",
        "\n",
        "train_df = pd.read_csv(save_path + 'train_metrics_finetuned2.csv', sep=',')\n",
        "val_df = pd.read_csv(save_path + 'val_metrics_finetuned2.csv', sep=',')\n",
        "\n",
        "print(train_df.head())\n",
        "print(train_df.columns)\n",
        "\n",
        "plt.figure(figsize=(10,6))\n",
        "plt.plot(train_df['epoch'], train_df['loss'], label='Train Loss', marker='o')\n",
        "plt.plot(val_df['epoch'], val_df['loss'], label='Validation Loss', marker='x')\n",
        "\n",
        "plt.xlabel('Epoch')\n",
        "plt.ylabel('Loss')\n",
        "plt.title('Train and Validation Loss by Epoch')\n",
        "plt.legend()\n",
        "plt.grid(True)\n",
        "plt.show()"
      ],
      "metadata": {
        "colab": {
          "base_uri": "https://localhost:8080/",
          "height": 696
        },
        "id": "lVtkA398oaRd",
        "outputId": "f497cac8-06cd-40bb-fe56-0ab7108989b4"
      },
      "execution_count": null,
      "outputs": [
        {
          "output_type": "stream",
          "name": "stdout",
          "text": [
            "       loss        ppx    rouge1    rouge2    rougeL  epoch\n",
            "0  3.601567  36.655641  0.265028  0.171264  0.264749     40\n",
            "1  4.056295  57.759916  0.259581  0.154550  0.249769     40\n",
            "2  3.800681  44.731624  0.260525  0.164675  0.259625     41\n",
            "3  3.808526  45.083926  0.258667  0.168522  0.258189     42\n",
            "4  3.768118  43.298517  0.258178  0.168412  0.257864     43\n",
            "Index(['loss', 'ppx', 'rouge1', 'rouge2', 'rougeL', 'epoch'], dtype='object')\n"
          ]
        },
        {
          "output_type": "display_data",
          "data": {
            "text/plain": [
              "<Figure size 1000x600 with 1 Axes>"
            ],
            "image/png": "[encoded data removed]"
          },
          "metadata": {}
        }
      ]
    },
    {
      "cell_type": "markdown",
      "source": [
        "## Берем модель с 1ым дообучением"
      ],
      "metadata": {
        "id": "u1v-TBMtorEd"
      }
    },
    {
      "cell_type": "markdown",
      "source": [
        "## Общий график"
      ],
      "metadata": {
        "id": "W6_VnF1To1fU"
      }
    },
    {
      "cell_type": "code",
      "source": [
        "save_path = \"/content/drive/MyDrive/Colab Notebooks/коалиция_ниггавуманов/\""
      ],
      "metadata": {
        "id": "HJaApruLrOJE"
      },
      "execution_count": null,
      "outputs": []
    },
    {
      "cell_type": "code",
      "source": [
        "\n",
        "train_df = pd.read_csv(save_path + 'train_metrics.csv')\n",
        "val_df = pd.read_csv(save_path + 'val_metrics.csv')\n",
        "\n",
        "train_finetune_df = pd.read_csv(save_path + 'train_metrics_finetuned.csv')\n",
        "val_finetune_df = pd.read_csv(save_path + 'val_metrics_finetuned.csv')\n",
        "\n",
        "\n",
        "train_combined = pd.concat([train_df, train_finetune_df], ignore_index=True)\n",
        "val_combined = pd.concat([val_df, val_finetune_df], ignore_index=True)\n",
        "\n",
        "\n",
        "train_combined = train_combined.sort_values(by='epoch').reset_index(drop=True)\n",
        "val_combined = val_combined.sort_values(by='epoch').reset_index(drop=True)\n",
        "\n",
        "\n",
        "train_combined.to_csv(save_path + 'train_metrics_combined.csv', index=False)\n",
        "val_combined.to_csv(save_path + 'val_metrics_combined.csv', index=False)\n",
        "\n",
        "\n",
        "plt.figure(figsize=(10,6))\n",
        "plt.plot(train_combined['epoch'], train_combined['loss'], label='Train Loss', marker='o')\n",
        "plt.plot(val_combined['epoch'], val_combined['loss'], label='Validation Loss', marker='x')\n",
        "\n",
        "plt.xlabel('Epoch')\n",
        "plt.ylabel('Loss')\n",
        "plt.title('Train and Validation Loss (Combined)')\n",
        "plt.legend()\n",
        "plt.grid(True)\n",
        "plt.show()"
      ],
      "metadata": {
        "colab": {
          "base_uri": "https://localhost:8080/",
          "height": 564
        },
        "id": "Di9w13PFoASx",
        "outputId": "84ebe168-2ebc-4dc1-e184-c88afae41d85"
      },
      "execution_count": null,
      "outputs": [
        {
          "output_type": "display_data",
          "data": {
            "text/plain": [
              "<Figure size 1000x600 with 1 Axes>"
            ],
            "image/png": "[encoded data removed]"
          },
          "metadata": {}
        }
      ]
    },
    {
      "cell_type": "code",
      "execution_count": null,
      "metadata": {
        "id": "eZzZkSO-x_Rc"
      },
      "outputs": [],
      "source": [
        "import pandas as pd\n",
        "import matplotlib.pyplot as plt\n",
        "from pathlib import Path\n",
        "\n",
        "def plot_metrics(train_metrics_file,\n",
        "                 val_metrics_file,\n",
        "                 save_path='training_plots.png'):\n",
        "    train_df = pd.read_csv(train_metrics_file)\n",
        "    val_df = pd.read_csv(val_metrics_file)\n",
        "\n",
        "    metrics = [col for col in train_df.columns if col != 'epoch']\n",
        "\n",
        "    n_metrics = len(metrics)\n",
        "    n_cols = 2\n",
        "    n_rows = (n_metrics + n_cols - 1) // n_cols\n",
        "\n",
        "    fig, axes = plt.subplots(n_rows, n_cols, figsize=(15, 5*n_rows))\n",
        "    fig.suptitle('Training vs Validation Metrics', fontsize=16)\n",
        "\n",
        "    if n_metrics == 1:\n",
        "        axes = [axes]\n",
        "    else:\n",
        "        axes = axes.flatten()\n",
        "\n",
        "    for i, metric in enumerate(metrics):\n",
        "        ax = axes[i]\n",
        "\n",
        "        ax.plot(train_df['epoch'], train_df[metric], label='Train', color='blue')\n",
        "        ax.plot(val_df['epoch'], val_df[metric], label='Validation', color='orange')\n",
        "\n",
        "        ax.set_title(metric)\n",
        "        ax.set_xlabel('Epoch')\n",
        "        ax.set_ylabel(metric)\n",
        "        ax.legend()\n",
        "        ax.grid(True)\n",
        "\n",
        "    if n_metrics % n_cols != 0:\n",
        "        for j in range(i+1, n_rows*n_cols):\n",
        "            fig.delaxes(axes[j])\n",
        "\n",
        "    plt.tight_layout()\n",
        "    plt.savefig(save_path)\n",
        "    plt.show()\n"
      ]
    },
    {
      "cell_type": "code",
      "execution_count": null,
      "metadata": {
        "id": "pjTRDWnw0bX4"
      },
      "outputs": [],
      "source": [
        "train_metrics_file = Path('train_metrics.csv')\n",
        "val_metrics_file = Path('val_metrics.csv')\n",
        "plot_metrics(train_metrics_file, val_metrics_file)"
      ]
    },
    {
      "cell_type": "code",
      "execution_count": null,
      "metadata": {
        "id": "q8la2uMAr-qN"
      },
      "outputs": [],
      "source": [
        "import dill\n",
        "\n",
        "word_field = torch.load(save_path + \"word_field_nlp_pupupu.pt\", pickle_module=dill)\n",
        "print(\" word_field загружен\")\n",
        "\n",
        "\n",
        "vocab = torch.load(save_path + \"vocab_nlp_pupupu.pt\", pickle_module=dill)\n",
        "word_field.vocab = vocab\n",
        "print(\"vocab подставлен в word_field\")"
      ]
    },
    {
      "cell_type": "code",
      "source": [
        "pad_idx = word_field.vocab.stoi[\"<pad>\"]\n",
        "\n",
        "criterion = LabelSmoothingLoss(\n",
        "    smoothing=0.05,\n",
        "    vocab_size=len(word_field.vocab),\n",
        "    ignore_index=pad_idx\n",
        ").to(DEVICE)\n",
        "\n",
        "optimizer = NoamOpt(model.d_model)"
      ],
      "metadata": {
        "id": "vmfCXqkLsdzV"
      },
      "execution_count": null,
      "outputs": []
    },
    {
      "cell_type": "code",
      "execution_count": null,
      "metadata": {
        "id": "H2YhHsOueFmO"
      },
      "outputs": [],
      "source": [
        "checkpoint = torch.load(save_path+\"nlp_checkpoint1_pupu.pt\", map_location=DEVICE)\n",
        "model.load_state_dict(checkpoint['model_state_dict'])\n",
        "optimizer.optimizer.load_state_dict(checkpoint['optimizer_state_dict'])\n",
        "optimizer._step = checkpoint['noam_step']\n",
        "start_epoch = checkpoint['epoch'] + 1\n",
        "best_val_loss = checkpoint['best_val_loss']\n",
        "\n",
        "fit(\n",
        "    model,\n",
        "    criterion,\n",
        "    optimizer,\n",
        "    train_iter,\n",
        "    epochs_count=10,\n",
        "    val_iter=test_iter,\n",
        "    save_path1=save_path+\"nlp_checkpoint1_pupu_дообучка.pt\",\n",
        "    patience=5,\n",
        "    start_epoch=start_epoch,\n",
        "    best_val_loss=best_val_loss\n",
        ")"
      ]
    },
    {
      "cell_type": "markdown",
      "metadata": {
        "id": "bDsmlfV8oeTy"
      },
      "source": [
        "## Генерация саммари"
      ]
    },
    {
      "cell_type": "code",
      "execution_count": null,
      "metadata": {
        "colab": {
          "base_uri": "https://localhost:8080/"
        },
        "id": "MM3QAHhvS--7",
        "outputId": "fdc3e0ec-a3a5-412a-abf2-123b340ab438"
      },
      "outputs": [
        {
          "name": "stdout",
          "output_type": "stream",
          "text": [
            "Mounted at /content/drive\n",
            "Google Drive смонтирован успешно.\n"
          ]
        }
      ],
      "source": [
        "from google.colab import drive\n",
        "import os\n",
        "\n",
        "try:\n",
        "    drive.mount('/content/drive', force_remount=True)\n",
        "    print(\"Google Drive смонтирован успешно.\")\n",
        "except Exception as e:\n",
        "    print(f\"Ошибка при монтировании Google Drive: {e}\")"
      ]
    },
    {
      "cell_type": "code",
      "execution_count": null,
      "metadata": {
        "colab": {
          "base_uri": "https://localhost:8080/"
        },
        "id": "BxLgyflwThVX",
        "outputId": "285211cb-d454-431c-9f12-6f7f900416b1"
      },
      "outputs": [
        {
          "output_type": "stream",
          "name": "stdout",
          "text": [
            "vocab загружен и назначен\n",
            "word_field загружен целиком\n"
          ]
        }
      ],
      "source": [
        "vocab = torch.load(save_path + \"vocab_nlp_pupupu.pt\", pickle_module=dill)\n",
        "\n",
        "word_field.vocab = vocab\n",
        "print(\"vocab загружен и назначен\")\n",
        "\n",
        "word_field = torch.load(save_path + \"word_field_nlp_pupupu.pt\", pickle_module=dill)\n",
        "print(\"word_field загружен целиком\")"
      ]
    },
    {
      "cell_type": "code",
      "execution_count": null,
      "metadata": {
        "id": "O6rFFr95CTtM"
      },
      "outputs": [],
      "source": [
        "model = EncoderDecoder(\n",
        "    source_vocab_size=len(word_field.vocab),\n",
        "    target_vocab_size=len(word_field.vocab),\n",
        "    d_model=512,\n",
        "    heads_count=8,\n",
        "    pretrained_embeddings=pretrained_embeddings,\n",
        "    use_shared_emb=False\n",
        ").to(DEVICE)"
      ]
    },
    {
      "cell_type": "code",
      "source": [],
      "metadata": {
        "id": "I8aNoODM3khc"
      },
      "execution_count": null,
      "outputs": []
    },
    {
      "cell_type": "code",
      "execution_count": null,
      "metadata": {
        "id": "aufuJb2M2E5f",
        "colab": {
          "base_uri": "https://localhost:8080/"
        },
        "outputId": "f7307227-e68a-44a5-ef00-00afdfed8cd8"
      },
      "outputs": [
        {
          "output_type": "execute_result",
          "data": {
            "text/plain": [
              "EncoderDecoder(\n",
              "  (_out_layer): Linear(in_features=512, out_features=40877, bias=True)\n",
              "  (embedding_layer): Embedding(40877, 300)\n",
              "  (embedding_proj): Linear(in_features=300, out_features=512, bias=True)\n",
              "  (_pos_enc): PositionalEncoding(\n",
              "    (dropout): Dropout(p=0.1, inplace=False)\n",
              "  )\n",
              "  (enc_emb): Sequential(\n",
              "    (0): Embedding(40877, 300)\n",
              "    (1): Linear(in_features=300, out_features=512, bias=True)\n",
              "    (2): PositionalEncoding(\n",
              "      (dropout): Dropout(p=0.1, inplace=False)\n",
              "    )\n",
              "  )\n",
              "  (embedding_layer2): Embedding(40877, 300)\n",
              "  (embedding_proj2): Linear(in_features=300, out_features=512, bias=True)\n",
              "  (_pos_enc2): PositionalEncoding(\n",
              "    (dropout): Dropout(p=0.1, inplace=False)\n",
              "  )\n",
              "  (dec_emb): Sequential(\n",
              "    (0): Embedding(40877, 300)\n",
              "    (1): Linear(in_features=300, out_features=512, bias=True)\n",
              "    (2): PositionalEncoding(\n",
              "      (dropout): Dropout(p=0.1, inplace=False)\n",
              "    )\n",
              "  )\n",
              "  (encoder): Encoder(\n",
              "    (_emb): Sequential(\n",
              "      (0): Embedding(40877, 300)\n",
              "      (1): Linear(in_features=300, out_features=512, bias=True)\n",
              "      (2): PositionalEncoding(\n",
              "        (dropout): Dropout(p=0.1, inplace=False)\n",
              "      )\n",
              "    )\n",
              "    (_blocks): ModuleList(\n",
              "      (0-3): 4 x EncoderBlock(\n",
              "        (_self_attn): MultiHeadedAttention(\n",
              "          (_attention): ScaledDotProductAttention(\n",
              "            (_dropout): Dropout(p=0.1, inplace=False)\n",
              "          )\n",
              "          (_w_q): Linear(in_features=512, out_features=512, bias=True)\n",
              "          (_w_k): Linear(in_features=512, out_features=512, bias=True)\n",
              "          (_w_v): Linear(in_features=512, out_features=512, bias=True)\n",
              "          (_w_o): Linear(in_features=512, out_features=512, bias=True)\n",
              "        )\n",
              "        (_feed_forward): PositionwiseFeedForward(\n",
              "          (w_1): Linear(in_features=512, out_features=1024, bias=True)\n",
              "          (w_2): Linear(in_features=1024, out_features=512, bias=True)\n",
              "          (dropout): Dropout(p=0.1, inplace=False)\n",
              "        )\n",
              "        (_self_attention_block): ResidualBlock(\n",
              "          (_norm): LayerNorm()\n",
              "          (_dropout): Dropout(p=0.1, inplace=False)\n",
              "        )\n",
              "        (_feed_forward_block): ResidualBlock(\n",
              "          (_norm): LayerNorm()\n",
              "          (_dropout): Dropout(p=0.1, inplace=False)\n",
              "        )\n",
              "      )\n",
              "    )\n",
              "    (_norm): LayerNorm()\n",
              "  )\n",
              "  (decoder): Decoder(\n",
              "    (_out_layer): Linear(in_features=512, out_features=40877, bias=True)\n",
              "    (_emb): Sequential(\n",
              "      (0): Embedding(40877, 300)\n",
              "      (1): Linear(in_features=300, out_features=512, bias=True)\n",
              "      (2): PositionalEncoding(\n",
              "        (dropout): Dropout(p=0.1, inplace=False)\n",
              "      )\n",
              "    )\n",
              "    (_blocks): ModuleList(\n",
              "      (0-3): 4 x DecoderLayer(\n",
              "        (_self_attn): MultiHeadedAttention(\n",
              "          (_attention): ScaledDotProductAttention(\n",
              "            (_dropout): Dropout(p=0.1, inplace=False)\n",
              "          )\n",
              "          (_w_q): Linear(in_features=512, out_features=512, bias=True)\n",
              "          (_w_k): Linear(in_features=512, out_features=512, bias=True)\n",
              "          (_w_v): Linear(in_features=512, out_features=512, bias=True)\n",
              "          (_w_o): Linear(in_features=512, out_features=512, bias=True)\n",
              "        )\n",
              "        (_encoder_attn): MultiHeadedAttention(\n",
              "          (_attention): ScaledDotProductAttention(\n",
              "            (_dropout): Dropout(p=0.1, inplace=False)\n",
              "          )\n",
              "          (_w_q): Linear(in_features=512, out_features=512, bias=True)\n",
              "          (_w_k): Linear(in_features=512, out_features=512, bias=True)\n",
              "          (_w_v): Linear(in_features=512, out_features=512, bias=True)\n",
              "          (_w_o): Linear(in_features=512, out_features=512, bias=True)\n",
              "        )\n",
              "        (_feed_forward): PositionwiseFeedForward(\n",
              "          (w_1): Linear(in_features=512, out_features=1024, bias=True)\n",
              "          (w_2): Linear(in_features=1024, out_features=512, bias=True)\n",
              "          (dropout): Dropout(p=0.1, inplace=False)\n",
              "        )\n",
              "        (_self_attention_block): ResidualBlock(\n",
              "          (_norm): LayerNorm()\n",
              "          (_dropout): Dropout(p=0.1, inplace=False)\n",
              "        )\n",
              "        (_attention_block): ResidualBlock(\n",
              "          (_norm): LayerNorm()\n",
              "          (_dropout): Dropout(p=0.1, inplace=False)\n",
              "        )\n",
              "        (_feed_forward_block): ResidualBlock(\n",
              "          (_norm): LayerNorm()\n",
              "          (_dropout): Dropout(p=0.1, inplace=False)\n",
              "        )\n",
              "      )\n",
              "    )\n",
              "    (_norm): LayerNorm()\n",
              "  )\n",
              ")"
            ]
          },
          "metadata": {},
          "execution_count": 203
        }
      ],
      "source": [
        "model.load_state_dict(torch.load(save_path + \"NLP_goyda_finetuned1.pt\", map_location=DEVICE))\n",
        "model.eval()"
      ]
    },
    {
      "cell_type": "markdown",
      "metadata": {
        "id": "GU5bfYP2MV0T"
      },
      "source": [
        "Генератор суммаризации для модели (выполнил линуксоид)"
      ]
    },
    {
      "cell_type": "code",
      "execution_count": null,
      "metadata": {
        "colab": {
          "base_uri": "https://localhost:8080/"
        },
        "id": "y1RyjyHrtRQl",
        "outputId": "43a54daa-2508-45c9-9a31-b6f0694ac8f9"
      },
      "outputs": [
        {
          "output_type": "stream",
          "name": "stdout",
          "text": [
            "Максимальная длина заголовка: 31\n",
            "Средняя длина заголовка: 8.586416624429802\n"
          ]
        }
      ],
      "source": [
        "lengths = [len(example.target) for example in train_dataset.examples]\n",
        "\n",
        "print(\"Максимальная длина заголовка:\", max(lengths))\n",
        "print(\"Средняя длина заголовка:\", sum(lengths) / len(lengths))"
      ]
    },
    {
      "cell_type": "code",
      "execution_count": null,
      "metadata": {
        "colab": {
          "base_uri": "https://localhost:8080/",
          "height": 807
        },
        "id": "OLZnt2e_z-Db",
        "outputId": "1031a504-d1f3-49f6-ba8a-22e29440d933"
      },
      "outputs": [
        {
          "output_type": "display_data",
          "data": {
            "text/plain": [
              "<Figure size 1200x800 with 1 Axes>"
            ],
            "image/png": "[encoded data removed]"
          },
          "metadata": {}
        }
      ],
      "source": [
        "plt.figure(figsize=(12, 8))\n",
        "bins = np.arange(min(lengths) - 0.5, max(lengths) + 1.5, 1)\n",
        "counts, bins_out, patches = plt.hist(lengths, bins=bins, color='skyblue', edgecolor='black', alpha=0.7)\n",
        "plt.xticks(np.arange(min(lengths), max(lengths) + 1, 1))\n",
        "plt.xlabel(\"Длина заголовка (в токенах)\")\n",
        "plt.ylabel(\"Количество примеров\")\n",
        "plt.title(\"Распределение длины target (summary)\")\n",
        "[plt.text(p.get_x() + p.get_width()/2, c + max(counts)*0.01, int(c), ha='center', va='bottom')\n",
        " for c, p in zip(counts, patches) if c > 0]\n",
        "plt.grid(True)\n",
        "plt.tight_layout()\n",
        "plt.show()"
      ]
    },
    {
      "cell_type": "markdown",
      "metadata": {
        "id": "YYPuPebb7DBe"
      },
      "source": [
        "Возьмем max_len = 25"
      ]
    },
    {
      "cell_type": "code",
      "execution_count": null,
      "metadata": {
        "id": "rZPDrRtjRqfe"
      },
      "outputs": [],
      "source": [
        "import re\n",
        "import heapq\n",
        "import torch\n",
        "import torch.nn.functional as F\n",
        "\n",
        "def clean_text(tokens):\n",
        "    return \" \".join(tok for tok in tokens if tok not in {\"<s>\", \"</s>\", \"<pad>\", \"<unk>\"})\n",
        "\n",
        "def clean_input_text(text):\n",
        "    return re.sub(r\"<\\s*<*\\s*[^<>]*?\\s*>*\\s*>\", \"\", text)\n",
        "\n",
        "def generate_summary_beam(\n",
        "    model, src_sentence, src_field, tgt_field, device,\n",
        "    max_len=20, beam_width=5, length_penalty=0.6, no_repeat_ngram_size=2\n",
        "):\n",
        "    model.eval()\n",
        "    cleaned_sentence = clean_input_text(src_sentence)\n",
        "\n",
        "    tokens = [src_field.init_token] + src_field.tokenize(cleaned_sentence) + [src_field.eos_token]\n",
        "    token_ids = [src_field.vocab.stoi.get(t, src_field.vocab.stoi[src_field.unk_token]) for t in tokens]\n",
        "    src_tensor = torch.LongTensor(token_ids).unsqueeze(0).to(device)\n",
        "    src_mask = (src_tensor != src_field.vocab.stoi[src_field.pad_token]).unsqueeze(1).unsqueeze(2)\n",
        "\n",
        "    with torch.no_grad():\n",
        "        memory = model.encoder(src_tensor, src_mask)\n",
        "\n",
        "    beams = [(0.0, [tgt_field.vocab.stoi[tgt_field.init_token]])]\n",
        "\n",
        "    for _ in range(max_len):\n",
        "        candidates = []\n",
        "        for score, seq in beams:\n",
        "            trg_tensor = torch.LongTensor(seq).unsqueeze(0).to(device)\n",
        "            trg_mask = (trg_tensor != tgt_field.vocab.stoi[tgt_field.pad_token]).unsqueeze(1).unsqueeze(2)\n",
        "            trg_mask = trg_mask & subsequent_mask(trg_tensor.size(1)).to(device)\n",
        "\n",
        "            with torch.no_grad():\n",
        "                logits = model.decoder(trg_tensor, memory, src_mask, trg_mask)\n",
        "                log_probs = F.log_softmax(logits[:, -1], dim=-1)\n",
        "\n",
        "            if no_repeat_ngram_size > 0 and len(seq) >= no_repeat_ngram_size:\n",
        "                ngram = tuple(seq[-(no_repeat_ngram_size - 1):])\n",
        "                for i in range(len(seq) - no_repeat_ngram_size + 1):\n",
        "                    if tuple(seq[i:i + no_repeat_ngram_size - 1]) == ngram:\n",
        "                        banned_token = seq[i + no_repeat_ngram_size - 1]\n",
        "                        log_probs[0, banned_token] = -1e9\n",
        "\n",
        "            if len(seq) < 5:\n",
        "                log_probs[0, tgt_field.vocab.stoi[tgt_field.eos_token]] -= 1.0\n",
        "\n",
        "            topk_probs, topk_ids = log_probs.topk(beam_width)\n",
        "\n",
        "            for prob, idx in zip(topk_probs[0], topk_ids[0]):\n",
        "                new_seq = seq + [idx.item()]\n",
        "                new_score = score + prob.item()\n",
        "                candidates.append((new_score, new_seq))\n",
        "\n",
        "        beams = heapq.nlargest(beam_width, candidates, key=lambda x: x[0] / (len(x[1]) ** length_penalty))\n",
        "        if all(seq[-1] == tgt_field.vocab.stoi[tgt_field.eos_token] for _, seq in beams):\n",
        "            break\n",
        "\n",
        "    final_seq = max(beams, key=lambda x: x[0])[1]\n",
        "    final_tokens = [tgt_field.vocab.itos[i] for i in final_seq]\n",
        "\n",
        "    return clean_text(final_tokens[1:-1])"
      ]
    },
    {
      "cell_type": "code",
      "execution_count": null,
      "metadata": {
        "id": "zKKNnpRtMUS0"
      },
      "outputs": [],
      "source": [
        "example = test_dataset.examples[53]\n",
        "input_text = \" \".join(example.source)\n",
        "reference_summary = \" \".join(example.target)\n",
        "\n",
        "generated_summary = generate_summary_beam(\n",
        "    model=model,\n",
        "    src_sentence=input_text,\n",
        "    src_field=word_field,\n",
        "    tgt_field=word_field,\n",
        "    device=DEVICE,\n",
        "    max_len=100,            # или больше\n",
        "    beam_width=5,\n",
        "    length_penalty=0.6,\n",
        "    no_repeat_ngram_size=2\n",
        ")\n"
      ]
    },
    {
      "cell_type": "code",
      "execution_count": null,
      "metadata": {
        "id": "zQCLgGKK7jFs",
        "colab": {
          "base_uri": "https://localhost:8080/"
        },
        "outputId": "aac29100-9d61-41c2-e3d3-23aeea69720a"
      },
      "outputs": [
        {
          "output_type": "stream",
          "name": "stdout",
          "text": [
            "Исходный текст:\n",
            " два военнослужащих объединенной группировки войск в чечне погибли и пять получили ранения в результате подрыва бронемашины федеральных сил в курчалоевском районе республики как сообщили риа новости в штабе огв это произошло в среду < < < eng > > > января вечером на окраине райцентра курчалой бтр федералов съехал на проселочную дорогу машина подорвалась на фугасе нажимного действия установленном на дороге боевиками раненые военнослужащие федеральных сил госпитализированы\n",
            "\n",
            " Сгенерированное summary:\n",
            " с за в российского еще по на и сша от с с года из из россии московского в против в выборах изнасилование по прошел из детскую на на нефтяное человек тур\n",
            "\n",
            " Эталонное summary (реальное):\n",
            " на проселке бтр наехал на фугас два человека погибли пять ранены\n"
          ]
        }
      ],
      "source": [
        "print(\"Исходный текст:\\n\", input_text)\n",
        "print(\"\\n Сгенерированное summary:\\n\", generated_summary)\n",
        "print(\"\\n Эталонное summary (реальное):\\n\", reference_summary)"
      ]
    },
    {
      "cell_type": "code",
      "source": [
        "print([word_field.vocab.itos[i] for i in range(30)])"
      ],
      "metadata": {
        "colab": {
          "base_uri": "https://localhost:8080/"
        },
        "id": "YEwbPdqa-lOT",
        "outputId": "2323b5e8-1cf6-4b5d-ac70-f4b5d9de14b3"
      },
      "execution_count": null,
      "outputs": [
        {
          "output_type": "stream",
          "name": "stdout",
          "text": [
            "['<unk>', '<pad>', '<s>', '</s>', 'сообщает', 'в', 'года', 'человек', 'также', 'россии', 'время', 'на', 'новости', 'риа', 'результате', 'около', 'и', 'данным', 'словам', 'ссылкой', 'году', 'интерфакс', 'сша', 'передает', 'это', 'агентство', 'пока', 'который', 'по', 'пресс']\n"
          ]
        }
      ]
    },
    {
      "cell_type": "code",
      "execution_count": null,
      "metadata": {
        "id": "HPtNlqDmHjpL",
        "colab": {
          "base_uri": "https://localhost:8080/"
        },
        "outputId": "27d7e0d8-0d3a-41de-f07f-85382b54061c"
      },
      "outputs": [
        {
          "output_type": "stream",
          "name": "stdout",
          "text": [
            "Кастомный исходный текст:\n",
            " преступники будут наказаны за свои злодеяния хохохо\n",
            "\n",
            "Сгенерированное summary:\n",
            " в свою из преступники президента\n"
          ]
        }
      ],
      "source": [
        "custom_text = \"преступники будут наказаны за свои злодеяния хохохо\"\n",
        "generated_summary = generate_summary_beam(model, custom_text, word_field, word_field, DEVICE, max_len=25)\n",
        "\n",
        "print(\"Кастомный исходный текст:\\n\", custom_text)\n",
        "print(\"\\nСгенерированное summary:\\n\", generated_summary)"
      ]
    },
    {
      "cell_type": "code",
      "execution_count": null,
      "metadata": {
        "id": "bN_-TlgV3yex",
        "colab": {
          "base_uri": "https://localhost:8080/"
        },
        "outputId": "ae0fe070-c72a-4da8-9918-2158f568a86d"
      },
      "outputs": [
        {
          "output_type": "stream",
          "name": "stdout",
          "text": [
            "True\n",
            "True\n",
            "True\n"
          ]
        }
      ],
      "source": [
        "print(\"беженцы\" in word_field.vocab.stoi)\n",
        "print(\"украина\" in word_field.vocab.stoi)\n",
        "print(\"мчс\" in word_field.vocab.stoi)"
      ]
    },
    {
      "cell_type": "markdown",
      "metadata": {
        "id": "jp8eyiPU78Yp"
      },
      "source": [
        "## 5 примеров из тестовой выборки"
      ]
    },
    {
      "cell_type": "code",
      "execution_count": null,
      "metadata": {
        "id": "NVIV1ywH_Ghv"
      },
      "outputs": [],
      "source": [
        "import re\n",
        "import random\n",
        "\n",
        "def clean_input_text(text):\n",
        "    text = re.sub(r\"<+\\s*eng\\s*>+\", \"\", text)\n",
        "    text = re.sub(r\"[<>.:]+\", \"\", text)\n",
        "    text = re.sub(r\"\\s+\", \" \", text)\n",
        "    return text.strip()"
      ]
    },
    {
      "cell_type": "code",
      "source": [
        "import random\n",
        "random.seed(675)\n",
        "\n",
        "random_indices = random.sample(range(len(test_dataset.examples)), 5)\n",
        "\n",
        "for i, idx in enumerate(random_indices):\n",
        "    example = test_dataset.examples[idx]\n",
        "\n",
        "    raw_text = \" \".join(example.source)\n",
        "    input_text = clean_input_text(raw_text)\n",
        "    reference = \" \".join(example.target)\n",
        "\n",
        "    summary = generate_summary_beam(\n",
        "        model=model,\n",
        "        src_sentence=input_text,\n",
        "        src_field=word_field,\n",
        "        tgt_field=word_field,\n",
        "        device=DEVICE,\n",
        "        max_len=40,\n",
        "        beam_width=5,\n",
        "        length_penalty=0.6,\n",
        "        no_repeat_ngram_size=2\n",
        "    )\n",
        "\n",
        "    print(f\"\\n=== [{i}] === [index {idx}]\")\n",
        "    print(\"\\nИсходный текст:\")\n",
        "    print(input_text)\n",
        "    print(\"\\nСгенерированное summary:\")\n",
        "    print(summary)\n",
        "    print(\"\\nЭталонное summary:\")\n",
        "    print(reference)"
      ],
      "metadata": {
        "colab": {
          "base_uri": "https://localhost:8080/"
        },
        "id": "GIeJkYdWQa6g",
        "outputId": "d11454d9-6786-4da2-c965-efed4f2786c1"
      },
      "execution_count": null,
      "outputs": [
        {
          "output_type": "stream",
          "name": "stdout",
          "text": [
            "\n",
            "=== [0] === [index 8666]\n",
            "\n",
            "Исходный текст:\n",
            "знаменитый канадский поп певец джастин бибер принял участие в матче всех звезд национальной хоккейной лиги нхл и был впечатан лицом в борт об этом в понедельник января сообщает видео с эпизодом было опубликовано на -канале подножку -летнему артисту подставил бывший канадский хоккеист один из лучших защитников в истории нхл рэй бурк а толкнул певца в борт другой известный канадский защитник крис пронгер в году вошедший в зал славы нхл -й матч всех звезд нхл прошел в ночь января в лос анджелесе победу в нем одержала сборная столичного дивизиона за которую выступали россияне александр овечкин и сергей бобровский\n",
            "\n",
            "Сгенерированное summary:\n",
            "с за в российского актер по на по предъявлено аль из сша тренера к россии и против сторону\n",
            "\n",
            "Эталонное summary:\n",
            "джастина бибера впечатали лицом в борт в матче всех звезд нхл\n",
            "\n",
            "=== [1] === [index 6311]\n",
            "\n",
            "Исходный текст:\n",
            "в понедельник января в международном аэропорту шереметьево- при попытке контрабандного вывоза иностранной валюты был задержан генеральный директор столичного отеля метрополь юрий матков сообщает коммерсант сотрудники линейного управления внутренних дел лувд в аэропорту шереметьево- подтвердили что -летнего директора остановили сотрудники службы безопасности авиаперевозок при досмотре пассажиров рейса москва франкфурт в ходе технического досмотра во внутреннем кармане куртки гендиректора метрополя было обнаружено и изъято долларов между тем в таможенной декларации юрий матков указал всего долларов гендиректора сняли с рейса а контрабандная валюта была изъята сотрудниками правоохранительных органов по факту контрабанды возбуждено уголовное дело\n",
            "\n",
            "Сгенерированное summary:\n",
            "с за себя против и в из в россии предъявлено рублей по в на от убийстве от на газа перед\n",
            "\n",
            "Эталонное summary:\n",
            "директор метрополя попался на контрабанде валюты\n",
            "\n",
            "=== [2] === [index 10004]\n",
            "\n",
            "Исходный текст:\n",
            "в дагестане потерялись два матроса контрактника передает агентство интерфакс они исчезли после марш броска близ населенного пункта аданак карабудахкентского района при себе военнослужащие имели пулемет и автомат калашникова без патронов ведется их поиск по данным телекомпании нтв матросы служат в подразделении морской пехоты в воинской части номер министерства обороны рф которая на постоянной основе дислоцируется в городе каспийске\n",
            "\n",
            "Сгенерированное summary:\n",
            "с за в российского сезона против на по трейлер от заложников из и в о изнасилование обстреляли\n",
            "\n",
            "Эталонное summary:\n",
            "в дагестане потерялись два матроса контрактника с оружием\n",
            "\n",
            "=== [3] === [index 3933]\n",
            "\n",
            "Исходный текст:\n",
            "риа новости министр сделал такое заявление во время посещения череповецкого военного инженерного института радиоэлектроники в ходе посещения военного вуза министр встретился с его руководством познакомился с организацией и ходом учебного процесса учебной материально технической базой\n",
            "\n",
            "Сгенерированное summary:\n",
            "в к солдаты на с с по в из в умер день от года россии за по за в за с\n",
            "\n",
            "Эталонное summary:\n",
            "сергей иванов солдаты не смогут спасти россию\n",
            "\n",
            "=== [4] === [index 2170]\n",
            "\n",
            "Исходный текст:\n",
            "девушка судья обслуживавшая матч юношеского женского футбольного чемпионата штата айова оригинальным образом уклонилась от летевшего в ее направлении мяча видео появилось в -аккаунте мяч полетел в направлении рефери она пытаясь избежать контакта села на шпагат в результате мяч прошел над ней и встреча продолжилась\n",
            "\n",
            "Сгенерированное summary:\n",
            "вышла старой и в на оставили шарапова баскетбольный в с за на не за баскетбольный выборах о с из\n",
            "\n",
            "Эталонное summary:\n",
            "пытавшаяся уклониться от мяча девушка судья села на шпагат во время матча\n"
          ]
        }
      ]
    },
    {
      "cell_type": "markdown",
      "metadata": {
        "id": "3jL4X3cD8DaN"
      },
      "source": [
        "## 5 примеров кастомных"
      ]
    },
    {
      "cell_type": "code",
      "source": [
        "custom_texts = [\n",
        "    \"\"\"В Санкт-Петербурге прошёл ежегодный фестиваль уличного искусства, на котором выступили более 50 художников из разных городов России. Мероприятие собрало тысячи зрителей и вызвало большой интерес в социальных сетях. Организаторы планируют расширить программу в следующем году и пригласить зарубежных участников.\"\"\",\n",
        "\n",
        "    \"\"\"В Новосибирске открыли новый научно-технический парк, который призван поддерживать стартапы и инновационные проекты. В церемонии открытия приняли участие представители правительства региона и ведущие учёные. Парк оснащён современным оборудованием и предоставляет резидентам льготные условия аренды и консультации экспертов.\"\"\",\n",
        "\n",
        "    \"\"\"Минздрав России сообщил о запуске новой программы профилактики заболеваний сердечно-сосудистой системы. Программа включает бесплатные обследования для лиц старше 40 лет и образовательные кампании в регионах. Ожидается, что инициатива поможет снизить уровень смертности от инфарктов и инсультов.\"\"\",\n",
        "\n",
        "    \"\"\"В Москве состоялась конференция по развитию искусственного интеллекта, на которой ведущие специалисты обсудили перспективы применения технологий в промышленности и медицине. Участники отметили важность междисциплинарного сотрудничества и необходимость создания нормативной базы для безопасного использования ИИ.\"\"\",\n",
        "\n",
        "    \"\"\"В Краснодарском крае завершился чемпионат по пляжному волейболу, который собрал спортсменов из 15 регионов страны. Победу одержала команда из Сочи, которая в финале обыграла соперников со счётом 2:1. Организаторы отметили высокий уровень соревнований и выразили намерение сделать турнир ежегодным.\"\"\"\n",
        "]"
      ],
      "metadata": {
        "id": "vP5HOkn2S4B_"
      },
      "execution_count": null,
      "outputs": []
    },
    {
      "cell_type": "code",
      "source": [
        "for i, text in enumerate(custom_texts):\n",
        "    summary = generate_summary_beam(\n",
        "        model=model,\n",
        "        src_sentence=text,\n",
        "        src_field=word_field,\n",
        "        tgt_field=word_field,\n",
        "        device=DEVICE,\n",
        "        max_len=40,\n",
        "        beam_width=3,\n",
        "        length_penalty=0.2,\n",
        "        no_repeat_ngram_size=2\n",
        "    )\n",
        "\n",
        "    print(f\"=== [{i}] ===\")\n",
        "    print(\"Text:\", text)\n",
        "    print(\"Generated summary:\", summary)\n",
        "    print()"
      ],
      "metadata": {
        "colab": {
          "base_uri": "https://localhost:8080/"
        },
        "id": "8JbbOY0nS4FD",
        "outputId": "d5fe729a-0d13-40ac-b6cc-3462094c24d4"
      },
      "execution_count": null,
      "outputs": [
        {
          "output_type": "stream",
          "name": "stdout",
          "text": [
            "=== [0] ===\n",
            "Text: В Санкт-Петербурге прошёл ежегодный фестиваль уличного искусства, на котором выступили более 50 художников из разных городов России. Мероприятие собрало тысячи зрителей и вызвало большой интерес в социальных сетях. Организаторы планируют расширить программу в следующем году и пригласить зарубежных участников.\n",
            "Generated summary: с премии за искусства в человека по к на в россии\n",
            "\n",
            "=== [1] ===\n",
            "Text: В Новосибирске открыли новый научно-технический парк, который призван поддерживать стартапы и инновационные проекты. В церемонии открытия приняли участие представители правительства региона и ведущие учёные. Парк оснащён современным оборудованием и предоставляет резидентам льготные условия аренды и консультации экспертов.\n",
            "Generated summary: стартапы по доллара парк на македонии от с в россии за\n",
            "\n",
            "=== [2] ===\n",
            "Text: Минздрав России сообщил о запуске новой программы профилактики заболеваний сердечно-сосудистой системы. Программа включает бесплатные обследования для лиц старше 40 лет и образовательные кампании в регионах. Ожидается, что инициатива поможет снизить уровень смертности от инфарктов и инсультов.\n",
            "Generated summary: по переболеть в программа доллары в из по убийстве на к\n",
            "\n",
            "=== [3] ===\n",
            "Text: В Москве состоялась конференция по развитию искусственного интеллекта, на которой ведущие специалисты обсудили перспективы применения технологий в промышленности и медицине. Участники отметили важность междисциплинарного сотрудничества и необходимость создания нормативной базы для безопасного использования ИИ.\n",
            "Generated summary: аль день выборы от в премии по россия с и искусственного\n",
            "\n",
            "=== [4] ===\n",
            "Text: В Краснодарском крае завершился чемпионат по пляжному волейболу, который собрал спортсменов из 15 регионов страны. Победу одержала команда из Сочи, которая в финале обыграла соперников со счётом 2:1. Организаторы отметили высокий уровень соревнований и выразили намерение сделать турнир ежегодным.\n",
            "Generated summary: баскетбольный время волейбол в от за тренера к по на\n",
            "\n"
          ]
        }
      ]
    },
    {
      "cell_type": "markdown",
      "metadata": {
        "id": "7DT5YLpMjeUH"
      },
      "source": [
        "# Визуализация attention"
      ]
    },
    {
      "cell_type": "code",
      "execution_count": null,
      "metadata": {
        "id": "WuNRDLWGjctp"
      },
      "outputs": [],
      "source": [
        "class AttentionData():\n",
        "    def __init__(self, model, word_field, inp_text, out_text):\n",
        "        self.enc_self_attn = model.encoder.attn_probs\n",
        "        self.dec_self_attn = model.decoder.self_attn_probs\n",
        "        self.dec_enc_attn = model.decoder.enc_attn_probs\n",
        "        self.tokens_inp = [word_field.init_token] + word_field.tokenize(inp_text.lower()) + [word_field.eos_token]\n",
        "        self.tokens_out = [word_field.init_token] + word_field.tokenize(out_text.lower()) + [word_field.eos_token]\n",
        "    def visualize(self, layer, head, mode = 0):\n",
        "        #mode = 0 -> enc_self_attn\n",
        "        #mode = 1 -> dec_self_attn\n",
        "        #mode = 2 -> dec_enc_attn\n",
        "        if mode == 0:\n",
        "            arr = self.enc_self_attn\n",
        "            x_tokens = self.tokens_inp\n",
        "            y_tokens = self.tokens_inp\n",
        "            title = \"enc_self_attn\"\n",
        "        if mode == 1:\n",
        "            arr = self.dec_self_attn\n",
        "            x_tokens = self.tokens_out\n",
        "            y_tokens = self.tokens_out\n",
        "            title = \"dec_self_attn\"\n",
        "        if mode == 2:\n",
        "            arr = self.dec_enc_attn\n",
        "            x_tokens = self.tokens_inp\n",
        "            y_tokens = self.tokens_out\n",
        "            title = \"dec_enc_attn\"\n",
        "\n",
        "        arr = arr[layer].cpu().numpy()[0][head]\n",
        "        plt.figure(figsize=(10, 8))\n",
        "        sns.heatmap(arr, xticklabels=x_tokens, yticklabels=y_tokens, cmap='viridis')\n",
        "        plt.title(f\"Attention Weights for {title} (Layer {layer}, Head {head})\")\n",
        "        plt.xlabel(\"Input Tokens\")\n",
        "        plt.ylabel(\"Output Tokens\")\n",
        "        plt.show()"
      ]
    },
    {
      "cell_type": "code",
      "source": [],
      "metadata": {
        "id": "oFW42-NSA-iN"
      },
      "execution_count": null,
      "outputs": []
    },
    {
      "cell_type": "code",
      "source": [
        "vocab = torch.load(save_path + \"vocab_nlp_pupupu.pt\", pickle_module=dill)\n",
        "\n",
        "word_field.vocab = vocab\n",
        "print(\"vocab загружен и назначен\")\n",
        "\n",
        "word_field = torch.load(save_path + \"word_field_nlp_pupupu.pt\", pickle_module=dill)\n",
        "print(\"word_field загружен целиком\")"
      ],
      "metadata": {
        "colab": {
          "base_uri": "https://localhost:8080/"
        },
        "id": "QMUy7L0UA-ou",
        "outputId": "492cb28b-fa39-4c29-95b0-05636e823074"
      },
      "execution_count": null,
      "outputs": [
        {
          "output_type": "stream",
          "name": "stdout",
          "text": [
            "vocab загружен и назначен\n",
            "word_field загружен целиком\n"
          ]
        }
      ]
    },
    {
      "cell_type": "code",
      "source": [
        "model = EncoderDecoder(\n",
        "    source_vocab_size=len(word_field.vocab),\n",
        "    target_vocab_size=len(word_field.vocab),\n",
        "    d_model=512,\n",
        "    heads_count=8,\n",
        "    pretrained_embeddings=pretrained_embeddings,\n",
        "    use_shared_emb=False\n",
        ").to(DEVICE)"
      ],
      "metadata": {
        "colab": {
          "base_uri": "https://localhost:8080/",
          "height": 211
        },
        "id": "XgZGal5eA-w6",
        "outputId": "ee292ff6-b915-453c-a6e9-6fe185a899f1"
      },
      "execution_count": null,
      "outputs": [
        {
          "output_type": "error",
          "ename": "NameError",
          "evalue": "name 'pretrained_embeddings' is not defined",
          "traceback": [
            "\u001b[0;31m---------------------------------------------------------------------------\u001b[0m",
            "\u001b[0;31mNameError\u001b[0m                                 Traceback (most recent call last)",
            "\u001b[0;32m<ipython-input-40-a135ee8c9c1f>\u001b[0m in \u001b[0;36m<cell line: 0>\u001b[0;34m()\u001b[0m\n\u001b[1;32m      4\u001b[0m     \u001b[0md_model\u001b[0m\u001b[0;34m=\u001b[0m\u001b[0;36m512\u001b[0m\u001b[0;34m,\u001b[0m\u001b[0;34m\u001b[0m\u001b[0;34m\u001b[0m\u001b[0m\n\u001b[1;32m      5\u001b[0m     \u001b[0mheads_count\u001b[0m\u001b[0;34m=\u001b[0m\u001b[0;36m8\u001b[0m\u001b[0;34m,\u001b[0m\u001b[0;34m\u001b[0m\u001b[0;34m\u001b[0m\u001b[0m\n\u001b[0;32m----> 6\u001b[0;31m     \u001b[0mpretrained_embeddings\u001b[0m\u001b[0;34m=\u001b[0m\u001b[0mpretrained_embeddings\u001b[0m\u001b[0;34m,\u001b[0m\u001b[0;34m\u001b[0m\u001b[0;34m\u001b[0m\u001b[0m\n\u001b[0m\u001b[1;32m      7\u001b[0m     \u001b[0muse_shared_emb\u001b[0m\u001b[0;34m=\u001b[0m\u001b[0;32mFalse\u001b[0m\u001b[0;34m\u001b[0m\u001b[0;34m\u001b[0m\u001b[0m\n\u001b[1;32m      8\u001b[0m ).to(DEVICE)\n",
            "\u001b[0;31mNameError\u001b[0m: name 'pretrained_embeddings' is not defined"
          ]
        }
      ]
    },
    {
      "cell_type": "code",
      "execution_count": null,
      "metadata": {
        "id": "-1ZXqnWVjc3q"
      },
      "outputs": [],
      "source": [
        "model = EncoderDecoder(source_vocab_size=len(word_field.vocab),\n",
        "                       target_vocab_size=len(word_field.vocab),save_probs = True).to(DEVICE)\n",
        "model.load_state_dict(torch.load(save_path + \"NLP_goyda_finetuned1.pt\", map_location=torch.device('cpu')))\n",
        "model.eval()"
      ]
    },
    {
      "cell_type": "code",
      "source": [],
      "metadata": {
        "id": "lVouEyHNA0SW"
      },
      "execution_count": null,
      "outputs": []
    },
    {
      "cell_type": "code",
      "source": [],
      "metadata": {
        "id": "bndtWOgZA0XM"
      },
      "execution_count": null,
      "outputs": []
    },
    {
      "cell_type": "markdown",
      "source": [
        "# Сравнение метрик модифицированной модели и baseline"
      ],
      "metadata": {
        "id": "I0W8g5iMCpuk"
      }
    },
    {
      "cell_type": "code",
      "source": [
        "def evaluate_model(model, word_field, val_iter):\n",
        "    model.eval()\n",
        "    pad_idx = word_field.vocab.stoi[\"<pad>\"]\n",
        "\n",
        "    criterion = LabelSmoothingLoss(\n",
        "        smoothing=0.05,\n",
        "        vocab_size=len(word_field.vocab),\n",
        "        ignore_index=pad_idx\n",
        "    ).to(DEVICE)\n",
        "\n",
        "    val_metrics = do_epoch(model, criterion, val_iter, None, \"Evaluation:\", teacher_forcing_ratio=0.0)\n",
        "    return val_metrics"
      ],
      "metadata": {
        "id": "vREE-aJAA0bZ"
      },
      "execution_count": null,
      "outputs": []
    },
    {
      "cell_type": "code",
      "source": [],
      "metadata": {
        "id": "Yzyqn4H3A0eW"
      },
      "execution_count": null,
      "outputs": []
    },
    {
      "cell_type": "markdown",
      "source": [
        "## baseline:"
      ],
      "metadata": {
        "id": "zWmWaCuJDBWs"
      }
    },
    {
      "cell_type": "code",
      "source": [],
      "metadata": {
        "id": "FXkHBgV9DDvp"
      },
      "execution_count": null,
      "outputs": []
    },
    {
      "cell_type": "code",
      "source": [
        "class EncoderBase(nn.Module):\n",
        "    def __init__(self, vocab_size, d_model, d_ff, blocks_count, heads_count, dropout_rate, save_probs = False):\n",
        "        super().__init__()\n",
        "        self._emb = nn.Sequential(\n",
        "                        nn.Embedding(vocab_size, d_model),\n",
        "                        PositionalEncoding(d_model, dropout_rate)\n",
        "                    )\n",
        "        block = lambda: EncoderBlock(\n",
        "            size=d_model,\n",
        "            self_attn=MultiHeadedAttention(heads_count, d_model, dropout_rate),\n",
        "            feed_forward=PositionwiseFeedForward(d_model, d_ff, dropout_rate),\n",
        "            dropout_rate=dropout_rate\n",
        "        )\n",
        "        self._blocks = nn.ModuleList([block() for _ in range(blocks_count)])\n",
        "        self._norm = LayerNorm(d_model)\n",
        "\n",
        "        self.save_probs = save_probs\n",
        "        self.attn_probs = []\n",
        "\n",
        "    def forward(self, inputs, mask):\n",
        "        inputs = self._emb(inputs)\n",
        "        self.attn_probs = []\n",
        "        for block in self._blocks:\n",
        "            inputs = block(inputs, mask)\n",
        "            if self.save_probs:\n",
        "                self.attn_probs.append(block._self_attn._attn_probs)\n",
        "\n",
        "        return self._norm(inputs)"
      ],
      "metadata": {
        "id": "6_wpG8a4L_PO"
      },
      "execution_count": null,
      "outputs": []
    },
    {
      "cell_type": "code",
      "source": [
        "class DecoderBase(nn.Module):\n",
        "    def __init__(self, vocab_size, d_model, d_ff, blocks_count, heads_count, dropout_rate, save_probs = False):\n",
        "        super().__init__()\n",
        "        self._out_layer = nn.Linear(d_model, vocab_size)\n",
        "\n",
        "        self._emb = nn.Sequential(\n",
        "                        nn.Embedding(vocab_size, d_model),\n",
        "                        PositionalEncoding(d_model, dropout_rate)\n",
        "                    )\n",
        "\n",
        "        block = lambda: DecoderLayer(\n",
        "            size=d_model,\n",
        "            self_attn=MultiHeadedAttention(heads_count, d_model, dropout_rate),\n",
        "            encoder_attn=MultiHeadedAttention(heads_count, d_model, dropout_rate),\n",
        "            feed_forward=PositionwiseFeedForward(d_model, d_ff, dropout_rate),\n",
        "            dropout_rate=dropout_rate\n",
        "        )\n",
        "        self._blocks = nn.ModuleList([block() for _ in range(blocks_count)])\n",
        "        self._norm = LayerNorm(d_model)\n",
        "\n",
        "\n",
        "        self.save_probs = save_probs\n",
        "        self.self_attn_probs = []\n",
        "        self.enc_attn_probs = []\n",
        "\n",
        "    def forward(self, inputs, encoder_output, source_mask, target_mask):\n",
        "        inputs = self._emb(inputs)\n",
        "        self.self_attn_probs = []\n",
        "        self.enc_attn_probs = []\n",
        "        for block in self._blocks:\n",
        "            inputs = block(inputs, encoder_output, source_mask, target_mask)\n",
        "            if self.save_probs:\n",
        "                self.self_attn_probs.append(block._self_attn._attn_probs)\n",
        "                self.enc_attn_probs.append(block._encoder_attn._attn_probs)\n",
        "        return self._out_layer(self._norm(inputs))"
      ],
      "metadata": {
        "id": "Yw0wB7wIL_X-"
      },
      "execution_count": null,
      "outputs": []
    },
    {
      "cell_type": "code",
      "source": [
        "class EncoderDecoderBase(nn.Module):\n",
        "    def __init__(self, source_vocab_size, target_vocab_size, d_model=256, d_ff=1024,\n",
        "                 blocks_count=4, heads_count=8, dropout_rate=0.1, save_probs = False):\n",
        "        super(EncoderDecoderBase, self).__init__()\n",
        "\n",
        "        self.d_model = d_model\n",
        "        self.encoder = EncoderBase(source_vocab_size, d_model, d_ff, blocks_count, heads_count, dropout_rate, save_probs)\n",
        "        self.decoder = DecoderBase(target_vocab_size, d_model, d_ff, blocks_count, heads_count, dropout_rate, save_probs)\n",
        "        # self.generator = Generator(d_model, target_vocab_size)\n",
        "\n",
        "        for p in self.parameters():\n",
        "            if p.dim() > 1:\n",
        "                nn.init.xavier_uniform_(p)\n",
        "\n",
        "    def forward(self, source_inputs, target_inputs, source_mask, target_mask):\n",
        "        encoder_output = self.encoder(source_inputs, source_mask)\n",
        "        return self.decoder(target_inputs, encoder_output, source_mask, target_mask)"
      ],
      "metadata": {
        "id": "eanaNYeBL_eL"
      },
      "execution_count": null,
      "outputs": []
    },
    {
      "cell_type": "code",
      "source": [
        "nlp = spacy.load(\"ru_core_news_sm\")\n",
        "ru_stopwords = set(stopwords.words(\"russian\"))\n",
        "\n",
        "def spacy_tokenize(text):\n",
        "    return [\n",
        "        token.text.lower()\n",
        "        for token in nlp(text)\n",
        "        if not token.is_space and not token.is_punct\n",
        "    ]\n",
        "BOS_TOKEN = \"<s>\"\n",
        "EOS_TOKEN = \"</s>\"\n",
        "UNK_TOKEN = \"<unk>\"\n",
        "PAD_TOKEN = \"<pad>\"\n",
        "\n",
        "word_field = Field(\n",
        "    tokenize=spacy_tokenize,\n",
        "    init_token=BOS_TOKEN,\n",
        "    eos_token=EOS_TOKEN,\n",
        "    unk_token=UNK_TOKEN,\n",
        "    pad_token=PAD_TOKEN,\n",
        "    lower=False,\n",
        "    include_lengths=True\n",
        ")\n",
        "fields = [(\"source\", word_field), (\"target\", word_field)]"
      ],
      "metadata": {
        "id": "zPnBcxFR9Nez"
      },
      "execution_count": null,
      "outputs": []
    },
    {
      "cell_type": "code",
      "source": [
        "vocab = torch.load(save_path + \"vocab_baseline.pt\", pickle_module=dill)\n",
        "\n",
        "word_field.vocab = vocab\n",
        "print(\"vocab загружен и назначен\")\n"
      ],
      "metadata": {
        "id": "MbQ9lkjG0S8f",
        "colab": {
          "base_uri": "https://localhost:8080/"
        },
        "outputId": "def5ce12-bcd1-4ff0-b91d-02c96d5f733a"
      },
      "execution_count": null,
      "outputs": [
        {
          "output_type": "stream",
          "name": "stdout",
          "text": [
            "vocab загружен и назначен\n"
          ]
        }
      ]
    },
    {
      "cell_type": "code",
      "source": [
        "model_base = EncoderDecoderBase(\n",
        "    source_vocab_size=len(word_field.vocab),\n",
        "    target_vocab_size=len(word_field.vocab),\n",
        "    save_probs = True\n",
        ").to(DEVICE)"
      ],
      "metadata": {
        "id": "Wr2_QJp1L_pm"
      },
      "execution_count": null,
      "outputs": []
    },
    {
      "cell_type": "code",
      "source": [
        "model_base.load_state_dict(torch.load(save_path + \"base_model_30.pth\", map_location=torch.device('cpu')))\n"
      ],
      "metadata": {
        "id": "vrWETEQdwpp7",
        "colab": {
          "base_uri": "https://localhost:8080/"
        },
        "outputId": "f26c6cd5-9387-4e3c-af90-d2662bd35c8b"
      },
      "execution_count": null,
      "outputs": [
        {
          "output_type": "execute_result",
          "data": {
            "text/plain": [
              "<All keys matched successfully>"
            ]
          },
          "metadata": {},
          "execution_count": 253
        }
      ]
    },
    {
      "cell_type": "code",
      "source": [
        "baseline_eval_metrics = evaluate_model(model_base, word_field, test_iter)"
      ],
      "metadata": {
        "id": "PsaV_TBBwp3b",
        "colab": {
          "base_uri": "https://localhost:8080/",
          "height": 49,
          "referenced_widgets": [
            "f45f897464a24211b2234c2bb076e19c",
            "4f921798be9b4847a5e9f107f9dd82ad",
            "9ccdcceff3354cf7ae551046bb5e8d32",
            "702d612cbb08474997838bf63f64e21f",
            "1242b2fa1fda44bd91868de9317de33e",
            "17af3d7278204a0585636a3b796c29bb",
            "7dbcaa4c6816480899fe0ac8d3a9bd99",
            "7f782d53e0804bfdbeac298d62f9a2db",
            "048f4ce5b85847158aa74397c4508550",
            "291930ed49b44c61a76e1cbe307f2bfa",
            "fc980ba611284b2490b2d8e6d50d7216"
          ]
        },
        "outputId": "0cd0d940-4718-4495-b227-61c932945896"
      },
      "execution_count": null,
      "outputs": [
        {
          "output_type": "display_data",
          "data": {
            "text/plain": [
              "  0%|          | 0/349 [00:00<?, ?it/s]"
            ],
            "application/vnd.jupyter.widget-view+json": {
              "version_major": 2,
              "version_minor": 0,
              "model_id": "f45f897464a24211b2234c2bb076e19c"
            }
          },
          "metadata": {}
        }
      ]
    },
    {
      "cell_type": "code",
      "source": [
        "baseline_eval_metrics"
      ],
      "metadata": {
        "colab": {
          "base_uri": "https://localhost:8080/"
        },
        "id": "Gw9-YbzQ0OhP",
        "outputId": "37100c9c-4a78-487d-bfcd-2f20ea303fa8"
      },
      "execution_count": null,
      "outputs": [
        {
          "output_type": "execute_result",
          "data": {
            "text/plain": [
              "{'loss': 8.805031790091178,\n",
              " 'ppx': 6667.710256493519,\n",
              " 'rouge1': 0.20832108199300564,\n",
              " 'rouge2': 0.036636778289112694,\n",
              " 'rougeL': 0.20830118387138832}"
            ]
          },
          "metadata": {},
          "execution_count": 255
        }
      ]
    },
    {
      "cell_type": "code",
      "source": [
        "save_metrics(Path(save_path+'baseline_eval_metrics'), 'eval', baseline_eval_metrics)"
      ],
      "metadata": {
        "id": "SfE9cCGrBSwb"
      },
      "execution_count": null,
      "outputs": []
    },
    {
      "cell_type": "markdown",
      "source": [
        "# Модифицированная модель"
      ],
      "metadata": {
        "id": "4GglPM6FwqoX"
      }
    },
    {
      "cell_type": "code",
      "source": [
        "word_field_new = torch.load(save_path + \"word_field_nlp_pupupu.pt\", pickle_module=dill)\n",
        "print(\"word_field загружен целиком\")\n",
        "vocab_new = torch.load(save_path + \"vocab_nlp_pupupu.pt\", pickle_module=dill)\n",
        "\n",
        "word_field_new.vocab = vocab_new\n",
        "print(\"vocab загружен и назначен\")\n",
        "\n"
      ],
      "metadata": {
        "id": "EvPsWgD3wqDr",
        "colab": {
          "base_uri": "https://localhost:8080/"
        },
        "outputId": "8fa3a0ed-795a-455f-a81f-19e5024ba0a8"
      },
      "execution_count": null,
      "outputs": [
        {
          "output_type": "stream",
          "name": "stdout",
          "text": [
            "word_field загружен целиком\n",
            "vocab загружен и назначен\n"
          ]
        }
      ]
    },
    {
      "cell_type": "code",
      "source": [
        "fasttext_path = save_path + \"cc.ru.300.vec\"\n",
        "vectors = {}\n",
        "with open(fasttext_path, 'r', encoding='utf-8') as f:\n",
        "    next(f)\n",
        "    for line in f:\n",
        "        tokens = line.rstrip().split(' ')\n",
        "        word = tokens[0]\n",
        "        vector = np.array(tokens[1:], dtype=np.float32)\n",
        "\n",
        "        norm = np.linalg.norm(vector)\n",
        "        if norm > 0:\n",
        "            vector /= norm\n",
        "\n",
        "        vectors[word] = vector\n",
        "\n",
        "embedding_dim = 300\n",
        "embedding_matrix = np.random.normal(scale=0.01, size=(len(word_field_new.vocab), embedding_dim))\n",
        "\n",
        "for i in range(len(embedding_matrix)):\n",
        "    if word_field.vocab.itos[i] not in vectors:\n",
        "        norm = np.linalg.norm(embedding_matrix[i])\n",
        "        if norm > 0:\n",
        "            embedding_matrix[i] /= norm\n",
        "for i, token in enumerate(word_field_new.vocab.itos):\n",
        "    if token in vectors:\n",
        "        embedding_matrix[i] = vectors[token]\n",
        "\n",
        "pretrained_embeddings = torch.tensor(embedding_matrix, dtype=torch.float)\n",
        "\n",
        "DEVICE = torch.device(\"cuda\" if torch.cuda.is_available() else \"cpu\")\n",
        "train_iter, test_iter = BucketIterator.splits(\n",
        "    datasets=(train_dataset, test_dataset),\n",
        "    batch_sizes=(16, 32),\n",
        "    shuffle=True,\n",
        "    device=DEVICE,\n",
        "    sort=False,\n",
        "    sort_key=lambda x: len(x.source),\n",
        ")"
      ],
      "metadata": {
        "id": "qeHgbWHD7Mii"
      },
      "execution_count": null,
      "outputs": []
    },
    {
      "cell_type": "code",
      "source": [
        "model_new = EncoderDecoder(\n",
        "    source_vocab_size=len(word_field_new.vocab),\n",
        "    target_vocab_size=len(word_field_new.vocab),\n",
        "    d_model=512,\n",
        "    heads_count=8,\n",
        "    pretrained_embeddings=pretrained_embeddings,\n",
        "    use_shared_emb=False,\n",
        "    save_probs = True\n",
        ").to(DEVICE)"
      ],
      "metadata": {
        "id": "poM6gCm5wyRt"
      },
      "execution_count": null,
      "outputs": []
    },
    {
      "cell_type": "code",
      "source": [
        "model_new.load_state_dict(torch.load(save_path + \"NLP_goyda_finetuned1.pt\", map_location=torch.device('cpu')))\n"
      ],
      "metadata": {
        "colab": {
          "base_uri": "https://localhost:8080/"
        },
        "id": "td-06zJCwyUp",
        "outputId": "2c65e0bc-da22-45de-a7c0-a1098046864e"
      },
      "execution_count": null,
      "outputs": [
        {
          "output_type": "execute_result",
          "data": {
            "text/plain": [
              "<All keys matched successfully>"
            ]
          },
          "metadata": {},
          "execution_count": 245
        }
      ]
    },
    {
      "cell_type": "code",
      "source": [],
      "metadata": {
        "colab": {
          "base_uri": "https://localhost:8080/",
          "height": 35
        },
        "id": "iX8dXNst783G",
        "outputId": "a71ad4ae-855d-4e0a-8a51-ad849e61155a"
      },
      "execution_count": null,
      "outputs": [
        {
          "output_type": "execute_result",
          "data": {
            "text/plain": [
              "'/content/'"
            ],
            "application/vnd.google.colaboratory.intrinsic+json": {
              "type": "string"
            }
          },
          "metadata": {},
          "execution_count": 243
        }
      ]
    },
    {
      "cell_type": "code",
      "source": [
        "new_eval_metrics = evaluate_model(model_new, word_field_new, test_iter)"
      ],
      "metadata": {
        "colab": {
          "base_uri": "https://localhost:8080/",
          "height": 49,
          "referenced_widgets": [
            "daef34a57f754481b34a760ed9236af4",
            "34eb77b70ae249f08b1d005fdf1290b5",
            "2d33b544cc8242fe9785369958829062",
            "df79fe7a99e24e0799d6d317c9c9d53c",
            "64db433703fc489abf209fc7395fb1fc",
            "d95275f517264d669d10b18178c28db1",
            "356feee3cc0c497e9112356f0dbd5f58",
            "675b908c889b42ea998518390fbc15a6",
            "46ab2245e5794b83b86211144e4da997",
            "03403cbf9eb64659ac0d4e784cb7ecc4",
            "2f91ddf732d24ad5a49837bb168ed2a8"
          ]
        },
        "id": "g40ro7HJwbtg",
        "outputId": "77a14e99-85eb-4262-a424-4692e40cdab5"
      },
      "execution_count": null,
      "outputs": [
        {
          "output_type": "display_data",
          "data": {
            "text/plain": [
              "  0%|          | 0/349 [00:00<?, ?it/s]"
            ],
            "application/vnd.jupyter.widget-view+json": {
              "version_major": 2,
              "version_minor": 0,
              "model_id": "daef34a57f754481b34a760ed9236af4"
            }
          },
          "metadata": {}
        }
      ]
    },
    {
      "cell_type": "code",
      "source": [
        "new_eval_metrics"
      ],
      "metadata": {
        "colab": {
          "base_uri": "https://localhost:8080/"
        },
        "id": "P_jiSJ9rwbwH",
        "outputId": "da5d3bd1-99d0-4c03-e92e-1f4e7735fcaa"
      },
      "execution_count": null,
      "outputs": [
        {
          "output_type": "execute_result",
          "data": {
            "text/plain": [
              "{'loss': 3.7461792466292065,\n",
              " 'ppx': 42.358929402483845,\n",
              " 'rouge1': 0.2603699349988695,\n",
              " 'rouge2': 0.1709281044695179,\n",
              " 'rougeL': 0.26031251451713067}"
            ]
          },
          "metadata": {},
          "execution_count": 247
        }
      ]
    },
    {
      "cell_type": "code",
      "source": [
        "save_metrics(Path(save_path+'new_eval_metrics'), 'eval', new_eval_metrics)"
      ],
      "metadata": {
        "id": "gAqXh1U-wbyu"
      },
      "execution_count": null,
      "outputs": []
    },
    {
      "cell_type": "code",
      "source": [],
      "metadata": {
        "id": "1xLM4Zjewb1X"
      },
      "execution_count": null,
      "outputs": []
    },
    {
      "cell_type": "code",
      "source": [],
      "metadata": {
        "id": "qmr9ZsPguUnY"
      },
      "execution_count": null,
      "outputs": []
    },
    {
      "cell_type": "markdown",
      "source": [
        "# Визуализация Attention"
      ],
      "metadata": {
        "id": "9BQ79LXVuVc0"
      }
    },
    {
      "cell_type": "code",
      "source": [
        "class AttentionData():\n",
        "    def __init__(self, model, word_field, inp_text, out_text):\n",
        "        self.enc_self_attn = model.encoder.attn_probs\n",
        "        self.dec_self_attn = model.decoder.self_attn_probs\n",
        "        self.dec_enc_attn = model.decoder.enc_attn_probs\n",
        "        self.tokens_inp = [word_field.init_token] + word_field.tokenize(inp_text.lower()) + [word_field.eos_token]\n",
        "        self.tokens_out = [word_field.init_token] + word_field.tokenize(out_text.lower()) + [word_field.eos_token]\n",
        "\n",
        "    def visualize(self, layer, head, mode=0, save_path=None):\n",
        "        if mode == 0:\n",
        "            arr = self.enc_self_attn\n",
        "            x_tokens = self.tokens_inp\n",
        "            y_tokens = self.tokens_inp\n",
        "            title = \"enc_self_attn\"\n",
        "        elif mode == 1:\n",
        "            arr = self.dec_self_attn\n",
        "            x_tokens = self.tokens_out\n",
        "            y_tokens = self.tokens_out\n",
        "            title = \"dec_self_attn\"\n",
        "        elif mode == 2:\n",
        "            arr = self.dec_enc_attn\n",
        "            x_tokens = self.tokens_inp\n",
        "            y_tokens = self.tokens_out\n",
        "            title = \"dec_enc_attn\"\n",
        "        else:\n",
        "            raise ValueError(\"Invalid mode. Use 0, 1, or 2.\")\n",
        "\n",
        "        attn_tensor = arr[layer][0][0]\n",
        "\n",
        "        attn_map = attn_tensor[head].cpu().numpy()\n",
        "        if attn_map.ndim != 2:\n",
        "            raise ValueError(f\"Expected 2D attention map, got shape: {attn_map.shape}\")\n",
        "\n",
        "        # Plotting\n",
        "        plt.figure(figsize=(10, 8))\n",
        "        sns.heatmap(attn_map, xticklabels=x_tokens, yticklabels=y_tokens, cmap='viridis')\n",
        "        plt.title(f\"Attention Weights for {title} (Layer {layer}, Head {head})\")\n",
        "        plt.xlabel(\"Input Tokens\")\n",
        "        plt.ylabel(\"Output Tokens\")\n",
        "\n",
        "        if save_path:\n",
        "            plt.savefig(save_path)\n",
        "            plt.close()\n",
        "        else:\n",
        "            plt.show()"
      ],
      "metadata": {
        "id": "y-HT822quUuY"
      },
      "execution_count": null,
      "outputs": []
    },
    {
      "cell_type": "code",
      "source": [
        "import os\n",
        "import matplotlib.pyplot as plt\n",
        "import seaborn as sns\n",
        "\n",
        "def process_and_visualize_attention(custom_texts, model, word_field, generate_summary_beam, DEVICE, MAX_LAYERS, MAX_HEADS, output_dir='attention_maps'):\n",
        "    os.makedirs(output_dir, exist_ok=True)\n",
        "\n",
        "    for i, text in enumerate(custom_texts):\n",
        "        summary = generate_summary_beam(model, text, word_field, word_field, DEVICE)\n",
        "        print(f\"=== [{i}] ===\")\n",
        "        print(\"Text:\", text)\n",
        "        print(\"Generated summary:\", summary)\n",
        "        print()\n",
        "\n",
        "        ad = AttentionData(model, word_field, text, summary)\n",
        "        text_dir = os.path.join(output_dir, f\"text_{i}\")\n",
        "        os.makedirs(text_dir, exist_ok=True)\n",
        "\n",
        "        for mode in range(3):  # 0 = enc_self_attn, 1 = dec_self_attn, 2 = dec_enc_attn\n",
        "            for layer in range(MAX_LAYERS):\n",
        "                for head in range(MAX_HEADS):\n",
        "                    filename = f\"text_{i}_mode_{mode}_head_{head}_layer_{layer}.png\"\n",
        "                    save_path = os.path.join(text_dir, filename)\n",
        "                    ad.visualize(layer=layer, head=head, mode=mode, save_path=save_path)"
      ],
      "metadata": {
        "id": "mfYPrPsbvdfz"
      },
      "execution_count": null,
      "outputs": []
    },
    {
      "cell_type": "code",
      "source": [],
      "metadata": {
        "id": "d0O2klhguU0O"
      },
      "execution_count": null,
      "outputs": []
    },
    {
      "cell_type": "code",
      "source": [],
      "metadata": {
        "id": "81_DRvutuU3n"
      },
      "execution_count": null,
      "outputs": []
    },
    {
      "cell_type": "code",
      "source": [],
      "metadata": {
        "id": "sSnAzrDPuU7L"
      },
      "execution_count": null,
      "outputs": []
    },
    {
      "cell_type": "code",
      "source": [
        "MAX_LAYERS = 3\n",
        "MAX_HEADS = 7\n",
        "\n",
        "process_and_visualize_attention(\n",
        "    custom_texts=custom_texts,\n",
        "    model=model_new,\n",
        "    word_field=word_field_new,\n",
        "    generate_summary_beam=generate_summary_beam,\n",
        "    DEVICE=DEVICE,\n",
        "    MAX_LAYERS=MAX_LAYERS,\n",
        "    MAX_HEADS=MAX_HEADS, output_dir='attention_maps_new_2'\n",
        ")"
      ],
      "metadata": {
        "colab": {
          "base_uri": "https://localhost:8080/"
        },
        "id": "Hm3qD-evuhTj",
        "outputId": "feb8c11f-6890-44a1-a623-b6e29e7bb8a4"
      },
      "execution_count": null,
      "outputs": [
        {
          "output_type": "stream",
          "name": "stdout",
          "text": [
            "=== [0] ===\n",
            "Text: В Санкт-Петербурге прошёл ежегодный фестиваль уличного искусства, на котором выступили более 50 художников из разных городов России. Мероприятие собрало тысячи зрителей и вызвало большой интерес в социальных сетях. Организаторы планируют расширить программу в следующем году и пригласить зарубежных участников.\n",
            "Generated summary: сборной вооруженного в новый по и в президента от\n",
            "\n",
            "=== [1] ===\n",
            "Text: В Новосибирске открыли новый научно-технический парк, который призван поддерживать стартапы и инновационные проекты. В церемонии открытия приняли участие представители правительства региона и ведущие учёные. Парк оснащён современным оборудованием и предоставляет резидентам льготные условия аренды и консультации экспертов.\n",
            "Generated summary: забил в сша задержаны на памятник по из решили\n",
            "\n",
            "=== [2] ===\n",
            "Text: Минздрав России сообщил о запуске новой программы профилактики заболеваний сердечно-сосудистой системы. Программа включает бесплатные обследования для лиц старше 40 лет и образовательные кампании в регионах. Ожидается, что инициатива поможет снизить уровень смертности от инфарктов и инсультов.\n",
            "Generated summary: сборной человек трое на по в в для мехико в\n",
            "\n",
            "=== [3] ===\n",
            "Text: В Москве состоялась конференция по развитию искусственного интеллекта, на которой ведущие специалисты обсудили перспективы применения технологий в промышленности и медицине. Участники отметили важность междисциплинарного сотрудничества и необходимость создания нормативной базы для безопасного использования ИИ.\n",
            "Generated summary: забил в детей\n",
            "\n",
            "=== [4] ===\n",
            "Text: В Краснодарском крае завершился чемпионат по пляжному волейболу, который собрал спортсменов из 15 регионов страны. Победу одержала команда из Сочи, которая в финале обыграла соперников со счётом 2:1. Организаторы отметили высокий уровень соревнований и выразили намерение сделать турнир ежегодным.\n",
            "Generated summary: на в от\n",
            "\n"
          ]
        }
      ]
    },
    {
      "cell_type": "code",
      "source": [],
      "metadata": {
        "id": "JiFVOfG8uhXR"
      },
      "execution_count": null,
      "outputs": []
    },
    {
      "cell_type": "code",
      "source": [
        "from google.colab import files\n",
        "import shutil\n",
        "\n",
        "folder_path = \"/content/attention_maps_new_2\"\n",
        "\n",
        "output_filename = \"/content/attention_maps_new_2.zip\"\n",
        "shutil.make_archive(output_filename.replace('.zip', ''), 'zip', folder_path)\n",
        "\n",
        "files.download(output_filename)"
      ],
      "metadata": {
        "colab": {
          "base_uri": "https://localhost:8080/",
          "height": 17
        },
        "id": "g9PmkUdzuhZV",
        "outputId": "936cc921-e8d2-451d-9534-a6bb8d0f9e3b"
      },
      "execution_count": null,
      "outputs": [
        {
          "output_type": "display_data",
          "data": {
            "text/plain": [
              "<IPython.core.display.Javascript object>"
            ],
            "application/javascript": [
              "\n",
              "    async function download(id, filename, size) {\n",
              "      if (!google.colab.kernel.accessAllowed) {\n",
              "        return;\n",
              "      }\n",
              "      const div = document.createElement('div');\n",
              "      const label = document.createElement('label');\n",
              "      label.textContent = `Downloading \"${filename}\": `;\n",
              "      div.appendChild(label);\n",
              "      const progress = document.createElement('progress');\n",
              "      progress.max = size;\n",
              "      div.appendChild(progress);\n",
              "      document.body.appendChild(div);\n",
              "\n",
              "      const buffers = [];\n",
              "      let downloaded = 0;\n",
              "\n",
              "      const channel = await google.colab.kernel.comms.open(id);\n",
              "      // Send a message to notify the kernel that we're ready.\n",
              "      channel.send({})\n",
              "\n",
              "      for await (const message of channel.messages) {\n",
              "        // Send a message to notify the kernel that we're ready.\n",
              "        channel.send({})\n",
              "        if (message.buffers) {\n",
              "          for (const buffer of message.buffers) {\n",
              "            buffers.push(buffer);\n",
              "            downloaded += buffer.byteLength;\n",
              "            progress.value = downloaded;\n",
              "          }\n",
              "        }\n",
              "      }\n",
              "      const blob = new Blob(buffers, {type: 'application/binary'});\n",
              "      const a = document.createElement('a');\n",
              "      a.href = window.URL.createObjectURL(blob);\n",
              "      a.download = filename;\n",
              "      div.appendChild(a);\n",
              "      a.click();\n",
              "      div.remove();\n",
              "    }\n",
              "  "
            ]
          },
          "metadata": {}
        },
        {
          "output_type": "display_data",
          "data": {
            "text/plain": [
              "<IPython.core.display.Javascript object>"
            ],
            "application/javascript": [
              "download(\"download_c2675983-ad38-4c6b-b80d-9e0acee88d0b\", \"attention_maps_new_2.zip\", 16399853)"
            ]
          },
          "metadata": {}
        }
      ]
    },
    {
      "cell_type": "code",
      "source": [
        "MAX_LAYERS = 3\n",
        "MAX_HEADS = 7\n",
        "\n",
        "process_and_visualize_attention(\n",
        "    custom_texts=custom_texts,\n",
        "    model=model,\n",
        "    word_field=word_field,\n",
        "    generate_summary_beam=generate_summary_beam,\n",
        "    DEVICE=DEVICE,\n",
        "    MAX_LAYERS=MAX_LAYERS,\n",
        "    MAX_HEADS=MAX_HEADS, output_dir='attention_maps_base'\n",
        ")"
      ],
      "metadata": {
        "id": "MatlRhXVuhcu",
        "colab": {
          "base_uri": "https://localhost:8080/"
        },
        "outputId": "51f423ba-39b0-45e3-de5f-353f3a5a616c"
      },
      "execution_count": null,
      "outputs": [
        {
          "output_type": "stream",
          "name": "stdout",
          "text": [
            "=== [0] ===\n",
            "Text: В Санкт-Петербурге прошёл ежегодный фестиваль уличного искусства, на котором выступили более 50 художников из разных городов России. Мероприятие собрало тысячи зрителей и вызвало большой интерес в социальных сетях. Организаторы планируют расширить программу в следующем году и пригласить зарубежных участников.\n",
            "Generated summary: порезы олбрайт способность курган встреча филиалы владельцев обновленном боеголовка боеголовка пограничного филиалы распоряжений порезы скотт ремень 351 филиалы дневное\n",
            "\n",
            "=== [1] ===\n",
            "Text: В Новосибирске открыли новый научно-технический парк, который призван поддерживать стартапы и инновационные проекты. В церемонии открытия приняли участие представители правительства региона и ведущие учёные. Парк оснащён современным оборудованием и предоставляет резидентам льготные условия аренды и консультации экспертов.\n",
            "Generated summary: порезы олбрайт способность курган встреча филиалы вазиани обновленном боеголовка филиалы 34-й филиалы объектам порезы порезы боеголовка 351 филиалы филиалы\n",
            "\n",
            "=== [2] ===\n",
            "Text: Минздрав России сообщил о запуске новой программы профилактики заболеваний сердечно-сосудистой системы. Программа включает бесплатные обследования для лиц старше 40 лет и образовательные кампании в регионах. Ожидается, что инициатива поможет снизить уровень смертности от инфарктов и инсультов.\n",
            "Generated summary: порезы олбрайт способность курган марка 351 деревянный обновленном боеголовка боеголовка пограничного филиалы савеловского порезы порезы подаче 351 филиалы дневное\n",
            "\n",
            "=== [3] ===\n",
            "Text: В Москве состоялась конференция по развитию искусственного интеллекта, на которой ведущие специалисты обсудили перспективы применения технологий в промышленности и медицине. Участники отметили важность междисциплинарного сотрудничества и необходимость создания нормативной базы для безопасного использования ИИ.\n",
            "Generated summary: порезы олбрайт способность курган способность филиалы владельцев обновленном боеголовка филиалы пограничного филиалы распоряжений порезы порезы ремень 351 филиалы дневное\n",
            "\n",
            "=== [4] ===\n",
            "Text: В Краснодарском крае завершился чемпионат по пляжному волейболу, который собрал спортсменов из 15 регионов страны. Победу одержала команда из Сочи, которая в финале обыграла соперников со счётом 2:1. Организаторы отметили высокий уровень соревнований и выразили намерение сделать турнир ежегодным.\n",
            "Generated summary: порезы парашютом способность курган марка филиалы филиалы обновленном савеловского филиалы 34-й филиалы еврооблигаций порезы порезы боеголовка боеголовка филиалы дневное\n",
            "\n"
          ]
        }
      ]
    },
    {
      "cell_type": "code",
      "source": [
        "folder_path = \"/content/attention_maps_base\"\n",
        "\n",
        "output_filename = \"/content/attention_maps_base.zip\"\n",
        "shutil.make_archive(output_filename.replace('.zip', ''), 'zip', folder_path)\n",
        "\n",
        "files.download(output_filename)"
      ],
      "metadata": {
        "id": "hXxU3n0vuhfG",
        "colab": {
          "base_uri": "https://localhost:8080/",
          "height": 17
        },
        "outputId": "fb111d9b-de53-49a4-f58e-464a01ceefcf"
      },
      "execution_count": null,
      "outputs": [
        {
          "output_type": "display_data",
          "data": {
            "text/plain": [
              "<IPython.core.display.Javascript object>"
            ],
            "application/javascript": [
              "\n",
              "    async function download(id, filename, size) {\n",
              "      if (!google.colab.kernel.accessAllowed) {\n",
              "        return;\n",
              "      }\n",
              "      const div = document.createElement('div');\n",
              "      const label = document.createElement('label');\n",
              "      label.textContent = `Downloading \"${filename}\": `;\n",
              "      div.appendChild(label);\n",
              "      const progress = document.createElement('progress');\n",
              "      progress.max = size;\n",
              "      div.appendChild(progress);\n",
              "      document.body.appendChild(div);\n",
              "\n",
              "      const buffers = [];\n",
              "      let downloaded = 0;\n",
              "\n",
              "      const channel = await google.colab.kernel.comms.open(id);\n",
              "      // Send a message to notify the kernel that we're ready.\n",
              "      channel.send({})\n",
              "\n",
              "      for await (const message of channel.messages) {\n",
              "        // Send a message to notify the kernel that we're ready.\n",
              "        channel.send({})\n",
              "        if (message.buffers) {\n",
              "          for (const buffer of message.buffers) {\n",
              "            buffers.push(buffer);\n",
              "            downloaded += buffer.byteLength;\n",
              "            progress.value = downloaded;\n",
              "          }\n",
              "        }\n",
              "      }\n",
              "      const blob = new Blob(buffers, {type: 'application/binary'});\n",
              "      const a = document.createElement('a');\n",
              "      a.href = window.URL.createObjectURL(blob);\n",
              "      a.download = filename;\n",
              "      div.appendChild(a);\n",
              "      a.click();\n",
              "      div.remove();\n",
              "    }\n",
              "  "
            ]
          },
          "metadata": {}
        },
        {
          "output_type": "display_data",
          "data": {
            "text/plain": [
              "<IPython.core.display.Javascript object>"
            ],
            "application/javascript": [
              "download(\"download_08d50827-2d25-476f-a46d-038cb3bfbe99\", \"attention_maps_base.zip\", 20732558)"
            ]
          },
          "metadata": {}
        }
      ]
    },
    {
      "cell_type": "code",
      "source": [],
      "metadata": {
        "id": "tg-CcZ9ruhiM"
      },
      "execution_count": null,
      "outputs": []
    },
    {
      "cell_type": "code",
      "source": [],
      "metadata": {
        "id": "JlRkRsipuhkg"
      },
      "execution_count": null,
      "outputs": []
    },
    {
      "cell_type": "code",
      "source": [],
      "metadata": {
        "id": "H0uPoyJcuhnb"
      },
      "execution_count": null,
      "outputs": []
    },
    {
      "cell_type": "code",
      "source": [],
      "metadata": {
        "id": "93LXmlrpuhpy"
      },
      "execution_count": null,
      "outputs": []
    },
    {
      "cell_type": "markdown",
      "metadata": {
        "id": "V7fyNhkIWinN"
      },
      "source": [
        "# Выводы по проделанной работе\n",
        "\n",
        "## Микишева М.:\n",
        "### Словарь и эмббединги\n",
        "\n",
        "\t•\tЗагружен и токенизирован датасет с использованием spaCy.\n",
        "\t•\tПостроен единый словарь (Field) с токенами <s>, </s>, <pad>, <unk>.\n",
        "\t•\tПрименены стоп-слова NLTK — их частоты снижены в словаре.\n",
        "\t•\tПостроен словарь из 40 877 токенов, отфильтрованы слова с freq < 10.\n",
        "\n",
        "\tРазные значения min_freq были протестированы, а также разные способы токенизации и сборки\n",
        "\t•\tЗагружены и нормализованы русские FastText-вектора (cc.ru.300.vec).\n",
        "\t•\tСоставлена embedding_matrix (размер [40877 × 300], покрытие 92.42%).\n",
        "\t•\tСозданы train/test выборки и BucketIterator для обучения на GPU.\n",
        "\t•\tВыполнена визуализация векторов (t-SNE, семантические кластеры).\n",
        "\t•\tПроведён анализ UNK в тесте\n",
        "\t•\tПроведён частотный анализ словаря — топ и хвост, распределение логарифмическое\n",
        "\n",
        "   Словарь собран хорошо, покрытие векторами высокое\n",
        "\n",
        "### Label smoothing\n",
        "\tРеализирован  LabelSmoothingLoss вместо CrossEntropyLoss.\n",
        "\n",
        "### Generate summary\n",
        "\n",
        "\t•\t Протестированы разные варианты генерации саммари - с beam search, также пробовала greedy decoding\n",
        "\t•\tПротестированы разные max_len, штраф за ранний <eos>, n-gram suppression\n",
        "\t• Тестировали генерацию на реальных и кастомных примерах\n",
        "\n",
        "  "
      ]
    },
    {
      "cell_type": "markdown",
      "metadata": {
        "id": "LO9-Jpnbc8ao"
      },
      "source": [
        "# Кладовая говнокода"
      ]
    },
    {
      "cell_type": "code",
      "execution_count": null,
      "metadata": {
        "id": "tveOStv0dBqJ"
      },
      "outputs": [],
      "source": [
        "class MultiHeadedAttention(nn.Module):\n",
        "    def __init__(self, heads_count, d_model, dropout_rate=0.1):\n",
        "        super().__init__()\n",
        "\n",
        "        assert d_model % heads_count == 0\n",
        "\n",
        "        self._d_k = d_model // heads_count\n",
        "        self._heads_count = heads_count\n",
        "        self._attention = ScaledDotProductAttention(dropout_rate)\n",
        "        self._attn_probs = None\n",
        "\n",
        "        self._w_q = nn.Linear(d_model, d_model)\n",
        "        self._w_k = nn.Linear(d_model, d_model)\n",
        "        self._w_v = nn.Linear(d_model, d_model)\n",
        "        self._w_o = nn.Linear(d_model, d_model)\n",
        "\n",
        "    def forward(self, query, key, value, mask=None):\n",
        "        if mask is not None:\n",
        "            mask = mask.unsqueeze(1)\n",
        "        nbatches = query.size(0)\n",
        "\n",
        "        query = self._w_q(query).view(nbatches, -1, self._heads_count, self._d_k).transpose(1, 2)\n",
        "        key = self._w_k(key).view(nbatches, -1, self._heads_count, self._d_k).transpose(1, 2)\n",
        "        value = self._w_v(value).view(nbatches, -1, self._heads_count, self._d_k).transpose(1, 2)\n",
        "        x, self._attn_probs = self._attention(query, key, value, mask)\n",
        "\n",
        "        x = x.transpose(1, 2).contiguous().view(nbatches, -1, self._heads_count * self._d_k)\n",
        "        x = self._w_o(x)\n",
        "        return x"
      ]
    },
    {
      "cell_type": "code",
      "execution_count": null,
      "metadata": {
        "id": "TI44KJ8TdLO-"
      },
      "outputs": [],
      "source": [
        "class EncoderBlock(nn.Module):\n",
        "    def __init__(self, size, self_attn, feed_forward, dropout_rate):\n",
        "        super().__init__()\n",
        "\n",
        "        self._self_attn = self_attn\n",
        "        self._feed_forward = feed_forward\n",
        "        self._self_attention_block = ResidualBlock(size, dropout_rate)\n",
        "        self._feed_forward_block = ResidualBlock(size, dropout_rate)\n",
        "\n",
        "    def forward(self, inputs, mask):\n",
        "        outputs = self._self_attention_block(inputs, lambda inputs: self._self_attn(inputs, inputs, inputs, mask))\n",
        "        return self._feed_forward_block(outputs, self._feed_forward)"
      ]
    },
    {
      "cell_type": "code",
      "execution_count": null,
      "metadata": {
        "id": "GGqd8iHldLO_"
      },
      "outputs": [],
      "source": [
        "class Encoder(nn.Module):\n",
        "    def __init__(self, vocab_size, d_model, d_ff, blocks_count, heads_count, dropout_rate, save_probs = False, embeddings = None):\n",
        "        super().__init__()\n",
        "        if embeddings is None:\n",
        "            self._emb = nn.Sequential(\n",
        "                nn.Embedding(vocab_size, d_model),\n",
        "                PositionalEncoding(d_model, dropout_rate)\n",
        "            )\n",
        "        else self._emb = enmbeddings\n",
        "\n",
        "        block = lambda: EncoderBlock(\n",
        "            size=d_model,\n",
        "            self_attn=MultiHeadedAttention(heads_count, d_model, dropout_rate),\n",
        "            feed_forward=PositionwiseFeedForward(d_model, d_ff, dropout_rate),\n",
        "            dropout_rate=dropout_rate\n",
        "        )\n",
        "        self._blocks = nn.ModuleList([block() for _ in range(blocks_count)])\n",
        "        self._norm = LayerNorm(d_model)\n",
        "\n",
        "        self.save_probs = save_probs\n",
        "        self.attn_probs = []\n",
        "\n",
        "    def forward(self, inputs, mask):\n",
        "        inputs = self._emb(inputs)\n",
        "        self.attn_probs = []\n",
        "        for block in self._blocks:\n",
        "            inputs = block(inputs, mask)\n",
        "            if self.save_probs:\n",
        "                self.attn_probs.append(block._self_attn._attn_probs)\n",
        "\n",
        "        return self._norm(inputs)"
      ]
    },
    {
      "cell_type": "code",
      "execution_count": null,
      "metadata": {
        "id": "HZsgywntdLO_"
      },
      "outputs": [],
      "source": [
        "class DecoderLayer(nn.Module):\n",
        "    def __init__(self, size, self_attn, encoder_attn, feed_forward, dropout_rate):\n",
        "        super().__init__()\n",
        "\n",
        "        self._self_attn = self_attn\n",
        "        self._encoder_attn = encoder_attn\n",
        "        self._feed_forward = feed_forward\n",
        "        self._self_attention_block = ResidualBlock(size, dropout_rate)\n",
        "        self._attention_block = ResidualBlock(size, dropout_rate)\n",
        "        self._feed_forward_block = ResidualBlock(size, dropout_rate)\n",
        "\n",
        "    def forward(self, inputs, encoder_output, source_mask, target_mask):\n",
        "        outputs = self._self_attention_block(\n",
        "            inputs, lambda inputs: self._self_attn(inputs, inputs, inputs, target_mask)\n",
        "        )\n",
        "        outputs = self._attention_block(\n",
        "            outputs, lambda inputs: self._encoder_attn(inputs, encoder_output, encoder_output, source_mask)\n",
        "        )\n",
        "        return self._feed_forward_block(outputs, self._feed_forward)"
      ]
    },
    {
      "cell_type": "code",
      "execution_count": null,
      "metadata": {
        "id": "3MZaXsSHdLO_"
      },
      "outputs": [],
      "source": [
        "class Decoder(nn.Module):\n",
        "    def __init__(self, vocab_size, d_model, d_ff, blocks_count, heads_count, dropout_rate, save_probs = False, embeddings = None):\n",
        "        super().__init__()\n",
        "        if embeddings is None:\n",
        "            self._emb = nn.Sequential(\n",
        "                nn.Embedding(vocab_size, d_model),\n",
        "                PositionalEncoding(d_model, dropout_rate)\n",
        "            )\n",
        "            self._out_layer = nn.Linear(d_model, vocab_size)\n",
        "        else:\n",
        "            self._emb = embeddings\n",
        "            self._out_layer = nn.Linear(d_model, vocab_size)\n",
        "            self._out_layer.weight = self._emb[0].weight  # Весовая привязка\n",
        "\n",
        "\n",
        "        block = lambda: DecoderLayer(\n",
        "            size=d_model,\n",
        "            self_attn=MultiHeadedAttention(heads_count, d_model, dropout_rate),\n",
        "            encoder_attn=MultiHeadedAttention(heads_count, d_model, dropout_rate),\n",
        "            feed_forward=PositionwiseFeedForward(d_model, d_ff, dropout_rate),\n",
        "            dropout_rate=dropout_rate\n",
        "        )\n",
        "        self._blocks = nn.ModuleList([block() for _ in range(blocks_count)])\n",
        "        self._norm = LayerNorm(d_model)\n",
        "\n",
        "\n",
        "        self.save_probs = save_probs\n",
        "        self.self_attn_probs = []\n",
        "        self.enc_attn_probs = []\n",
        "\n",
        "    def forward(self, inputs, encoder_output, source_mask, target_mask):\n",
        "        inputs = self._emb(inputs)\n",
        "        self.self_attn_probs = []\n",
        "        self.enc_attn_probs = []\n",
        "        for block in self._blocks:\n",
        "            inputs = block(inputs, encoder_output, source_mask, target_mask)\n",
        "            if self.save_probs:\n",
        "                self.self_attn_probs.append(block._self_attn._attn_probs)\n",
        "                self.enc_attn_probs.append(block._encoder_attn._attn_probs)\n",
        "        return self._out_layer(self._norm(inputs))"
      ]
    },
    {
      "cell_type": "code",
      "execution_count": null,
      "metadata": {
        "id": "YUJ_Q81xdLO_"
      },
      "outputs": [],
      "source": [
        "class Generator(nn.Module):\n",
        "    \"Define standard linear + softmax generation step.\"\n",
        "    def __init__(self, d_model, vocab):\n",
        "        super(Generator, self).__init__()\n",
        "        self.proj = nn.Linear(d_model, vocab)\n",
        "\n",
        "    def forward(self, x):\n",
        "        return F.log_softmax(self.proj(x), dim=-1)\n",
        "\n",
        "\n",
        "class EncoderDecoder(nn.Module):\n",
        "    \"\"\"\n",
        "    A standard Encoder-Decoder architecture. Base for this and many\n",
        "    other models.\n",
        "    \"\"\"\n",
        "    def __init__(self, source_vocab_size, target_vocab_size, d_model=256, d_ff=1024,\n",
        "                 blocks_count=4, heads_count=8, dropout_rate=0.1, save_probs = False, shared_emb = False):\n",
        "        super(EncoderDecoder, self).__init__()\n",
        "\n",
        "        embeddings = None\n",
        "        if shared_emb:\n",
        "            assert source_vocab_size == target_vocab_size, \"Vocab sizes must match for shared embeddings\"\n",
        "            self._emb = nn.Sequential(\n",
        "                nn.Embedding(vocab_size, d_model),\n",
        "                PositionalEncoding(d_model, dropout_rate)\n",
        "            )\n",
        "            embeddings = self._emb\n",
        "\n",
        "\n",
        "        self.d_model = d_model\n",
        "        self.encoder = Encoder(source_vocab_size, d_model, d_ff, blocks_count, heads_count, dropout_rate, save_probs, embeddings)\n",
        "        self.decoder = Decoder(target_vocab_size, d_model, d_ff, blocks_count, heads_count, dropout_rate, save_probs, embeddings)\n",
        "        # self.generator = Generator(d_model, target_vocab_size)\n",
        "\n",
        "        for p in self.parameters():\n",
        "            if p.dim() > 1:\n",
        "                nn.init.xavier_uniform_(p)\n",
        "\n",
        "    def forward(self, source_inputs, target_inputs, source_mask, target_mask):\n",
        "        encoder_output = self.encoder(source_inputs, source_mask)\n",
        "        return self.decoder(target_inputs, encoder_output, source_mask, target_mask)"
      ]
    },
    {
      "cell_type": "code",
      "execution_count": null,
      "metadata": {
        "id": "biGNbAljkhnR"
      },
      "outputs": [],
      "source": [
        "with open(\"/content/vocab.pkl\", \"rb\") as f:\n",
        "    word_field = dill.load(f)"
      ]
    },
    {
      "cell_type": "code",
      "execution_count": null,
      "metadata": {
        "colab": {
          "base_uri": "https://localhost:8080/"
        },
        "id": "Rv9S_e8wkhqQ",
        "outputId": "3c638903-b124-4cfa-d1c2-00dc3ca962df"
      },
      "outputs": [
        {
          "data": {
            "text/plain": [
              "EncoderDecoder(\n",
              "  (encoder): Encoder(\n",
              "    (_emb): Sequential(\n",
              "      (0): Embedding(55919, 256)\n",
              "      (1): PositionalEncoding(\n",
              "        (dropout): Dropout(p=0.1, inplace=False)\n",
              "      )\n",
              "    )\n",
              "    (_blocks): ModuleList(\n",
              "      (0-3): 4 x EncoderBlock(\n",
              "        (_self_attn): MultiHeadedAttention(\n",
              "          (_attention): ScaledDotProductAttention(\n",
              "            (_dropout): Dropout(p=0.1, inplace=False)\n",
              "          )\n",
              "          (_w_q): Linear(in_features=256, out_features=256, bias=True)\n",
              "          (_w_k): Linear(in_features=256, out_features=256, bias=True)\n",
              "          (_w_v): Linear(in_features=256, out_features=256, bias=True)\n",
              "          (_w_o): Linear(in_features=256, out_features=256, bias=True)\n",
              "        )\n",
              "        (_feed_forward): PositionwiseFeedForward(\n",
              "          (w_1): Linear(in_features=256, out_features=1024, bias=True)\n",
              "          (w_2): Linear(in_features=1024, out_features=256, bias=True)\n",
              "          (dropout): Dropout(p=0.1, inplace=False)\n",
              "        )\n",
              "        (_self_attention_block): ResidualBlock(\n",
              "          (_norm): LayerNorm()\n",
              "          (_dropout): Dropout(p=0.1, inplace=False)\n",
              "        )\n",
              "        (_feed_forward_block): ResidualBlock(\n",
              "          (_norm): LayerNorm()\n",
              "          (_dropout): Dropout(p=0.1, inplace=False)\n",
              "        )\n",
              "      )\n",
              "    )\n",
              "    (_norm): LayerNorm()\n",
              "  )\n",
              "  (decoder): Decoder(\n",
              "    (_emb): Sequential(\n",
              "      (0): Embedding(55919, 256)\n",
              "      (1): PositionalEncoding(\n",
              "        (dropout): Dropout(p=0.1, inplace=False)\n",
              "      )\n",
              "    )\n",
              "    (_blocks): ModuleList(\n",
              "      (0-3): 4 x DecoderLayer(\n",
              "        (_self_attn): MultiHeadedAttention(\n",
              "          (_attention): ScaledDotProductAttention(\n",
              "            (_dropout): Dropout(p=0.1, inplace=False)\n",
              "          )\n",
              "          (_w_q): Linear(in_features=256, out_features=256, bias=True)\n",
              "          (_w_k): Linear(in_features=256, out_features=256, bias=True)\n",
              "          (_w_v): Linear(in_features=256, out_features=256, bias=True)\n",
              "          (_w_o): Linear(in_features=256, out_features=256, bias=True)\n",
              "        )\n",
              "        (_encoder_attn): MultiHeadedAttention(\n",
              "          (_attention): ScaledDotProductAttention(\n",
              "            (_dropout): Dropout(p=0.1, inplace=False)\n",
              "          )\n",
              "          (_w_q): Linear(in_features=256, out_features=256, bias=True)\n",
              "          (_w_k): Linear(in_features=256, out_features=256, bias=True)\n",
              "          (_w_v): Linear(in_features=256, out_features=256, bias=True)\n",
              "          (_w_o): Linear(in_features=256, out_features=256, bias=True)\n",
              "        )\n",
              "        (_feed_forward): PositionwiseFeedForward(\n",
              "          (w_1): Linear(in_features=256, out_features=1024, bias=True)\n",
              "          (w_2): Linear(in_features=1024, out_features=256, bias=True)\n",
              "          (dropout): Dropout(p=0.1, inplace=False)\n",
              "        )\n",
              "        (_self_attention_block): ResidualBlock(\n",
              "          (_norm): LayerNorm()\n",
              "          (_dropout): Dropout(p=0.1, inplace=False)\n",
              "        )\n",
              "        (_attention_block): ResidualBlock(\n",
              "          (_norm): LayerNorm()\n",
              "          (_dropout): Dropout(p=0.1, inplace=False)\n",
              "        )\n",
              "        (_feed_forward_block): ResidualBlock(\n",
              "          (_norm): LayerNorm()\n",
              "          (_dropout): Dropout(p=0.1, inplace=False)\n",
              "        )\n",
              "      )\n",
              "    )\n",
              "    (_norm): LayerNorm()\n",
              "    (_out_layer): Linear(in_features=256, out_features=55919, bias=True)\n",
              "  )\n",
              ")"
            ]
          },
          "execution_count": 32,
          "metadata": {},
          "output_type": "execute_result"
        }
      ],
      "source": [
        "model = EncoderDecoder(source_vocab_size=len(word_field.vocab),\n",
        "                       target_vocab_size=len(word_field.vocab),save_probs = True).to(DEVICE)\n",
        "weights_path = \"/content/model_summary.pt\"\n",
        "model.load_state_dict(torch.load(weights_path, map_location=torch.device('cpu')))\n",
        "model.eval()"
      ]
    },
    {
      "cell_type": "code",
      "execution_count": null,
      "metadata": {
        "id": "1IVspdLzA-fQ"
      },
      "outputs": [],
      "source": [
        "class AttentionData():\n",
        "    def __init__(self, model, word_field, inp_text, out_text):\n",
        "        self.enc_self_attn = model.encoder.attn_probs\n",
        "        self.dec_self_attn = model.decoder.self_attn_probs\n",
        "        self.dec_enc_attn = model.decoder.enc_attn_probs\n",
        "        self.tokens_inp = [word_field.init_token] + word_field.tokenize(inp_text.lower()) + [word_field.eos_token]\n",
        "        self.tokens_out = [word_field.init_token] + word_field.tokenize(out_text.lower()) + [word_field.eos_token]\n",
        "    def visualize(self, layer, head, mode = 0):\n",
        "        #mode = 0 -> enc_self_attn\n",
        "        #mode = 1 -> dec_self_attn\n",
        "        #mode = 2 -> dec_enc_attn\n",
        "        if mode == 0:\n",
        "            arr = self.enc_self_attn\n",
        "            x_tokens = self.tokens_inp\n",
        "            y_tokens = self.tokens_inp\n",
        "            title = \"enc_self_attn\"\n",
        "        if mode == 1:\n",
        "            arr = self.dec_self_attn\n",
        "            x_tokens = self.tokens_out\n",
        "            y_tokens = self.tokens_out\n",
        "            title = \"dec_self_attn\"\n",
        "        if mode == 2:\n",
        "            arr = self.dec_enc_attn\n",
        "            x_tokens = self.tokens_inp\n",
        "            y_tokens = self.tokens_out\n",
        "            title = \"dec_enc_attn\"\n",
        "\n",
        "        arr = arr[layer].cpu().numpy()[0][head]\n",
        "        plt.figure(figsize=(10, 8))\n",
        "        sns.heatmap(arr, xticklabels=x_tokens, yticklabels=y_tokens, cmap='viridis')\n",
        "        plt.title(f\"Attention Weights for {title} (Layer {layer}, Head {head})\")\n",
        "        plt.xlabel(\"Input Tokens\")\n",
        "        plt.ylabel(\"Output Tokens\")\n",
        "        plt.show()"
      ]
    },
    {
      "cell_type": "code",
      "execution_count": null,
      "metadata": {
        "id": "fk9XWnSvYAMK"
      },
      "outputs": [],
      "source": [
        "import seaborn as sns"
      ]
    },
    {
      "cell_type": "code",
      "execution_count": null,
      "metadata": {
        "id": "wF67yitqquc5"
      },
      "outputs": [],
      "source": [
        "ad = AttentionData(model,word_field,custom_text,generated_summary)"
      ]
    },
    {
      "cell_type": "code",
      "execution_count": null,
      "metadata": {
        "colab": {
          "base_uri": "https://localhost:8080/",
          "height": 791
        },
        "id": "wc6h6QlkW-bX",
        "outputId": "30153875-fe20-4ef7-fdab-3c7060347a7e"
      },
      "outputs": [
        {
          "data": {
            "image/png": "[encoded data removed]",
            "text/plain": [
              "<Figure size 1000x800 with 2 Axes>"
            ]
          },
          "metadata": {},
          "output_type": "display_data"
        }
      ],
      "source": [
        "layer = 1\n",
        "head = 7\n",
        "mode = 2\n",
        "ad.visualize(layer,head,mode)"
      ]
    },
    {
      "cell_type": "code",
      "execution_count": null,
      "metadata": {
        "colab": {
          "base_uri": "https://localhost:8080/"
        },
        "id": "hYZD1qc2qutm",
        "outputId": "38e63664-5ee5-46ec-eb55-6d6d2337788f"
      },
      "outputs": [
        {
          "name": "stdout",
          "output_type": "stream",
          "text": [
            "Collecting rouge-score\n",
            "  Downloading rouge_score-0.1.2.tar.gz (17 kB)\n",
            "  Preparing metadata (setup.py) ... \u001b[?25l\u001b[?25hdone\n",
            "Requirement already satisfied: absl-py in /usr/local/lib/python3.11/dist-packages (from rouge-score) (1.4.0)\n",
            "Requirement already satisfied: nltk in /usr/local/lib/python3.11/dist-packages (from rouge-score) (3.9.1)\n",
            "Requirement already satisfied: numpy in /usr/local/lib/python3.11/dist-packages (from rouge-score) (2.0.2)\n",
            "Requirement already satisfied: six>=1.14.0 in /usr/local/lib/python3.11/dist-packages (from rouge-score) (1.17.0)\n",
            "Requirement already satisfied: click in /usr/local/lib/python3.11/dist-packages (from nltk->rouge-score) (8.1.8)\n",
            "Requirement already satisfied: joblib in /usr/local/lib/python3.11/dist-packages (from nltk->rouge-score) (1.4.2)\n",
            "Requirement already satisfied: regex>=2021.8.3 in /usr/local/lib/python3.11/dist-packages (from nltk->rouge-score) (2024.11.6)\n",
            "Requirement already satisfied: tqdm in /usr/local/lib/python3.11/dist-packages (from nltk->rouge-score) (4.67.1)\n",
            "Building wheels for collected packages: rouge-score\n",
            "  Building wheel for rouge-score (setup.py) ... \u001b[?25l\u001b[?25hdone\n",
            "  Created wheel for rouge-score: filename=rouge_score-0.1.2-py3-none-any.whl size=24934 sha256=1d4acd9b1160f231c1d4d5c22672cb9335831c77e15f985d735ae6c34d25b57c\n",
            "  Stored in directory: /root/.cache/pip/wheels/1e/19/43/8a442dc83660ca25e163e1bd1f89919284ab0d0c1475475148\n",
            "Successfully built rouge-score\n",
            "Installing collected packages: rouge-score\n",
            "Successfully installed rouge-score-0.1.2\n"
          ]
        }
      ],
      "source": [
        "pip install rouge-score"
      ]
    },
    {
      "cell_type": "code",
      "execution_count": null,
      "metadata": {
        "id": "l4OG8OJWquwk"
      },
      "outputs": [],
      "source": [
        "tqdm.get_lock().locks = []\n",
        "from rouge_score import rouge_scorer\n",
        "\n",
        "def do_epoch(model, criterion, data_iter, optimizer=None, name=None, teacher_forcing_ratio=0.5):\n",
        "    epoch_loss = 0\n",
        "    total_rouge1 = 0\n",
        "    total_rouge2 = 0\n",
        "    total_rougeL = 0\n",
        "\n",
        "    is_train = optimizer is not None\n",
        "    name = name or ''\n",
        "    model.train(is_train)\n",
        "\n",
        "    batches_count = len(data_iter)\n",
        "\n",
        "    scorer = rouge_scorer.RougeScorer(['rouge1', 'rouge2', 'rougeL'], use_stemmer=True)\n",
        "\n",
        "    with torch.autograd.set_grad_enabled(is_train):\n",
        "        with tqdm(total=batches_count) as progress_bar:\n",
        "            for i, batch in enumerate(data_iter):\n",
        "                source_inputs, target_inputs, source_mask, target_mask = convert_batch(batch)\n",
        "                encoder_output = model.encoder(source_inputs, source_mask)\n",
        "\n",
        "                batch_size, target_len = target_inputs.size()\n",
        "\n",
        "                output_teacher = target_inputs[:, 0].unsqueeze(1)  # Для обучения (с Teacher Forcing)\n",
        "                output_autoregressive = target_inputs[:, 0].unsqueeze(1)  # Для ROUGE (без Teacher Forcing)\n",
        "\n",
        "                for t in range(1, target_len):\n",
        "                    # Общая часть: вычисление logits для обоих режимов\n",
        "                    logits_teacher = model.decoder(output_teacher, encoder_output, source_mask, target_mask[:, :t, :t])\n",
        "                    logits_autoregressive = model.decoder(output_autoregressive, encoder_output, source_mask, target_mask[:, :t, :t])\n",
        "\n",
        "                    next_token_logits = logits_teacher[:, -1, :]\n",
        "                    next_token = next_token_logits.argmax(dim=-1)\n",
        "\n",
        "                    # Teacher Forcing для обучения\n",
        "                    teacher_force = random.random() < teacher_forcing_ratio\n",
        "                    next_input_teacher = target_inputs[:, t] if teacher_force else next_token\n",
        "                    next_input_teacher = next_input_teacher.unsqueeze(1)\n",
        "                    output_teacher = torch.cat((output_teacher, next_input_teacher), dim=1)\n",
        "\n",
        "                    # Авторегрессия для ROUGE\n",
        "                    next_input_autoregressive = next_token\n",
        "                    output_autoregressive = torch.cat((output_autoregressive, next_input_autoregressive.unsqueeze(1)), dim=1)\n",
        "\n",
        "                # Вычисление потерь на предсказаниях с Teacher Forcing\n",
        "                logits = model.decoder(output_teacher[:, :-1], encoder_output, source_mask, target_mask[:, :-1, :-1])\n",
        "                logits = logits.contiguous().view(-1, logits.shape[-1])\n",
        "                target = target_inputs[:, 1:].contiguous().view(-1)\n",
        "                loss = criterion(logits, target)\n",
        "                epoch_loss += loss.item()\n",
        "\n",
        "\n",
        "                # Вычисление ROUGE на авторегрессионных предсказаниях\n",
        "                pred_sentences = decode_tokens(output_autoregressive, vocab)\n",
        "                target_sentences = decode_tokens(target_inputs[:, 1:], vocab)  # Игнорируем начальный токен\n",
        "\n",
        "\n",
        "                # Считаем метрики Rouge\n",
        "                batch_rouge1 = 0\n",
        "                batch_rouge2 = 0\n",
        "                batch_rougeL = 0\n",
        "                for pred, ref in zip(pred_sentences, target_sentences):\n",
        "                    scores = scorer.score(ref, pred)\n",
        "                    batch_rouge1 += scores['rouge1'].fmeasure\n",
        "                    batch_rouge2 += scores['rouge2'].fmeasure\n",
        "                    batch_rougeL += scores['rougeL'].fmeasure\n",
        "\n",
        "                total_rouge1 += batch_rouge1 / batch_size\n",
        "                total_rouge2 += batch_rouge2 / batch_size\n",
        "                total_rougeL += batch_rougeL / batch_size\n",
        "\n",
        "\n",
        "                if optimizer:\n",
        "                    optimizer.optimizer.zero_grad()\n",
        "                    loss.backward()\n",
        "                    optimizer.step()\n",
        "\n",
        "                progress_bar.update()\n",
        "                progress_bar.set_description(\n",
        "                    '{:>5s} Loss = {:.5f}, PPX = {:.2f}, R1 = {:.3f}, R2 = {:.3f}, RL = {:.3f}'.format(\n",
        "                        name, loss.item(), math.exp(loss.item()),\n",
        "                        batch_rouge1 / batch_size, batch_rouge2 / batch_size, batch_rougeL / batch_size\n",
        "                    )\n",
        "                )\n",
        "\n",
        "\n",
        "            avg_loss = epoch_loss / batches_count\n",
        "            avg_rouge1 = total_rouge1 / batches_count\n",
        "            avg_rouge2 = total_rouge2 / batches_count\n",
        "            avg_rougeL = total_rougeL / batches_count\n",
        "\n",
        "            progress_bar.set_description(\n",
        "                '{:>5s} Loss = {:.5f}, PPX = {:.2f}, R1 = {:.3f}, R2 = {:.3f}, RL = {:.3f}'.format(\n",
        "                    name, avg_loss, math.exp(avg_loss), avg_rouge1, avg_rouge2, avg_rougeL\n",
        "                )\n",
        "            )\n",
        "            progress_bar.refresh()\n",
        "\n",
        "    return {\n",
        "        'loss': avg_loss,\n",
        "        'ppx': math.exp(avg_loss),\n",
        "        'rouge1': avg_rouge1,\n",
        "        'rouge2': avg_rouge2,\n",
        "        'rougeL': avg_rougeL\n",
        "    }\n",
        "\n",
        "def fit(model, criterion, optimizer, train_iter, epochs_count=1, val_iter=None,\n",
        "        save_path1=None, patience=7, start_epoch=0, best_val_loss=float('inf')):\n",
        "\n",
        "    epochs_no_improve = 0\n",
        "    best_model_state = None\n",
        "\n",
        "    initial_teacher_forcing = 0.7\n",
        "    min_teacher_forcing = 0.1\n",
        "    decay_rate = 0.03\n",
        "\n",
        "    for epoch in range(start_epoch, start_epoch + epochs_count):\n",
        "        name_prefix = f\"[{epoch + 1} / {start_epoch + epochs_count}] \"\n",
        "        teacher_forcing_ratio = max(min_teacher_forcing, initial_teacher_forcing - decay_rate * epoch)\n",
        "\n",
        "        train_loss = do_epoch(model, criterion, train_iter, optimizer, name_prefix + \"Train:\", teacher_forcing_ratio)\n",
        "\n",
        "        if val_iter is not None:\n",
        "            metrics = do_epoch(model, criterion, val_iter, None, name_prefix + \"Val:\", teacher_forcing_ratio=0.0)\n",
        "            val_loss = metrics['loss']\n",
        "\n",
        "            if val_loss < best_val_loss - 1e-4:  # небольшая дельта, чтобы избежать флуктуаций\n",
        "                best_val_loss = val_loss\n",
        "                best_model_state = model.state_dict()\n",
        "                epochs_no_improve = 0\n",
        "                print(f\"New best model found! val_loss={val_loss:.4f}\")\n",
        "                if save_path1:\n",
        "                    torch.save({\n",
        "                        'model_state_dict': best_model_state,\n",
        "                        'optimizer_state_dict': optimizer.optimizer.state_dict(),\n",
        "                        'noam_step': optimizer._step,\n",
        "                        'best_val_loss': best_val_loss,\n",
        "                        'epoch': epoch\n",
        "                    }, save_path1)\n",
        "            else:\n",
        "                epochs_no_improve += 1\n",
        "                print(f\"No improvement. Patience: {epochs_no_improve}/{patience}\")\n",
        "                if epochs_no_improve >= patience:\n",
        "                    print(\"Early stopping triggered!\")\n",
        "                    if save_path and best_model_state is not None:\n",
        "                        model.load_state_dict(best_model_state)\n",
        "                    break\n",
        "\n",
        "        print(f\"Epoch {epoch + 1}: Teacher Forcing Ratio = {teacher_forcing_ratio:.2f}\")\n",
        "\n",
        "\n",
        "\n",
        "\n",
        "\n",
        "def decode_tokens(tensor, vocab, skip_tokens=('<pad>', '<sos>', '<eos>')):\n",
        "    \"\"\"\n",
        "    Декодирует тензор с индексами токенов в строки, пропуская служебные токены.\n",
        "\n",
        "    Args:\n",
        "        tensor (torch.Tensor): Тензор формы [batch_size, seq_len].\n",
        "        vocab (torchtext.vocab.Vocab): Словарь для преобразования индексов в слова.\n",
        "        skip_tokens (tuple): Токены, которые нужно пропустить (например, паддинг).\n",
        "\n",
        "    Returns:\n",
        "        list[str]: Декодированные предложения.\n",
        "    \"\"\"\n",
        "    sentences = []\n",
        "    skip_ids = [vocab.stoi[token] for token in skip_tokens if token in vocab.stoi]\n",
        "\n",
        "    for seq in tensor:\n",
        "        tokens = [\n",
        "            vocab.itos[token.item()]\n",
        "            for token in seq\n",
        "            if token.item() not in skip_ids\n",
        "        ]\n",
        "        sentences.append(\" \".join(tokens))\n",
        "\n",
        "    return sentences"
      ]
    },
    {
      "cell_type": "code",
      "execution_count": null,
      "metadata": {
        "id": "PO94O9TuzufI"
      },
      "outputs": [],
      "source": []
    },
    {
      "cell_type": "code",
      "execution_count": null,
      "metadata": {
        "id": "JFaeGsKSzuiO"
      },
      "outputs": [],
      "source": []
    },
    {
      "cell_type": "code",
      "execution_count": null,
      "metadata": {
        "id": "yvjcwLDhzule"
      },
      "outputs": [],
      "source": []
    },
    {
      "cell_type": "code",
      "execution_count": null,
      "metadata": {
        "id": "p6rhB6H-qu1y"
      },
      "outputs": [],
      "source": []
    },
    {
      "cell_type": "code",
      "execution_count": null,
      "metadata": {
        "id": "qzSK8Fm_zkVJ"
      },
      "outputs": [],
      "source": [
        "tqdm.get_lock().locks = []\n",
        "from rouge_score import rouge_scorer\n",
        "\n",
        "def do_epoch(model, criterion, data_iter, optimizer=None, name=None, teacher_forcing_ratio=0.5):\n",
        "    epoch_loss = 0\n",
        "    total_rouge1 = 0\n",
        "    total_rouge2 = 0\n",
        "    total_rougeL = 0\n",
        "\n",
        "    is_train = optimizer is not None\n",
        "    name = name or ''\n",
        "    model.train(is_train)\n",
        "\n",
        "    batches_count = len(data_iter)\n",
        "\n",
        "    scorer = rouge_scorer.RougeScorer(['rouge1', 'rouge2', 'rougeL'], use_stemmer=True)\n",
        "\n",
        "    with torch.autograd.set_grad_enabled(is_train):\n",
        "        with tqdm(total=batches_count) as progress_bar:\n",
        "            for i, batch in enumerate(data_iter):\n",
        "                source_inputs, target_inputs, source_mask, target_mask = convert_batch(batch)\n",
        "                encoder_output = model.encoder(source_inputs, source_mask)\n",
        "\n",
        "                batch_size, target_len = target_inputs.size()\n",
        "\n",
        "                output_teacher = target_inputs[:, 0].unsqueeze(1)  # Для обучения (с Teacher Forcing)\n",
        "                output_autoregressive = target_inputs[:, 0].unsqueeze(1)  # Для ROUGE (без Teacher Forcing)\n",
        "\n",
        "                for t in range(1, target_len):\n",
        "                    # Общая часть: вычисление logits для обоих режимов\n",
        "                    logits_teacher = model.decoder(output_teacher, encoder_output, source_mask, target_mask[:, :t, :t])\n",
        "                    logits_autoregressive = model.decoder(output_autoregressive, encoder_output, source_mask, target_mask[:, :t, :t])\n",
        "\n",
        "                    next_token_logits = logits_teacher[:, -1, :]\n",
        "                    next_token = next_token_logits.argmax(dim=-1)\n",
        "\n",
        "                    # Teacher Forcing для обучения\n",
        "                    teacher_force = random.random() < teacher_forcing_ratio\n",
        "                    next_input_teacher = target_inputs[:, t] if teacher_force else next_token\n",
        "                    next_input_teacher = next_input_teacher.unsqueeze(1)\n",
        "                    output_teacher = torch.cat((output_teacher, next_input_teacher), dim=1)\n",
        "\n",
        "                    # Авторегрессия для ROUGE\n",
        "                    next_input_autoregressive = next_token\n",
        "                    output_autoregressive = torch.cat((output_autoregressive, next_input_autoregressive.unsqueeze(1)), dim=1)\n",
        "\n",
        "                # Вычисление потерь на предсказаниях с Teacher Forcing\n",
        "                logits = model.decoder(output_teacher[:, :-1], encoder_output, source_mask, target_mask[:, :-1, :-1])\n",
        "                logits = logits.contiguous().view(-1, logits.shape[-1])\n",
        "                target = target_inputs[:, 1:].contiguous().view(-1)\n",
        "                loss = criterion(logits, target)\n",
        "                epoch_loss += loss.item()\n",
        "\n",
        "\n",
        "                # Вычисление ROUGE на авторегрессионных предсказаниях\n",
        "                pred_sentences = decode_tokens(output_autoregressive, vocab)\n",
        "                target_sentences = decode_tokens(target_inputs[:, 1:], vocab)  # Игнорируем начальный токен\n",
        "\n",
        "\n",
        "                # Считаем метрики Rouge\n",
        "                batch_rouge1 = 0\n",
        "                batch_rouge2 = 0\n",
        "                batch_rougeL = 0\n",
        "                for pred, ref in zip(pred_sentences, target_sentences):\n",
        "                    scores = scorer.score(ref, pred)\n",
        "                    batch_rouge1 += scores['rouge1'].fmeasure\n",
        "                    batch_rouge2 += scores['rouge2'].fmeasure\n",
        "                    batch_rougeL += scores['rougeL'].fmeasure\n",
        "\n",
        "                total_rouge1 += batch_rouge1 / batch_size\n",
        "                total_rouge2 += batch_rouge2 / batch_size\n",
        "                total_rougeL += batch_rougeL / batch_size\n",
        "\n",
        "\n",
        "                if optimizer:\n",
        "                    optimizer.optimizer.zero_grad()\n",
        "                    loss.backward()\n",
        "                    optimizer.step()\n",
        "\n",
        "                progress_bar.update()\n",
        "                progress_bar.set_description(\n",
        "                    '{:>5s} Loss = {:.5f}, PPX = {:.2f}, R1 = {:.3f}, R2 = {:.3f}, RL = {:.3f}'.format(\n",
        "                        name, loss.item(), math.exp(loss.item()),\n",
        "                        batch_rouge1 / batch_size, batch_rouge2 / batch_size, batch_rougeL / batch_size\n",
        "                    )\n",
        "                )\n",
        "\n",
        "\n",
        "            avg_loss = epoch_loss / batches_count\n",
        "            avg_rouge1 = total_rouge1 / batches_count\n",
        "            avg_rouge2 = total_rouge2 / batches_count\n",
        "            avg_rougeL = total_rougeL / batches_count\n",
        "\n",
        "            progress_bar.set_description(\n",
        "                '{:>5s} Loss = {:.5f}, PPX = {:.2f}, R1 = {:.3f}, R2 = {:.3f}, RL = {:.3f}'.format(\n",
        "                    name, avg_loss, math.exp(avg_loss), avg_rouge1, avg_rouge2, avg_rougeL\n",
        "                )\n",
        "            )\n",
        "            progress_bar.refresh()\n",
        "\n",
        "    return {\n",
        "        'loss': avg_loss,\n",
        "        'ppx': math.exp(avg_loss),\n",
        "        'rouge1': avg_rouge1,\n",
        "        'rouge2': avg_rouge2,\n",
        "        'rougeL': avg_rougeL\n",
        "    }\n",
        "\n",
        "def fit(model, criterion, optimizer, train_iter, epochs_count=1, val_iter=None,\n",
        "        save_path1=None, patience=7, start_epoch=0, best_val_loss=float('inf'),\n",
        "        train_metrics_file = Path('train_metrics.csv'), val_metrics_file = Path('val_metrics.csv')):\n",
        "\n",
        "    epochs_no_improve = 0\n",
        "    best_model_state = None\n",
        "\n",
        "    initial_teacher_forcing = 0.7\n",
        "    min_teacher_forcing = 0.1\n",
        "    decay_rate = 0.03\n",
        "\n",
        "    for epoch in range(start_epoch, start_epoch + epochs_count):\n",
        "        name_prefix = f\"[{epoch + 1} / {start_epoch + epochs_count}] \"\n",
        "        teacher_forcing_ratio = max(min_teacher_forcing, initial_teacher_forcing - decay_rate * epoch)\n",
        "\n",
        "        train_metrics = do_epoch(model, criterion, train_iter, optimizer, name_prefix + \"Train:\", teacher_forcing_ratio)\n",
        "        train_loss = train_metrics['loss']\n",
        "        save_metrics(train_metrics_file,epoch,train_metrics)\n",
        "        if val_iter is not None:\n",
        "            val_metrics = do_epoch(model, criterion, val_iter, None, name_prefix + \"Val:\", teacher_forcing_ratio=0.0)\n",
        "            val_loss = val_metrics['loss']\n",
        "            save_metrics(val_metrics_file,epoch,val_metrics)\n",
        "\n",
        "\n",
        "\n",
        "            if val_loss < best_val_loss - 1e-4:  # небольшая дельта, чтобы избежать флуктуаций\n",
        "                best_val_loss = val_loss\n",
        "                best_model_state = model.state_dict()\n",
        "                epochs_no_improve = 0\n",
        "                print(f\"New best model found! val_loss={val_loss:.4f}\")\n",
        "                if save_path1:\n",
        "                    torch.save({\n",
        "                        'model_state_dict': best_model_state,\n",
        "                        'optimizer_state_dict': optimizer.optimizer.state_dict(),\n",
        "                        'noam_step': optimizer._step,\n",
        "                        'best_val_loss': best_val_loss,\n",
        "                        'epoch': epoch\n",
        "                    }, save_path1)\n",
        "            else:\n",
        "                epochs_no_improve += 1\n",
        "                print(f\"No improvement. Patience: {epochs_no_improve}/{patience}\")\n",
        "                if epochs_no_improve >= patience:\n",
        "                    print(\"Early stopping triggered!\")\n",
        "                    if save_path and best_model_state is not None:\n",
        "                        model.load_state_dict(best_model_state)\n",
        "                    break\n",
        "\n",
        "        print(f\"Epoch {epoch + 1}: Teacher Forcing Ratio = {teacher_forcing_ratio:.2f}\")\n",
        "\n",
        "\n",
        "\n",
        "\n",
        "\n",
        "def decode_tokens(tensor, vocab, skip_tokens=('<pad>', '<sos>', '<eos>')):\n",
        "    \"\"\"\n",
        "    Декодирует тензор с индексами токенов в строки, пропуская служебные токены.\n",
        "\n",
        "    Args:\n",
        "        tensor (torch.Tensor): Тензор формы [batch_size, seq_len].\n",
        "        vocab (torchtext.vocab.Vocab): Словарь для преобразования индексов в слова.\n",
        "        skip_tokens (tuple): Токены, которые нужно пропустить (например, паддинг).\n",
        "\n",
        "    Returns:\n",
        "        list[str]: Декодированные предложения.\n",
        "    \"\"\"\n",
        "    sentences = []\n",
        "    skip_ids = [vocab.stoi[token] for token in skip_tokens if token in vocab.stoi]\n",
        "\n",
        "    for seq in tensor:\n",
        "        tokens = [\n",
        "            vocab.itos[token.item()]\n",
        "            for token in seq\n",
        "            if token.item() not in skip_ids\n",
        "        ]\n",
        "        sentences.append(\" \".join(tokens))\n",
        "\n",
        "    return sentences"
      ]
    },
    {
      "cell_type": "code",
      "execution_count": null,
      "metadata": {
        "id": "87VMOZFVzkYg"
      },
      "outputs": [],
      "source": []
    },
    {
      "cell_type": "code",
      "execution_count": null,
      "metadata": {
        "id": "zbQfe2AAzkcT"
      },
      "outputs": [],
      "source": [
        "def evaluate_model(model,):\n",
        "train_iter, test_iter = BucketIterator.splits(\n",
        "    (train_dataset, test_dataset),\n",
        "    batch_sizes=(32, 64),\n",
        "    sort_key=lambda x: len(x.source),\n",
        "    sort=False,\n",
        "    device=DEVICE\n",
        ")\n",
        "    val_metrics = do_epoch(model, criterion, val_iter, None, name_prefix + \"Val:\", teacher_forcing_ratio=0.0)"
      ]
    },
    {
      "cell_type": "code",
      "execution_count": null,
      "metadata": {
        "id": "4RettzJTkhtd"
      },
      "outputs": [],
      "source": []
    },
    {
      "cell_type": "code",
      "execution_count": null,
      "metadata": {
        "id": "LFlJmwb5khwb"
      },
      "outputs": [],
      "source": []
    },
    {
      "cell_type": "code",
      "execution_count": null,
      "metadata": {
        "id": "RhkAAEYnkhzU"
      },
      "outputs": [],
      "source": []
    },
    {
      "cell_type": "code",
      "execution_count": null,
      "metadata": {
        "id": "fQqLHbF5kh2c"
      },
      "outputs": [],
      "source": []
    },
    {
      "cell_type": "markdown",
      "metadata": {
        "id": "iRudmDewoIPJ"
      },
      "source": [
        "# Домашнее задание"
      ]
    },
    {
      "cell_type": "markdown",
      "metadata": {
        "id": "PRMFkzDV-wI9"
      },
      "source": [
        "## Применение модели\n",
        "\n",
        "**Задание** Добавьте генератор суммаризации для модели.\n",
        "\n",
        "**Задание** Добавьте оценку для модели с помощью ROUGE metric (например, из пакета https://pypi.org/project/pyrouge/0.1.3/)\n",
        "\n",
        "**Задание** Добавьте визуализацию механизма attention (можно подсмотреть в коде по ссылкам)."
      ]
    },
    {
      "cell_type": "markdown",
      "metadata": {
        "id": "Ij1GiNx54Ke5"
      },
      "source": [
        "## Улучшения модели\n",
        "\n",
        "**Задание** Попробовать расшарить матрицы эмбеддингов - их тут три (входные в энкодер и декодер + выход декодера).\n",
        "\n",
        "**Задание** Замените лосс на LabelSmoothing.\n",
        "\n",
        "**Задание** Добавьте предодученные эмбединги."
      ]
    },
    {
      "cell_type": "markdown",
      "metadata": {
        "id": "N4-3pYqVJIKA"
      },
      "source": [
        "# Дополнительные материалы\n",
        "\n",
        "## Статьи\n",
        "Attention Is All You Need, 2017 [[pdf]](https://arxiv.org/pdf/1706.03762.pdf)  \n",
        "Get To The Point: Summarization with Pointer-Generator Networks, 2017 [[pdf]](https://arxiv.org/pdf/1704.04368.pdf)  \n",
        "Universal Transformers, 2018 [[arxiv]](https://arxiv.org/abs/1807.03819)\n",
        "\n",
        "## Блоги\n",
        "[Transformer — новая архитектура нейросетей для работы с последовательностями](https://habr.com/post/341240/)  \n",
        "[The Illustrated Transformer](http://jalammar.github.io/illustrated-transformer/)  \n",
        "[The Annotated Transformer](http://nlp.seas.harvard.edu/2018/04/03/attention.html)  \n",
        "[Weighted Tranformer](https://einstein.ai/research/blog/weighted-transformer)  \n",
        "[Your tldr by an ai: a deep reinforced model for abstractive summarization](https://einstein.ai/research/blog/your-tldr-by-an-ai-a-deep-reinforced-model-for-abstractive-summarization)"
      ]
    }
  ],
  "metadata": {
    "accelerator": "GPU",
    "colab": {
      "gpuType": "T4",
      "machine_shape": "hm",
      "provenance": []
    },
    "hide_input": false,
    "kernelspec": {
      "display_name": "Python 3",
      "name": "python3"
    },
    "language_info": {
      "codemirror_mode": {
        "name": "ipython",
        "version": 3
      },
      "file_extension": ".py",
      "mimetype": "text/x-python",
      "name": "python",
      "nbconvert_exporter": "python",
      "pygments_lexer": "ipython3",
      "version": "3.10.12"
    },
    "toc": {
      "base_numbering": 1,
      "nav_menu": {},
      "number_sections": true,
      "sideBar": true,
      "skip_h1_title": false,
      "title_cell": "Table of Contents",
      "title_sidebar": "Contents",
      "toc_cell": false,
      "toc_position": {},
      "toc_section_display": true,
      "toc_window_display": false
    },
    "varInspector": {
      "cols": {
        "lenName": 16,
        "lenType": 16,
        "lenVar": 40
      },
      "kernels_config": {
        "python": {
          "delete_cmd_postfix": "",
          "delete_cmd_prefix": "del ",
          "library": "var_list.py",
          "varRefreshCmd": "print(var_dic_list())"
        },
        "r": {
          "delete_cmd_postfix": ") ",
          "delete_cmd_prefix": "rm(",
          "library": "var_list.r",
          "varRefreshCmd": "cat(var_dic_list()) "
        }
      },
      "types_to_exclude": [
        "module",
        "function",
        "builtin_function_or_method",
        "instance",
        "_Feature"
      ],
      "window_display": false
    },
    "widgets": {
      "application/vnd.jupyter.widget-state+json": {
        "03dee7058e1a4b6e84e43217a05e45f8": {
          "model_module": "@jupyter-widgets/base",
          "model_module_version": "1.2.0",
          "model_name": "LayoutModel",
          "state": {
            "_model_module": "@jupyter-widgets/base",
            "_model_module_version": "1.2.0",
            "_model_name": "LayoutModel",
            "_view_count": null,
            "_view_module": "@jupyter-widgets/base",
            "_view_module_version": "1.2.0",
            "_view_name": "LayoutView",
            "align_content": null,
            "align_items": null,
            "align_self": null,
            "border": null,
            "bottom": null,
            "display": null,
            "flex": null,
            "flex_flow": null,
            "grid_area": null,
            "grid_auto_columns": null,
            "grid_auto_flow": null,
            "grid_auto_rows": null,
            "grid_column": null,
            "grid_gap": null,
            "grid_row": null,
            "grid_template_areas": null,
            "grid_template_columns": null,
            "grid_template_rows": null,
            "height": null,
            "justify_content": null,
            "justify_items": null,
            "left": null,
            "margin": null,
            "max_height": null,
            "max_width": null,
            "min_height": null,
            "min_width": null,
            "object_fit": null,
            "object_position": null,
            "order": null,
            "overflow": null,
            "overflow_x": null,
            "overflow_y": null,
            "padding": null,
            "right": null,
            "top": null,
            "visibility": null,
            "width": null
          }
        },
        "0abf6f75fdf84ac8bf2b326701e4ee83": {
          "model_module": "@jupyter-widgets/base",
          "model_module_version": "1.2.0",
          "model_name": "LayoutModel",
          "state": {
            "_model_module": "@jupyter-widgets/base",
            "_model_module_version": "1.2.0",
            "_model_name": "LayoutModel",
            "_view_count": null,
            "_view_module": "@jupyter-widgets/base",
            "_view_module_version": "1.2.0",
            "_view_name": "LayoutView",
            "align_content": null,
            "align_items": null,
            "align_self": null,
            "border": null,
            "bottom": null,
            "display": null,
            "flex": null,
            "flex_flow": null,
            "grid_area": null,
            "grid_auto_columns": null,
            "grid_auto_flow": null,
            "grid_auto_rows": null,
            "grid_column": null,
            "grid_gap": null,
            "grid_row": null,
            "grid_template_areas": null,
            "grid_template_columns": null,
            "grid_template_rows": null,
            "height": null,
            "justify_content": null,
            "justify_items": null,
            "left": null,
            "margin": null,
            "max_height": null,
            "max_width": null,
            "min_height": null,
            "min_width": null,
            "object_fit": null,
            "object_position": null,
            "order": null,
            "overflow": null,
            "overflow_x": null,
            "overflow_y": null,
            "padding": null,
            "right": null,
            "top": null,
            "visibility": null,
            "width": null
          }
        },
        "0cf116f9f22445cea64393cb58c42f75": {
          "model_module": "@jupyter-widgets/controls",
          "model_module_version": "1.5.0",
          "model_name": "DescriptionStyleModel",
          "state": {
            "_model_module": "@jupyter-widgets/controls",
            "_model_module_version": "1.5.0",
            "_model_name": "DescriptionStyleModel",
            "_view_count": null,
            "_view_module": "@jupyter-widgets/base",
            "_view_module_version": "1.2.0",
            "_view_name": "StyleView",
            "description_width": ""
          }
        },
        "0e68d49f6db04054b6165040a7f4f740": {
          "model_module": "@jupyter-widgets/base",
          "model_module_version": "1.2.0",
          "model_name": "LayoutModel",
          "state": {
            "_model_module": "@jupyter-widgets/base",
            "_model_module_version": "1.2.0",
            "_model_name": "LayoutModel",
            "_view_count": null,
            "_view_module": "@jupyter-widgets/base",
            "_view_module_version": "1.2.0",
            "_view_name": "LayoutView",
            "align_content": null,
            "align_items": null,
            "align_self": null,
            "border": null,
            "bottom": null,
            "display": null,
            "flex": null,
            "flex_flow": null,
            "grid_area": null,
            "grid_auto_columns": null,
            "grid_auto_flow": null,
            "grid_auto_rows": null,
            "grid_column": null,
            "grid_gap": null,
            "grid_row": null,
            "grid_template_areas": null,
            "grid_template_columns": null,
            "grid_template_rows": null,
            "height": null,
            "justify_content": null,
            "justify_items": null,
            "left": null,
            "margin": null,
            "max_height": null,
            "max_width": null,
            "min_height": null,
            "min_width": null,
            "object_fit": null,
            "object_position": null,
            "order": null,
            "overflow": null,
            "overflow_x": null,
            "overflow_y": null,
            "padding": null,
            "right": null,
            "top": null,
            "visibility": null,
            "width": null
          }
        },
        "1a04a52b79194dc78da0351afbb308fd": {
          "model_module": "@jupyter-widgets/base",
          "model_module_version": "1.2.0",
          "model_name": "LayoutModel",
          "state": {
            "_model_module": "@jupyter-widgets/base",
            "_model_module_version": "1.2.0",
            "_model_name": "LayoutModel",
            "_view_count": null,
            "_view_module": "@jupyter-widgets/base",
            "_view_module_version": "1.2.0",
            "_view_name": "LayoutView",
            "align_content": null,
            "align_items": null,
            "align_self": null,
            "border": null,
            "bottom": null,
            "display": null,
            "flex": null,
            "flex_flow": null,
            "grid_area": null,
            "grid_auto_columns": null,
            "grid_auto_flow": null,
            "grid_auto_rows": null,
            "grid_column": null,
            "grid_gap": null,
            "grid_row": null,
            "grid_template_areas": null,
            "grid_template_columns": null,
            "grid_template_rows": null,
            "height": null,
            "justify_content": null,
            "justify_items": null,
            "left": null,
            "margin": null,
            "max_height": null,
            "max_width": null,
            "min_height": null,
            "min_width": null,
            "object_fit": null,
            "object_position": null,
            "order": null,
            "overflow": null,
            "overflow_x": null,
            "overflow_y": null,
            "padding": null,
            "right": null,
            "top": null,
            "visibility": null,
            "width": null
          }
        },
        "25f6720345944daf9abd392035422198": {
          "model_module": "@jupyter-widgets/base",
          "model_module_version": "1.2.0",
          "model_name": "LayoutModel",
          "state": {
            "_model_module": "@jupyter-widgets/base",
            "_model_module_version": "1.2.0",
            "_model_name": "LayoutModel",
            "_view_count": null,
            "_view_module": "@jupyter-widgets/base",
            "_view_module_version": "1.2.0",
            "_view_name": "LayoutView",
            "align_content": null,
            "align_items": null,
            "align_self": null,
            "border": null,
            "bottom": null,
            "display": null,
            "flex": null,
            "flex_flow": null,
            "grid_area": null,
            "grid_auto_columns": null,
            "grid_auto_flow": null,
            "grid_auto_rows": null,
            "grid_column": null,
            "grid_gap": null,
            "grid_row": null,
            "grid_template_areas": null,
            "grid_template_columns": null,
            "grid_template_rows": null,
            "height": null,
            "justify_content": null,
            "justify_items": null,
            "left": null,
            "margin": null,
            "max_height": null,
            "max_width": null,
            "min_height": null,
            "min_width": null,
            "object_fit": null,
            "object_position": null,
            "order": null,
            "overflow": null,
            "overflow_x": null,
            "overflow_y": null,
            "padding": null,
            "right": null,
            "top": null,
            "visibility": null,
            "width": null
          }
        },
        "271c60847a924497a691dbd07698163f": {
          "model_module": "@jupyter-widgets/controls",
          "model_module_version": "1.5.0",
          "model_name": "ProgressStyleModel",
          "state": {
            "_model_module": "@jupyter-widgets/controls",
            "_model_module_version": "1.5.0",
            "_model_name": "ProgressStyleModel",
            "_view_count": null,
            "_view_module": "@jupyter-widgets/base",
            "_view_module_version": "1.2.0",
            "_view_name": "StyleView",
            "bar_color": null,
            "description_width": ""
          }
        },
        "31ba259d750b429d9a4069fae98b933c": {
          "model_module": "@jupyter-widgets/controls",
          "model_module_version": "1.5.0",
          "model_name": "HTMLModel",
          "state": {
            "_dom_classes": [],
            "_model_module": "@jupyter-widgets/controls",
            "_model_module_version": "1.5.0",
            "_model_name": "HTMLModel",
            "_view_count": null,
            "_view_module": "@jupyter-widgets/controls",
            "_view_module_version": "1.5.0",
            "_view_name": "HTMLView",
            "description": "",
            "description_tooltip": null,
            "layout": "IPY_MODEL_1a04a52b79194dc78da0351afbb308fd",
            "placeholder": "​",
            "style": "IPY_MODEL_6cdaef02343b49e2a4942226dc6c2f69",
            "value": "[31 / 40] Train: Loss = 3.62541, PPX = 37.54, R1 = 0.263, R2 = 0.172, RL = 0.263: 100%"
          }
        },
        "33437bd2a1044be289d068faa00bde23": {
          "model_module": "@jupyter-widgets/base",
          "model_module_version": "1.2.0",
          "model_name": "LayoutModel",
          "state": {
            "_model_module": "@jupyter-widgets/base",
            "_model_module_version": "1.2.0",
            "_model_name": "LayoutModel",
            "_view_count": null,
            "_view_module": "@jupyter-widgets/base",
            "_view_module_version": "1.2.0",
            "_view_name": "LayoutView",
            "align_content": null,
            "align_items": null,
            "align_self": null,
            "border": null,
            "bottom": null,
            "display": null,
            "flex": null,
            "flex_flow": null,
            "grid_area": null,
            "grid_auto_columns": null,
            "grid_auto_flow": null,
            "grid_auto_rows": null,
            "grid_column": null,
            "grid_gap": null,
            "grid_row": null,
            "grid_template_areas": null,
            "grid_template_columns": null,
            "grid_template_rows": null,
            "height": null,
            "justify_content": null,
            "justify_items": null,
            "left": null,
            "margin": null,
            "max_height": null,
            "max_width": null,
            "min_height": null,
            "min_width": null,
            "object_fit": null,
            "object_position": null,
            "order": null,
            "overflow": null,
            "overflow_x": null,
            "overflow_y": null,
            "padding": null,
            "right": null,
            "top": null,
            "visibility": null,
            "width": null
          }
        },
        "365c340292d2495ba5f6f8840af1a400": {
          "model_module": "@jupyter-widgets/controls",
          "model_module_version": "1.5.0",
          "model_name": "FloatProgressModel",
          "state": {
            "_dom_classes": [],
            "_model_module": "@jupyter-widgets/controls",
            "_model_module_version": "1.5.0",
            "_model_name": "FloatProgressModel",
            "_view_count": null,
            "_view_module": "@jupyter-widgets/controls",
            "_view_module_version": "1.5.0",
            "_view_name": "ProgressView",
            "bar_style": "success",
            "description": "",
            "description_tooltip": null,
            "layout": "IPY_MODEL_924621a422554118894ea65ac3f7c08e",
            "max": 175,
            "min": 0,
            "orientation": "horizontal",
            "style": "IPY_MODEL_271c60847a924497a691dbd07698163f",
            "value": 175
          }
        },
        "3c6a6ea1411b42e2a9dc540cfd5f0896": {
          "model_module": "@jupyter-widgets/controls",
          "model_module_version": "1.5.0",
          "model_name": "HBoxModel",
          "state": {
            "_dom_classes": [],
            "_model_module": "@jupyter-widgets/controls",
            "_model_module_version": "1.5.0",
            "_model_name": "HBoxModel",
            "_view_count": null,
            "_view_module": "@jupyter-widgets/controls",
            "_view_module_version": "1.5.0",
            "_view_name": "HBoxView",
            "box_style": "",
            "children": [
              "IPY_MODEL_454f2daa5fd54b19ad01cb62d750d354",
              "IPY_MODEL_56f5d249595c414d80707796b1890f32",
              "IPY_MODEL_c97532d083044182b8c04777f7ce42d6"
            ],
            "layout": "IPY_MODEL_0e68d49f6db04054b6165040a7f4f740"
          }
        },
        "41c2096c64974a27b215f0ae68b85245": {
          "model_module": "@jupyter-widgets/controls",
          "model_module_version": "1.5.0",
          "model_name": "DescriptionStyleModel",
          "state": {
            "_model_module": "@jupyter-widgets/controls",
            "_model_module_version": "1.5.0",
            "_model_name": "DescriptionStyleModel",
            "_view_count": null,
            "_view_module": "@jupyter-widgets/base",
            "_view_module_version": "1.2.0",
            "_view_name": "StyleView",
            "description_width": ""
          }
        },
        "454f2daa5fd54b19ad01cb62d750d354": {
          "model_module": "@jupyter-widgets/controls",
          "model_module_version": "1.5.0",
          "model_name": "HTMLModel",
          "state": {
            "_dom_classes": [],
            "_model_module": "@jupyter-widgets/controls",
            "_model_module_version": "1.5.0",
            "_model_name": "HTMLModel",
            "_view_count": null,
            "_view_module": "@jupyter-widgets/controls",
            "_view_module_version": "1.5.0",
            "_view_name": "HTMLView",
            "description": "",
            "description_tooltip": null,
            "layout": "IPY_MODEL_03dee7058e1a4b6e84e43217a05e45f8",
            "placeholder": "​",
            "style": "IPY_MODEL_41c2096c64974a27b215f0ae68b85245",
            "value": "[32 / 40] Train: Loss = 3.56137, PPX = 35.21, R1 = 0.262, R2 = 0.167, RL = 0.260:  50%"
          }
        },
        "4c05c034f2ed470f95e0c1d3b2ea5780": {
          "model_module": "@jupyter-widgets/base",
          "model_module_version": "1.2.0",
          "model_name": "LayoutModel",
          "state": {
            "_model_module": "@jupyter-widgets/base",
            "_model_module_version": "1.2.0",
            "_model_name": "LayoutModel",
            "_view_count": null,
            "_view_module": "@jupyter-widgets/base",
            "_view_module_version": "1.2.0",
            "_view_name": "LayoutView",
            "align_content": null,
            "align_items": null,
            "align_self": null,
            "border": null,
            "bottom": null,
            "display": null,
            "flex": null,
            "flex_flow": null,
            "grid_area": null,
            "grid_auto_columns": null,
            "grid_auto_flow": null,
            "grid_auto_rows": null,
            "grid_column": null,
            "grid_gap": null,
            "grid_row": null,
            "grid_template_areas": null,
            "grid_template_columns": null,
            "grid_template_rows": null,
            "height": null,
            "justify_content": null,
            "justify_items": null,
            "left": null,
            "margin": null,
            "max_height": null,
            "max_width": null,
            "min_height": null,
            "min_width": null,
            "object_fit": null,
            "object_position": null,
            "order": null,
            "overflow": null,
            "overflow_x": null,
            "overflow_y": null,
            "padding": null,
            "right": null,
            "top": null,
            "visibility": null,
            "width": null
          }
        },
        "4dd5e2ca6f1c416aaefe251c061e6da3": {
          "model_module": "@jupyter-widgets/base",
          "model_module_version": "1.2.0",
          "model_name": "LayoutModel",
          "state": {
            "_model_module": "@jupyter-widgets/base",
            "_model_module_version": "1.2.0",
            "_model_name": "LayoutModel",
            "_view_count": null,
            "_view_module": "@jupyter-widgets/base",
            "_view_module_version": "1.2.0",
            "_view_name": "LayoutView",
            "align_content": null,
            "align_items": null,
            "align_self": null,
            "border": null,
            "bottom": null,
            "display": null,
            "flex": null,
            "flex_flow": null,
            "grid_area": null,
            "grid_auto_columns": null,
            "grid_auto_flow": null,
            "grid_auto_rows": null,
            "grid_column": null,
            "grid_gap": null,
            "grid_row": null,
            "grid_template_areas": null,
            "grid_template_columns": null,
            "grid_template_rows": null,
            "height": null,
            "justify_content": null,
            "justify_items": null,
            "left": null,
            "margin": null,
            "max_height": null,
            "max_width": null,
            "min_height": null,
            "min_width": null,
            "object_fit": null,
            "object_position": null,
            "order": null,
            "overflow": null,
            "overflow_x": null,
            "overflow_y": null,
            "padding": null,
            "right": null,
            "top": null,
            "visibility": null,
            "width": null
          }
        },
        "4ef6720ce5774e0dbb9f581deb8c7cfd": {
          "model_module": "@jupyter-widgets/base",
          "model_module_version": "1.2.0",
          "model_name": "LayoutModel",
          "state": {
            "_model_module": "@jupyter-widgets/base",
            "_model_module_version": "1.2.0",
            "_model_name": "LayoutModel",
            "_view_count": null,
            "_view_module": "@jupyter-widgets/base",
            "_view_module_version": "1.2.0",
            "_view_name": "LayoutView",
            "align_content": null,
            "align_items": null,
            "align_self": null,
            "border": null,
            "bottom": null,
            "display": null,
            "flex": null,
            "flex_flow": null,
            "grid_area": null,
            "grid_auto_columns": null,
            "grid_auto_flow": null,
            "grid_auto_rows": null,
            "grid_column": null,
            "grid_gap": null,
            "grid_row": null,
            "grid_template_areas": null,
            "grid_template_columns": null,
            "grid_template_rows": null,
            "height": null,
            "justify_content": null,
            "justify_items": null,
            "left": null,
            "margin": null,
            "max_height": null,
            "max_width": null,
            "min_height": null,
            "min_width": null,
            "object_fit": null,
            "object_position": null,
            "order": null,
            "overflow": null,
            "overflow_x": null,
            "overflow_y": null,
            "padding": null,
            "right": null,
            "top": null,
            "visibility": null,
            "width": null
          }
        },
        "56f5d249595c414d80707796b1890f32": {
          "model_module": "@jupyter-widgets/controls",
          "model_module_version": "1.5.0",
          "model_name": "FloatProgressModel",
          "state": {
            "_dom_classes": [],
            "_model_module": "@jupyter-widgets/controls",
            "_model_module_version": "1.5.0",
            "_model_name": "FloatProgressModel",
            "_view_count": null,
            "_view_module": "@jupyter-widgets/controls",
            "_view_module_version": "1.5.0",
            "_view_name": "ProgressView",
            "bar_style": "",
            "description": "",
            "description_tooltip": null,
            "layout": "IPY_MODEL_33437bd2a1044be289d068faa00bde23",
            "max": 1973,
            "min": 0,
            "orientation": "horizontal",
            "style": "IPY_MODEL_7e7c5354faf0454ba9fd6b0d15bacec8",
            "value": 985
          }
        },
        "5ca38e9598a3409fb39416a66333c439": {
          "model_module": "@jupyter-widgets/controls",
          "model_module_version": "1.5.0",
          "model_name": "HTMLModel",
          "state": {
            "_dom_classes": [],
            "_model_module": "@jupyter-widgets/controls",
            "_model_module_version": "1.5.0",
            "_model_name": "HTMLModel",
            "_view_count": null,
            "_view_module": "@jupyter-widgets/controls",
            "_view_module_version": "1.5.0",
            "_view_name": "HTMLView",
            "description": "",
            "description_tooltip": null,
            "layout": "IPY_MODEL_65af7a0f91994de2b9763c76597a23f9",
            "placeholder": "​",
            "style": "IPY_MODEL_6acee469d9d94d5b83b4defedbf8a8dd",
            "value": " 175/175 [03:53&lt;00:00,  1.06s/it]"
          }
        },
        "65af7a0f91994de2b9763c76597a23f9": {
          "model_module": "@jupyter-widgets/base",
          "model_module_version": "1.2.0",
          "model_name": "LayoutModel",
          "state": {
            "_model_module": "@jupyter-widgets/base",
            "_model_module_version": "1.2.0",
            "_model_name": "LayoutModel",
            "_view_count": null,
            "_view_module": "@jupyter-widgets/base",
            "_view_module_version": "1.2.0",
            "_view_name": "LayoutView",
            "align_content": null,
            "align_items": null,
            "align_self": null,
            "border": null,
            "bottom": null,
            "display": null,
            "flex": null,
            "flex_flow": null,
            "grid_area": null,
            "grid_auto_columns": null,
            "grid_auto_flow": null,
            "grid_auto_rows": null,
            "grid_column": null,
            "grid_gap": null,
            "grid_row": null,
            "grid_template_areas": null,
            "grid_template_columns": null,
            "grid_template_rows": null,
            "height": null,
            "justify_content": null,
            "justify_items": null,
            "left": null,
            "margin": null,
            "max_height": null,
            "max_width": null,
            "min_height": null,
            "min_width": null,
            "object_fit": null,
            "object_position": null,
            "order": null,
            "overflow": null,
            "overflow_x": null,
            "overflow_y": null,
            "padding": null,
            "right": null,
            "top": null,
            "visibility": null,
            "width": null
          }
        },
        "6acee469d9d94d5b83b4defedbf8a8dd": {
          "model_module": "@jupyter-widgets/controls",
          "model_module_version": "1.5.0",
          "model_name": "DescriptionStyleModel",
          "state": {
            "_model_module": "@jupyter-widgets/controls",
            "_model_module_version": "1.5.0",
            "_model_name": "DescriptionStyleModel",
            "_view_count": null,
            "_view_module": "@jupyter-widgets/base",
            "_view_module_version": "1.2.0",
            "_view_name": "StyleView",
            "description_width": ""
          }
        },
        "6cdaef02343b49e2a4942226dc6c2f69": {
          "model_module": "@jupyter-widgets/controls",
          "model_module_version": "1.5.0",
          "model_name": "DescriptionStyleModel",
          "state": {
            "_model_module": "@jupyter-widgets/controls",
            "_model_module_version": "1.5.0",
            "_model_name": "DescriptionStyleModel",
            "_view_count": null,
            "_view_module": "@jupyter-widgets/base",
            "_view_module_version": "1.2.0",
            "_view_name": "StyleView",
            "description_width": ""
          }
        },
        "76ed7804fac64c199e8c32d870b928c9": {
          "model_module": "@jupyter-widgets/base",
          "model_module_version": "1.2.0",
          "model_name": "LayoutModel",
          "state": {
            "_model_module": "@jupyter-widgets/base",
            "_model_module_version": "1.2.0",
            "_model_name": "LayoutModel",
            "_view_count": null,
            "_view_module": "@jupyter-widgets/base",
            "_view_module_version": "1.2.0",
            "_view_name": "LayoutView",
            "align_content": null,
            "align_items": null,
            "align_self": null,
            "border": null,
            "bottom": null,
            "display": null,
            "flex": null,
            "flex_flow": null,
            "grid_area": null,
            "grid_auto_columns": null,
            "grid_auto_flow": null,
            "grid_auto_rows": null,
            "grid_column": null,
            "grid_gap": null,
            "grid_row": null,
            "grid_template_areas": null,
            "grid_template_columns": null,
            "grid_template_rows": null,
            "height": null,
            "justify_content": null,
            "justify_items": null,
            "left": null,
            "margin": null,
            "max_height": null,
            "max_width": null,
            "min_height": null,
            "min_width": null,
            "object_fit": null,
            "object_position": null,
            "order": null,
            "overflow": null,
            "overflow_x": null,
            "overflow_y": null,
            "padding": null,
            "right": null,
            "top": null,
            "visibility": null,
            "width": null
          }
        },
        "7e7c5354faf0454ba9fd6b0d15bacec8": {
          "model_module": "@jupyter-widgets/controls",
          "model_module_version": "1.5.0",
          "model_name": "ProgressStyleModel",
          "state": {
            "_model_module": "@jupyter-widgets/controls",
            "_model_module_version": "1.5.0",
            "_model_name": "ProgressStyleModel",
            "_view_count": null,
            "_view_module": "@jupyter-widgets/base",
            "_view_module_version": "1.2.0",
            "_view_name": "StyleView",
            "bar_color": null,
            "description_width": ""
          }
        },
        "842bc486356b487f91ef9e6d9b418f79": {
          "model_module": "@jupyter-widgets/controls",
          "model_module_version": "1.5.0",
          "model_name": "FloatProgressModel",
          "state": {
            "_dom_classes": [],
            "_model_module": "@jupyter-widgets/controls",
            "_model_module_version": "1.5.0",
            "_model_name": "FloatProgressModel",
            "_view_count": null,
            "_view_module": "@jupyter-widgets/controls",
            "_view_module_version": "1.5.0",
            "_view_name": "ProgressView",
            "bar_style": "success",
            "description": "",
            "description_tooltip": null,
            "layout": "IPY_MODEL_4dd5e2ca6f1c416aaefe251c061e6da3",
            "max": 1973,
            "min": 0,
            "orientation": "horizontal",
            "style": "IPY_MODEL_c68322afd86942b1b158ded1e2438977",
            "value": 1973
          }
        },
        "924621a422554118894ea65ac3f7c08e": {
          "model_module": "@jupyter-widgets/base",
          "model_module_version": "1.2.0",
          "model_name": "LayoutModel",
          "state": {
            "_model_module": "@jupyter-widgets/base",
            "_model_module_version": "1.2.0",
            "_model_name": "LayoutModel",
            "_view_count": null,
            "_view_module": "@jupyter-widgets/base",
            "_view_module_version": "1.2.0",
            "_view_name": "LayoutView",
            "align_content": null,
            "align_items": null,
            "align_self": null,
            "border": null,
            "bottom": null,
            "display": null,
            "flex": null,
            "flex_flow": null,
            "grid_area": null,
            "grid_auto_columns": null,
            "grid_auto_flow": null,
            "grid_auto_rows": null,
            "grid_column": null,
            "grid_gap": null,
            "grid_row": null,
            "grid_template_areas": null,
            "grid_template_columns": null,
            "grid_template_rows": null,
            "height": null,
            "justify_content": null,
            "justify_items": null,
            "left": null,
            "margin": null,
            "max_height": null,
            "max_width": null,
            "min_height": null,
            "min_width": null,
            "object_fit": null,
            "object_position": null,
            "order": null,
            "overflow": null,
            "overflow_x": null,
            "overflow_y": null,
            "padding": null,
            "right": null,
            "top": null,
            "visibility": null,
            "width": null
          }
        },
        "953f6e686e4846c8bc3fa8511ab7178a": {
          "model_module": "@jupyter-widgets/controls",
          "model_module_version": "1.5.0",
          "model_name": "HTMLModel",
          "state": {
            "_dom_classes": [],
            "_model_module": "@jupyter-widgets/controls",
            "_model_module_version": "1.5.0",
            "_model_name": "HTMLModel",
            "_view_count": null,
            "_view_module": "@jupyter-widgets/controls",
            "_view_module_version": "1.5.0",
            "_view_name": "HTMLView",
            "description": "",
            "description_tooltip": null,
            "layout": "IPY_MODEL_25f6720345944daf9abd392035422198",
            "placeholder": "​",
            "style": "IPY_MODEL_0cf116f9f22445cea64393cb58c42f75",
            "value": "[31 / 40] Val: Loss = 3.60005, PPX = 36.60, R1 = 0.245, R2 = 0.162, RL = 0.245: 100%"
          }
        },
        "9b72debe2bd64509a3c8b1f6d5813677": {
          "model_module": "@jupyter-widgets/controls",
          "model_module_version": "1.5.0",
          "model_name": "DescriptionStyleModel",
          "state": {
            "_model_module": "@jupyter-widgets/controls",
            "_model_module_version": "1.5.0",
            "_model_name": "DescriptionStyleModel",
            "_view_count": null,
            "_view_module": "@jupyter-widgets/base",
            "_view_module_version": "1.2.0",
            "_view_name": "StyleView",
            "description_width": ""
          }
        },
        "c3d3e09c1ddf42b4b2da21ac938fd81a": {
          "model_module": "@jupyter-widgets/controls",
          "model_module_version": "1.5.0",
          "model_name": "HBoxModel",
          "state": {
            "_dom_classes": [],
            "_model_module": "@jupyter-widgets/controls",
            "_model_module_version": "1.5.0",
            "_model_name": "HBoxModel",
            "_view_count": null,
            "_view_module": "@jupyter-widgets/controls",
            "_view_module_version": "1.5.0",
            "_view_name": "HBoxView",
            "box_style": "",
            "children": [
              "IPY_MODEL_31ba259d750b429d9a4069fae98b933c",
              "IPY_MODEL_842bc486356b487f91ef9e6d9b418f79",
              "IPY_MODEL_d920cca67d274a41b950c4cce8ecbd8a"
            ],
            "layout": "IPY_MODEL_0abf6f75fdf84ac8bf2b326701e4ee83"
          }
        },
        "c68322afd86942b1b158ded1e2438977": {
          "model_module": "@jupyter-widgets/controls",
          "model_module_version": "1.5.0",
          "model_name": "ProgressStyleModel",
          "state": {
            "_model_module": "@jupyter-widgets/controls",
            "_model_module_version": "1.5.0",
            "_model_name": "ProgressStyleModel",
            "_view_count": null,
            "_view_module": "@jupyter-widgets/base",
            "_view_module_version": "1.2.0",
            "_view_name": "StyleView",
            "bar_color": null,
            "description_width": ""
          }
        },
        "c97532d083044182b8c04777f7ce42d6": {
          "model_module": "@jupyter-widgets/controls",
          "model_module_version": "1.5.0",
          "model_name": "HTMLModel",
          "state": {
            "_dom_classes": [],
            "_model_module": "@jupyter-widgets/controls",
            "_model_module_version": "1.5.0",
            "_model_name": "HTMLModel",
            "_view_count": null,
            "_view_module": "@jupyter-widgets/controls",
            "_view_module_version": "1.5.0",
            "_view_name": "HTMLView",
            "description": "",
            "description_tooltip": null,
            "layout": "IPY_MODEL_4c05c034f2ed470f95e0c1d3b2ea5780",
            "placeholder": "​",
            "style": "IPY_MODEL_9b72debe2bd64509a3c8b1f6d5813677",
            "value": " 985/1973 [12:35&lt;11:56,  1.38it/s]"
          }
        },
        "d920cca67d274a41b950c4cce8ecbd8a": {
          "model_module": "@jupyter-widgets/controls",
          "model_module_version": "1.5.0",
          "model_name": "HTMLModel",
          "state": {
            "_dom_classes": [],
            "_model_module": "@jupyter-widgets/controls",
            "_model_module_version": "1.5.0",
            "_model_name": "HTMLModel",
            "_view_count": null,
            "_view_module": "@jupyter-widgets/controls",
            "_view_module_version": "1.5.0",
            "_view_name": "HTMLView",
            "description": "",
            "description_tooltip": null,
            "layout": "IPY_MODEL_76ed7804fac64c199e8c32d870b928c9",
            "placeholder": "​",
            "style": "IPY_MODEL_e3145893ad8f48eeb45741823ada1ade",
            "value": " 1973/1973 [25:08&lt;00:00,  1.22it/s]"
          }
        },
        "dc5b53c5276e40c0af08dcb2eb9a5af1": {
          "model_module": "@jupyter-widgets/controls",
          "model_module_version": "1.5.0",
          "model_name": "HBoxModel",
          "state": {
            "_dom_classes": [],
            "_model_module": "@jupyter-widgets/controls",
            "_model_module_version": "1.5.0",
            "_model_name": "HBoxModel",
            "_view_count": null,
            "_view_module": "@jupyter-widgets/controls",
            "_view_module_version": "1.5.0",
            "_view_name": "HBoxView",
            "box_style": "",
            "children": [
              "IPY_MODEL_953f6e686e4846c8bc3fa8511ab7178a",
              "IPY_MODEL_365c340292d2495ba5f6f8840af1a400",
              "IPY_MODEL_5ca38e9598a3409fb39416a66333c439"
            ],
            "layout": "IPY_MODEL_4ef6720ce5774e0dbb9f581deb8c7cfd"
          }
        },
        "e3145893ad8f48eeb45741823ada1ade": {
          "model_module": "@jupyter-widgets/controls",
          "model_module_version": "1.5.0",
          "model_name": "DescriptionStyleModel",
          "state": {
            "_model_module": "@jupyter-widgets/controls",
            "_model_module_version": "1.5.0",
            "_model_name": "DescriptionStyleModel",
            "_view_count": null,
            "_view_module": "@jupyter-widgets/base",
            "_view_module_version": "1.2.0",
            "_view_name": "StyleView",
            "description_width": ""
          }
        },
        "f45f897464a24211b2234c2bb076e19c": {
          "model_module": "@jupyter-widgets/controls",
          "model_name": "HBoxModel",
          "model_module_version": "1.5.0",
          "state": {
            "_dom_classes": [],
            "_model_module": "@jupyter-widgets/controls",
            "_model_module_version": "1.5.0",
            "_model_name": "HBoxModel",
            "_view_count": null,
            "_view_module": "@jupyter-widgets/controls",
            "_view_module_version": "1.5.0",
            "_view_name": "HBoxView",
            "box_style": "",
            "children": [
              "IPY_MODEL_4f921798be9b4847a5e9f107f9dd82ad",
              "IPY_MODEL_9ccdcceff3354cf7ae551046bb5e8d32",
              "IPY_MODEL_702d612cbb08474997838bf63f64e21f"
            ],
            "layout": "IPY_MODEL_1242b2fa1fda44bd91868de9317de33e"
          }
        },
        "4f921798be9b4847a5e9f107f9dd82ad": {
          "model_module": "@jupyter-widgets/controls",
          "model_name": "HTMLModel",
          "model_module_version": "1.5.0",
          "state": {
            "_dom_classes": [],
            "_model_module": "@jupyter-widgets/controls",
            "_model_module_version": "1.5.0",
            "_model_name": "HTMLModel",
            "_view_count": null,
            "_view_module": "@jupyter-widgets/controls",
            "_view_module_version": "1.5.0",
            "_view_name": "HTMLView",
            "description": "",
            "description_tooltip": null,
            "layout": "IPY_MODEL_17af3d7278204a0585636a3b796c29bb",
            "placeholder": "​",
            "style": "IPY_MODEL_7dbcaa4c6816480899fe0ac8d3a9bd99",
            "value": "Evaluation: Loss = 8.80503, PPX = 6667.71, R1 = 0.208, R2 = 0.037, RL = 0.208: 100%"
          }
        },
        "9ccdcceff3354cf7ae551046bb5e8d32": {
          "model_module": "@jupyter-widgets/controls",
          "model_name": "FloatProgressModel",
          "model_module_version": "1.5.0",
          "state": {
            "_dom_classes": [],
            "_model_module": "@jupyter-widgets/controls",
            "_model_module_version": "1.5.0",
            "_model_name": "FloatProgressModel",
            "_view_count": null,
            "_view_module": "@jupyter-widgets/controls",
            "_view_module_version": "1.5.0",
            "_view_name": "ProgressView",
            "bar_style": "success",
            "description": "",
            "description_tooltip": null,
            "layout": "IPY_MODEL_7f782d53e0804bfdbeac298d62f9a2db",
            "max": 349,
            "min": 0,
            "orientation": "horizontal",
            "style": "IPY_MODEL_048f4ce5b85847158aa74397c4508550",
            "value": 349
          }
        },
        "702d612cbb08474997838bf63f64e21f": {
          "model_module": "@jupyter-widgets/controls",
          "model_name": "HTMLModel",
          "model_module_version": "1.5.0",
          "state": {
            "_dom_classes": [],
            "_model_module": "@jupyter-widgets/controls",
            "_model_module_version": "1.5.0",
            "_model_name": "HTMLModel",
            "_view_count": null,
            "_view_module": "@jupyter-widgets/controls",
            "_view_module_version": "1.5.0",
            "_view_name": "HTMLView",
            "description": "",
            "description_tooltip": null,
            "layout": "IPY_MODEL_291930ed49b44c61a76e1cbe307f2bfa",
            "placeholder": "​",
            "style": "IPY_MODEL_fc980ba611284b2490b2d8e6d50d7216",
            "value": " 349/349 [02:02&lt;00:00,  3.32it/s]"
          }
        },
        "1242b2fa1fda44bd91868de9317de33e": {
          "model_module": "@jupyter-widgets/base",
          "model_name": "LayoutModel",
          "model_module_version": "1.2.0",
          "state": {
            "_model_module": "@jupyter-widgets/base",
            "_model_module_version": "1.2.0",
            "_model_name": "LayoutModel",
            "_view_count": null,
            "_view_module": "@jupyter-widgets/base",
            "_view_module_version": "1.2.0",
            "_view_name": "LayoutView",
            "align_content": null,
            "align_items": null,
            "align_self": null,
            "border": null,
            "bottom": null,
            "display": null,
            "flex": null,
            "flex_flow": null,
            "grid_area": null,
            "grid_auto_columns": null,
            "grid_auto_flow": null,
            "grid_auto_rows": null,
            "grid_column": null,
            "grid_gap": null,
            "grid_row": null,
            "grid_template_areas": null,
            "grid_template_columns": null,
            "grid_template_rows": null,
            "height": null,
            "justify_content": null,
            "justify_items": null,
            "left": null,
            "margin": null,
            "max_height": null,
            "max_width": null,
            "min_height": null,
            "min_width": null,
            "object_fit": null,
            "object_position": null,
            "order": null,
            "overflow": null,
            "overflow_x": null,
            "overflow_y": null,
            "padding": null,
            "right": null,
            "top": null,
            "visibility": null,
            "width": null
          }
        },
        "17af3d7278204a0585636a3b796c29bb": {
          "model_module": "@jupyter-widgets/base",
          "model_name": "LayoutModel",
          "model_module_version": "1.2.0",
          "state": {
            "_model_module": "@jupyter-widgets/base",
            "_model_module_version": "1.2.0",
            "_model_name": "LayoutModel",
            "_view_count": null,
            "_view_module": "@jupyter-widgets/base",
            "_view_module_version": "1.2.0",
            "_view_name": "LayoutView",
            "align_content": null,
            "align_items": null,
            "align_self": null,
            "border": null,
            "bottom": null,
            "display": null,
            "flex": null,
            "flex_flow": null,
            "grid_area": null,
            "grid_auto_columns": null,
            "grid_auto_flow": null,
            "grid_auto_rows": null,
            "grid_column": null,
            "grid_gap": null,
            "grid_row": null,
            "grid_template_areas": null,
            "grid_template_columns": null,
            "grid_template_rows": null,
            "height": null,
            "justify_content": null,
            "justify_items": null,
            "left": null,
            "margin": null,
            "max_height": null,
            "max_width": null,
            "min_height": null,
            "min_width": null,
            "object_fit": null,
            "object_position": null,
            "order": null,
            "overflow": null,
            "overflow_x": null,
            "overflow_y": null,
            "padding": null,
            "right": null,
            "top": null,
            "visibility": null,
            "width": null
          }
        },
        "7dbcaa4c6816480899fe0ac8d3a9bd99": {
          "model_module": "@jupyter-widgets/controls",
          "model_name": "DescriptionStyleModel",
          "model_module_version": "1.5.0",
          "state": {
            "_model_module": "@jupyter-widgets/controls",
            "_model_module_version": "1.5.0",
            "_model_name": "DescriptionStyleModel",
            "_view_count": null,
            "_view_module": "@jupyter-widgets/base",
            "_view_module_version": "1.2.0",
            "_view_name": "StyleView",
            "description_width": ""
          }
        },
        "7f782d53e0804bfdbeac298d62f9a2db": {
          "model_module": "@jupyter-widgets/base",
          "model_name": "LayoutModel",
          "model_module_version": "1.2.0",
          "state": {
            "_model_module": "@jupyter-widgets/base",
            "_model_module_version": "1.2.0",
            "_model_name": "LayoutModel",
            "_view_count": null,
            "_view_module": "@jupyter-widgets/base",
            "_view_module_version": "1.2.0",
            "_view_name": "LayoutView",
            "align_content": null,
            "align_items": null,
            "align_self": null,
            "border": null,
            "bottom": null,
            "display": null,
            "flex": null,
            "flex_flow": null,
            "grid_area": null,
            "grid_auto_columns": null,
            "grid_auto_flow": null,
            "grid_auto_rows": null,
            "grid_column": null,
            "grid_gap": null,
            "grid_row": null,
            "grid_template_areas": null,
            "grid_template_columns": null,
            "grid_template_rows": null,
            "height": null,
            "justify_content": null,
            "justify_items": null,
            "left": null,
            "margin": null,
            "max_height": null,
            "max_width": null,
            "min_height": null,
            "min_width": null,
            "object_fit": null,
            "object_position": null,
            "order": null,
            "overflow": null,
            "overflow_x": null,
            "overflow_y": null,
            "padding": null,
            "right": null,
            "top": null,
            "visibility": null,
            "width": null
          }
        },
        "048f4ce5b85847158aa74397c4508550": {
          "model_module": "@jupyter-widgets/controls",
          "model_name": "ProgressStyleModel",
          "model_module_version": "1.5.0",
          "state": {
            "_model_module": "@jupyter-widgets/controls",
            "_model_module_version": "1.5.0",
            "_model_name": "ProgressStyleModel",
            "_view_count": null,
            "_view_module": "@jupyter-widgets/base",
            "_view_module_version": "1.2.0",
            "_view_name": "StyleView",
            "bar_color": null,
            "description_width": ""
          }
        },
        "291930ed49b44c61a76e1cbe307f2bfa": {
          "model_module": "@jupyter-widgets/base",
          "model_name": "LayoutModel",
          "model_module_version": "1.2.0",
          "state": {
            "_model_module": "@jupyter-widgets/base",
            "_model_module_version": "1.2.0",
            "_model_name": "LayoutModel",
            "_view_count": null,
            "_view_module": "@jupyter-widgets/base",
            "_view_module_version": "1.2.0",
            "_view_name": "LayoutView",
            "align_content": null,
            "align_items": null,
            "align_self": null,
            "border": null,
            "bottom": null,
            "display": null,
            "flex": null,
            "flex_flow": null,
            "grid_area": null,
            "grid_auto_columns": null,
            "grid_auto_flow": null,
            "grid_auto_rows": null,
            "grid_column": null,
            "grid_gap": null,
            "grid_row": null,
            "grid_template_areas": null,
            "grid_template_columns": null,
            "grid_template_rows": null,
            "height": null,
            "justify_content": null,
            "justify_items": null,
            "left": null,
            "margin": null,
            "max_height": null,
            "max_width": null,
            "min_height": null,
            "min_width": null,
            "object_fit": null,
            "object_position": null,
            "order": null,
            "overflow": null,
            "overflow_x": null,
            "overflow_y": null,
            "padding": null,
            "right": null,
            "top": null,
            "visibility": null,
            "width": null
          }
        },
        "fc980ba611284b2490b2d8e6d50d7216": {
          "model_module": "@jupyter-widgets/controls",
          "model_name": "DescriptionStyleModel",
          "model_module_version": "1.5.0",
          "state": {
            "_model_module": "@jupyter-widgets/controls",
            "_model_module_version": "1.5.0",
            "_model_name": "DescriptionStyleModel",
            "_view_count": null,
            "_view_module": "@jupyter-widgets/base",
            "_view_module_version": "1.2.0",
            "_view_name": "StyleView",
            "description_width": ""
          }
        },
        "daef34a57f754481b34a760ed9236af4": {
          "model_module": "@jupyter-widgets/controls",
          "model_name": "HBoxModel",
          "model_module_version": "1.5.0",
          "state": {
            "_dom_classes": [],
            "_model_module": "@jupyter-widgets/controls",
            "_model_module_version": "1.5.0",
            "_model_name": "HBoxModel",
            "_view_count": null,
            "_view_module": "@jupyter-widgets/controls",
            "_view_module_version": "1.5.0",
            "_view_name": "HBoxView",
            "box_style": "",
            "children": [
              "IPY_MODEL_34eb77b70ae249f08b1d005fdf1290b5",
              "IPY_MODEL_2d33b544cc8242fe9785369958829062",
              "IPY_MODEL_df79fe7a99e24e0799d6d317c9c9d53c"
            ],
            "layout": "IPY_MODEL_64db433703fc489abf209fc7395fb1fc"
          }
        },
        "34eb77b70ae249f08b1d005fdf1290b5": {
          "model_module": "@jupyter-widgets/controls",
          "model_name": "HTMLModel",
          "model_module_version": "1.5.0",
          "state": {
            "_dom_classes": [],
            "_model_module": "@jupyter-widgets/controls",
            "_model_module_version": "1.5.0",
            "_model_name": "HTMLModel",
            "_view_count": null,
            "_view_module": "@jupyter-widgets/controls",
            "_view_module_version": "1.5.0",
            "_view_name": "HTMLView",
            "description": "",
            "description_tooltip": null,
            "layout": "IPY_MODEL_d95275f517264d669d10b18178c28db1",
            "placeholder": "​",
            "style": "IPY_MODEL_356feee3cc0c497e9112356f0dbd5f58",
            "value": "Evaluation: Loss = 3.74618, PPX = 42.36, R1 = 0.260, R2 = 0.171, RL = 0.260: 100%"
          }
        },
        "2d33b544cc8242fe9785369958829062": {
          "model_module": "@jupyter-widgets/controls",
          "model_name": "FloatProgressModel",
          "model_module_version": "1.5.0",
          "state": {
            "_dom_classes": [],
            "_model_module": "@jupyter-widgets/controls",
            "_model_module_version": "1.5.0",
            "_model_name": "FloatProgressModel",
            "_view_count": null,
            "_view_module": "@jupyter-widgets/controls",
            "_view_module_version": "1.5.0",
            "_view_name": "ProgressView",
            "bar_style": "success",
            "description": "",
            "description_tooltip": null,
            "layout": "IPY_MODEL_675b908c889b42ea998518390fbc15a6",
            "max": 349,
            "min": 0,
            "orientation": "horizontal",
            "style": "IPY_MODEL_46ab2245e5794b83b86211144e4da997",
            "value": 349
          }
        },
        "df79fe7a99e24e0799d6d317c9c9d53c": {
          "model_module": "@jupyter-widgets/controls",
          "model_name": "HTMLModel",
          "model_module_version": "1.5.0",
          "state": {
            "_dom_classes": [],
            "_model_module": "@jupyter-widgets/controls",
            "_model_module_version": "1.5.0",
            "_model_name": "HTMLModel",
            "_view_count": null,
            "_view_module": "@jupyter-widgets/controls",
            "_view_module_version": "1.5.0",
            "_view_name": "HTMLView",
            "description": "",
            "description_tooltip": null,
            "layout": "IPY_MODEL_03403cbf9eb64659ac0d4e784cb7ecc4",
            "placeholder": "​",
            "style": "IPY_MODEL_2f91ddf732d24ad5a49837bb168ed2a8",
            "value": " 349/349 [03:29&lt;00:00,  2.24it/s]"
          }
        },
        "64db433703fc489abf209fc7395fb1fc": {
          "model_module": "@jupyter-widgets/base",
          "model_name": "LayoutModel",
          "model_module_version": "1.2.0",
          "state": {
            "_model_module": "@jupyter-widgets/base",
            "_model_module_version": "1.2.0",
            "_model_name": "LayoutModel",
            "_view_count": null,
            "_view_module": "@jupyter-widgets/base",
            "_view_module_version": "1.2.0",
            "_view_name": "LayoutView",
            "align_content": null,
            "align_items": null,
            "align_self": null,
            "border": null,
            "bottom": null,
            "display": null,
            "flex": null,
            "flex_flow": null,
            "grid_area": null,
            "grid_auto_columns": null,
            "grid_auto_flow": null,
            "grid_auto_rows": null,
            "grid_column": null,
            "grid_gap": null,
            "grid_row": null,
            "grid_template_areas": null,
            "grid_template_columns": null,
            "grid_template_rows": null,
            "height": null,
            "justify_content": null,
            "justify_items": null,
            "left": null,
            "margin": null,
            "max_height": null,
            "max_width": null,
            "min_height": null,
            "min_width": null,
            "object_fit": null,
            "object_position": null,
            "order": null,
            "overflow": null,
            "overflow_x": null,
            "overflow_y": null,
            "padding": null,
            "right": null,
            "top": null,
            "visibility": null,
            "width": null
          }
        },
        "d95275f517264d669d10b18178c28db1": {
          "model_module": "@jupyter-widgets/base",
          "model_name": "LayoutModel",
          "model_module_version": "1.2.0",
          "state": {
            "_model_module": "@jupyter-widgets/base",
            "_model_module_version": "1.2.0",
            "_model_name": "LayoutModel",
            "_view_count": null,
            "_view_module": "@jupyter-widgets/base",
            "_view_module_version": "1.2.0",
            "_view_name": "LayoutView",
            "align_content": null,
            "align_items": null,
            "align_self": null,
            "border": null,
            "bottom": null,
            "display": null,
            "flex": null,
            "flex_flow": null,
            "grid_area": null,
            "grid_auto_columns": null,
            "grid_auto_flow": null,
            "grid_auto_rows": null,
            "grid_column": null,
            "grid_gap": null,
            "grid_row": null,
            "grid_template_areas": null,
            "grid_template_columns": null,
            "grid_template_rows": null,
            "height": null,
            "justify_content": null,
            "justify_items": null,
            "left": null,
            "margin": null,
            "max_height": null,
            "max_width": null,
            "min_height": null,
            "min_width": null,
            "object_fit": null,
            "object_position": null,
            "order": null,
            "overflow": null,
            "overflow_x": null,
            "overflow_y": null,
            "padding": null,
            "right": null,
            "top": null,
            "visibility": null,
            "width": null
          }
        },
        "356feee3cc0c497e9112356f0dbd5f58": {
          "model_module": "@jupyter-widgets/controls",
          "model_name": "DescriptionStyleModel",
          "model_module_version": "1.5.0",
          "state": {
            "_model_module": "@jupyter-widgets/controls",
            "_model_module_version": "1.5.0",
            "_model_name": "DescriptionStyleModel",
            "_view_count": null,
            "_view_module": "@jupyter-widgets/base",
            "_view_module_version": "1.2.0",
            "_view_name": "StyleView",
            "description_width": ""
          }
        },
        "675b908c889b42ea998518390fbc15a6": {
          "model_module": "@jupyter-widgets/base",
          "model_name": "LayoutModel",
          "model_module_version": "1.2.0",
          "state": {
            "_model_module": "@jupyter-widgets/base",
            "_model_module_version": "1.2.0",
            "_model_name": "LayoutModel",
            "_view_count": null,
            "_view_module": "@jupyter-widgets/base",
            "_view_module_version": "1.2.0",
            "_view_name": "LayoutView",
            "align_content": null,
            "align_items": null,
            "align_self": null,
            "border": null,
            "bottom": null,
            "display": null,
            "flex": null,
            "flex_flow": null,
            "grid_area": null,
            "grid_auto_columns": null,
            "grid_auto_flow": null,
            "grid_auto_rows": null,
            "grid_column": null,
            "grid_gap": null,
            "grid_row": null,
            "grid_template_areas": null,
            "grid_template_columns": null,
            "grid_template_rows": null,
            "height": null,
            "justify_content": null,
            "justify_items": null,
            "left": null,
            "margin": null,
            "max_height": null,
            "max_width": null,
            "min_height": null,
            "min_width": null,
            "object_fit": null,
            "object_position": null,
            "order": null,
            "overflow": null,
            "overflow_x": null,
            "overflow_y": null,
            "padding": null,
            "right": null,
            "top": null,
            "visibility": null,
            "width": null
          }
        },
        "46ab2245e5794b83b86211144e4da997": {
          "model_module": "@jupyter-widgets/controls",
          "model_name": "ProgressStyleModel",
          "model_module_version": "1.5.0",
          "state": {
            "_model_module": "@jupyter-widgets/controls",
            "_model_module_version": "1.5.0",
            "_model_name": "ProgressStyleModel",
            "_view_count": null,
            "_view_module": "@jupyter-widgets/base",
            "_view_module_version": "1.2.0",
            "_view_name": "StyleView",
            "bar_color": null,
            "description_width": ""
          }
        },
        "03403cbf9eb64659ac0d4e784cb7ecc4": {
          "model_module": "@jupyter-widgets/base",
          "model_name": "LayoutModel",
          "model_module_version": "1.2.0",
          "state": {
            "_model_module": "@jupyter-widgets/base",
            "_model_module_version": "1.2.0",
            "_model_name": "LayoutModel",
            "_view_count": null,
            "_view_module": "@jupyter-widgets/base",
            "_view_module_version": "1.2.0",
            "_view_name": "LayoutView",
            "align_content": null,
            "align_items": null,
            "align_self": null,
            "border": null,
            "bottom": null,
            "display": null,
            "flex": null,
            "flex_flow": null,
            "grid_area": null,
            "grid_auto_columns": null,
            "grid_auto_flow": null,
            "grid_auto_rows": null,
            "grid_column": null,
            "grid_gap": null,
            "grid_row": null,
            "grid_template_areas": null,
            "grid_template_columns": null,
            "grid_template_rows": null,
            "height": null,
            "justify_content": null,
            "justify_items": null,
            "left": null,
            "margin": null,
            "max_height": null,
            "max_width": null,
            "min_height": null,
            "min_width": null,
            "object_fit": null,
            "object_position": null,
            "order": null,
            "overflow": null,
            "overflow_x": null,
            "overflow_y": null,
            "padding": null,
            "right": null,
            "top": null,
            "visibility": null,
            "width": null
          }
        },
        "2f91ddf732d24ad5a49837bb168ed2a8": {
          "model_module": "@jupyter-widgets/controls",
          "model_name": "DescriptionStyleModel",
          "model_module_version": "1.5.0",
          "state": {
            "_model_module": "@jupyter-widgets/controls",
            "_model_module_version": "1.5.0",
            "_model_name": "DescriptionStyleModel",
            "_view_count": null,
            "_view_module": "@jupyter-widgets/base",
            "_view_module_version": "1.2.0",
            "_view_name": "StyleView",
            "description_width": ""
          }
        }
      }
    }
  },
  "nbformat": 4,
  "nbformat_minor": 0
}