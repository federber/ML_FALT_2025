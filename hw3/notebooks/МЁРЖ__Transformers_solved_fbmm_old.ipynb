{
  "cells": [
    {
      "cell_type": "markdown",
      "source": [
        "### Задание выполняли\n",
        "\n",
        "### Микишева М.А. - гр.Б03-213с\n",
        "### Берёзкин Ф.П. - гр.Б03-212и"
      ],
      "metadata": {
        "id": "YW-6O8o5QAsp"
      }
    },
    {
      "cell_type": "markdown",
      "source": [
        "## Распределение задач:\n",
        "\n",
        "Задание № 1 Добавьте генератор суммаризации для модели, приведет демонстрацию результата для 5 примеров из теста и 5 собственных примеров. - Микишева М. А.\n",
        "\n",
        "Задание № 2 Добавьте оценку для модели с помощью ROUGE metric - Берёзкин Ф.П\n",
        "\n",
        "Задание № 3 Добавьте визуализацию механизма attention после обучения модели на конкретном примере (не менее 3 примеров). - Берёзкин Ф.П\n",
        "\n",
        "Задание № 4 Сделайте общими матрицы эмбеддингов - их тут три (входные в энкодер и декодер + выход декодера). - Берёзкин Ф.П\n",
        "\n",
        "Задание № 5 Замените функцию ошибки на LabelSmoothing. - Микишева М. А.\n",
        "\n",
        "Задание № 6 Добавьте предодученные эмбединги при обучении модели, покажите разницу в метрике до и после. -  Микишева М. А."
      ],
      "metadata": {
        "id": "cNcZUSKUQtHn"
      }
    },
    {
      "cell_type": "code",
      "source": [
        "!pip install torchtext==0.6.0 sacremoses spacy\n",
        "!python -m spacy download ru_core_news_sm"
      ],
      "metadata": {
        "id": "GouH9gZzQgjv",
        "colab": {
          "base_uri": "https://localhost:8080/",
          "height": 0
        },
        "outputId": "66389b4d-93d5-40ed-d5ee-6b3f9f8bb807"
      },
      "execution_count": 1,
      "outputs": [
        {
          "output_type": "stream",
          "name": "stdout",
          "text": [
            "Collecting torchtext==0.6.0\n",
            "  Downloading torchtext-0.6.0-py3-none-any.whl.metadata (6.3 kB)\n",
            "Collecting sacremoses\n",
            "  Downloading sacremoses-0.1.1-py3-none-any.whl.metadata (8.3 kB)\n",
            "Requirement already satisfied: spacy in /usr/local/lib/python3.11/dist-packages (3.8.5)\n",
            "Requirement already satisfied: tqdm in /usr/local/lib/python3.11/dist-packages (from torchtext==0.6.0) (4.67.1)\n",
            "Requirement already satisfied: requests in /usr/local/lib/python3.11/dist-packages (from torchtext==0.6.0) (2.32.3)\n",
            "Requirement already satisfied: torch in /usr/local/lib/python3.11/dist-packages (from torchtext==0.6.0) (2.6.0+cu124)\n",
            "Requirement already satisfied: numpy in /usr/local/lib/python3.11/dist-packages (from torchtext==0.6.0) (2.0.2)\n",
            "Requirement already satisfied: six in /usr/local/lib/python3.11/dist-packages (from torchtext==0.6.0) (1.17.0)\n",
            "Requirement already satisfied: sentencepiece in /usr/local/lib/python3.11/dist-packages (from torchtext==0.6.0) (0.2.0)\n",
            "Requirement already satisfied: regex in /usr/local/lib/python3.11/dist-packages (from sacremoses) (2024.11.6)\n",
            "Requirement already satisfied: click in /usr/local/lib/python3.11/dist-packages (from sacremoses) (8.2.0)\n",
            "Requirement already satisfied: joblib in /usr/local/lib/python3.11/dist-packages (from sacremoses) (1.5.0)\n",
            "Requirement already satisfied: spacy-legacy<3.1.0,>=3.0.11 in /usr/local/lib/python3.11/dist-packages (from spacy) (3.0.12)\n",
            "Requirement already satisfied: spacy-loggers<2.0.0,>=1.0.0 in /usr/local/lib/python3.11/dist-packages (from spacy) (1.0.5)\n",
            "Requirement already satisfied: murmurhash<1.1.0,>=0.28.0 in /usr/local/lib/python3.11/dist-packages (from spacy) (1.0.12)\n",
            "Requirement already satisfied: cymem<2.1.0,>=2.0.2 in /usr/local/lib/python3.11/dist-packages (from spacy) (2.0.11)\n",
            "Requirement already satisfied: preshed<3.1.0,>=3.0.2 in /usr/local/lib/python3.11/dist-packages (from spacy) (3.0.9)\n",
            "Requirement already satisfied: thinc<8.4.0,>=8.3.4 in /usr/local/lib/python3.11/dist-packages (from spacy) (8.3.6)\n",
            "Requirement already satisfied: wasabi<1.2.0,>=0.9.1 in /usr/local/lib/python3.11/dist-packages (from spacy) (1.1.3)\n",
            "Requirement already satisfied: srsly<3.0.0,>=2.4.3 in /usr/local/lib/python3.11/dist-packages (from spacy) (2.5.1)\n",
            "Requirement already satisfied: catalogue<2.1.0,>=2.0.6 in /usr/local/lib/python3.11/dist-packages (from spacy) (2.0.10)\n",
            "Requirement already satisfied: weasel<0.5.0,>=0.1.0 in /usr/local/lib/python3.11/dist-packages (from spacy) (0.4.1)\n",
            "Requirement already satisfied: typer<1.0.0,>=0.3.0 in /usr/local/lib/python3.11/dist-packages (from spacy) (0.15.3)\n",
            "Requirement already satisfied: pydantic!=1.8,!=1.8.1,<3.0.0,>=1.7.4 in /usr/local/lib/python3.11/dist-packages (from spacy) (2.11.4)\n",
            "Requirement already satisfied: jinja2 in /usr/local/lib/python3.11/dist-packages (from spacy) (3.1.6)\n",
            "Requirement already satisfied: setuptools in /usr/local/lib/python3.11/dist-packages (from spacy) (75.2.0)\n",
            "Requirement already satisfied: packaging>=20.0 in /usr/local/lib/python3.11/dist-packages (from spacy) (24.2)\n",
            "Requirement already satisfied: langcodes<4.0.0,>=3.2.0 in /usr/local/lib/python3.11/dist-packages (from spacy) (3.5.0)\n",
            "Requirement already satisfied: language-data>=1.2 in /usr/local/lib/python3.11/dist-packages (from langcodes<4.0.0,>=3.2.0->spacy) (1.3.0)\n",
            "Requirement already satisfied: annotated-types>=0.6.0 in /usr/local/lib/python3.11/dist-packages (from pydantic!=1.8,!=1.8.1,<3.0.0,>=1.7.4->spacy) (0.7.0)\n",
            "Requirement already satisfied: pydantic-core==2.33.2 in /usr/local/lib/python3.11/dist-packages (from pydantic!=1.8,!=1.8.1,<3.0.0,>=1.7.4->spacy) (2.33.2)\n",
            "Requirement already satisfied: typing-extensions>=4.12.2 in /usr/local/lib/python3.11/dist-packages (from pydantic!=1.8,!=1.8.1,<3.0.0,>=1.7.4->spacy) (4.13.2)\n",
            "Requirement already satisfied: typing-inspection>=0.4.0 in /usr/local/lib/python3.11/dist-packages (from pydantic!=1.8,!=1.8.1,<3.0.0,>=1.7.4->spacy) (0.4.0)\n",
            "Requirement already satisfied: charset-normalizer<4,>=2 in /usr/local/lib/python3.11/dist-packages (from requests->torchtext==0.6.0) (3.4.2)\n",
            "Requirement already satisfied: idna<4,>=2.5 in /usr/local/lib/python3.11/dist-packages (from requests->torchtext==0.6.0) (3.10)\n",
            "Requirement already satisfied: urllib3<3,>=1.21.1 in /usr/local/lib/python3.11/dist-packages (from requests->torchtext==0.6.0) (2.4.0)\n",
            "Requirement already satisfied: certifi>=2017.4.17 in /usr/local/lib/python3.11/dist-packages (from requests->torchtext==0.6.0) (2025.4.26)\n",
            "Requirement already satisfied: blis<1.4.0,>=1.3.0 in /usr/local/lib/python3.11/dist-packages (from thinc<8.4.0,>=8.3.4->spacy) (1.3.0)\n",
            "Requirement already satisfied: confection<1.0.0,>=0.0.1 in /usr/local/lib/python3.11/dist-packages (from thinc<8.4.0,>=8.3.4->spacy) (0.1.5)\n",
            "Requirement already satisfied: shellingham>=1.3.0 in /usr/local/lib/python3.11/dist-packages (from typer<1.0.0,>=0.3.0->spacy) (1.5.4)\n",
            "Requirement already satisfied: rich>=10.11.0 in /usr/local/lib/python3.11/dist-packages (from typer<1.0.0,>=0.3.0->spacy) (13.9.4)\n",
            "Requirement already satisfied: cloudpathlib<1.0.0,>=0.7.0 in /usr/local/lib/python3.11/dist-packages (from weasel<0.5.0,>=0.1.0->spacy) (0.21.0)\n",
            "Requirement already satisfied: smart-open<8.0.0,>=5.2.1 in /usr/local/lib/python3.11/dist-packages (from weasel<0.5.0,>=0.1.0->spacy) (7.1.0)\n",
            "Requirement already satisfied: MarkupSafe>=2.0 in /usr/local/lib/python3.11/dist-packages (from jinja2->spacy) (3.0.2)\n",
            "Requirement already satisfied: filelock in /usr/local/lib/python3.11/dist-packages (from torch->torchtext==0.6.0) (3.18.0)\n",
            "Requirement already satisfied: networkx in /usr/local/lib/python3.11/dist-packages (from torch->torchtext==0.6.0) (3.4.2)\n",
            "Requirement already satisfied: fsspec in /usr/local/lib/python3.11/dist-packages (from torch->torchtext==0.6.0) (2025.3.2)\n",
            "Collecting nvidia-cuda-nvrtc-cu12==12.4.127 (from torch->torchtext==0.6.0)\n",
            "  Downloading nvidia_cuda_nvrtc_cu12-12.4.127-py3-none-manylinux2014_x86_64.whl.metadata (1.5 kB)\n",
            "Collecting nvidia-cuda-runtime-cu12==12.4.127 (from torch->torchtext==0.6.0)\n",
            "  Downloading nvidia_cuda_runtime_cu12-12.4.127-py3-none-manylinux2014_x86_64.whl.metadata (1.5 kB)\n",
            "Collecting nvidia-cuda-cupti-cu12==12.4.127 (from torch->torchtext==0.6.0)\n",
            "  Downloading nvidia_cuda_cupti_cu12-12.4.127-py3-none-manylinux2014_x86_64.whl.metadata (1.6 kB)\n",
            "Collecting nvidia-cudnn-cu12==9.1.0.70 (from torch->torchtext==0.6.0)\n",
            "  Downloading nvidia_cudnn_cu12-9.1.0.70-py3-none-manylinux2014_x86_64.whl.metadata (1.6 kB)\n",
            "Collecting nvidia-cublas-cu12==12.4.5.8 (from torch->torchtext==0.6.0)\n",
            "  Downloading nvidia_cublas_cu12-12.4.5.8-py3-none-manylinux2014_x86_64.whl.metadata (1.5 kB)\n",
            "Collecting nvidia-cufft-cu12==11.2.1.3 (from torch->torchtext==0.6.0)\n",
            "  Downloading nvidia_cufft_cu12-11.2.1.3-py3-none-manylinux2014_x86_64.whl.metadata (1.5 kB)\n",
            "Collecting nvidia-curand-cu12==10.3.5.147 (from torch->torchtext==0.6.0)\n",
            "  Downloading nvidia_curand_cu12-10.3.5.147-py3-none-manylinux2014_x86_64.whl.metadata (1.5 kB)\n",
            "Collecting nvidia-cusolver-cu12==11.6.1.9 (from torch->torchtext==0.6.0)\n",
            "  Downloading nvidia_cusolver_cu12-11.6.1.9-py3-none-manylinux2014_x86_64.whl.metadata (1.6 kB)\n",
            "Collecting nvidia-cusparse-cu12==12.3.1.170 (from torch->torchtext==0.6.0)\n",
            "  Downloading nvidia_cusparse_cu12-12.3.1.170-py3-none-manylinux2014_x86_64.whl.metadata (1.6 kB)\n",
            "Requirement already satisfied: nvidia-cusparselt-cu12==0.6.2 in /usr/local/lib/python3.11/dist-packages (from torch->torchtext==0.6.0) (0.6.2)\n",
            "Requirement already satisfied: nvidia-nccl-cu12==2.21.5 in /usr/local/lib/python3.11/dist-packages (from torch->torchtext==0.6.0) (2.21.5)\n",
            "Requirement already satisfied: nvidia-nvtx-cu12==12.4.127 in /usr/local/lib/python3.11/dist-packages (from torch->torchtext==0.6.0) (12.4.127)\n",
            "Collecting nvidia-nvjitlink-cu12==12.4.127 (from torch->torchtext==0.6.0)\n",
            "  Downloading nvidia_nvjitlink_cu12-12.4.127-py3-none-manylinux2014_x86_64.whl.metadata (1.5 kB)\n",
            "Requirement already satisfied: triton==3.2.0 in /usr/local/lib/python3.11/dist-packages (from torch->torchtext==0.6.0) (3.2.0)\n",
            "Requirement already satisfied: sympy==1.13.1 in /usr/local/lib/python3.11/dist-packages (from torch->torchtext==0.6.0) (1.13.1)\n",
            "Requirement already satisfied: mpmath<1.4,>=1.1.0 in /usr/local/lib/python3.11/dist-packages (from sympy==1.13.1->torch->torchtext==0.6.0) (1.3.0)\n",
            "Requirement already satisfied: marisa-trie>=1.1.0 in /usr/local/lib/python3.11/dist-packages (from language-data>=1.2->langcodes<4.0.0,>=3.2.0->spacy) (1.2.1)\n",
            "Requirement already satisfied: markdown-it-py>=2.2.0 in /usr/local/lib/python3.11/dist-packages (from rich>=10.11.0->typer<1.0.0,>=0.3.0->spacy) (3.0.0)\n",
            "Requirement already satisfied: pygments<3.0.0,>=2.13.0 in /usr/local/lib/python3.11/dist-packages (from rich>=10.11.0->typer<1.0.0,>=0.3.0->spacy) (2.19.1)\n",
            "Requirement already satisfied: wrapt in /usr/local/lib/python3.11/dist-packages (from smart-open<8.0.0,>=5.2.1->weasel<0.5.0,>=0.1.0->spacy) (1.17.2)\n",
            "Requirement already satisfied: mdurl~=0.1 in /usr/local/lib/python3.11/dist-packages (from markdown-it-py>=2.2.0->rich>=10.11.0->typer<1.0.0,>=0.3.0->spacy) (0.1.2)\n",
            "Downloading torchtext-0.6.0-py3-none-any.whl (64 kB)\n",
            "\u001b[2K   \u001b[90m━━━━━━━━━━━━━━━━━━━━━━━━━━━━━━━━━━━━━━━━\u001b[0m \u001b[32m64.2/64.2 kB\u001b[0m \u001b[31m3.6 MB/s\u001b[0m eta \u001b[36m0:00:00\u001b[0m\n",
            "\u001b[?25hDownloading sacremoses-0.1.1-py3-none-any.whl (897 kB)\n",
            "\u001b[2K   \u001b[90m━━━━━━━━━━━━━━━━━━━━━━━━━━━━━━━━━━━━━━━━\u001b[0m \u001b[32m897.5/897.5 kB\u001b[0m \u001b[31m21.6 MB/s\u001b[0m eta \u001b[36m0:00:00\u001b[0m\n",
            "\u001b[?25hDownloading nvidia_cublas_cu12-12.4.5.8-py3-none-manylinux2014_x86_64.whl (363.4 MB)\n",
            "\u001b[2K   \u001b[90m━━━━━━━━━━━━━━━━━━━━━━━━━━━━━━━━━━━━━━━━\u001b[0m \u001b[32m363.4/363.4 MB\u001b[0m \u001b[31m3.6 MB/s\u001b[0m eta \u001b[36m0:00:00\u001b[0m\n",
            "\u001b[?25hDownloading nvidia_cuda_cupti_cu12-12.4.127-py3-none-manylinux2014_x86_64.whl (13.8 MB)\n",
            "\u001b[2K   \u001b[90m━━━━━━━━━━━━━━━━━━━━━━━━━━━━━━━━━━━━━━━━\u001b[0m \u001b[32m13.8/13.8 MB\u001b[0m \u001b[31m59.7 MB/s\u001b[0m eta \u001b[36m0:00:00\u001b[0m\n",
            "\u001b[?25hDownloading nvidia_cuda_nvrtc_cu12-12.4.127-py3-none-manylinux2014_x86_64.whl (24.6 MB)\n",
            "\u001b[2K   \u001b[90m━━━━━━━━━━━━━━━━━━━━━━━━━━━━━━━━━━━━━━━━\u001b[0m \u001b[32m24.6/24.6 MB\u001b[0m \u001b[31m55.6 MB/s\u001b[0m eta \u001b[36m0:00:00\u001b[0m\n",
            "\u001b[?25hDownloading nvidia_cuda_runtime_cu12-12.4.127-py3-none-manylinux2014_x86_64.whl (883 kB)\n",
            "\u001b[2K   \u001b[90m━━━━━━━━━━━━━━━━━━━━━━━━━━━━━━━━━━━━━━━━\u001b[0m \u001b[32m883.7/883.7 kB\u001b[0m \u001b[31m42.3 MB/s\u001b[0m eta \u001b[36m0:00:00\u001b[0m\n",
            "\u001b[?25hDownloading nvidia_cudnn_cu12-9.1.0.70-py3-none-manylinux2014_x86_64.whl (664.8 MB)\n",
            "\u001b[2K   \u001b[90m━━━━━━━━━━━━━━━━━━━━━━━━━━━━━━━━━━━━━━━━\u001b[0m \u001b[32m664.8/664.8 MB\u001b[0m \u001b[31m2.8 MB/s\u001b[0m eta \u001b[36m0:00:00\u001b[0m\n",
            "\u001b[?25hDownloading nvidia_cufft_cu12-11.2.1.3-py3-none-manylinux2014_x86_64.whl (211.5 MB)\n",
            "\u001b[2K   \u001b[90m━━━━━━━━━━━━━━━━━━━━━━━━━━━━━━━━━━━━━━━━\u001b[0m \u001b[32m211.5/211.5 MB\u001b[0m \u001b[31m5.7 MB/s\u001b[0m eta \u001b[36m0:00:00\u001b[0m\n",
            "\u001b[?25hDownloading nvidia_curand_cu12-10.3.5.147-py3-none-manylinux2014_x86_64.whl (56.3 MB)\n",
            "\u001b[2K   \u001b[90m━━━━━━━━━━━━━━━━━━━━━━━━━━━━━━━━━━━━━━━━\u001b[0m \u001b[32m56.3/56.3 MB\u001b[0m \u001b[31m12.8 MB/s\u001b[0m eta \u001b[36m0:00:00\u001b[0m\n",
            "\u001b[?25hDownloading nvidia_cusolver_cu12-11.6.1.9-py3-none-manylinux2014_x86_64.whl (127.9 MB)\n",
            "\u001b[2K   \u001b[90m━━━━━━━━━━━━━━━━━━━━━━━━━━━━━━━━━━━━━━━━\u001b[0m \u001b[32m127.9/127.9 MB\u001b[0m \u001b[31m7.8 MB/s\u001b[0m eta \u001b[36m0:00:00\u001b[0m\n",
            "\u001b[?25hDownloading nvidia_cusparse_cu12-12.3.1.170-py3-none-manylinux2014_x86_64.whl (207.5 MB)\n",
            "\u001b[2K   \u001b[90m━━━━━━━━━━━━━━━━━━━━━━━━━━━━━━━━━━━━━━━━\u001b[0m \u001b[32m207.5/207.5 MB\u001b[0m \u001b[31m5.7 MB/s\u001b[0m eta \u001b[36m0:00:00\u001b[0m\n",
            "\u001b[?25hDownloading nvidia_nvjitlink_cu12-12.4.127-py3-none-manylinux2014_x86_64.whl (21.1 MB)\n",
            "\u001b[2K   \u001b[90m━━━━━━━━━━━━━━━━━━━━━━━━━━━━━━━━━━━━━━━━\u001b[0m \u001b[32m21.1/21.1 MB\u001b[0m \u001b[31m89.1 MB/s\u001b[0m eta \u001b[36m0:00:00\u001b[0m\n",
            "\u001b[?25hInstalling collected packages: sacremoses, nvidia-nvjitlink-cu12, nvidia-curand-cu12, nvidia-cufft-cu12, nvidia-cuda-runtime-cu12, nvidia-cuda-nvrtc-cu12, nvidia-cuda-cupti-cu12, nvidia-cublas-cu12, nvidia-cusparse-cu12, nvidia-cudnn-cu12, nvidia-cusolver-cu12, torchtext\n",
            "  Attempting uninstall: nvidia-nvjitlink-cu12\n",
            "    Found existing installation: nvidia-nvjitlink-cu12 12.5.82\n",
            "    Uninstalling nvidia-nvjitlink-cu12-12.5.82:\n",
            "      Successfully uninstalled nvidia-nvjitlink-cu12-12.5.82\n",
            "  Attempting uninstall: nvidia-curand-cu12\n",
            "    Found existing installation: nvidia-curand-cu12 10.3.6.82\n",
            "    Uninstalling nvidia-curand-cu12-10.3.6.82:\n",
            "      Successfully uninstalled nvidia-curand-cu12-10.3.6.82\n",
            "  Attempting uninstall: nvidia-cufft-cu12\n",
            "    Found existing installation: nvidia-cufft-cu12 11.2.3.61\n",
            "    Uninstalling nvidia-cufft-cu12-11.2.3.61:\n",
            "      Successfully uninstalled nvidia-cufft-cu12-11.2.3.61\n",
            "  Attempting uninstall: nvidia-cuda-runtime-cu12\n",
            "    Found existing installation: nvidia-cuda-runtime-cu12 12.5.82\n",
            "    Uninstalling nvidia-cuda-runtime-cu12-12.5.82:\n",
            "      Successfully uninstalled nvidia-cuda-runtime-cu12-12.5.82\n",
            "  Attempting uninstall: nvidia-cuda-nvrtc-cu12\n",
            "    Found existing installation: nvidia-cuda-nvrtc-cu12 12.5.82\n",
            "    Uninstalling nvidia-cuda-nvrtc-cu12-12.5.82:\n",
            "      Successfully uninstalled nvidia-cuda-nvrtc-cu12-12.5.82\n",
            "  Attempting uninstall: nvidia-cuda-cupti-cu12\n",
            "    Found existing installation: nvidia-cuda-cupti-cu12 12.5.82\n",
            "    Uninstalling nvidia-cuda-cupti-cu12-12.5.82:\n",
            "      Successfully uninstalled nvidia-cuda-cupti-cu12-12.5.82\n",
            "  Attempting uninstall: nvidia-cublas-cu12\n",
            "    Found existing installation: nvidia-cublas-cu12 12.5.3.2\n",
            "    Uninstalling nvidia-cublas-cu12-12.5.3.2:\n",
            "      Successfully uninstalled nvidia-cublas-cu12-12.5.3.2\n",
            "  Attempting uninstall: nvidia-cusparse-cu12\n",
            "    Found existing installation: nvidia-cusparse-cu12 12.5.1.3\n",
            "    Uninstalling nvidia-cusparse-cu12-12.5.1.3:\n",
            "      Successfully uninstalled nvidia-cusparse-cu12-12.5.1.3\n",
            "  Attempting uninstall: nvidia-cudnn-cu12\n",
            "    Found existing installation: nvidia-cudnn-cu12 9.3.0.75\n",
            "    Uninstalling nvidia-cudnn-cu12-9.3.0.75:\n",
            "      Successfully uninstalled nvidia-cudnn-cu12-9.3.0.75\n",
            "  Attempting uninstall: nvidia-cusolver-cu12\n",
            "    Found existing installation: nvidia-cusolver-cu12 11.6.3.83\n",
            "    Uninstalling nvidia-cusolver-cu12-11.6.3.83:\n",
            "      Successfully uninstalled nvidia-cusolver-cu12-11.6.3.83\n",
            "Successfully installed nvidia-cublas-cu12-12.4.5.8 nvidia-cuda-cupti-cu12-12.4.127 nvidia-cuda-nvrtc-cu12-12.4.127 nvidia-cuda-runtime-cu12-12.4.127 nvidia-cudnn-cu12-9.1.0.70 nvidia-cufft-cu12-11.2.1.3 nvidia-curand-cu12-10.3.5.147 nvidia-cusolver-cu12-11.6.1.9 nvidia-cusparse-cu12-12.3.1.170 nvidia-nvjitlink-cu12-12.4.127 sacremoses-0.1.1 torchtext-0.6.0\n",
            "Collecting ru-core-news-sm==3.8.0\n",
            "  Downloading https://github.com/explosion/spacy-models/releases/download/ru_core_news_sm-3.8.0/ru_core_news_sm-3.8.0-py3-none-any.whl (15.3 MB)\n",
            "\u001b[2K     \u001b[90m━━━━━━━━━━━━━━━━━━━━━━━━━━━━━━━━━━━━━━━━\u001b[0m \u001b[32m15.3/15.3 MB\u001b[0m \u001b[31m88.7 MB/s\u001b[0m eta \u001b[36m0:00:00\u001b[0m\n",
            "\u001b[?25hCollecting pymorphy3>=1.0.0 (from ru-core-news-sm==3.8.0)\n",
            "  Downloading pymorphy3-2.0.3-py3-none-any.whl.metadata (1.9 kB)\n",
            "Collecting dawg2-python>=0.8.0 (from pymorphy3>=1.0.0->ru-core-news-sm==3.8.0)\n",
            "  Downloading dawg2_python-0.9.0-py3-none-any.whl.metadata (7.5 kB)\n",
            "Collecting pymorphy3-dicts-ru (from pymorphy3>=1.0.0->ru-core-news-sm==3.8.0)\n",
            "  Downloading pymorphy3_dicts_ru-2.4.417150.4580142-py2.py3-none-any.whl.metadata (2.0 kB)\n",
            "Downloading pymorphy3-2.0.3-py3-none-any.whl (53 kB)\n",
            "\u001b[2K   \u001b[90m━━━━━━━━━━━━━━━━━━━━━━━━━━━━━━━━━━━━━━━━\u001b[0m \u001b[32m53.8/53.8 kB\u001b[0m \u001b[31m3.7 MB/s\u001b[0m eta \u001b[36m0:00:00\u001b[0m\n",
            "\u001b[?25hDownloading dawg2_python-0.9.0-py3-none-any.whl (9.3 kB)\n",
            "Downloading pymorphy3_dicts_ru-2.4.417150.4580142-py2.py3-none-any.whl (8.4 MB)\n",
            "\u001b[2K   \u001b[90m━━━━━━━━━━━━━━━━━━━━━━━━━━━━━━━━━━━━━━━━\u001b[0m \u001b[32m8.4/8.4 MB\u001b[0m \u001b[31m94.9 MB/s\u001b[0m eta \u001b[36m0:00:00\u001b[0m\n",
            "\u001b[?25hInstalling collected packages: pymorphy3-dicts-ru, dawg2-python, pymorphy3, ru-core-news-sm\n",
            "Successfully installed dawg2-python-0.9.0 pymorphy3-2.0.3 pymorphy3-dicts-ru-2.4.417150.4580142 ru-core-news-sm-3.8.0\n",
            "\u001b[38;5;2m✔ Download and installation successful\u001b[0m\n",
            "You can now load the package via spacy.load('ru_core_news_sm')\n",
            "\u001b[38;5;3m⚠ Restart to reload dependencies\u001b[0m\n",
            "If you are in a Jupyter or Colab notebook, you may need to restart Python in\n",
            "order to load all the package's dependencies. You can do this by selecting the\n",
            "'Restart kernel' or 'Restart runtime' option.\n"
          ]
        }
      ]
    },
    {
      "cell_type": "code",
      "source": [
        "import os\n",
        "import re\n",
        "import dill\n",
        "import gzip\n",
        "import heapq\n",
        "import random\n",
        "import numpy as np\n",
        "import pandas as pd\n",
        "import spacy\n",
        "import matplotlib.pyplot as plt\n",
        "import sentencepiece as sp\n",
        "import torch\n",
        "import torch.nn as nn\n",
        "import torch.nn.functional as F\n",
        "import torch.optim as optim\n",
        "from torch.autograd import Variable\n",
        "from torchtext.data import Field, Example, Dataset, BucketIterator\n",
        "from collections import Counter\n",
        "from tqdm.auto import tqdm\n",
        "import nltk\n",
        "from nltk.corpus import stopwords\n",
        "\n",
        "%matplotlib inline"
      ],
      "metadata": {
        "id": "CWIgiw9oCNJq"
      },
      "execution_count": 2,
      "outputs": []
    },
    {
      "cell_type": "code",
      "source": [
        "if torch.cuda.is_available():\n",
        "    device = torch.device('cuda')\n",
        "    DEVICE = torch.device('cuda')\n",
        "    print(f\"Running on GPU: {torch.cuda.get_device_name(0)}\")\n",
        "else:\n",
        "    device = torch.device('cpu')\n",
        "    DEVICE = torch.device('cpu')\n",
        "    print(\"No GPU found, running on CPU\")\n",
        "\n",
        "np.random.seed(42)"
      ],
      "metadata": {
        "colab": {
          "base_uri": "https://localhost:8080/",
          "height": 0
        },
        "id": "w7QWUmLpelWp",
        "outputId": "654b3f1c-b2da-4939-a196-e3aee76e4d04"
      },
      "execution_count": 3,
      "outputs": [
        {
          "output_type": "stream",
          "name": "stdout",
          "text": [
            "Running on GPU: Tesla T4\n"
          ]
        }
      ]
    },
    {
      "cell_type": "code",
      "source": [
        "from google.colab import drive\n",
        "drive.mount('/content/drive')"
      ],
      "metadata": {
        "colab": {
          "base_uri": "https://localhost:8080/",
          "height": 0
        },
        "id": "vL7SkG3FQzkb",
        "outputId": "f3d9d0dc-5d15-4fb6-e0e2-a1874053da2d"
      },
      "execution_count": 4,
      "outputs": [
        {
          "output_type": "stream",
          "name": "stdout",
          "text": [
            "Mounted at /content/drive\n"
          ]
        }
      ]
    },
    {
      "cell_type": "code",
      "source": [
        "save_path = \"/content/drive/MyDrive/Colab Notebooks/коалиция_ниггавуманов/\""
      ],
      "metadata": {
        "id": "hwrHtSK8Q26w"
      },
      "execution_count": 5,
      "outputs": []
    },
    {
      "cell_type": "markdown",
      "source": [
        "### Датасет"
      ],
      "metadata": {
        "id": "l-mue3E1RWFe"
      }
    },
    {
      "cell_type": "code",
      "execution_count": 6,
      "metadata": {
        "id": "OE7fXh-OSJYF",
        "colab": {
          "base_uri": "https://localhost:8080/",
          "height": 0
        },
        "outputId": "3c7530d8-6c86-4deb-a0a5-cf69d59d9f6c"
      },
      "outputs": [
        {
          "output_type": "stream",
          "name": "stdout",
          "text": [
            "Archive:  news.zip\n",
            "  inflating: news.csv                \n"
          ]
        }
      ],
      "source": [
        "!wget -O news.zip -qq --no-check-certificate \"https://drive.google.com/uc?export=download&id=1hIVVpBqM6VU4n3ERkKq4tFaH4sKN0Hab\"\n",
        "!unzip news.zip"
      ]
    },
    {
      "cell_type": "code",
      "source": [
        "!shuf -n 10 news.csv"
      ],
      "metadata": {
        "id": "IY7Ai6s3uikw",
        "colab": {
          "base_uri": "https://localhost:8080/",
          "height": 0
        },
        "outputId": "859bc356-0d69-412f-d831-07602ced7539"
      },
      "execution_count": 7,
      "outputs": [
        {
          "output_type": "stream",
          "name": "stdout",
          "text": [
            "688006,\"В минувшее воскресенье из квартиры коллекционера в центре Петербурга были похищены 10 картин XIX века.  Среди похищенных работ - картина Лагорио \"\"Морской пейзаж\"\",Шишкина \"\"Вид Финского залива\"\", Клодта \"\"Коровы\"\", а также иконы\"\"Михаил-Архангел\"\" и \"\"Казанская Богоматерь\"\" в серебряном окладе.  Стоимость украденного уточняется.  Украдены также другие предметы антиквариата.  Воры проникли в квартиру на улице Декабристов через форточку.  Возбуждено уголовное дело по статье 165 УК РФ (\"\"Кражапредметов, представляющих культурную и историческую ценность\"\"), сообщили РИА \"\"Новости\"\" в ГУВД Санкт-Петербурга.\",Из квартиры петербургского коллекционера украли Шишкина и Клодта\r\n",
            "278508,\"Во время матча первого круга Открытого чемпионата США по теннису (US Open) в мужском одиночном разряде на корт выбежала белка. Из-за выскочившего животного в игре француза Жюльена Беннето и бельгийца Оливье Рохуса, состоявшейся в ночь на 29 августа (по московскому времени) возникла пауза. Белка выбежала на корт во втором сете при счете 7:6 (7:1), 3:1 в пользу Беннето. Француз готовился выполнить подачу, однако не смог сделать этого из-за появления животного. Видеоролик с выбежавшей белкой выложен на YouTube. Матч закончился победой Беннето со счетом 7:6 (6:1), 6:2, 6:3. Во втором круге US Open французский теннисист сыграет с американцем Деннисом Новиковым.\",Во время матча US Open на корт выбежала белка\r\n",
            "546333,\"Трое перепуганных действием наркотиков норвежцев вызвали на место вечеринки полицию, сообщает газета Bergensavisen. Торговцы наркотиками из второго по величине города Норвегии Берген решили устроить вечеринку у воды в местечке Фюса. К концу праздника собравшимся неожиданно показалось, что из воды выходят на берег белые карлики. Чтобы усмирить их норвежцы немедленно вызвали на место наряд полиции. Приехавшие полицейские карликов не обнаружили, после чего произвели задержание группы людей в невменяемом состоянии, среди которых находилась трехлетняя девочка.\",Наркоманы позвали полицию усмирять белых человечков\r\n",
            "465661,\"Группа боевиков из Афганистана напала на таджикский кишлак, расположенный на территории приграничного Шуроабадского района (Хатлонская область). Об этом со ссылкой на неназванные источники сообщает ИА \"\"Central Asian News\"\". Официальные органы пока не подтвердили эту информацию. Как сообщает агентство, боевики удерживают кишлак уже несколько часов. По предварительным данным, в ходе перестрелки между ними и бойцами пограничных войск один из пограничников был убит. О других пострадавших информации пока нет. Напомним, что афганские боевики неоднократно проникали на территорию Таджикистана и похищали жителей приграничных районов. Как правило, таким образом они пытались получить с родственников похищенных долг за наркотики.\",Афганские боевики напали на таджикский кишлак\r\n",
            "31677,\"Группа «Ленинград» представила клип на песню «Кандидат». Ролик опубликован на YouTube-канале коллектива в среду, 18 октября. В музыкальном видео напившийся житель города Мухино оказывается на сцене во время праздника и объявляет, что собирается баллотироваться в президенты. В предвыборной программе пьяницы, по его словам, — «только взятка, только водка, — две стальные наши скрепы». В конце августа «Ленинград» выпустил клип на композицию «Ч.П.Х» с хип-хоп-артистом ST, клауд-рэпером Pharaoh, журналистом Александром Невзоровым и футболистом Александром Кержаковым.\",«Ленинград» выпустил клип о пьющем провинциале-кандидате в президенты\r\n",
            "692718,\"Международный террорист Осама бин Ладен находится на территории края Косово, передало в среду югославское информационное агентство Tanjug. Сообщается, что террорист \"\"номер один\"\", несколько лет скрывавшийся в Афганистане, некоторое время назад перебрался в Албанию, где подготовил отряд из 500 арабских моджахедов. Вместе с ними он прибыл в Косово с целью организации \"\"новой волны насилия на юге Сербии\"\", утверждает югославское агентство. По данным Tanjug, приезд бин Ладена чрезвычайно встревожил военнослужащих США из состава KFOR. Однако, по сообщению \"\"Интерфакса\"\", командование международных сил в Косово не располагает информацией о прибытии террориста и считает это маловероятным. International terrorist Osama bin Laden in Kosovo and Metohija - Tanjug, 26.04.2000\",Осама бин Ладен перебрался в Косово?\r\n",
            "503715,\"В Италии введены штрафы для отдыхающих, пытающихся занять место на пляже с помощью оставленных полотенец. Как пишет газета The Daily Mail, размер штрафа составляет около 1000 евро. Некоторые люди имеют привычку приходить на пляж еще до 6 часов утра и стелить там свои полотенца, после чего отправляются завтракать. Это вызвало возмущение других отдыхающих. Из-за многочисленных жалоб полиции итальянской Ривьеры пришлось применить закон, запрещающий стелить на пляже полотенце, а затем оставлять его без присмотра. Сообщается, что наиболее склонны к подобным \"\"преступлениям\"\" люди старшего возраста, среди которых встречаются туристы из самых разных стран. Местные власти считают несправедливым, когда пришедшие позднее люди обнаруживают, что весь пляж уже занят полотенцами.\",За оставленное на итальянском пляже полотенце штрафуют на тысячу евро\r\n",
            "509961,\"Вечером в воскресенье в клинике, расположенной на улице Погодинская в центре Москвы, начался пожар, передает РИА Новости. По данным противопожарной службы столицы, сообщение о возгорании в подвале поступило в воскресенье в 22:10. С третьего по восьмой этаж наблюдалось сильное задымление. Около 23 часов пожар был ликвидирован, сообщил агентству \"\"Интерфакс\"\" источник в МЧС по Москве. Площадь возгорания составила пять квадратных метров. Пожарные эвакуировали пациентов и персонал медучреждения, в общей сложности 149 человек были переведены в безопасные помещения. Сообщений о пострадавших не поступало.\",Пожарные эвакуировали пациентов клиники в центре Москвы\r\n",
            "434709,\"Сын Боба Марли Зигги собрался записать альбом для детей под названием \"\"Family Time\"\". Помогать Зигги Марли в работе над пластинкой будут его мать, братья, дочь, а также ряд известных музыкантов, сообщает Billboard. Продюсировать \"\"семейный\"\" альбом будет именитый продюсер Дон Уос, ранее работавший с Rolling Stones, Бобом Диланом и Джорджем Майклом.  В записи \"\"Family Time\"\" примет участие актриса Джеми Ли Кертис, а также музыканты Пол Саймон, Джек Джонсон и Уилли Нэльсон. Для Зигги Марли \"\"Family Time\"\" станет далеко не первым проектом, ориентированным на детскую аудиторию. Сын знаменитого регги-исполнителя снимался в нескольких детских передачах, а также озвучивал одного из персонажей мультфильма \"\"Подводная братва\"\".\",Сын Боба Марли запишет с семьей альбом для детей\r\n",
            "384693,\"Два человека погибли в результате крушения небольшого самолета времен Второй мировой войны на западе штата Флорида, передает в воскресенье агентство Associated Press. По данным местной полиции, катастрофа произошла в субботу, когда по неустановленной причине самолет T-6 Texan упал в Мексиканский залив. Тела пилота, нейрохирурга из Алабамы, и его пассажирки уже подняты из воды, обломки машины находятся на глубине около 15 метров. Самолет выполнял полет в составе группы, отметили в полиции. Пока не установлено, выполняли ли самолеты фигуры высшего пилотажа или направлялись в другой аэропорт.\",Во Флориде разбился самолет времен Второй мировой войны\r\n"
          ]
        }
      ]
    },
    {
      "cell_type": "markdown",
      "source": [
        "### NLTK стоп-слова"
      ],
      "metadata": {
        "id": "K4ovXAJbRRlX"
      }
    },
    {
      "cell_type": "code",
      "source": [
        "nltk.download('stopwords')\n",
        "ru_stopwords = set(stopwords.words(\"russian\"))"
      ],
      "metadata": {
        "id": "iApMLJenQfzc",
        "colab": {
          "base_uri": "https://localhost:8080/",
          "height": 0
        },
        "outputId": "c568e8cb-aaab-4939-b358-078de4886d23"
      },
      "execution_count": 8,
      "outputs": [
        {
          "output_type": "stream",
          "name": "stderr",
          "text": [
            "[nltk_data] Downloading package stopwords to /root/nltk_data...\n",
            "[nltk_data]   Unzipping corpora/stopwords.zip.\n"
          ]
        }
      ]
    },
    {
      "cell_type": "markdown",
      "metadata": {
        "id": "txWqIO_74A4s"
      },
      "source": [
        "# Abstactive Summarization"
      ]
    },
    {
      "cell_type": "markdown",
      "metadata": {
        "id": "gJ7JQJMO2R7z"
      },
      "source": [
        "Задача - по тексту сгенерировать выдержку из него.\n",
        "\n",
        "Например, попробуем по новостям генерировать заголовки:"
      ]
    },
    {
      "cell_type": "code",
      "execution_count": 9,
      "metadata": {
        "id": "NzNGUFOcXMUs",
        "colab": {
          "base_uri": "https://localhost:8080/",
          "height": 0
        },
        "outputId": "a2769e36-3b93-4697-a8a2-61267832cb01"
      },
      "outputs": [
        {
          "output_type": "stream",
          "name": "stdout",
          "text": [
            "475798,\"Пассажирский авиалайнер компании Atlantic Southeast Airlines, выполнявший в пятницу, 25 апреля, рейс номер 4230 из Мемфиса в Атланту совершил вынужденную посадку из-за неполадок в одном из двигателей, сообщает телекомпания Атланты CBS46.com. По словам одного из очевидцев происшествия, вскоре после взлета из аэропорта Мемфиса раздался взрыв, и из левого двигателя самолета показалось пламя. Как рассказал пилот самолета, при взлете были обнаружен сбой одного из двигателей, и экипаж принял решение вернуться в аэропорт. После вынужденной посадки самолета, на борту которого находились 70 пассажиров, технические службы начали проверку состояния лайнера, результаты которой пока не известны. Никто из пассажиров и членов экипажа в результате этого инцидента не пострадал.\",Американский авиалайнер совершил вынужденную посадку из-за взрыва в двигателе\r\n",
            "412215,\"В Санкт-Петербурге арестован человек, которого обвиняют в нападении на начальника 14-го отдела УВД Кировского района города. Как сообщает в четверг, 30 июля, пресс-служба СКП РФ, в отношении Вадима Оруджева возбуждено дело по статье \"\"покушение на убийство\"\". По данным следствия, подозреваемый поссорился с милиционером возле кафе на Ленинском проспекте и несколько раз ударил его ножом. Отмечается, что потерпевший активно отбивался от Оруджева и благодаря этому остался жив. Сообщается также, что милиционер, имя которого не называется, был одет в гражданскую одежду. По данным СКП РФ, Оруджев ранее был судим.\",В Петербурге арестован подозреваемый в попытке убийства начальника отдела УВД\r\n",
            "623135,\"С первого сентября зарплаты московских учителей вырастут на 30 процентов, передает NEWSru.com. Таким образом, средняя зарплата столичных педагогов составит 5750 рублей в месяц. Об увеличении ставок объявил в понедельник на заседании городского педагогического совета мэр Москвы Юрий Лужков. \"\"Повышение с 1 октября ставок на федеральном уровне позволит еще немного приблизить заработную плату учителей к средней московской... Это наша цель и мы будем ее реализовывать\"\", - заявил мэр. Он также назвал \"\"серьезным пробелом\"\" зарплаты сотрудников детских садов. \"\"Сегодня вечером глава комплекса социальной сферы Людмила Швецова должна будет представить мне предложения по разрешению этой проблемы\"\", - подчеркнул Лужков.\",Московским учителям подняли зарплату на 30 процентов\r\n",
            "571646,\"Владимир Путин предложил кандидатуру Александра Карлина на пост главы администрации Алтайского края, сообщает РИА \"\"Новости\"\". Президент России внес на рассмотрение Алтайского краевого Совета народных депутатов кандидатуру Карлина Александра Богдановича для наделения его полномочиями главы администрации Алтайского края, говорится в сообщении пресс-службы Кремля. В настоящее время Карлин является начальником Управления администрации президента РФ по вопросам государственной службы. Выборы главы администрации Алтайского края состоятся досрочно в связи с гибелью 7 августа 2005 года в автокатастрофе губернатора края Михаила Евдокимова.\",Путин предложил кандидатуру Александра Карлина на место Евдокимова\r\n",
            "504222,\"В исправительной колонии, расположенной в якутском поселке Мохсоголлох, из которой ранее поступали сведения о бунте, произошла массовая драка между заключенными, сообщает РИА Новости со ссылкой на сотрудника Генеральной прокуратуры РФ. В драке, по данным представителя УФСИН (Управления федеральной службы исполнения наказаний), участвовали до 25 человек. В результате один заключенный погиб, еще девять получили ранения и были госпитализированы.\r\n",
            "526269,\"На севере Москвы в ночь на понедельник совершена кража биотуалета, сообщает РИА Новости со ссылкой на источник в правоохранительных органах. По словам сотрудника ГУВД Москвы, с заявлением о кражи биотуалета в районное отделение милиции обратился представитель коммерческой фирмы, которой принадлежало сооружение, стоявшее в 4-м Михалковском проезде. Сумму причиненного ущерба потерпевший оценил в 25 тысяч рублей. По словам сотрудника правоохранительных органов, в настоящий момент заявление о краже проверяется, решается вопрос о возбуждении уголовного дела.\",На севере Москвы украли уличный биотуалет\r\n",
            "434483,\"Из самолета президента Чехии было украдено авиатопливо на сумму не менее одного миллиона евро, сообщает AFP. Следователи допросят 50 государственных служащих, которые могли помогать ворам. Со ссылкой на свои источники в полиции агентство сообщает, что основных подозреваемых шестеро. По сведениям местных СМИ, украденного топлива хватило бы на 19 перелетов из Чехии в Канаду и обратно. За какой период времени ворам удалось похитить столько горючего, не уточняется.\",Из самолета президента Чехии слили топливо на миллион евро\r\n",
            "411110,\"В Ингушском городе Карабулак из гранатометов был обстрелян местный рынок. Об этом сообщает \"\"Интерфакс\"\" в субботу, 8 августа.\r Обстрел произошел в 01:00 по московскому времени. Как рассказали агентству в республиканском МВД, неизвестные несколько раз выстрелили из подствольного гранатомета по торговым павильонам и скрылись с места происшествия.\r Как уточняет РИА Новости, обстрел велся по рынку \"\"Дары природы\"\", который расположен в центре города. Всего, по данным агентства, в сторону рынка было выпущено четыре снаряда из гранатомета.\r По словам собеседника \"\"Интерфакса\"\", в результате обстрела никто не пострадал, однако крышам павильонов был причинен серьезный материальный ущерб. По факту обстрела проводится проверка, отметили в МВД.\",В Ингушетии рынок обстреляли из гранатометов\r\n",
            "70000,\"В Китае разгневанная невеста протащила по улице жениха, который не явился на свадьбу, об этом сообщает издание Gothamist. На появившемся в интернете видео женщина в свадебном платье громко ругается и волочит по асфальту сопротивляющегося мужчину при помощи цепи, которая накинута ему на запястья. За происходящим наблюдают многочисленные прохожие. Gothamist отмечает, что видео вызвало скептицизм у пользователей китайских социальных сетей. Многие предположили, что «жених» и «невеста» рекламировали что-то, другие считают, что на видео запечатлен перформанс. Третьи уверены, что его герои ролика — развлекающиеся садомазохисты.\",Китайской невесте пришлось волочить жениха на свадьбу в цепях\r\n",
            "42226,\"В сети появилась видеозапись ДТП в подмосковных Мытищах. На записи, размещенной в Telegram, видно, как на перекрестке автомобиль Skoda сталкивается с поворачивающим налево такси. Ударом от столкновения машину вынесло на тротуар перед пешеходным переходом, где в тот момент стояли люди. В результате аварии пострадали семь человек, сообщает ТАСС со ссылкой на подмосковный главк МВД. Пятеро, в том числе трое детей, госпитализированы с переломами и ушибами. Обошлось без несовместимых с жизнью травм, уточнили агентству в региональном Минздраве. По факту ДТП возбуждено уголовное дело по статье «Нарушение правил дорожного движения и эксплуатации транспортных средств». Подозреваемый задержан.\",Появилось видео наезда на пешеходов в Мытищах\r\n"
          ]
        }
      ],
      "source": [
        "!shuf -n 10 news.csv"
      ]
    },
    {
      "cell_type": "markdown",
      "metadata": {
        "id": "QOVlO5_Qlg5y"
      },
      "source": [
        "Токенизируем их. Будем использовать единый словарь для текста и заголовков."
      ]
    },
    {
      "cell_type": "markdown",
      "source": [
        "### Токенизатор"
      ],
      "metadata": {
        "id": "V4CBhNdCTbnD"
      }
    },
    {
      "cell_type": "code",
      "source": [
        "nlp = spacy.load(\"ru_core_news_sm\")\n",
        "ru_stopwords = set(stopwords.words(\"russian\"))\n",
        "\n",
        "def spacy_tokenize(text):\n",
        "    return [\n",
        "        token.text.lower()\n",
        "        for token in nlp(text)\n",
        "        if not token.is_space and not token.is_punct\n",
        "    ]"
      ],
      "metadata": {
        "id": "Lv4xcHAvt8Ci"
      },
      "execution_count": 10,
      "outputs": []
    },
    {
      "cell_type": "code",
      "execution_count": 11,
      "metadata": {
        "id": "fsOvtO0fpCHa"
      },
      "outputs": [],
      "source": [
        "BOS_TOKEN = \"<s>\"\n",
        "EOS_TOKEN = \"</s>\"\n",
        "UNK_TOKEN = \"<unk>\"\n",
        "PAD_TOKEN = \"<pad>\"\n",
        "\n",
        "word_field = Field(\n",
        "    tokenize=spacy_tokenize,\n",
        "    init_token=BOS_TOKEN,\n",
        "    eos_token=EOS_TOKEN,\n",
        "    unk_token=UNK_TOKEN,\n",
        "    pad_token=PAD_TOKEN,\n",
        "    lower=False,\n",
        "    include_lengths=True\n",
        ")\n",
        "fields = [(\"source\", word_field), (\"target\", word_field)]"
      ]
    },
    {
      "cell_type": "markdown",
      "source": [
        "### Генерация examples"
      ],
      "metadata": {
        "id": "lLcFOAxZTh85"
      }
    },
    {
      "cell_type": "code",
      "source": [
        "examples_path = save_path + \"/dataset_examples_пупу.pkl\""
      ],
      "metadata": {
        "id": "rVdyvbwZTrQC"
      },
      "execution_count": 12,
      "outputs": []
    },
    {
      "cell_type": "code",
      "source": [
        "if os.path.exists(examples_path):\n",
        "    print(\"загружаем examples из файла...\")\n",
        "    with open(examples_path, \"rb\") as f:\n",
        "        examples = dill.load(f)\n",
        "else:\n",
        "    print(\"генерация examples с нуля. (~1 час пупупу...)\")\n",
        "\n",
        "    data = pd.read_csv(\"news.csv\", delimiter=\",\", encoding=\"utf-8-sig\")\n",
        "    examples = []\n",
        "    for _, row in tqdm(data.iterrows(), total=len(data)):\n",
        "        source_text = word_field.preprocess(row.text)\n",
        "        target_text = word_field.preprocess(row.title)\n",
        "        examples.append(Example.fromlist([source_text, target_text], fields))\n",
        "\n",
        "    with open(examples_path, \"wb\") as f:\n",
        "        dill.dump(examples, f)\n",
        "    print(\"examples в\", examples_path)"
      ],
      "metadata": {
        "id": "oU4qdS-rTwiJ",
        "colab": {
          "base_uri": "https://localhost:8080/",
          "height": 0
        },
        "outputId": "4825397e-ed44-4e42-ad67-1840f573ed8f"
      },
      "execution_count": 13,
      "outputs": [
        {
          "output_type": "stream",
          "name": "stdout",
          "text": [
            "загружаем examples из файла...\n"
          ]
        }
      ]
    },
    {
      "cell_type": "markdown",
      "metadata": {
        "id": "A8uCsMEglm6V"
      },
      "source": [
        "Построим датасеты:"
      ]
    },
    {
      "cell_type": "code",
      "source": [
        "vec_gz_path = save_path + 'cc.ru.300.vec.gz'\n",
        "vec_txt_path = save_path + 'cc.ru.300.vec'\n",
        "\n",
        "if not os.path.exists(vec_txt_path):\n",
        "    with gzip.open(vec_gz_path, 'rt', encoding='utf-8') as f_in:\n",
        "        with open(vec_txt_path, 'w', encoding='utf-8') as f_out:\n",
        "            for line in f_in:\n",
        "                f_out.write(line)\n",
        "else:\n",
        "    print(\"распаковано:\", vec_txt_path)"
      ],
      "metadata": {
        "id": "XpHuFVgPwAJV",
        "colab": {
          "base_uri": "https://localhost:8080/",
          "height": 0
        },
        "outputId": "7bb1bfb3-e330-4c0f-b2ec-efd852a7f31f"
      },
      "execution_count": 14,
      "outputs": [
        {
          "output_type": "stream",
          "name": "stdout",
          "text": [
            "распаковано: /content/drive/MyDrive/Colab Notebooks/коалиция_ниггавуманов/cc.ru.300.vec\n"
          ]
        }
      ]
    },
    {
      "cell_type": "code",
      "execution_count": 15,
      "metadata": {
        "id": "ZOBgLAgVTrk1",
        "colab": {
          "base_uri": "https://localhost:8080/",
          "height": 0
        },
        "outputId": "7e2ecc5f-f104-42a6-98a8-04ffdbd6bf78"
      },
      "outputs": [
        {
          "output_type": "stream",
          "name": "stdout",
          "text": [
            "Train size = 63136\n",
            "Test size = 11142\n"
          ]
        }
      ],
      "source": [
        "dataset = Dataset(examples, fields)\n",
        "\n",
        "train_dataset, test_dataset = dataset.split(split_ratio=0.85)\n",
        "\n",
        "print(\"Train size =\", len(train_dataset))\n",
        "print(\"Test size =\", len(test_dataset))"
      ]
    },
    {
      "cell_type": "markdown",
      "source": [
        "### Построение словаря с учётом стоп-слов"
      ],
      "metadata": {
        "id": "V9O-rN4uUgBY"
      }
    },
    {
      "cell_type": "code",
      "source": [
        "from collections import Counter\n",
        "token_counter = Counter()\n",
        "for ex in train_dataset.examples:\n",
        "    token_counter.update(ex.source)\n",
        "\n",
        "for stopword in ru_stopwords:\n",
        "    if stopword in token_counter:\n",
        "        token_counter[stopword] = max(1, token_counter[stopword] // 10)"
      ],
      "metadata": {
        "id": "xC-e6D0VQ9c0"
      },
      "execution_count": null,
      "outputs": []
    },
    {
      "cell_type": "code",
      "source": [
        "from torchtext.vocab import Vocab\n",
        "word_field.vocab = Vocab(token_counter, specials=[UNK_TOKEN, PAD_TOKEN, BOS_TOKEN, EOS_TOKEN], min_freq=10)"
      ],
      "metadata": {
        "id": "gcm977bnUkvI"
      },
      "execution_count": null,
      "outputs": []
    },
    {
      "cell_type": "markdown",
      "source": [
        "### Подгрузка русских FastText эмбеддингов"
      ],
      "metadata": {
        "id": "rj0li_IrUpeS"
      }
    },
    {
      "cell_type": "code",
      "source": [
        "fasttext_path = save_path + \"cc.ru.300.vec\"\n",
        "vectors = {}"
      ],
      "metadata": {
        "id": "Pg7Y3yOWvJ9n"
      },
      "execution_count": 51,
      "outputs": []
    },
    {
      "cell_type": "code",
      "source": [
        "with open(fasttext_path, 'r', encoding='utf-8') as f:\n",
        "    next(f)\n",
        "    for line in f:\n",
        "        tokens = line.rstrip().split(' ')\n",
        "        word = tokens[0]\n",
        "        vector = np.array(tokens[1:], dtype=np.float32)\n",
        "\n",
        "        norm = np.linalg.norm(vector)\n",
        "        if norm > 0:\n",
        "            vector /= norm\n",
        "\n",
        "        vectors[word] = vector"
      ],
      "metadata": {
        "id": "ff6eBd94wLGe"
      },
      "execution_count": null,
      "outputs": []
    },
    {
      "cell_type": "markdown",
      "source": [
        "### Формируем embedding matrix\n"
      ],
      "metadata": {
        "id": "YghBEeg3VBNK"
      }
    },
    {
      "cell_type": "code",
      "source": [
        "embedding_dim = 300\n",
        "embedding_matrix = np.random.normal(scale=0.01, size=(len(word_field.vocab), embedding_dim))"
      ],
      "metadata": {
        "id": "YKlXovJUw5Ad"
      },
      "execution_count": 52,
      "outputs": []
    },
    {
      "cell_type": "code",
      "source": [
        "for i in range(len(embedding_matrix)):\n",
        "    if word_field.vocab.itos[i] not in vectors:\n",
        "        norm = np.linalg.norm(embedding_matrix[i])\n",
        "        if norm > 0:\n",
        "            embedding_matrix[i] /= norm"
      ],
      "metadata": {
        "id": "IdUkhiMyc1OG"
      },
      "execution_count": 53,
      "outputs": []
    },
    {
      "cell_type": "code",
      "source": [
        "for i, token in enumerate(word_field.vocab.itos):\n",
        "    if token in vectors:\n",
        "        embedding_matrix[i] = vectors[token]\n",
        "\n",
        "pretrained_embeddings = torch.tensor(embedding_matrix, dtype=torch.float)"
      ],
      "metadata": {
        "id": "UAkNB961w7Ed"
      },
      "execution_count": 54,
      "outputs": []
    },
    {
      "cell_type": "code",
      "source": [
        "DEVICE = torch.device(\"cuda\" if torch.cuda.is_available() else \"cpu\")\n",
        "train_iter, test_iter = BucketIterator.splits(\n",
        "    datasets=(train_dataset, test_dataset),\n",
        "    batch_sizes=(16, 32),\n",
        "    shuffle=True,\n",
        "    device=DEVICE,\n",
        "    sort=False,\n",
        "    sort_key=lambda x: len(x.source),\n",
        ")"
      ],
      "metadata": {
        "id": "2LPx1NOEw7HJ"
      },
      "execution_count": 34,
      "outputs": []
    },
    {
      "cell_type": "markdown",
      "source": [
        "#### Статистика"
      ],
      "metadata": {
        "id": "m-p7bG53V-of"
      }
    },
    {
      "cell_type": "code",
      "source": [
        "print(\"Размер словаря (vocab size):\", len(word_field.vocab))\n",
        "print(\"Размер embedding_matrix:\", embedding_matrix.shape)\n",
        "print(\"Размер pretrained_embeddings:\", pretrained_embeddings.shape)"
      ],
      "metadata": {
        "id": "CQMV9-upw7Jr"
      },
      "execution_count": null,
      "outputs": []
    },
    {
      "cell_type": "code",
      "source": [
        "unk_idx = word_field.vocab.stoi[UNK_TOKEN]\n",
        "print(f\"Слов в UNK: {sum(1 for word in word_field.vocab.itos if word_field.vocab.stoi[word] == unk_idx)}\")"
      ],
      "metadata": {
        "colab": {
          "base_uri": "https://localhost:8080/"
        },
        "id": "yjrA2NhccjM_",
        "outputId": "f0252c49-4226-440f-b6cb-72b0c8ee94b2"
      },
      "execution_count": null,
      "outputs": [
        {
          "output_type": "stream",
          "name": "stdout",
          "text": [
            "Слов в UNK: 1\n"
          ]
        }
      ]
    },
    {
      "cell_type": "markdown",
      "source": [
        "#### Покрытие слов фасттекстом"
      ],
      "metadata": {
        "id": "8LmXT4pkWE-8"
      }
    },
    {
      "cell_type": "code",
      "source": [
        "found = sum(1 for token in word_field.vocab.itos if token in vectors)\n",
        "print(f\"Найдено в fastText векторов: {found}/{len(word_field.vocab)}\")\n",
        "print(f\"Процент покрытия: {found / len(word_field.vocab) * 100:.2f}%\")"
      ],
      "metadata": {
        "colab": {
          "base_uri": "https://localhost:8080/"
        },
        "id": "ulLcBCTgWJDV",
        "outputId": "dde2da31-ea3e-4b57-8328-921a78d7e363"
      },
      "execution_count": null,
      "outputs": [
        {
          "output_type": "stream",
          "name": "stdout",
          "text": [
            "Найдено в fastText векторов: 37777/40877\n",
            "Процент покрытия: 92.42%\n"
          ]
        }
      ]
    },
    {
      "cell_type": "markdown",
      "source": [
        "#### Примеры эмббедингов"
      ],
      "metadata": {
        "id": "5cFMo31TWNUc"
      }
    },
    {
      "cell_type": "code",
      "source": [
        "for word in ['<unk>', 'москва', 'президент', 'экономика']:\n",
        "    idx = word_field.vocab.stoi.get(word)\n",
        "    if idx is not None:\n",
        "        print(f\"Слово '{word}' индекс {idx}, эмбеддинг: {pretrained_embeddings[idx][:5]}\")\n",
        "    else:\n",
        "        print(f\"Слово '{word}' не найдено в словаре.\")"
      ],
      "metadata": {
        "colab": {
          "base_uri": "https://localhost:8080/"
        },
        "id": "rkwIQfblw7OH",
        "outputId": "9697aaee-7c70-4a26-dc0e-3a60b71e852f"
      },
      "execution_count": null,
      "outputs": [
        {
          "output_type": "stream",
          "name": "stdout",
          "text": [
            "Слово '<unk>' индекс 0, эмбеддинг: tensor([-0.0025, -0.0968, -0.0303, -0.0351, -0.0216])\n",
            "Слово 'москва' индекс 642, эмбеддинг: tensor([ 0.1637, -0.0695,  0.0518, -0.0765,  0.0932])\n",
            "Слово 'президент' индекс 107, эмбеддинг: tensor([ 0.1002, -0.0172,  0.0429, -0.0020, -0.0215])\n",
            "Слово 'экономика' индекс 10679, эмбеддинг: tensor([ 0.0380, -0.1065, -0.0602,  0.0646, -0.0701])\n"
          ]
        }
      ]
    },
    {
      "cell_type": "code",
      "source": [
        "print(\"Embedding stats:\")\n",
        "print(f\"Mean: {pretrained_embeddings.mean().item():.4f}\")\n",
        "print(f\"Std: {pretrained_embeddings.std().item():.4f}\")\n",
        "print(f\"NaN values: {torch.isnan(pretrained_embeddings).sum().item()}\")"
      ],
      "metadata": {
        "colab": {
          "base_uri": "https://localhost:8080/"
        },
        "id": "D10INxO8aBcU",
        "outputId": "054a3883-4645-472a-ca32-80498019eb08"
      },
      "execution_count": null,
      "outputs": [
        {
          "output_type": "stream",
          "name": "stdout",
          "text": [
            "Embedding stats:\n",
            "Mean: 0.0007\n",
            "Std: 0.0577\n",
            "NaN values: 0\n"
          ]
        }
      ]
    },
    {
      "cell_type": "code",
      "source": [
        "from sklearn.manifold import TSNE\n",
        "import matplotlib.pyplot as plt\n",
        "\n",
        "sample_words = np.random.choice(word_field.vocab.itos, 100, replace=False)\n",
        "sample_embeddings = np.array([embedding_matrix[word_field.vocab.stoi[word]] for word in sample_words])\n",
        "\n",
        "tsne = TSNE(n_components=2, random_state=42)\n",
        "embeddings_2d = tsne.fit_transform(sample_embeddings)\n",
        "\n",
        "plt.figure(figsize=(10, 8))\n",
        "for i, word in enumerate(sample_words):\n",
        "    plt.scatter(embeddings_2d[i, 0], embeddings_2d[i, 1])\n",
        "    plt.annotate(word, (embeddings_2d[i, 0], embeddings_2d[i, 1]))\n",
        "plt.show()"
      ],
      "metadata": {
        "colab": {
          "base_uri": "https://localhost:8080/",
          "height": 676
        },
        "id": "p_Zx5ZgrdSOh",
        "outputId": "01876c45-f21b-49e1-d355-427adb3d52a1"
      },
      "execution_count": null,
      "outputs": [
        {
          "output_type": "display_data",
          "data": {
            "text/plain": [
              "<Figure size 1000x800 with 1 Axes>"
            ],
            "image/png": "[encoded data removed]"
          },
          "metadata": {}
        }
      ]
    },
    {
      "cell_type": "code",
      "source": [
        "from sklearn.preprocessing import MinMaxScaler\n",
        "\n",
        "words = [\"Москва\", \"город\", \"столица\", \"Россия\",\n",
        "         \"президент\", \"правительство\", \"доллар\", \"валюта\",\n",
        "         \"компания\", \"бизнес\", \"развитие\", \"технологии\",\n",
        "         \"и\", \"в\", \"на\", \"с\", \"к\"]  # + служебные слова\n",
        "\n",
        "words = [w for w in words if w in word_field.vocab.stoi]\n",
        "\n",
        "embeddings = pretrained_embeddings[[word_field.vocab.stoi[w] for w in words]].numpy()\n",
        "embeddings = MinMaxScaler().fit_transform(embeddings)\n",
        "\n",
        "tsne = TSNE(\n",
        "    n_components=2,\n",
        "    perplexity=min(5, len(words)-1),\n",
        "    early_exaggeration=12,\n",
        "    learning_rate=200,\n",
        "    n_iter=5000,\n",
        "    random_state=42,\n",
        "    metric='cosine'\n",
        ")\n",
        "\n",
        "result = tsne.fit_transform(embeddings)\n",
        "plt.figure(figsize=(12, 10))\n",
        "plt.scatter(result[:, 0], result[:, 1], s=100, alpha=0.7)\n",
        "\n",
        "for i, word in enumerate(words):\n",
        "    x, y = result[i]\n",
        "    plt.annotate(\n",
        "        word,\n",
        "        (x, y),\n",
        "        textcoords=\"offset points\",\n",
        "        xytext=(5, 5 if i%2 else -15),\n",
        "        ha='center',\n",
        "        fontsize=10,\n",
        "        alpha=0.9\n",
        "    )\n",
        "\n",
        "plt.grid(alpha=0.2)\n",
        "plt.show()"
      ],
      "metadata": {
        "colab": {
          "base_uri": "https://localhost:8080/",
          "height": 868
        },
        "id": "Mxat6oNYezCG",
        "outputId": "c29b0e55-ee56-47fd-ddef-e21a1658ac07"
      },
      "execution_count": null,
      "outputs": [
        {
          "output_type": "stream",
          "name": "stderr",
          "text": [
            "/usr/local/lib/python3.11/dist-packages/sklearn/manifold/_t_sne.py:1164: FutureWarning: 'n_iter' was renamed to 'max_iter' in version 1.5 and will be removed in 1.7.\n",
            "  warnings.warn(\n"
          ]
        },
        {
          "output_type": "display_data",
          "data": {
            "text/plain": [
              "<Figure size 1200x1000 with 1 Axes>"
            ],
            "image/png": "[encoded data removed]"
          },
          "metadata": {}
        }
      ]
    },
    {
      "cell_type": "code",
      "source": [
        "test_words = set(word for ex in test_dataset.examples for word in ex.source)\n",
        "unk_in_test = test_words - set(word_field.vocab.itos)\n",
        "print(f\"UNK в тестовых данных: {len(unk_in_test)} слов\")"
      ],
      "metadata": {
        "colab": {
          "base_uri": "https://localhost:8080/"
        },
        "id": "WhpO1IBldjQJ",
        "outputId": "14c98348-380e-43c4-cb5d-33aad0fe6d50"
      },
      "execution_count": null,
      "outputs": [
        {
          "output_type": "stream",
          "name": "stdout",
          "text": [
            "UNK в тестовых данных: 64795 слов\n"
          ]
        }
      ]
    },
    {
      "cell_type": "markdown",
      "source": [
        "### Топ и хвост словаря"
      ],
      "metadata": {
        "id": "tHXCn6nWWWtq"
      }
    },
    {
      "cell_type": "markdown",
      "source": [
        "Выведем топ 50 самых частых слов"
      ],
      "metadata": {
        "id": "Nwac2CYzxHah"
      }
    },
    {
      "cell_type": "code",
      "source": [
        "vocab_words_sorted = sorted(word_field.vocab.freqs.items(), key=lambda x: -x[1])\n",
        "print(\"\\nТоп 50 слов:\")\n",
        "for i, (word, freq) in enumerate(vocab_words_sorted[:50]):\n",
        "    print(f\"{i+1}: {word} — {freq}\")"
      ],
      "metadata": {
        "colab": {
          "base_uri": "https://localhost:8080/"
        },
        "id": "jJxoe9ZQxK2f",
        "outputId": "e8300705-616d-4681-af11-14bb334705c0"
      },
      "execution_count": null,
      "outputs": [
        {
          "output_type": "stream",
          "name": "stdout",
          "text": [
            "\n",
            "Топ 50 слов:\n",
            "1: сообщает — 37258\n",
            "2: в — 29301\n",
            "3: года — 15873\n",
            "4: человек — 12791\n",
            "5: также — 12644\n",
            "6: россии — 12490\n",
            "7: время — 12449\n",
            "8: на — 12362\n",
            "9: новости — 12198\n",
            "10: риа — 11822\n",
            "11: результате — 11546\n",
            "12: около — 10257\n",
            "13: и — 10074\n",
            "14: данным — 10063\n",
            "15: словам — 8250\n",
            "16: ссылкой — 7842\n",
            "17: году — 7658\n",
            "18: интерфакс — 7631\n",
            "19: сша — 7532\n",
            "20: передает — 7384\n",
            "21: это — 7323\n",
            "22: агентство — 7262\n",
            "23: пока — 7256\n",
            "24: который — 7193\n",
            "25: по — 7128\n",
            "26: пресс — 6891\n",
            "27: сообщается — 6666\n",
            "28: произошел — 6535\n",
            "29: однако — 6471\n",
            "30: тысяч — 6337\n",
            "31: области — 6134\n",
            "32: ранее — 6105\n",
            "33: города — 6031\n",
            "34: погибли — 5778\n",
            "35: заявил — 5701\n",
            "36: происшествия — 5519\n",
            "37: сообщили — 5460\n",
            "38: несколько — 5440\n",
            "39: долларов — 5405\n",
            "40: москвы — 5331\n",
            "41: с — 5323\n",
            "42: которые — 5214\n",
            "43: место — 5122\n",
            "44: районе — 5118\n",
            "45: сообщил — 5044\n",
            "46: информации — 4925\n",
            "47: рф — 4835\n",
            "48: москве — 4632\n",
            "49: получили — 4534\n",
            "50: времени — 4514\n"
          ]
        }
      ]
    },
    {
      "cell_type": "markdown",
      "source": [
        "Топ редких слов(50 шт)"
      ],
      "metadata": {
        "id": "2iycks12xHdb"
      }
    },
    {
      "cell_type": "code",
      "source": [
        "print(\"\\nПоследние 50 слов:\")\n",
        "for i, (word, freq) in enumerate(vocab_words_sorted[-50:]):\n",
        "    print(f\"{len(vocab_words_sorted)-50+i+1}: {word} — {freq}\")"
      ],
      "metadata": {
        "colab": {
          "base_uri": "https://localhost:8080/"
        },
        "id": "8I9-RWNgxPSm",
        "outputId": "55c22b36-b522-4a55-b9d3-8463780ee39f"
      },
      "execution_count": null,
      "outputs": [
        {
          "output_type": "stream",
          "name": "stdout",
          "text": [
            "\n",
            "Последние 50 слов:\n",
            "256561: позировавшая — 1\n",
            "256562: чулках — 1\n",
            "256563: подвязками — 1\n",
            "256564: блудницей — 1\n",
            "256565: раав — 1\n",
            "256566: hовосмоленской — 1\n",
            "256567: агентство\"интерфакс — 1\n",
            "256568: хадзиева — 1\n",
            "256569: таллиннская — 1\n",
            "256570: тулатайп — 1\n",
            "256571: шипела — 1\n",
            "256572: таланг — 1\n",
            "256573: оонами — 1\n",
            "256574: савагири — 1\n",
            "256575: курама — 1\n",
            "256576: медат — 1\n",
            "256577: авдюкова — 1\n",
            "256578: порядкового — 1\n",
            "256579: прикинулись — 1\n",
            "256580: палеевой — 1\n",
            "256581: райдера — 1\n",
            "256582: бросании — 1\n",
            "256583: игральной — 1\n",
            "256584: контест — 1\n",
            "256585: удостоившихся — 1\n",
            "256586: обаятельной — 1\n",
            "256587: munn — 1\n",
            "256588: заберем — 1\n",
            "256589: ищете — 1\n",
            "256590: вэньчан — 1\n",
            "256591: fourniret — 1\n",
            "256592: тили — 1\n",
            "256593: thily — 1\n",
            "256594: един — 1\n",
            "256595: описаниях — 1\n",
            "256596: шенксвилле — 1\n",
            "256597: дарваз — 1\n",
            "256598: летти — 1\n",
            "256599: рожериу — 1\n",
            "256600: бомбардирскими — 1\n",
            "256601: подвигами — 1\n",
            "256602: сисиньо — 1\n",
            "256603: луизао — 1\n",
            "256604: эдмилсон — 1\n",
            "256605: пернамбукану — 1\n",
            "256606: рикардиньо — 1\n",
            "256607: вэгонер — 1\n",
            "256608: kltv — 1\n",
            "256609: gondwana — 1\n",
            "256610: смонтировало — 1\n"
          ]
        }
      ]
    },
    {
      "cell_type": "markdown",
      "source": [
        " Проверим наличие <unk> токенов при токенизации нормальных текстов"
      ],
      "metadata": {
        "id": "FcNwltSQ393W"
      }
    },
    {
      "cell_type": "code",
      "source": [
        "sample_text = \"посол россии пересек границу после эвакуации\"\n",
        "tokens = [word_field.init_token] + word_field.tokenize(sample_text.lower()) + [word_field.eos_token]\n",
        "indexed_tokens = [\n",
        "    word_field.vocab.stoi.get(token, word_field.vocab.stoi[word_field.unk_token])\n",
        "    for token in tokens\n",
        "]\n",
        "unk_count = sum(1 for idx in indexed_tokens if idx == word_field.vocab.stoi[word_field.unk_token])\n",
        "print(f\"\\nВсего токенов: {len(tokens)}\")\n",
        "print(f\"Из них UNK токенов: {unk_count}\")"
      ],
      "metadata": {
        "id": "Wc7ROGj57jLR",
        "colab": {
          "base_uri": "https://localhost:8080/"
        },
        "outputId": "bde3540d-3f12-46d6-fc1c-0f0a0921321d"
      },
      "execution_count": null,
      "outputs": [
        {
          "output_type": "stream",
          "name": "stdout",
          "text": [
            "\n",
            "Всего токенов: 8\n",
            "Из них UNK токенов: 0\n"
          ]
        }
      ]
    },
    {
      "cell_type": "code",
      "source": [
        "def analyze_vocabulary(vocab, data=None, max_words_to_print=20):\n",
        "    \"\"\"\n",
        "    Анализирует словарь и предоставляет информацию о его составе и качестве.\n",
        "\n",
        "    Args:\n",
        "        vocab: Объект словаря (например, word_field.vocab из torchtext).\n",
        "        data:  Список или итератор с текстовыми данными (для оценки покрытия словаря).  Если None, оценка покрытия не производится.\n",
        "        max_words_to_print: Максимальное количество самых частых и самых редких слов для отображения.\n",
        "\n",
        "    Returns:\n",
        "        None.  Функция печатает результаты анализа в консоль.\n",
        "    \"\"\"\n",
        "\n",
        "    vocab_size = len(vocab)\n",
        "    unk_index = vocab.stoi.get(\"<unk>\")\n",
        "    pad_index = vocab.stoi.get(\"<pad>\")\n",
        "    bos_index = vocab.stoi.get(\"<s>\")\n",
        "    eos_index = vocab.stoi.get(\"</s>\")\n",
        "\n",
        "    print(f\"Размер словаря: {vocab_size}\")\n",
        "\n",
        "    print(\"\\nПроверка специальных токенов:\")\n",
        "    if \"<unk>\" in vocab.stoi:\n",
        "        print(f\"  Токен <unk> найден в словаре, индекс: {unk_index}\")\n",
        "    else:\n",
        "        print(\"  Токен <unk> НЕ найден в словаре.\")\n",
        "    if \"<pad>\" in vocab.stoi:\n",
        "        print(f\"  Токен <pad> найден в словаре, индекс: {pad_index}\")\n",
        "    else:\n",
        "        print(\"  Токен <pad> НЕ найден в словаре.\")\n",
        "    if \"<s>\" in vocab.stoi:\n",
        "        print(f\"  Токен <s> (BOS) найден в словаре, индекс: {bos_index}\")\n",
        "    else:\n",
        "        print(\"  Токен <s> (BOS) НЕ найден в словаре.\")\n",
        "    if \"</s>\" in vocab.stoi:\n",
        "        print(f\"  Токен </s> (EOS) найден в словаре, индекс: {eos_index}\")\n",
        "    else:\n",
        "        print(\"  Токен </s> (EOS) НЕ найден в словаре.\")\n",
        "\n",
        "    if hasattr(vocab, 'freqs'):\n",
        "        print(\"\\nАнализ частотности слов:\")\n",
        "        vocab_words_sorted = sorted(vocab.freqs.items(), key=lambda x: -x[1])\n",
        "\n",
        "        print(f\"  {max_words_to_print} самых частых слов:\")\n",
        "        for i, (word, freq) in enumerate(vocab_words_sorted[:max_words_to_print]):\n",
        "            print(f\"    {i+1}: {word} — {freq}\")\n",
        "\n",
        "        print(f\"\\n  {max_words_to_print} самых редких слов:\")\n",
        "        for i, (word, freq) in enumerate(vocab_words_sorted[-max_words_to_print:]):\n",
        "            print(f\"    {vocab_size-max_words_to_print+i+1}: {word} — {freq}\")\n",
        "    else:\n",
        "        print(\"\\nИнформация о частотах слов недоступна в словаре.\")\n",
        "\n",
        "    if data:\n",
        "        print(\"\\nОценка покрытия словаря:\")\n",
        "        unk_count = 0\n",
        "        total_tokens = 0\n",
        "        for text in data:\n",
        "            for token in text:\n",
        "                total_tokens += 1\n",
        "                if vocab.stoi.get(token, unk_index) == unk_index:\n",
        "                    unk_count += 1\n",
        "\n",
        "        unk_percentage = (unk_count / total_tokens) * 100\n",
        "        print(f\"  Всего токенов в данных: {total_tokens}\")\n",
        "        print(f\"  Количество токенов <unk>: {unk_count}\")\n",
        "        print(f\"  Процент токенов <unk>: {unk_percentage:.2f}%\")\n",
        "\n",
        "        if hasattr(vocab, 'freqs'):\n",
        "            frequencies = [freq for word, freq in vocab_words_sorted]\n",
        "            plt.figure(figsize=(10, 5))\n",
        "            plt.plot(frequencies)\n",
        "            plt.xlabel(\"Ранг слова\")\n",
        "            plt.ylabel(\"Частота\")\n",
        "            plt.title(\"Распределение частот слов\")\n",
        "            plt.yscale('log')\n",
        "            plt.show()\n",
        "\n",
        "        print(\"\\nКритерии 'хорошести' словаря (ориентировочные):\")\n",
        "        if vocab_size < 1000:\n",
        "            print(\"  Словарь слишком маленький. Рассмотрите увеличение min_freq или использование большего объема данных.\")\n",
        "        elif vocab_size > 50000:\n",
        "            print(\"  Словарь может быть слишком большим.  Рассмотрите уменьшение объема данных, увеличение min_freq или использование subword токенизации.\")\n",
        "\n",
        "        if unk_percentage > 5.0:\n",
        "            print(\"  Процент неизвестных слов слишком высок.  Рассмотрите уменьшение min_freq, использование большего объема данных или subword токенизацию.\")\n",
        "        else:\n",
        "            print(\"  Процент неизвестных слов находится в приемлемом диапазоне.\")\n",
        "    else:\n",
        "        print(\"\\nДанные для оценки покрытия словаря не предоставлены.\")"
      ],
      "metadata": {
        "id": "L-mgPAED33E3"
      },
      "execution_count": null,
      "outputs": []
    },
    {
      "cell_type": "code",
      "source": [
        "    analyze_vocabulary(word_field.vocab, data=[ex.source for ex in train_dataset.examples])"
      ],
      "metadata": {
        "colab": {
          "base_uri": "https://localhost:8080/",
          "height": 1000
        },
        "id": "HY_7JdAh4Dks",
        "outputId": "52d16cd1-c19d-4417-e76f-2bbda8e6752b"
      },
      "execution_count": null,
      "outputs": [
        {
          "output_type": "stream",
          "name": "stdout",
          "text": [
            "Размер словаря: 40877\n",
            "\n",
            "Проверка специальных токенов:\n",
            "  Токен <unk> найден в словаре, индекс: 0\n",
            "  Токен <pad> найден в словаре, индекс: 1\n",
            "  Токен <s> (BOS) найден в словаре, индекс: 2\n",
            "  Токен </s> (EOS) найден в словаре, индекс: 3\n",
            "\n",
            "Анализ частотности слов:\n",
            "  20 самых частых слов:\n",
            "    1: сообщает — 37258\n",
            "    2: в — 29301\n",
            "    3: года — 15873\n",
            "    4: человек — 12791\n",
            "    5: также — 12644\n",
            "    6: россии — 12490\n",
            "    7: время — 12449\n",
            "    8: на — 12362\n",
            "    9: новости — 12198\n",
            "    10: риа — 11822\n",
            "    11: результате — 11546\n",
            "    12: около — 10257\n",
            "    13: и — 10074\n",
            "    14: данным — 10063\n",
            "    15: словам — 8250\n",
            "    16: ссылкой — 7842\n",
            "    17: году — 7658\n",
            "    18: интерфакс — 7631\n",
            "    19: сша — 7532\n",
            "    20: передает — 7384\n",
            "\n",
            "  20 самых редких слов:\n",
            "    40858: fourniret — 1\n",
            "    40859: тили — 1\n",
            "    40860: thily — 1\n",
            "    40861: един — 1\n",
            "    40862: описаниях — 1\n",
            "    40863: шенксвилле — 1\n",
            "    40864: дарваз — 1\n",
            "    40865: летти — 1\n",
            "    40866: рожериу — 1\n",
            "    40867: бомбардирскими — 1\n",
            "    40868: подвигами — 1\n",
            "    40869: сисиньо — 1\n",
            "    40870: луизао — 1\n",
            "    40871: эдмилсон — 1\n",
            "    40872: пернамбукану — 1\n",
            "    40873: рикардиньо — 1\n",
            "    40874: вэгонер — 1\n",
            "    40875: kltv — 1\n",
            "    40876: gondwana — 1\n",
            "    40877: смонтировало — 1\n",
            "\n",
            "Оценка покрытия словаря:\n",
            "  Всего токенов в данных: 5568750\n",
            "  Количество токенов <unk>: 477395\n",
            "  Процент токенов <unk>: 8.57%\n"
          ]
        },
        {
          "output_type": "display_data",
          "data": {
            "text/plain": [
              "<Figure size 1000x500 with 1 Axes>"
            ],
            "image/png": "[encoded data removed]"
          },
          "metadata": {}
        },
        {
          "output_type": "stream",
          "name": "stdout",
          "text": [
            "\n",
            "Критерии 'хорошести' словаря (ориентировочные):\n",
            "  Процент неизвестных слов слишком высок.  Рассмотрите уменьшение min_freq, использование большего объема данных или subword токенизацию.\n"
          ]
        }
      ]
    },
    {
      "cell_type": "markdown",
      "source": [
        "#### Сохрнение словаря (если новый!!/)"
      ],
      "metadata": {
        "id": "sNNp0gwsXe4V"
      }
    },
    {
      "cell_type": "code",
      "source": [
        "vocab_save_path = save_path + \"vocab_nlp_pupupu.pt\"\n",
        "word_field_save_path = save_path + \"word_field_nlp_pupupu.pt\"\n",
        "\n",
        "\n",
        "torch.save(word_field.vocab, vocab_save_path, pickle_module=dill)\n",
        "\n",
        "torch.save(word_field, word_field_save_path, pickle_module=dill)"
      ],
      "metadata": {
        "id": "82A5-vbgXm9m"
      },
      "execution_count": null,
      "outputs": []
    },
    {
      "cell_type": "markdown",
      "source": [
        "#### Подгрузка словаря"
      ],
      "metadata": {
        "id": "_ys_dMUHX1Wl"
      }
    },
    {
      "cell_type": "code",
      "source": [
        "vocab = torch.load(save_path + \"vocab_nlp_pupupu.pt\", pickle_module=dill)\n",
        "\n",
        "word_field.vocab = vocab\n",
        "print(\"vocab загружен и назначен\")\n",
        "\n",
        "word_field = torch.load(save_path + \"word_field_nlp_pupupu.pt\", pickle_module=dill)\n",
        "print(\"word_field загружен целиком\")"
      ],
      "metadata": {
        "colab": {
          "base_uri": "https://localhost:8080/",
          "height": 0
        },
        "id": "tkcQwnSk1ppk",
        "outputId": "bb049fc5-4fea-45e2-f728-e256c90f4f0d"
      },
      "execution_count": 16,
      "outputs": [
        {
          "output_type": "stream",
          "name": "stdout",
          "text": [
            "vocab загружен и назначен\n",
            "word_field загружен целиком\n"
          ]
        }
      ]
    },
    {
      "cell_type": "code",
      "source": [
        "#word_field = torch.load(save_path+\"word_field_nlp1.pt\", pickle_module=dill)\n",
        "#vocab = torch.load(save_path+\"vocab_nlp1.pt\", pickle_module=dill)\n",
        "#word_field.vocab = vocab"
      ],
      "metadata": {
        "id": "bzk2RWqoS-XC"
      },
      "execution_count": null,
      "outputs": []
    },
    {
      "cell_type": "markdown",
      "metadata": {
        "id": "tHQGgoit2ljv"
      },
      "source": [
        "## Seq2seq for Abstractive Summarization\n",
        "\n",
        "Вообще задача не сильно отличается от машинного перевода:\n",
        "\n",
        "![](https://image.ibb.co/jAf3S0/2018-11-20-9-42-17.png)\n",
        "*From [Get To The Point: Summarization with Pointer-Generator Networks](https://arxiv.org/pdf/1704.04368.pdf)*\n",
        "\n",
        "Тут на каждом шаге декодер подглядывает на все токены - точнее, их эмбеддинги после BiRNN.\n",
        "\n",
        "Возникает вопрос - а зачем вообще RNN, если потом все равно будем смотреть на всё."
      ]
    },
    {
      "cell_type": "markdown",
      "metadata": {
        "id": "8FYJe2CA8GcY"
      },
      "source": [
        "# Transformer\n",
        "\n",
        "Из этой идеи - отказ от RNN - и получился Transformer.\n",
        "\n",
        "![](https://hsto.org/webt/59/f0/44/59f04410c0e56192990801.png)  \n",
        "*From Attention is all you need*\n",
        "\n",
        "Как в случае с RNN мы на каждом шаге применяем одну и ту же операцию (ячейку LSTM) к текущему входу, так и здесь - только теперь связей между timestamp'ами нет и можно обрабатывать их почти параллельно.\n",
        "\n",
        "*Код дальше очень сильно опирается на шикарную статью [The Annotated Transformer](http://nlp.seas.harvard.edu/2018/04/03/attention.html).*"
      ]
    },
    {
      "cell_type": "markdown",
      "metadata": {
        "id": "env8rDS_dM86"
      },
      "source": [
        "## Encoder\n",
        "\n",
        "Начнем с энкодера:\n",
        "\n",
        "![](http://jalammar.github.io/images/t/transformer_resideual_layer_norm.png)  \n",
        "*From [Illustrated Transformer](http://jalammar.github.io/illustrated-transformer/)*\n",
        "\n",
        "Он представляет из себя последовательность одинаковых блоков с self-attention + полносвязными слоями.\n",
        "\n",
        "Можно представить, что это - ячейка LSTM: она тоже применяется к каждому входу с одинаковыми весами. Разница основная в отсутствии рекуррентных связей: за счет этого энкодер может применяться одновременно ко всем входам батча."
      ]
    },
    {
      "cell_type": "markdown",
      "metadata": {
        "id": "rXjWcnpCJY92"
      },
      "source": [
        "### Positional Encoding\n",
        "\n",
        "Нужно как-то кодировать информацию о том, в каком месте в предложении стоит токен. Авторы предложили делать так:\n",
        "$$PE_{(pos,2i)} = sin(pos / 10000^{2i/d_{\\text{model}}})$$\n",
        "$$PE_{(pos,2i+1)} = cos(pos / 10000^{2i/d_{\\text{model}}})$$\n",
        "\n",
        "где $(pos, i)$ - позиция в предложении и индекс в скрытом векторе размерности до $d_{model}$."
      ]
    },
    {
      "cell_type": "code",
      "execution_count": 55,
      "metadata": {
        "id": "zI2rMiZhJcKX"
      },
      "outputs": [],
      "source": [
        "import math\n",
        "\n",
        "class PositionalEncoding(nn.Module):\n",
        "    def __init__(self, d_model, dropout, max_len=5000):\n",
        "        super().__init__()\n",
        "        self.dropout = nn.Dropout(p=dropout)\n",
        "\n",
        "        pe = torch.zeros(max_len, d_model)\n",
        "        position = torch.arange(0, max_len, dtype=torch.float).unsqueeze(1)\n",
        "        div_term = torch.exp(torch.arange(0, d_model, 2, dtype=torch.float) * (-math.log(10000.0) / d_model))\n",
        "        pe[:, 0::2] = torch.sin(position * div_term)\n",
        "        pe[:, 1::2] = torch.cos(position * div_term)\n",
        "        pe = pe.unsqueeze(0)\n",
        "        self.register_buffer('pe', pe)\n",
        "\n",
        "    def forward(self, x):\n",
        "        x = x + self.pe[:, :x.size(1)]\n",
        "        return self.dropout(x)"
      ]
    },
    {
      "cell_type": "code",
      "execution_count": 56,
      "metadata": {
        "colab": {
          "base_uri": "https://localhost:8080/",
          "height": 464
        },
        "id": "XEL9VppyKCBz",
        "outputId": "13d81a82-0dc7-4585-c700-761b22bc1769"
      },
      "outputs": [
        {
          "output_type": "execute_result",
          "data": {
            "text/plain": [
              "<matplotlib.legend.Legend at 0x7b07c9a87890>"
            ]
          },
          "metadata": {},
          "execution_count": 56
        },
        {
          "output_type": "display_data",
          "data": {
            "text/plain": [
              "<Figure size 1500x500 with 1 Axes>"
            ],
            "image/png": "[encoded data removed]"
          },
          "metadata": {}
        }
      ],
      "source": [
        "plt.figure(figsize=(15, 5))\n",
        "pe = PositionalEncoding(20, 0)\n",
        "y = pe(torch.zeros(1, 100, 20))\n",
        "plt.plot(np.arange(100), y[0, :, 4:8].data.numpy())\n",
        "plt.legend([\"dim %d\"%p for p in [4,5,6,7]])"
      ]
    },
    {
      "cell_type": "markdown",
      "metadata": {
        "id": "a7OeqTcOdgud"
      },
      "source": [
        "В итоге эмбеддинги токена получается как сумма обычного эмбеддинга и эмбеддинга позиции:  \n",
        "![](http://jalammar.github.io/images/t/transformer_positional_encoding_vectors.png)  \n",
        "*From [Illustrated Transformer](http://jalammar.github.io/illustrated-transformer/)*"
      ]
    },
    {
      "cell_type": "markdown",
      "metadata": {
        "id": "9rvG4ZQ_icKH"
      },
      "source": [
        "### Residual Connection\n",
        "\n",
        "Разберем блок энкодера - повторяющейся N раз комбинации операций на первом рисунке.\n",
        "\n",
        "Самое простое здесь - residual connection. Вместо к выходу произвольной функции $F$ прибавляется её вход\n",
        "$$y = F(x) \\quad \\to \\quad y = F(x) + x$$\n",
        "\n",
        "Идея в том, что обычные сети сложно делать слишком глубокими - градиенты затухают. А через этот residual вход $x$ градиентам течь ничего не стоит. В итоге в картинках благодаря таким блокам получилось настакать дофига слоев и улучшить качество (см. ResNet).\n",
        "\n",
        "Ничего не мешает нам поступить также."
      ]
    },
    {
      "cell_type": "code",
      "execution_count": 57,
      "metadata": {
        "id": "7QLCqNeEjKpD"
      },
      "outputs": [],
      "source": [
        "class ResidualBlock(nn.Module):\n",
        "    def __init__(self, size, dropout_rate):\n",
        "        super().__init__()\n",
        "        self._norm = LayerNorm(size)\n",
        "        self._dropout = nn.Dropout(dropout_rate)\n",
        "\n",
        "    def forward(self, inputs, sublayer):\n",
        "        return inputs + self._dropout(sublayer(self._norm(inputs)))"
      ]
    },
    {
      "cell_type": "markdown",
      "metadata": {
        "id": "EHUqCsifmd5e"
      },
      "source": [
        "### Layer Norm\n",
        "\n",
        "Дополнительно применяется нормализация LayerNorm.\n",
        "\n",
        "**Batch normalization**  \n",
        "Мы вообще не разбирали, но BatchNorm работает так:\n",
        "$$\\mu_j = \\frac{1}{m}\\sum_{i=1}^{m}x_{ij} \\\\    \\sigma_j^2 = \\frac{1}{m}\\sum_{i=1}^{m}(x_{ij} - \\mu_j)^2 \\\\    \\hat{x}_{ij} = \\frac{x_{ij} - \\mu_j}{\\sqrt{\\sigma_j^2 + \\epsilon}}$$\n",
        "$$y_{ij} = \\gamma \\ \\hat{x}_{ij} + \\beta$$\n",
        "\n",
        "На каждом батче эти $\\mu$ и $\\sigma$ пересчитываются, обновляя статистики. На инференсе используются накопленные статистики.\n",
        "\n",
        "Основной его недостаток - он плохо работает с рекуррентными сетями. Чтобы побороть это придумали:\n",
        "\n",
        "**Layer normalization**  \n",
        "А сейчас мы будем пользоваться немного другими формулами:\n",
        "$$\\mu_i = \\frac{1}{m}\\sum_{j=1}^{m}x_{ij} \\\\    \\sigma_i^2 = \\frac{1}{m}\\sum_{j=1}^{m}(x_{ij} - \\mu_i)^2 \\\\    \\hat{x}_{ij} = \\frac{x_{ij} - \\mu_i}{\\sqrt{\\sigma_i^2 + \\epsilon}}$$\n",
        "$$y_{ij} = \\gamma \\ \\hat{x}_{ij} + \\beta$$\n",
        "\n",
        "Разницу с ходу не видно, но она есть:\n",
        "![](https://image.ibb.co/hjtuX0/layernorm.png)  \n",
        "*From [Weight Normalization and Layer Normalization Explained ](http://mlexplained.com/2018/01/13/weight-normalization-and-layer-normalization-explained-normalization-in-deep-learning-part-2/)*\n",
        "\n",
        "Если в BatchNorm статистики считаются для каждой фичи усреднением по батчу, то теперь - для каждого входа усредением по фичам."
      ]
    },
    {
      "cell_type": "code",
      "execution_count": 58,
      "metadata": {
        "id": "Q5XLZZ3zrK24"
      },
      "outputs": [],
      "source": [
        "class LayerNorm(nn.Module):\n",
        "    def __init__(self, features, eps=1e-6):\n",
        "        super().__init__()\n",
        "\n",
        "        self._gamma = nn.Parameter(torch.ones(features))\n",
        "        self._beta = nn.Parameter(torch.zeros(features))\n",
        "        self._eps = eps\n",
        "\n",
        "    def forward(self, inputs):\n",
        "        mean = inputs.mean(-1, keepdim=True)\n",
        "        std = inputs.std(-1, keepdim=True)\n",
        "        return self._gamma * (inputs - mean) / (std + self._eps) + self._beta"
      ]
    },
    {
      "cell_type": "markdown",
      "metadata": {
        "id": "WrWvtymp2G8o"
      },
      "source": [
        "### Attention\n",
        "\n",
        "Весь Transformer опирается на идею self-attention. Выглядит это так:\n",
        "\n",
        "![](http://jalammar.github.io/images/t/transformer_self-attention_visualization.png)  \n",
        "*From [Tensor2Tensor Tutorial](https://colab.research.google.com/github/tensorflow/tensor2tensor/blob/master/tensor2tensor/notebooks/hello_t2t.ipynb)*\n",
        "\n",
        "Эмбеддинг слова *it* строится как комбинация всех эмбеддингов предложения.\n",
        "\n",
        "В статье придумали делать такой аттеншен:\n",
        "\n",
        "$$\\mathrm{Attention}(Q, K, V) = \\mathrm{softmax}\\left(\\frac{QK^T}{\\sqrt{d_k}}\\right)V$$\n",
        "\n",
        "Это примерно как dot-attention на прошлом занятии: запрос (**Q**uery) умножается на ключи (**K**ey) скалярно, затем берется софтмакс - получаются оценки того, насколько интересны разные таймстемпы из значений (**V**alue).\n",
        "\n",
        "Например, $\\mathrm{emb}(\\text{it}) = \\mathrm{Attention}(\\text{it}, \\ldots\\text{because it was too tired}, \\ldots\\text{because it was too tired})$.\n",
        "\n",
        "Только теперь ещё с параметром $\\frac{1}{\\sqrt{d_k}}$, где $d_k$ - это размерность ключа. Утверждается, это работает лучше при больших размерностях ключа $d_k$."
      ]
    },
    {
      "cell_type": "code",
      "execution_count": 59,
      "metadata": {
        "id": "2ApuVJZn5i4R"
      },
      "outputs": [],
      "source": [
        "class ScaledDotProductAttention(nn.Module):\n",
        "    def __init__(self, dropout_rate):\n",
        "        super().__init__()\n",
        "\n",
        "        self._dropout = nn.Dropout(dropout_rate)\n",
        "\n",
        "    def forward(self, query, key, value, mask):\n",
        "        d_k = query.size(-1)\n",
        "        scores = torch.matmul(query, key.transpose(-2, -1)) / math.sqrt(d_k)\n",
        "        if mask is not None:\n",
        "            scores = scores.masked_fill(mask == 0, -1e9)\n",
        "        p_attn = F.softmax(scores, dim=-1)\n",
        "        p_attn = self._dropout(p_attn)\n",
        "\n",
        "        return torch.matmul(p_attn, value), p_attn"
      ]
    },
    {
      "cell_type": "markdown",
      "metadata": {
        "id": "uZ-xQbgM6MNl"
      },
      "source": [
        "### Multi-Head Attention\n",
        "\n",
        "![](https://hsto.org/webt/59/f0/44/59f0440f1109b864893781.png)\n",
        "\n",
        "Важная идея, почему attention (и, главное, self-attention) заработал - использование нескольких голов (multi-head).\n",
        "\n",
        "Вообще, когда мы делаем attention - мы определяем похожесть ключа и запроса. Многоголовость помогает (должна) определять эту похожесть по разным критериям - синтаксически, семантически и т.д.\n",
        "\n",
        "Например, на картинке используется две головы и одна голова смотрит на *the animal* при генерации *it*, вторая - на *tired*:\n",
        "\n",
        "![](http://jalammar.github.io/images/t/transformer_self-attention_visualization_2.png)  \n",
        "*From [Tensor2Tensor Tutorial](https://colab.research.google.com/github/tensorflow/tensor2tensor/blob/master/tensor2tensor/notebooks/hello_t2t.ipynb)*\n",
        "\n",
        "Применяется это таким образом:\n",
        "\n",
        "$$\\mathrm{MultiHead}(Q, K, V) = \\mathrm{Concat}(\\mathrm{head_1}, ...,\n",
        "\\mathrm{head_h})W^O    \\\\\n",
        "    \\mathrm{head_i} = \\mathrm{Attention}(QW^Q_i, KW^K_i, VW^V_i)$$\n",
        "    \n",
        "где $W^Q_i \\in \\mathbb{R}^{d_{model} \\times d_k}, W_i^K \\in \\mathbb{R}^{d_{model} \\times d_k}, W^V_i \\in \\mathbb{R}^{d_{model} \\times d_v}, W^O \\in \\mathbb{R}^{hd_v \\times d_{model}}$.\n",
        "\n",
        "В оригинальной статье использовали $h=8$, $d_k=d_v=d_{\\text{model}}/h=64$.\n",
        "\n",
        "Процесс применения такой:\n",
        "![](http://jalammar.github.io/images/t/transformer_multi-headed_self-attention-recap.png)  \n",
        "*From Illustrated Transformer*"
      ]
    },
    {
      "cell_type": "code",
      "execution_count": 60,
      "metadata": {
        "id": "rg-CxvPDAJPP"
      },
      "outputs": [],
      "source": [
        "class MultiHeadedAttention(nn.Module):\n",
        "    def __init__(self, heads_count, d_model, dropout_rate=0.1):\n",
        "        super().__init__()\n",
        "\n",
        "        assert d_model % heads_count == 0\n",
        "\n",
        "        self._d_k = d_model // heads_count\n",
        "        self._heads_count = heads_count\n",
        "        self._attention = ScaledDotProductAttention(dropout_rate)\n",
        "        self._attn_probs = None\n",
        "\n",
        "        self._w_q = nn.Linear(d_model, d_model)\n",
        "        self._w_k = nn.Linear(d_model, d_model)\n",
        "        self._w_v = nn.Linear(d_model, d_model)\n",
        "        self._w_o = nn.Linear(d_model, d_model)\n",
        "\n",
        "    def forward(self, query, key, value, mask=None):\n",
        "        if mask is not None:\n",
        "            mask = mask.unsqueeze(1)\n",
        "        nbatches = query.size(0)\n",
        "\n",
        "        query = self._w_q(query).view(nbatches, -1, self._heads_count, self._d_k).transpose(1, 2)\n",
        "        key = self._w_k(key).view(nbatches, -1, self._heads_count, self._d_k).transpose(1, 2)\n",
        "        value = self._w_v(value).view(nbatches, -1, self._heads_count, self._d_k).transpose(1, 2)\n",
        "        x, self._attn_probs = self._attention(query, key, value, mask)\n",
        "\n",
        "        x = x.transpose(1, 2).contiguous().view(nbatches, -1, self._heads_count * self._d_k)\n",
        "        x = self._w_o(x)\n",
        "        return x"
      ]
    },
    {
      "cell_type": "markdown",
      "metadata": {
        "id": "pOKwneaKGaJi"
      },
      "source": [
        "### Position-wise Feed-Forward Networks\n",
        "\n",
        "Линейный блок в энкодере выглядит так:\n",
        "$$\\mathrm{FFN}(x)=\\max(0, xW_1 + b_1) W_2 + b_2$$"
      ]
    },
    {
      "cell_type": "code",
      "execution_count": 61,
      "metadata": {
        "id": "uh1UVkAUGiwh"
      },
      "outputs": [],
      "source": [
        "class PositionwiseFeedForward(nn.Module):\n",
        "    def __init__(self, d_model, d_ff, dropout=0.1):\n",
        "        super().__init__()\n",
        "\n",
        "        self.w_1 = nn.Linear(d_model, d_ff)\n",
        "        self.w_2 = nn.Linear(d_ff, d_model)\n",
        "        self.dropout = nn.Dropout(dropout)\n",
        "\n",
        "    def forward(self, inputs):\n",
        "        return self.w_2(self.dropout(F.relu(self.w_1(inputs))))"
      ]
    },
    {
      "cell_type": "markdown",
      "metadata": {
        "id": "_dZoU1JIt6QP"
      },
      "source": [
        "### Encoder block\n",
        "\n",
        "Соберем все в блок:"
      ]
    },
    {
      "cell_type": "code",
      "execution_count": 62,
      "metadata": {
        "id": "Nh7wQL65sBmk"
      },
      "outputs": [],
      "source": [
        "class EncoderBlock(nn.Module):\n",
        "    def __init__(self, size, self_attn, feed_forward, dropout_rate):\n",
        "        super().__init__()\n",
        "\n",
        "        self._self_attn = self_attn\n",
        "        self._feed_forward = feed_forward\n",
        "        self._self_attention_block = ResidualBlock(size, dropout_rate)\n",
        "        self._feed_forward_block = ResidualBlock(size, dropout_rate)\n",
        "\n",
        "    def forward(self, inputs, mask):\n",
        "        outputs = self._self_attention_block(inputs, lambda inputs: self._self_attn(inputs, inputs, inputs, mask))\n",
        "        return self._feed_forward_block(outputs, self._feed_forward)"
      ]
    },
    {
      "cell_type": "code",
      "execution_count": 62,
      "metadata": {
        "id": "x8ndCRZLl4ZZ"
      },
      "outputs": [],
      "source": []
    },
    {
      "cell_type": "markdown",
      "source": [
        "Предполагается, что использование"
      ],
      "metadata": {
        "id": "9Enw99qjjinq"
      }
    },
    {
      "cell_type": "code",
      "source": [
        "class Encoder(nn.Module):\n",
        "    def __init__(self, vocab_size, d_model, d_ff, blocks_count, heads_count, dropout_rate, save_probs = False, pretrained_embeddings = None, shared_embeddings = None):\n",
        "        super().__init__()\n",
        "\n",
        "        if pretrained_embeddings is not None:\n",
        "            self.embedding_layer = nn.Embedding(vocab_size, 300)\n",
        "\n",
        "            self.embedding_layer.weight.data.copy_(pretrained_embeddings)\n",
        "            self.embedding_layer.weight.requires_grad = True\n",
        "\n",
        "            #  проекция из 300 в d_model\n",
        "            self.embedding_proj = nn.Linear(300, d_model)\n",
        "\n",
        "            self._pos_enc = PositionalEncoding(d_model, dropout_rate)\n",
        "            self._emb = nn.Sequential(\n",
        "                    self.embedding_layer,\n",
        "                    self.embedding_proj,\n",
        "                    self._pos_enc\n",
        "             )\n",
        "        elif shared_embeddings is None:\n",
        "            self._emb = nn.Sequential(\n",
        "                nn.Embedding(vocab_size, d_model),\n",
        "                PositionalEncoding(d_model, dropout_rate)\n",
        "            )\n",
        "        else:\n",
        "            self._emb = shared_embeddings\n",
        "\n",
        "        block = lambda: EncoderBlock(\n",
        "            size=d_model,\n",
        "            self_attn=MultiHeadedAttention(heads_count, d_model, dropout_rate),\n",
        "            feed_forward=PositionwiseFeedForward(d_model, d_ff, dropout_rate),\n",
        "            dropout_rate=dropout_rate\n",
        "        )\n",
        "        self._blocks = nn.ModuleList([block() for _ in range(blocks_count)])\n",
        "        self._norm = LayerNorm(d_model)\n",
        "\n",
        "        self.save_probs = save_probs\n",
        "        self.attn_probs = []\n",
        "\n",
        "    def forward(self, inputs, mask):\n",
        "        inputs = self._emb(inputs)\n",
        "        self.attn_probs = []\n",
        "        for block in self._blocks:\n",
        "            inputs = block(inputs, mask)\n",
        "            if self.save_probs:\n",
        "                self.attn_probs.append(block._self_attn._attn_probs)\n",
        "\n",
        "        return self._norm(inputs)"
      ],
      "metadata": {
        "id": "SMxYZy4RVUOt"
      },
      "execution_count": 63,
      "outputs": []
    },
    {
      "cell_type": "markdown",
      "metadata": {
        "id": "_pphRcbTvqnq"
      },
      "source": [
        "## Decoder\n",
        "\n",
        "![](https://hsto.org/webt/59/f0/44/59f0440f7d88f805415140.png)\n",
        "\n",
        "Блок декодера (серая часть) состоит уже из трех частей:\n",
        "1. Сперва - тот же self-attention, что и в энкодере\n",
        "2. Затем - стандартный attention на выходы из энкодера + текущее состояние декодера (такой же был в seq2seq with attention)\n",
        "3. Наконец - feed-forward блок\n",
        "\n",
        "Всё это, конечно, с residual связями."
      ]
    },
    {
      "cell_type": "code",
      "execution_count": 64,
      "metadata": {
        "id": "6LTWjKUXx2LP"
      },
      "outputs": [],
      "source": [
        "\n",
        "class DecoderLayer(nn.Module):\n",
        "    def __init__(self, size, self_attn, encoder_attn, feed_forward, dropout_rate):\n",
        "        super().__init__()\n",
        "\n",
        "        self._self_attn = self_attn\n",
        "        self._encoder_attn = encoder_attn\n",
        "        self._feed_forward = feed_forward\n",
        "        self._self_attention_block = ResidualBlock(size, dropout_rate)\n",
        "        self._attention_block = ResidualBlock(size, dropout_rate)\n",
        "        self._feed_forward_block = ResidualBlock(size, dropout_rate)\n",
        "\n",
        "    def forward(self, inputs, encoder_output, source_mask, target_mask):\n",
        "        outputs = self._self_attention_block(\n",
        "            inputs, lambda inputs: self._self_attn(inputs, inputs, inputs, target_mask)\n",
        "        )\n",
        "        outputs = self._attention_block(\n",
        "            outputs, lambda inputs: self._encoder_attn(inputs, encoder_output, encoder_output, source_mask)\n",
        "        )\n",
        "        return self._feed_forward_block(outputs, self._feed_forward)"
      ]
    },
    {
      "cell_type": "code",
      "execution_count": 64,
      "metadata": {
        "id": "Un0AOmdqLPp_"
      },
      "outputs": [],
      "source": []
    },
    {
      "cell_type": "code",
      "source": [
        "class Decoder(nn.Module):\n",
        "    def __init__(self, vocab_size, d_model, d_ff, blocks_count, heads_count, dropout_rate, save_probs = False, pretrained_embeddings = None, shared_embeddings = None):\n",
        "        super().__init__()\n",
        "        self._out_layer = nn.Linear(d_model, vocab_size)\n",
        "\n",
        "        if pretrained_embeddings is not None:\n",
        "            self.embedding_layer = nn.Embedding(vocab_size, 300)\n",
        "\n",
        "            self.embedding_layer.weight.data.copy_(pretrained_embeddings)\n",
        "            self.embedding_layer.weight.requires_grad = True\n",
        "\n",
        "            #  проекция из 300 в d_model\n",
        "            self.embedding_proj = nn.Linear(300, d_model)\n",
        "\n",
        "            self._pos_enc = PositionalEncoding(d_model, dropout_rate)\n",
        "            self._emb = nn.Sequential(\n",
        "                    self.embedding_layer,\n",
        "                    self.embedding_proj,\n",
        "                    self._pos_enc\n",
        "             )\n",
        "        elif shared_embeddings is None:\n",
        "            self._emb = nn.Sequential(\n",
        "                nn.Embedding(vocab_size, d_model),\n",
        "                PositionalEncoding(d_model, dropout_rate)\n",
        "            )\n",
        "        else:\n",
        "            self._emb = shared_embeddings\n",
        "            self._out_layer.weight = self._emb[0].weight  # Весовая привязка\n",
        "\n",
        "\n",
        "\n",
        "        block = lambda: DecoderLayer(\n",
        "            size=d_model,\n",
        "            self_attn=MultiHeadedAttention(heads_count, d_model, dropout_rate),\n",
        "            encoder_attn=MultiHeadedAttention(heads_count, d_model, dropout_rate),\n",
        "            feed_forward=PositionwiseFeedForward(d_model, d_ff, dropout_rate),\n",
        "            dropout_rate=dropout_rate\n",
        "        )\n",
        "        self._blocks = nn.ModuleList([block() for _ in range(blocks_count)])\n",
        "        self._norm = LayerNorm(d_model)\n",
        "\n",
        "\n",
        "        self.save_probs = save_probs\n",
        "        self.self_attn_probs = []\n",
        "        self.enc_attn_probs = []\n",
        "\n",
        "    def forward(self, inputs, encoder_output, source_mask, target_mask):\n",
        "        inputs = self._emb(inputs)\n",
        "        self.self_attn_probs = []\n",
        "        self.enc_attn_probs = []\n",
        "        for block in self._blocks:\n",
        "            inputs = block(inputs, encoder_output, source_mask, target_mask)\n",
        "            if self.save_probs:\n",
        "                self.self_attn_probs.append(block._self_attn._attn_probs)\n",
        "                self.enc_attn_probs.append(block._encoder_attn._attn_probs)\n",
        "        return self._out_layer(self._norm(inputs))"
      ],
      "metadata": {
        "id": "-j7s3qbDU9Ia"
      },
      "execution_count": 65,
      "outputs": []
    },
    {
      "cell_type": "markdown",
      "metadata": {
        "id": "tbEkHtwWz0Yh"
      },
      "source": [
        "В декодере нужно аттентиться только на предыдущие токены - сгенерируем маску для этого:"
      ]
    },
    {
      "cell_type": "code",
      "execution_count": 66,
      "metadata": {
        "id": "EbVkZSRq0cD5"
      },
      "outputs": [],
      "source": [
        "def subsequent_mask(size):\n",
        "    mask = torch.ones(size, size, device=DEVICE).triu_()\n",
        "    return mask.unsqueeze(0) == 0"
      ]
    },
    {
      "cell_type": "code",
      "execution_count": 67,
      "metadata": {
        "colab": {
          "base_uri": "https://localhost:8080/",
          "height": 464
        },
        "id": "_8X_fqeL0jeW",
        "outputId": "c95866dd-2bc7-4216-9ceb-0fb5d9f09a35"
      },
      "outputs": [
        {
          "output_type": "execute_result",
          "data": {
            "text/plain": [
              "<matplotlib.image.AxesImage at 0x7b07c9876290>"
            ]
          },
          "metadata": {},
          "execution_count": 67
        },
        {
          "output_type": "display_data",
          "data": {
            "text/plain": [
              "<Figure size 500x500 with 1 Axes>"
            ],
            "image/png": "[encoded data removed]"
          },
          "metadata": {}
        }
      ],
      "source": [
        "plt.figure(figsize=(5,5))\n",
        "plt.imshow(subsequent_mask(20)[0].cpu().numpy())"
      ]
    },
    {
      "cell_type": "markdown",
      "metadata": {
        "id": "b7UEsntVj9lb"
      },
      "source": [
        "## Полная модель"
      ]
    },
    {
      "cell_type": "code",
      "execution_count": 67,
      "metadata": {
        "id": "niG-PnInlF1I"
      },
      "outputs": [],
      "source": []
    },
    {
      "cell_type": "code",
      "source": [
        "class Generator(nn.Module):\n",
        "    \"Define standard linear + softmax generation step.\"\n",
        "    def __init__(self, d_model, vocab):\n",
        "        super(Generator, self).__init__()\n",
        "        self.proj = nn.Linear(d_model, vocab)\n",
        "\n",
        "    def forward(self, x):\n",
        "        return F.log_softmax(self.proj(x), dim=-1)\n",
        "\n",
        "\n",
        "class EncoderDecoder(nn.Module):\n",
        "    \"\"\"\n",
        "    A standard Encoder-Decoder architecture. Base for this and many\n",
        "    other models.\n",
        "    \"\"\"\n",
        "    def __init__(self, source_vocab_size, target_vocab_size, d_model=256, d_ff=1024,\n",
        "                 blocks_count=4, heads_count=8, dropout_rate=0.1, save_probs = False, use_shared_emb = False, pretrained_embeddings=None):\n",
        "        super(EncoderDecoder, self).__init__()\n",
        "\n",
        "        shared_embeddings = None\n",
        "        if use_shared_emb:\n",
        "            assert source_vocab_size == target_vocab_size, \"Vocab sizes must match for shared embeddings\"\n",
        "            self._emb = nn.Sequential(\n",
        "                nn.Embedding(source_vocab_size, d_model),\n",
        "                PositionalEncoding(d_model, dropout_rate)\n",
        "            )\n",
        "            shared_embeddings = self._emb\n",
        "\n",
        "\n",
        "        self.d_model = d_model\n",
        "        self.encoder = Encoder(source_vocab_size, d_model, d_ff, blocks_count, heads_count, dropout_rate, save_probs, pretrained_embeddings, shared_embeddings)\n",
        "        self.decoder = Decoder(target_vocab_size, d_model, d_ff, blocks_count, heads_count, dropout_rate, save_probs, pretrained_embeddings, shared_embeddings)\n",
        "        # self.generator = Generator(d_model, target_vocab_size)\n",
        "\n",
        "        for p in self.parameters():\n",
        "            if p.dim() > 1:\n",
        "                nn.init.xavier_uniform_(p)\n",
        "\n",
        "    def forward(self, source_inputs, target_inputs, source_mask, target_mask):\n",
        "        encoder_output = self.encoder(source_inputs, source_mask)\n",
        "        return self.decoder(target_inputs, encoder_output, source_mask, target_mask)"
      ],
      "metadata": {
        "id": "LNWf00AzUv4h"
      },
      "execution_count": 68,
      "outputs": []
    },
    {
      "cell_type": "code",
      "execution_count": 69,
      "metadata": {
        "id": "BmucSaUOjlmh"
      },
      "outputs": [],
      "source": [
        "def make_mask(source_inputs, target_inputs, pad_idx):\n",
        "    source_mask = (source_inputs != pad_idx).unsqueeze(-2)\n",
        "    target_mask = (target_inputs != pad_idx).unsqueeze(-2)\n",
        "    target_mask = target_mask & subsequent_mask(target_inputs.size(-1)).type_as(target_mask)\n",
        "    return source_mask, target_mask\n",
        "\n",
        "\n",
        "def convert_batch(batch, pad_idx=1):\n",
        "    source_inputs, _ = batch.source\n",
        "    target_inputs, _ = batch.target\n",
        "\n",
        "    source_inputs = source_inputs.transpose(0, 1)\n",
        "    target_inputs = target_inputs.transpose(0, 1)\n",
        "\n",
        "    source_mask, target_mask = make_mask(source_inputs, target_inputs, pad_idx)\n",
        "    return source_inputs, target_inputs, source_mask, target_mask"
      ]
    },
    {
      "cell_type": "code",
      "execution_count": 70,
      "metadata": {
        "id": "9iWSl6m6jfbl"
      },
      "outputs": [],
      "source": [
        "batch = next(iter(train_iter))"
      ]
    },
    {
      "cell_type": "code",
      "execution_count": 71,
      "metadata": {
        "id": "5_qVuSL8QJg4"
      },
      "outputs": [],
      "source": [
        "\n",
        "model = EncoderDecoder(\n",
        "    source_vocab_size=len(word_field.vocab),\n",
        "    target_vocab_size=len(word_field.vocab),\n",
        "    d_model=512,\n",
        "    heads_count=8,\n",
        "    pretrained_embeddings=pretrained_embeddings,\n",
        "    use_shared_emb = None\n",
        ").to(DEVICE)\n",
        "\n",
        "out = model(*convert_batch(batch))"
      ]
    },
    {
      "cell_type": "markdown",
      "metadata": {
        "id": "vX6PrVksnaq7"
      },
      "source": [
        "## Оптимизатор\n",
        "\n",
        "Тоже очень важно в данной модели - использовать правильный оптимизатор"
      ]
    },
    {
      "cell_type": "code",
      "execution_count": 72,
      "metadata": {
        "id": "KMhopCgTnh-w"
      },
      "outputs": [],
      "source": [
        "class NoamOpt(object):\n",
        "    def __init__(self, model_size, factor=2, warmup=4000, optimizer=None):\n",
        "        if optimizer is not None:\n",
        "            self.optimizer = optimizer\n",
        "        else:\n",
        "            self.optimizer = optim.Adam(model.parameters(), lr=0, betas=(0.9, 0.98), eps=1e-9)\n",
        "        self._step = 0\n",
        "        self.warmup = warmup\n",
        "        self.factor = factor\n",
        "        self.model_size = model_size\n",
        "        self._rate = 0\n",
        "\n",
        "    def step(self):\n",
        "        self._step += 1\n",
        "        rate = self.rate()\n",
        "        for p in self.optimizer.param_groups:\n",
        "            p['lr'] = rate\n",
        "        self._rate = rate\n",
        "        self.optimizer.step()\n",
        "\n",
        "    def rate(self, step = None):\n",
        "        if step is None:\n",
        "            step = self._step\n",
        "        return self.factor * (self.model_size ** (-0.5) * min(step ** (-0.5), step * self.warmup ** (-1.5)))"
      ]
    },
    {
      "cell_type": "markdown",
      "metadata": {
        "id": "OuYc21J5oIdb"
      },
      "source": [
        "Идея в том, чтобы повышать learning rate в течении первых warmup шагов линейно, а затем понижать его по сложной формуле:\n",
        "\n",
        "$$\n",
        "lrate = d_{\\text{model}}^{-0.5} \\cdot\n",
        "  \\min({step\\_num}^{-0.5},\n",
        "    {step\\_num} \\cdot {warmup\\_steps}^{-1.5})\n",
        "$$"
      ]
    },
    {
      "cell_type": "code",
      "execution_count": 73,
      "metadata": {
        "colab": {
          "base_uri": "https://localhost:8080/",
          "height": 449
        },
        "id": "kMBL261hoA58",
        "outputId": "3664ab55-10dc-4f9c-de88-75af9f2acc2e"
      },
      "outputs": [
        {
          "output_type": "execute_result",
          "data": {
            "text/plain": [
              "<matplotlib.legend.Legend at 0x7b07b5df3850>"
            ]
          },
          "metadata": {},
          "execution_count": 73
        },
        {
          "output_type": "display_data",
          "data": {
            "text/plain": [
              "<Figure size 640x480 with 1 Axes>"
            ],
            "image/png": "[encoded data removed]"
          },
          "metadata": {}
        }
      ],
      "source": [
        "opts = [NoamOpt(512, 1, 4000, None),\n",
        "        NoamOpt(512, 1, 8000, None),\n",
        "        NoamOpt(256, 1, 4000, None)]\n",
        "plt.plot(np.arange(1, 20000), [[opt.rate(i) for opt in opts] for i in range(1, 20000)])\n",
        "plt.legend([\"512:4000\", \"512:8000\", \"256:4000\"])"
      ]
    },
    {
      "cell_type": "markdown",
      "metadata": {
        "id": "W71i85Q4pdOS"
      },
      "source": [
        "## Тренировка модели"
      ]
    },
    {
      "cell_type": "code",
      "source": [
        "class LabelSmoothingLoss(nn.Module):\n",
        "    def __init__(self, smoothing=0.1, vocab_size=None, ignore_index=-100):\n",
        "        super(LabelSmoothingLoss, self).__init__()\n",
        "        assert 0.0 <= smoothing < 1.0\n",
        "        self.smoothing = smoothing\n",
        "        self.vocab_size = vocab_size\n",
        "        self.ignore_index = ignore_index\n",
        "\n",
        "    def forward(self, pred, target):\n",
        "        # pred: (batch_size * seq_len, vocab_size)\n",
        "        # target: (batch_size * seq_len)\n",
        "\n",
        "        pred = pred.log_softmax(dim=-1)\n",
        "\n",
        "        with torch.no_grad():\n",
        "            true_dist = torch.zeros_like(pred)\n",
        "            true_dist.fill_(self.smoothing / (self.vocab_size - 2))\n",
        "            mask = (target != self.ignore_index).unsqueeze(1)\n",
        "            true_dist.scatter_(1, target.data.unsqueeze(1), 1.0 - self.smoothing)\n",
        "            true_dist = true_dist * mask\n",
        "\n",
        "        return torch.mean(torch.sum(-true_dist * pred, dim=-1))"
      ],
      "metadata": {
        "id": "q5SzxSQPyajw"
      },
      "execution_count": 74,
      "outputs": []
    },
    {
      "cell_type": "code",
      "source": [
        "pip install rouge-score"
      ],
      "metadata": {
        "colab": {
          "base_uri": "https://localhost:8080/",
          "height": 0
        },
        "id": "Q32ZfDfRYL_S",
        "outputId": "526f6992-9726-4367-c9c9-dbd63df418cc"
      },
      "execution_count": 75,
      "outputs": [
        {
          "output_type": "stream",
          "name": "stdout",
          "text": [
            "Collecting rouge-score\n",
            "  Downloading rouge_score-0.1.2.tar.gz (17 kB)\n",
            "  Preparing metadata (setup.py) ... \u001b[?25l\u001b[?25hdone\n",
            "Requirement already satisfied: absl-py in /usr/local/lib/python3.11/dist-packages (from rouge-score) (1.4.0)\n",
            "Requirement already satisfied: nltk in /usr/local/lib/python3.11/dist-packages (from rouge-score) (3.9.1)\n",
            "Requirement already satisfied: numpy in /usr/local/lib/python3.11/dist-packages (from rouge-score) (2.0.2)\n",
            "Requirement already satisfied: six>=1.14.0 in /usr/local/lib/python3.11/dist-packages (from rouge-score) (1.17.0)\n",
            "Requirement already satisfied: click in /usr/local/lib/python3.11/dist-packages (from nltk->rouge-score) (8.2.0)\n",
            "Requirement already satisfied: joblib in /usr/local/lib/python3.11/dist-packages (from nltk->rouge-score) (1.5.0)\n",
            "Requirement already satisfied: regex>=2021.8.3 in /usr/local/lib/python3.11/dist-packages (from nltk->rouge-score) (2024.11.6)\n",
            "Requirement already satisfied: tqdm in /usr/local/lib/python3.11/dist-packages (from nltk->rouge-score) (4.67.1)\n",
            "Building wheels for collected packages: rouge-score\n",
            "  Building wheel for rouge-score (setup.py) ... \u001b[?25l\u001b[?25hdone\n",
            "  Created wheel for rouge-score: filename=rouge_score-0.1.2-py3-none-any.whl size=24934 sha256=28013de09a98b7b1c467328f22763c647da86ef511c7b3444f906673a5f368e1\n",
            "  Stored in directory: /root/.cache/pip/wheels/1e/19/43/8a442dc83660ca25e163e1bd1f89919284ab0d0c1475475148\n",
            "Successfully built rouge-score\n",
            "Installing collected packages: rouge-score\n",
            "Successfully installed rouge-score-0.1.2\n"
          ]
        }
      ]
    },
    {
      "cell_type": "code",
      "source": [
        "from pathlib import Path"
      ],
      "metadata": {
        "id": "r2jezUMK3-yj"
      },
      "execution_count": 85,
      "outputs": []
    },
    {
      "cell_type": "code",
      "source": [
        "def save_metrics(save_path, epoch, metrics):\n",
        "    metrics['epoch'] = epoch\n",
        "    df = pd.DataFrame([metrics])\n",
        "\n",
        "    if not save_path.exists():\n",
        "        df.to_csv(save_path, index=False)\n",
        "    else:\n",
        "        df.to_csv(save_path, mode='a', header=False, index=False)"
      ],
      "metadata": {
        "id": "kVeqgbS1wsYN"
      },
      "execution_count": 86,
      "outputs": []
    },
    {
      "cell_type": "code",
      "execution_count": 87,
      "metadata": {
        "id": "_E2JxfRuphch"
      },
      "outputs": [],
      "source": [
        "tqdm.get_lock().locks = []\n",
        "from rouge_score import rouge_scorer\n",
        "\n",
        "def do_epoch(model, criterion, data_iter, optimizer=None, name=None, teacher_forcing_ratio=0.5):\n",
        "    epoch_loss = 0\n",
        "    total_rouge1 = 0\n",
        "    total_rouge2 = 0\n",
        "    total_rougeL = 0\n",
        "\n",
        "    is_train = optimizer is not None\n",
        "    name = name or ''\n",
        "    model.train(is_train)\n",
        "\n",
        "    batches_count = len(data_iter)\n",
        "\n",
        "    scorer = rouge_scorer.RougeScorer(['rouge1', 'rouge2', 'rougeL'], use_stemmer=True)\n",
        "\n",
        "    with torch.autograd.set_grad_enabled(is_train):\n",
        "        with tqdm(total=batches_count) as progress_bar:\n",
        "            for i, batch in enumerate(data_iter):\n",
        "                source_inputs, target_inputs, source_mask, target_mask = convert_batch(batch)\n",
        "                encoder_output = model.encoder(source_inputs, source_mask)\n",
        "\n",
        "                batch_size, target_len = target_inputs.size()\n",
        "\n",
        "                output_teacher = target_inputs[:, 0].unsqueeze(1)  # Для обучения (с Teacher Forcing)\n",
        "                output_autoregressive = target_inputs[:, 0].unsqueeze(1)  # Для ROUGE (без Teacher Forcing)\n",
        "\n",
        "                for t in range(1, target_len):\n",
        "                    # Общая часть: вычисление logits для обоих режимов\n",
        "                    logits_teacher = model.decoder(output_teacher, encoder_output, source_mask, target_mask[:, :t, :t])\n",
        "                    logits_autoregressive = model.decoder(output_autoregressive, encoder_output, source_mask, target_mask[:, :t, :t])\n",
        "\n",
        "                    next_token_logits = logits_teacher[:, -1, :]\n",
        "                    next_token = next_token_logits.argmax(dim=-1)\n",
        "\n",
        "                    # Teacher Forcing для обучения\n",
        "                    teacher_force = random.random() < teacher_forcing_ratio\n",
        "                    next_input_teacher = target_inputs[:, t] if teacher_force else next_token\n",
        "                    next_input_teacher = next_input_teacher.unsqueeze(1)\n",
        "                    output_teacher = torch.cat((output_teacher, next_input_teacher), dim=1)\n",
        "\n",
        "                    # Авторегрессия для ROUGE\n",
        "                    next_input_autoregressive = next_token\n",
        "                    output_autoregressive = torch.cat((output_autoregressive, next_input_autoregressive.unsqueeze(1)), dim=1)\n",
        "\n",
        "                # Вычисление потерь на предсказаниях с Teacher Forcing\n",
        "                logits = model.decoder(output_teacher[:, :-1], encoder_output, source_mask, target_mask[:, :-1, :-1])\n",
        "                logits = logits.contiguous().view(-1, logits.shape[-1])\n",
        "                target = target_inputs[:, 1:].contiguous().view(-1)\n",
        "                loss = criterion(logits, target)\n",
        "                epoch_loss += loss.item()\n",
        "\n",
        "\n",
        "                # Вычисление ROUGE на авторегрессионных предсказаниях\n",
        "                pred_sentences = decode_tokens(output_autoregressive, vocab)\n",
        "                target_sentences = decode_tokens(target_inputs[:, 1:], vocab)  # Игнорируем начальный токен\n",
        "\n",
        "\n",
        "                # Считаем метрики Rouge\n",
        "                batch_rouge1 = 0\n",
        "                batch_rouge2 = 0\n",
        "                batch_rougeL = 0\n",
        "                for pred, ref in zip(pred_sentences, target_sentences):\n",
        "                    scores = scorer.score(ref, pred)\n",
        "                    batch_rouge1 += scores['rouge1'].fmeasure\n",
        "                    batch_rouge2 += scores['rouge2'].fmeasure\n",
        "                    batch_rougeL += scores['rougeL'].fmeasure\n",
        "\n",
        "                total_rouge1 += batch_rouge1 / batch_size\n",
        "                total_rouge2 += batch_rouge2 / batch_size\n",
        "                total_rougeL += batch_rougeL / batch_size\n",
        "\n",
        "\n",
        "                if optimizer:\n",
        "                    optimizer.optimizer.zero_grad()\n",
        "                    loss.backward()\n",
        "                    optimizer.step()\n",
        "\n",
        "                progress_bar.update()\n",
        "                progress_bar.set_description(\n",
        "                    '{:>5s} Loss = {:.5f}, PPX = {:.2f}, R1 = {:.3f}, R2 = {:.3f}, RL = {:.3f}'.format(\n",
        "                        name, loss.item(), math.exp(loss.item()),\n",
        "                        batch_rouge1 / batch_size, batch_rouge2 / batch_size, batch_rougeL / batch_size\n",
        "                    )\n",
        "                )\n",
        "\n",
        "\n",
        "            avg_loss = epoch_loss / batches_count\n",
        "            avg_rouge1 = total_rouge1 / batches_count\n",
        "            avg_rouge2 = total_rouge2 / batches_count\n",
        "            avg_rougeL = total_rougeL / batches_count\n",
        "\n",
        "            progress_bar.set_description(\n",
        "                '{:>5s} Loss = {:.5f}, PPX = {:.2f}, R1 = {:.3f}, R2 = {:.3f}, RL = {:.3f}'.format(\n",
        "                    name, avg_loss, math.exp(avg_loss), avg_rouge1, avg_rouge2, avg_rougeL\n",
        "                )\n",
        "            )\n",
        "            progress_bar.refresh()\n",
        "\n",
        "    return {\n",
        "        'loss': avg_loss,\n",
        "        'ppx': math.exp(avg_loss),\n",
        "        'rouge1': avg_rouge1,\n",
        "        'rouge2': avg_rouge2,\n",
        "        'rougeL': avg_rougeL\n",
        "    }\n",
        "\n",
        "def fit(model, criterion, optimizer, train_iter, epochs_count=1, val_iter=None,\n",
        "        save_path1=None, patience=7, start_epoch=0, best_val_loss=float('inf'),\n",
        "        train_metrics_file = Path('train_metrics.csv'), val_metrics_file = Path('val_metrics.csv')):\n",
        "\n",
        "    epochs_no_improve = 0\n",
        "    best_model_state = None\n",
        "\n",
        "    initial_teacher_forcing = 0.7\n",
        "    min_teacher_forcing = 0.1\n",
        "    decay_rate = 0.03\n",
        "\n",
        "    for epoch in range(start_epoch, start_epoch + epochs_count):\n",
        "        name_prefix = f\"[{epoch + 1} / {start_epoch + epochs_count}] \"\n",
        "        teacher_forcing_ratio = max(min_teacher_forcing, initial_teacher_forcing - decay_rate * epoch)\n",
        "\n",
        "        train_metrics = do_epoch(model, criterion, train_iter, optimizer, name_prefix + \"Train:\", teacher_forcing_ratio)\n",
        "        train_loss = train_metrics['loss']\n",
        "        save_metrics(train_metrics_file,epoch,train_metrics)\n",
        "        if val_iter is not None:\n",
        "            val_metrics = do_epoch(model, criterion, val_iter, None, name_prefix + \"Val:\", teacher_forcing_ratio=0.0)\n",
        "            val_loss = val_metrics['loss']\n",
        "            save_metrics(val_metrics_file,epoch,val_metrics)\n",
        "\n",
        "\n",
        "\n",
        "            if val_loss < best_val_loss - 1e-4:  # небольшая дельта, чтобы избежать флуктуаций\n",
        "                best_val_loss = val_loss\n",
        "                best_model_state = model.state_dict()\n",
        "                epochs_no_improve = 0\n",
        "                print(f\"New best model found! val_loss={val_loss:.4f}\")\n",
        "                if save_path1:\n",
        "                    torch.save({\n",
        "                        'model_state_dict': best_model_state,\n",
        "                        'optimizer_state_dict': optimizer.optimizer.state_dict(),\n",
        "                        'noam_step': optimizer._step,\n",
        "                        'best_val_loss': best_val_loss,\n",
        "                        'epoch': epoch\n",
        "                    }, save_path1)\n",
        "            else:\n",
        "                epochs_no_improve += 1\n",
        "                print(f\"No improvement. Patience: {epochs_no_improve}/{patience}\")\n",
        "                if epochs_no_improve >= patience:\n",
        "                    print(\"Early stopping triggered!\")\n",
        "                    if save_path and best_model_state is not None:\n",
        "                        model.load_state_dict(best_model_state)\n",
        "                    break\n",
        "\n",
        "        print(f\"Epoch {epoch + 1}: Teacher Forcing Ratio = {teacher_forcing_ratio:.2f}\")\n",
        "\n",
        "\n",
        "\n",
        "\n",
        "\n",
        "def decode_tokens(tensor, vocab, skip_tokens=('<pad>', '<sos>', '<eos>')):\n",
        "    \"\"\"\n",
        "    Декодирует тензор с индексами токенов в строки, пропуская служебные токены.\n",
        "\n",
        "    Args:\n",
        "        tensor (torch.Tensor): Тензор формы [batch_size, seq_len].\n",
        "        vocab (torchtext.vocab.Vocab): Словарь для преобразования индексов в слова.\n",
        "        skip_tokens (tuple): Токены, которые нужно пропустить (например, паддинг).\n",
        "\n",
        "    Returns:\n",
        "        list[str]: Декодированные предложения.\n",
        "    \"\"\"\n",
        "    sentences = []\n",
        "    skip_ids = [vocab.stoi[token] for token in skip_tokens if token in vocab.stoi]\n",
        "\n",
        "    for seq in tensor:\n",
        "        tokens = [\n",
        "            vocab.itos[token.item()]\n",
        "            for token in seq\n",
        "            if token.item() not in skip_ids\n",
        "        ]\n",
        "        sentences.append(\" \".join(tokens))\n",
        "\n",
        "    return sentences"
      ]
    },
    {
      "cell_type": "code",
      "execution_count": null,
      "metadata": {
        "id": "5X2kYDU_rCjP",
        "tags": [],
        "colab": {
          "base_uri": "https://localhost:8080/",
          "height": 151,
          "referenced_widgets": [
            "a5534dd723e74160a4f324e52042dc68",
            "ba674a75f0864056a43312812ede04f2",
            "965368fe022349479191a86d2441b56e",
            "2e41290d063e4c6fac3277cf25c0227d",
            "e26abf0db2c94b8b82378b50b08c76cd",
            "1d764555a01949a28e9eac6bf5c5b571",
            "0f6da5682e764519af246446fc079437",
            "8eb82c8263eb4a619fe93b9838c1dea2",
            "7358f357a35e4fd09ae212776f19ac71",
            "e1db4d2c380844488346671fdaf7dc0c",
            "2f85ee3c5bc24d1d843fb487b19f4ece",
            "859084eb48f04a23964b590c9be9a752",
            "0f6490e2853042469728bcabc038a771",
            "f4f41ab420a54404bfb542dd8c6cd8a7",
            "cb9821e8d0e94c748d85c702c1cd7295",
            "b998ad0663d142cdbaa2246bffda956f",
            "5d1806efb2f246b2b6b9e5677f00ad0a",
            "bd2e8075026543f3af1e7c7392f146b9",
            "da91951f358b43628e8e7f55e57c3f0f",
            "1f471ab80abd4a7fa994ad5a9b66956b",
            "3029373edcab4505bf70e7a28669272e",
            "875c9a6f51d045b6b3969873484bb00f",
            "d4682e47fcf34325abc90023694f1bba",
            "fa29315ce2c64abc91efcb3531c3d995",
            "81b20ca169684a51958b30b1d640de92",
            "2140283e99c841db98467437773f9802",
            "79f02cb650d44538b18f17d2ba6ff516",
            "70f979461091416f94d7b0454067cf65",
            "f8b58bccd31a41a58b78a2028fd617e7",
            "a81dd135b594464fb7119745c51bf83e",
            "337ed40c8b40485ebf9008a65a1e2e8d",
            "54417e3ddad94a51b7489297566478c6",
            "61440719a8fb4d46ba43972b0f398900"
          ]
        },
        "outputId": "08ab8df8-1162-4e0c-dbd1-6226d6a8841c"
      },
      "outputs": [
        {
          "output_type": "display_data",
          "data": {
            "text/plain": [
              "  0%|          | 0/3946 [00:00<?, ?it/s]"
            ],
            "application/vnd.jupyter.widget-view+json": {
              "version_major": 2,
              "version_minor": 0,
              "model_id": "a5534dd723e74160a4f324e52042dc68"
            }
          },
          "metadata": {}
        },
        {
          "output_type": "display_data",
          "data": {
            "text/plain": [
              "  0%|          | 0/349 [00:00<?, ?it/s]"
            ],
            "application/vnd.jupyter.widget-view+json": {
              "version_major": 2,
              "version_minor": 0,
              "model_id": "859084eb48f04a23964b590c9be9a752"
            }
          },
          "metadata": {}
        },
        {
          "output_type": "stream",
          "name": "stdout",
          "text": [
            "New best model found! val_loss=4.6102\n",
            "Epoch 1: Teacher Forcing Ratio = 0.70\n"
          ]
        },
        {
          "output_type": "display_data",
          "data": {
            "text/plain": [
              "  0%|          | 0/3946 [00:00<?, ?it/s]"
            ],
            "application/vnd.jupyter.widget-view+json": {
              "version_major": 2,
              "version_minor": 0,
              "model_id": "d4682e47fcf34325abc90023694f1bba"
            }
          },
          "metadata": {}
        }
      ],
      "source": [
        "model = EncoderDecoder(\n",
        "    source_vocab_size=len(word_field.vocab),\n",
        "    target_vocab_size=len(word_field.vocab),\n",
        "    d_model=512,\n",
        "    heads_count=8,\n",
        "    pretrained_embeddings=None,#pretrained_embeddings,\n",
        "    use_shared_emb = True\n",
        ").to(DEVICE)\n",
        "\n",
        "pad_idx = word_field.vocab.stoi[\"<pad>\"]\n",
        "\n",
        "criterion = LabelSmoothingLoss(\n",
        "    smoothing=0.05,\n",
        "    vocab_size=len(word_field.vocab),\n",
        "    ignore_index=pad_idx\n",
        ").to(DEVICE)\n",
        "\n",
        "optimizer = NoamOpt(model.d_model)\n",
        "\n",
        "fit(\n",
        "    model, criterion, optimizer,\n",
        "    train_iter,\n",
        "    epochs_count=30,\n",
        "    val_iter=test_iter,\n",
        "    save_path1=save_path+\"NLP_goyda_checkp1.pt\",\n",
        "    patience=7,\n",
        "    train_metrics_file=Path(save_path + \"train_metrics.csv\"),\n",
        "    val_metrics_file=Path(save_path + \"val_metrics.csv\")\n",
        ")\n",
        "\n",
        "torch.save(model.state_dict(), save_path + \"NLP_goyda.pt\")"
      ]
    },
    {
      "cell_type": "code",
      "source": [
        "import pandas as pd\n",
        "import matplotlib.pyplot as plt\n",
        "from pathlib import Path\n",
        "\n",
        "def plot_metrics(train_metrics_file,\n",
        "                 val_metrics_file,\n",
        "                 save_path='training_plots.png'):\n",
        "    train_df = pd.read_csv(train_metrics_file)\n",
        "    val_df = pd.read_csv(val_metrics_file)\n",
        "\n",
        "    metrics = [col for col in train_df.columns if col != 'epoch']\n",
        "\n",
        "    n_metrics = len(metrics)\n",
        "    n_cols = 2\n",
        "    n_rows = (n_metrics + n_cols - 1) // n_cols\n",
        "\n",
        "    fig, axes = plt.subplots(n_rows, n_cols, figsize=(15, 5*n_rows))\n",
        "    fig.suptitle('Training vs Validation Metrics', fontsize=16)\n",
        "\n",
        "    if n_metrics == 1:\n",
        "        axes = [axes]\n",
        "    else:\n",
        "        axes = axes.flatten()\n",
        "\n",
        "    for i, metric in enumerate(metrics):\n",
        "        ax = axes[i]\n",
        "\n",
        "        ax.plot(train_df['epoch'], train_df[metric], label='Train', color='blue')\n",
        "        ax.plot(val_df['epoch'], val_df[metric], label='Validation', color='orange')\n",
        "\n",
        "        ax.set_title(metric)\n",
        "        ax.set_xlabel('Epoch')\n",
        "        ax.set_ylabel(metric)\n",
        "        ax.legend()\n",
        "        ax.grid(True)\n",
        "\n",
        "    if n_metrics % n_cols != 0:\n",
        "        for j in range(i+1, n_rows*n_cols):\n",
        "            fig.delaxes(axes[j])\n",
        "\n",
        "    plt.tight_layout()\n",
        "    plt.savefig(save_path)\n",
        "    plt.show()\n"
      ],
      "metadata": {
        "id": "eZzZkSO-x_Rc"
      },
      "execution_count": null,
      "outputs": []
    },
    {
      "cell_type": "code",
      "source": [
        "train_metrics_file = Path('train_metrics.csv')\n",
        "val_metrics_file = Path('val_metrics.csv')\n",
        "plot_metrics(train_metrics_file, val_metrics_file)"
      ],
      "metadata": {
        "id": "pjTRDWnw0bX4"
      },
      "execution_count": null,
      "outputs": []
    },
    {
      "cell_type": "code",
      "source": [
        "import dill\n",
        "\n",
        "word_field = torch.load(save_path + \"word_field_nlp_pupupu.pt\", pickle_module=dill)\n",
        "print(\" word_field загружен\")\n",
        "\n",
        "\n",
        "vocab = torch.load(save_path + \"vocab_nlp_pupupu.pt\", pickle_module=dill)\n",
        "word_field.vocab = vocab\n",
        "print(\"vocab подставлен в word_field\")"
      ],
      "metadata": {
        "id": "q8la2uMAr-qN",
        "colab": {
          "base_uri": "https://localhost:8080/"
        },
        "outputId": "15f1516a-4f01-4c09-deaf-c8eeda28222d"
      },
      "execution_count": null,
      "outputs": [
        {
          "output_type": "stream",
          "name": "stdout",
          "text": [
            " word_field загружен\n",
            "vocab подставлен в word_field\n"
          ]
        }
      ]
    },
    {
      "cell_type": "code",
      "source": [
        "checkpoint = torch.load(save_path+\"nlp_checkpoint1_pupu.pt\", map_location=DEVICE)\n",
        "model.load_state_dict(checkpoint['model_state_dict'])\n",
        "optimizer.optimizer.load_state_dict(checkpoint['optimizer_state_dict'])\n",
        "optimizer._step = checkpoint['noam_step']\n",
        "start_epoch = checkpoint['epoch'] + 1\n",
        "best_val_loss = checkpoint['best_val_loss']\n",
        "\n",
        "fit(\n",
        "    model,\n",
        "    criterion,\n",
        "    optimizer,\n",
        "    train_iter,\n",
        "    epochs_count=10,\n",
        "    val_iter=test_iter,\n",
        "    save_path1=save_path+\"nlp_checkpoint1_pupu_дообучка.pt\",\n",
        "    patience=5,\n",
        "    start_epoch=start_epoch,\n",
        "    best_val_loss=best_val_loss\n",
        ")"
      ],
      "metadata": {
        "id": "H2YhHsOueFmO"
      },
      "execution_count": null,
      "outputs": []
    },
    {
      "cell_type": "markdown",
      "source": [
        "## Генерация саммари"
      ],
      "metadata": {
        "id": "bDsmlfV8oeTy"
      }
    },
    {
      "cell_type": "code",
      "source": [
        "from google.colab import drive\n",
        "import os\n",
        "\n",
        "try:\n",
        "    drive.mount('/content/drive', force_remount=True)\n",
        "    print(\"Google Drive смонтирован успешно.\")\n",
        "except Exception as e:\n",
        "    print(f\"Ошибка при монтировании Google Drive: {e}\")"
      ],
      "metadata": {
        "id": "MM3QAHhvS--7",
        "colab": {
          "base_uri": "https://localhost:8080/"
        },
        "outputId": "fdc3e0ec-a3a5-412a-abf2-123b340ab438"
      },
      "execution_count": null,
      "outputs": [
        {
          "output_type": "stream",
          "name": "stdout",
          "text": [
            "Mounted at /content/drive\n",
            "Google Drive смонтирован успешно.\n"
          ]
        }
      ]
    },
    {
      "cell_type": "code",
      "source": [
        "vocab = torch.load(save_path + \"vocab_nlp_pupupu.pt\", pickle_module=dill)\n",
        "\n",
        "word_field.vocab = vocab\n",
        "print(\"vocab загружен и назначен\")\n",
        "\n",
        "word_field = torch.load(save_path + \"word_field_nlp_pupupu.pt\", pickle_module=dill)\n",
        "print(\"word_field загружен целиком\")"
      ],
      "metadata": {
        "id": "BxLgyflwThVX",
        "colab": {
          "base_uri": "https://localhost:8080/"
        },
        "outputId": "7a05fe8d-d384-44eb-9925-7c6af0847737"
      },
      "execution_count": null,
      "outputs": [
        {
          "output_type": "stream",
          "name": "stdout",
          "text": [
            "vocab загружен и назначен\n",
            "word_field загружен целиком\n"
          ]
        }
      ]
    },
    {
      "cell_type": "code",
      "source": [
        "model = EncoderDecoder(\n",
        "    source_vocab_size=len(word_field.vocab),\n",
        "    target_vocab_size=len(word_field.vocab),\n",
        "    d_model=512,\n",
        "    heads_count=8,\n",
        "    pretrained_embeddings=pretrained_embeddings\n",
        ").to(DEVICE)"
      ],
      "metadata": {
        "id": "O6rFFr95CTtM"
      },
      "execution_count": null,
      "outputs": []
    },
    {
      "cell_type": "code",
      "source": [
        "model.load_state_dict(torch.load(save_path + \"nlp1_finetuned_v2.pt\", map_location=DEVICE))\n",
        "model.eval()"
      ],
      "metadata": {
        "id": "aufuJb2M2E5f"
      },
      "execution_count": null,
      "outputs": []
    },
    {
      "cell_type": "markdown",
      "source": [
        "Генератор суммаризации для модели (выполнил линуксоид)"
      ],
      "metadata": {
        "id": "GU5bfYP2MV0T"
      }
    },
    {
      "cell_type": "code",
      "source": [
        "lengths = [len(example.target) for example in train_dataset.examples]\n",
        "\n",
        "print(\"Максимальная длина заголовка:\", max(lengths))\n",
        "print(\"Средняя длина заголовка:\", sum(lengths) / len(lengths))"
      ],
      "metadata": {
        "colab": {
          "base_uri": "https://localhost:8080/"
        },
        "id": "y1RyjyHrtRQl",
        "outputId": "8df0f084-f7b4-46c8-8c91-72ca16b214ec"
      },
      "execution_count": null,
      "outputs": [
        {
          "output_type": "stream",
          "name": "stdout",
          "text": [
            "Максимальная длина заголовка: 16\n",
            "Средняя длина заголовка: 7.835640522047643\n"
          ]
        }
      ]
    },
    {
      "cell_type": "code",
      "source": [
        "plt.figure(figsize=(12, 8))\n",
        "bins = np.arange(min(lengths) - 0.5, max(lengths) + 1.5, 1)\n",
        "counts, bins_out, patches = plt.hist(lengths, bins=bins, color='skyblue', edgecolor='black', alpha=0.7)\n",
        "plt.xticks(np.arange(min(lengths), max(lengths) + 1, 1))\n",
        "plt.xlabel(\"Длина заголовка (в токенах)\")\n",
        "plt.ylabel(\"Количество примеров\")\n",
        "plt.title(\"Распределение длины target (summary)\")\n",
        "[plt.text(p.get_x() + p.get_width()/2, c + max(counts)*0.01, int(c), ha='center', va='bottom')\n",
        " for c, p in zip(counts, patches) if c > 0]\n",
        "plt.grid(True)\n",
        "plt.tight_layout()\n",
        "plt.show()"
      ],
      "metadata": {
        "colab": {
          "base_uri": "https://localhost:8080/",
          "height": 807
        },
        "id": "OLZnt2e_z-Db",
        "outputId": "8b2b5800-ddd6-4357-d500-e2ca492d2f79"
      },
      "execution_count": null,
      "outputs": [
        {
          "output_type": "display_data",
          "data": {
            "text/plain": [
              "<Figure size 1200x800 with 1 Axes>"
            ],
            "image/png": "[encoded data removed]"
          },
          "metadata": {}
        }
      ]
    },
    {
      "cell_type": "markdown",
      "source": [
        "Возьмем max_len = 25"
      ],
      "metadata": {
        "id": "YYPuPebb7DBe"
      }
    },
    {
      "cell_type": "code",
      "source": [
        "def clean_text(tokens):\n",
        "    return \" \".join([tok for tok in tokens if tok not in {\"<s>\", \"</s>\", \"<pad>\", \"<unk>\"}])\n",
        "\n",
        "def generate_summary_beam(\n",
        "    model, src_sentence, src_field, tgt_field, device,\n",
        "    max_len=20, beam_width=5, length_penalty=0.6, no_repeat_ngram_size=2\n",
        "):\n",
        "    model.eval()\n",
        "\n",
        "    tokens = [src_field.init_token] + src_field.tokenize(src_sentence) + [src_field.eos_token]\n",
        "    indexed_tokens = [\n",
        "        src_field.vocab.stoi.get(token, src_field.vocab.stoi[src_field.unk_token])\n",
        "        for token in tokens\n",
        "    ]\n",
        "    src_tensor = torch.LongTensor(indexed_tokens).unsqueeze(0).to(device)\n",
        "    src_mask = (src_tensor != src_field.vocab.stoi[src_field.pad_token]).unsqueeze(1).unsqueeze(2)\n",
        "\n",
        "    with torch.no_grad():\n",
        "        encoder_outputs = model.encoder(src_tensor, src_mask)\n",
        "\n",
        "    beams = [(0.0, [tgt_field.vocab.stoi[tgt_field.init_token]])]\n",
        "\n",
        "    for step in range(max_len):\n",
        "        new_beams = []\n",
        "        for score, seq in beams:\n",
        "            trg_tensor = torch.LongTensor(seq).unsqueeze(0).to(device)\n",
        "            trg_mask = (trg_tensor != tgt_field.vocab.stoi[tgt_field.pad_token]).unsqueeze(1).unsqueeze(2)\n",
        "            trg_mask = trg_mask & subsequent_mask(trg_tensor.size(1)).to(device)\n",
        "\n",
        "            with torch.no_grad():\n",
        "                logits = model.decoder(trg_tensor, encoder_outputs, src_mask, trg_mask)\n",
        "                log_probs = F.log_softmax(logits[:, -1], dim=-1)\n",
        "\n",
        "            if no_repeat_ngram_size > 0 and len(seq) >= no_repeat_ngram_size:\n",
        "                ngram = tuple(seq[-(no_repeat_ngram_size - 1):])\n",
        "                banned = set()\n",
        "                for i in range(len(seq) - no_repeat_ngram_size + 1):\n",
        "                    if tuple(seq[i:i + no_repeat_ngram_size - 1]) == ngram:\n",
        "                        banned.add(seq[i + no_repeat_ngram_size - 1])\n",
        "                for token_id in banned:\n",
        "                    log_probs[0, token_id] = -1e9\n",
        "\n",
        "            if step < 5:\n",
        "                eos_idx = tgt_field.vocab.stoi[tgt_field.eos_token]\n",
        "                log_probs[0, eos_idx] -= 1.0\n",
        "\n",
        "            topk_log_probs, topk_idxs = log_probs.topk(beam_width)\n",
        "\n",
        "            for log_prob, idx in zip(topk_log_probs[0], topk_idxs[0]):\n",
        "                token = idx.item()\n",
        "                new_seq = seq + [token]\n",
        "                new_score = score + log_prob.item()\n",
        "                new_beams.append((new_score, new_seq))\n",
        "\n",
        "        beams = heapq.nlargest(\n",
        "            beam_width,\n",
        "            new_beams,\n",
        "            key=lambda x: x[0] / ((len(x[1]) ** length_penalty) if length_penalty > 0 else 1)\n",
        "        )\n",
        "\n",
        "        if all(seq[-1] == tgt_field.vocab.stoi[tgt_field.eos_token] for _, seq in beams):\n",
        "            break\n",
        "\n",
        "    best_seq = max(beams, key=lambda x: x[0])[1]\n",
        "    tokens = [tgt_field.vocab.itos[i] for i in best_seq]\n",
        "\n",
        "    return clean_text(tokens[1:-1])"
      ],
      "metadata": {
        "id": "rZPDrRtjRqfe"
      },
      "execution_count": null,
      "outputs": []
    },
    {
      "cell_type": "code",
      "source": [
        "model = EncoderDecoder(\n",
        "    source_vocab_size=len(word_field.vocab), target_vocab_size=len(word_field.vocab)\n",
        ").to(DEVICE)\n",
        "weights_path = (\n",
        "    save_path + \"nlp1_finetuned_v2.pt\"\n",
        ")\n",
        "model.load_state_dict(torch.load(weights_path, map_location=torch.device(\"cpu\")))"
      ],
      "metadata": {
        "id": "7vB9pbdrR4uW"
      },
      "execution_count": null,
      "outputs": []
    },
    {
      "cell_type": "code",
      "source": [
        "example = test_dataset.examples[53]\n",
        "input_text = \" \".join(example.source)\n",
        "reference_summary = \" \".join(example.target)\n",
        "\n",
        "generated_summary = generate_summary_beam(\n",
        "    model, input_text, word_field, word_field, DEVICE, max_len=25\n",
        ")"
      ],
      "metadata": {
        "id": "zKKNnpRtMUS0"
      },
      "execution_count": null,
      "outputs": []
    },
    {
      "cell_type": "code",
      "source": [
        "print(\"Исходный текст:\\n\", input_text)\n",
        "print(\"\\n Сгенерированное summary:\\n\", generated_summary)\n",
        "print(\"\\n Эталонное summary (реальное):\\n\", reference_summary)"
      ],
      "metadata": {
        "id": "zQCLgGKK7jFs"
      },
      "execution_count": null,
      "outputs": []
    },
    {
      "cell_type": "code",
      "source": [
        "custom_text = \"посол россии в ираке очень быстро на велосипеде и потом на мотоцикле пересёк большую длинную сирийскую границу после эвакуации оттуда\"\n",
        "generated_summary = generate_summary_beam(model, custom_text, word_field, word_field, DEVICE, max_len=25)\n",
        "\n",
        "print(\"Кастомный исходный текст:\\n\", custom_text)\n",
        "print(\"\\nСгенерированное summary:\\n\", generated_summary)"
      ],
      "metadata": {
        "id": "HPtNlqDmHjpL"
      },
      "execution_count": null,
      "outputs": []
    },
    {
      "cell_type": "code",
      "source": [
        "print(\"беженцы\" in word_field.vocab.stoi)\n",
        "print(\"украина\" in word_field.vocab.stoi)\n",
        "print(\"мчс\" in word_field.vocab.stoi)"
      ],
      "metadata": {
        "id": "bN_-TlgV3yex"
      },
      "execution_count": null,
      "outputs": []
    },
    {
      "cell_type": "markdown",
      "source": [
        "## 10 примеров из тестовой выборки"
      ],
      "metadata": {
        "id": "jp8eyiPU78Yp"
      }
    },
    {
      "cell_type": "code",
      "source": [
        "random.seed(42)\n",
        "sample_indices = random.sample(range(len(test_dataset.examples)), 10)\n",
        "\n",
        "for idx in sample_indices:\n",
        "    example = test_dataset.examples[idx]\n",
        "    input_text = \" \".join(example.source)\n",
        "    reference = \" \".join(example.target)\n",
        "    summary = generate_summary_beam(model, input_text, word_field, word_field, DEVICE)\n",
        "\n",
        "    print(f\"[index {idx}]\")\n",
        "    print(\"Text:\", input_text)\n",
        "    print(\"Generated:\", summary)\n",
        "    print(\"Reference:\", reference)\n",
        "    print()"
      ],
      "metadata": {
        "id": "NVIV1ywH_Ghv"
      },
      "execution_count": null,
      "outputs": []
    },
    {
      "cell_type": "markdown",
      "source": [
        "## 10 примеров кастомных"
      ],
      "metadata": {
        "id": "3jL4X3cD8DaN"
      }
    },
    {
      "cell_type": "code",
      "source": [
        "custom_texts = [\n",
        "    \"Президент России Владимир Путин провел заседание с членами правительства, на котором обсуждались меры по стабилизации цен на продовольственные товары. Особое внимание было уделено контролю над ростом цен на сахар, масло и мясную продукцию. По словам Путина, необходимо усилить взаимодействие с производителями и торговыми сетями, чтобы не допустить необоснованного завышения цен. Вице-премьер Виктория Абрамченко сообщила, что на федеральном уровне уже прорабатываются дополнительные меры поддержки аграриев.\",\n",
        "\n",
        "    \"Цены на нефть продолжают рост на фоне снижения добычи странами ОПЕК+ и геополитической напряженности в Ближневосточном регионе. Стоимость барреля Brent превысила отметку в 90 долларов впервые с начала года. Аналитики отмечают, что снижение запасов нефти в США также оказало поддержку котировкам. При этом в Минэкономразвития РФ ожидают, что в случае сохранения высоких цен, рубль может укрепиться в ближайшие недели.\",\n",
        "\n",
        "    \"Российские ученые из Сколтеха разработали новый тип аккумуляторов на основе твердотельных электролитов, который может значительно увеличить срок службы батарей в электромобилях. Исследователи утверждают, что их технология позволяет достичь плотности энергии в 1.5 раза выше, чем у современных литий-ионных аккумуляторов. Разработка уже привлекла внимание нескольких отечественных автопроизводителей, включая проект «Кама» и концерн «АвтоВАЗ».\",\n",
        "\n",
        "    \"На экраны вышел новый художественный фильм Андрея Звягинцева под названием «Молчание». Картина рассказывает о судьбе семьи, оказавшейся в эпицентре гуманитарной катастрофы. Премьера состоялась на Каннском кинофестивале, где лента была удостоена продолжительных аплодисментов и получила приз за лучший сценарий. Российские критики уже называют «Молчание» одним из самых сильных произведений режиссера за последние годы.\",\n",
        "\n",
        "    \"Министерство просвещения России представило новую цифровую платформу для проведения ЕГЭ в онлайн-формате. Согласно замыслу разработчиков, ученики смогут проходить пробные экзамены в формате, приближенном к реальному, получать мгновенную обратную связь и анализ ошибок. Платформа уже протестирована в нескольких регионах и получила положительные отзывы как от школьников, так и от педагогов.\",\n",
        "\n",
        "    \"В Приморском крае спасатели эвакуировали более 50 человек из населенного пункта, пострадавшего от наводнения. Сильные дожди привели к выходу из берегов сразу нескольких рек. В зону ЧС были направлены мобильные пункты временного размещения, в которые доставлены дети, пожилые люди и беременные женщины. По словам местных властей, ситуация постепенно стабилизируется, но опасность повторного подтопления сохраняется.\",\n",
        "\n",
        "    \"Сборная России по волейболу одержала уверенную победу над командой Сербии в рамках Лиги Наций со счетом 3:0. Игру отличали высокие скорости, слаженность действий и минимальное количество ошибок. Особенно блестяще проявил себя капитан команды Дмитрий Волков, набравший 25 очков за матч. Следующая встреча состоится с командой Бразилии, которая является одним из фаворитов турнира.\",\n",
        "\n",
        "    \"На столичных дорогах начались масштабные работы по реконструкции Третьего транспортного кольца. Власти Москвы заявили, что проект рассчитан на два года и включает в себя расширение проезжей части, строительство дополнительных съездов и внедрение системы интеллектуального управления трафиком. Водителей просят заранее планировать маршруты и учитывать возможные заторы в часы пик.\",\n",
        "\n",
        "    \"Компания «Яндекс» представила обновлённую версию голосового помощника «Алиса», которая теперь умеет распознавать эмоции пользователя и адаптировать интонацию ответа. Разработчики утверждают, что новая модель использует продвинутую нейросеть, обученную на миллионах диалогов, и способна различать до семи эмоциональных состояний. Обновление уже доступно для скачивания в приложении «Яндекс.Браузер».\",\n",
        "\n",
        "\n",
        "    \"В Сочи прошел международный экологический форум, посвященный сохранению биоразнообразия Черноморского побережья. Участники обсудили проблемы загрязнения морской воды, изменения климата и вымирания редких видов флоры и фауны. Были представлены инициативы по созданию новых заповедников и ужесточению контроля за выбросами в прибрежных зонах.\"\n",
        "]"
      ],
      "metadata": {
        "id": "9mZJMwbV-64L"
      },
      "execution_count": null,
      "outputs": []
    },
    {
      "cell_type": "code",
      "source": [
        "for i, text in enumerate(custom_texts):\n",
        "    summary = generate_summary_beam(model, text, word_field, word_field, DEVICE)\n",
        "    print(f\"=== [{i}] ===\")\n",
        "    print(\"Text:\", text)\n",
        "    print(\"Generated summary:\", summary)\n",
        "    print()"
      ],
      "metadata": {
        "id": "XtLdtQJo_EGi"
      },
      "execution_count": null,
      "outputs": []
    },
    {
      "cell_type": "markdown",
      "source": [
        "# Выводы по проделанной работе\n",
        "\n",
        "## Микишева М.:\n",
        "### Словарь и эмббединги\n",
        "\n",
        "\t•\tЗагружен и токенизирован датасет с использованием spaCy.\n",
        "\t•\tПостроен единый словарь (Field) с токенами <s>, </s>, <pad>, <unk>.\n",
        "\t•\tПрименены стоп-слова NLTK — их частоты снижены в словаре.\n",
        "\t•\tПостроен словарь из 40 877 токенов, отфильтрованы слова с freq < 10.\n",
        "\n",
        "\tРазные значения min_freq были протестированы, а также разные способы токенизации и сборки\n",
        "\t•\tЗагружены и нормализованы русские FastText-вектора (cc.ru.300.vec).\n",
        "\t•\tСоставлена embedding_matrix (размер [40877 × 300], покрытие 92.42%).\n",
        "\t•\tСозданы train/test выборки и BucketIterator для обучения на GPU.\n",
        "\t•\tВыполнена визуализация векторов (t-SNE, семантические кластеры).\n",
        "\t•\tПроведён анализ UNK в тесте\n",
        "\t•\tПроведён частотный анализ словаря — топ и хвост, распределение логарифмическое\n",
        "\n",
        "   Словарь собран хорошо, покрытие векторами высокое\n",
        "\n",
        "### Label smoothing\n",
        "\tРеализирован  LabelSmoothingLoss вместо CrossEntropyLoss.\n",
        "\n",
        "### Generate summary\n",
        "\n",
        "\t•\t Протестированы разные варианты генерации саммари - с beam search, также пробовала greedy decoding\n",
        "\t•\tПротестированы разные max_len, штраф за ранний <eos>, n-gram suppression\n",
        "\t• Тестировали генерацию на реальных и кастомных примерах\n",
        "\n",
        "  "
      ],
      "metadata": {
        "id": "V7fyNhkIWinN"
      }
    },
    {
      "cell_type": "markdown",
      "source": [
        "# Кладовая говнокода"
      ],
      "metadata": {
        "id": "LO9-Jpnbc8ao"
      }
    },
    {
      "cell_type": "code",
      "source": [
        "class MultiHeadedAttention(nn.Module):\n",
        "    def __init__(self, heads_count, d_model, dropout_rate=0.1):\n",
        "        super().__init__()\n",
        "\n",
        "        assert d_model % heads_count == 0\n",
        "\n",
        "        self._d_k = d_model // heads_count\n",
        "        self._heads_count = heads_count\n",
        "        self._attention = ScaledDotProductAttention(dropout_rate)\n",
        "        self._attn_probs = None\n",
        "\n",
        "        self._w_q = nn.Linear(d_model, d_model)\n",
        "        self._w_k = nn.Linear(d_model, d_model)\n",
        "        self._w_v = nn.Linear(d_model, d_model)\n",
        "        self._w_o = nn.Linear(d_model, d_model)\n",
        "\n",
        "    def forward(self, query, key, value, mask=None):\n",
        "        if mask is not None:\n",
        "            mask = mask.unsqueeze(1)\n",
        "        nbatches = query.size(0)\n",
        "\n",
        "        query = self._w_q(query).view(nbatches, -1, self._heads_count, self._d_k).transpose(1, 2)\n",
        "        key = self._w_k(key).view(nbatches, -1, self._heads_count, self._d_k).transpose(1, 2)\n",
        "        value = self._w_v(value).view(nbatches, -1, self._heads_count, self._d_k).transpose(1, 2)\n",
        "        x, self._attn_probs = self._attention(query, key, value, mask)\n",
        "\n",
        "        x = x.transpose(1, 2).contiguous().view(nbatches, -1, self._heads_count * self._d_k)\n",
        "        x = self._w_o(x)\n",
        "        return x"
      ],
      "metadata": {
        "id": "tveOStv0dBqJ"
      },
      "execution_count": null,
      "outputs": []
    },
    {
      "cell_type": "code",
      "execution_count": null,
      "metadata": {
        "id": "TI44KJ8TdLO-"
      },
      "outputs": [],
      "source": [
        "class EncoderBlock(nn.Module):\n",
        "    def __init__(self, size, self_attn, feed_forward, dropout_rate):\n",
        "        super().__init__()\n",
        "\n",
        "        self._self_attn = self_attn\n",
        "        self._feed_forward = feed_forward\n",
        "        self._self_attention_block = ResidualBlock(size, dropout_rate)\n",
        "        self._feed_forward_block = ResidualBlock(size, dropout_rate)\n",
        "\n",
        "    def forward(self, inputs, mask):\n",
        "        outputs = self._self_attention_block(inputs, lambda inputs: self._self_attn(inputs, inputs, inputs, mask))\n",
        "        return self._feed_forward_block(outputs, self._feed_forward)"
      ]
    },
    {
      "cell_type": "code",
      "execution_count": null,
      "metadata": {
        "id": "GGqd8iHldLO_"
      },
      "outputs": [],
      "source": [
        "class Encoder(nn.Module):\n",
        "    def __init__(self, vocab_size, d_model, d_ff, blocks_count, heads_count, dropout_rate, save_probs = False, embeddings = None):\n",
        "        super().__init__()\n",
        "        if embeddings is None:\n",
        "            self._emb = nn.Sequential(\n",
        "                nn.Embedding(vocab_size, d_model),\n",
        "                PositionalEncoding(d_model, dropout_rate)\n",
        "            )\n",
        "        else self._emb = enmbeddings\n",
        "\n",
        "        block = lambda: EncoderBlock(\n",
        "            size=d_model,\n",
        "            self_attn=MultiHeadedAttention(heads_count, d_model, dropout_rate),\n",
        "            feed_forward=PositionwiseFeedForward(d_model, d_ff, dropout_rate),\n",
        "            dropout_rate=dropout_rate\n",
        "        )\n",
        "        self._blocks = nn.ModuleList([block() for _ in range(blocks_count)])\n",
        "        self._norm = LayerNorm(d_model)\n",
        "\n",
        "        self.save_probs = save_probs\n",
        "        self.attn_probs = []\n",
        "\n",
        "    def forward(self, inputs, mask):\n",
        "        inputs = self._emb(inputs)\n",
        "        self.attn_probs = []\n",
        "        for block in self._blocks:\n",
        "            inputs = block(inputs, mask)\n",
        "            if self.save_probs:\n",
        "                self.attn_probs.append(block._self_attn._attn_probs)\n",
        "\n",
        "        return self._norm(inputs)"
      ]
    },
    {
      "cell_type": "code",
      "execution_count": null,
      "metadata": {
        "id": "HZsgywntdLO_"
      },
      "outputs": [],
      "source": [
        "class DecoderLayer(nn.Module):\n",
        "    def __init__(self, size, self_attn, encoder_attn, feed_forward, dropout_rate):\n",
        "        super().__init__()\n",
        "\n",
        "        self._self_attn = self_attn\n",
        "        self._encoder_attn = encoder_attn\n",
        "        self._feed_forward = feed_forward\n",
        "        self._self_attention_block = ResidualBlock(size, dropout_rate)\n",
        "        self._attention_block = ResidualBlock(size, dropout_rate)\n",
        "        self._feed_forward_block = ResidualBlock(size, dropout_rate)\n",
        "\n",
        "    def forward(self, inputs, encoder_output, source_mask, target_mask):\n",
        "        outputs = self._self_attention_block(\n",
        "            inputs, lambda inputs: self._self_attn(inputs, inputs, inputs, target_mask)\n",
        "        )\n",
        "        outputs = self._attention_block(\n",
        "            outputs, lambda inputs: self._encoder_attn(inputs, encoder_output, encoder_output, source_mask)\n",
        "        )\n",
        "        return self._feed_forward_block(outputs, self._feed_forward)"
      ]
    },
    {
      "cell_type": "code",
      "execution_count": null,
      "metadata": {
        "id": "3MZaXsSHdLO_"
      },
      "outputs": [],
      "source": [
        "class Decoder(nn.Module):\n",
        "    def __init__(self, vocab_size, d_model, d_ff, blocks_count, heads_count, dropout_rate, save_probs = False, embeddings = None):\n",
        "        super().__init__()\n",
        "        if embeddings is None:\n",
        "            self._emb = nn.Sequential(\n",
        "                nn.Embedding(vocab_size, d_model),\n",
        "                PositionalEncoding(d_model, dropout_rate)\n",
        "            )\n",
        "            self._out_layer = nn.Linear(d_model, vocab_size)\n",
        "        else:\n",
        "            self._emb = embeddings\n",
        "            self._out_layer = nn.Linear(d_model, vocab_size)\n",
        "            self._out_layer.weight = self._emb[0].weight  # Весовая привязка\n",
        "\n",
        "\n",
        "        block = lambda: DecoderLayer(\n",
        "            size=d_model,\n",
        "            self_attn=MultiHeadedAttention(heads_count, d_model, dropout_rate),\n",
        "            encoder_attn=MultiHeadedAttention(heads_count, d_model, dropout_rate),\n",
        "            feed_forward=PositionwiseFeedForward(d_model, d_ff, dropout_rate),\n",
        "            dropout_rate=dropout_rate\n",
        "        )\n",
        "        self._blocks = nn.ModuleList([block() for _ in range(blocks_count)])\n",
        "        self._norm = LayerNorm(d_model)\n",
        "\n",
        "\n",
        "        self.save_probs = save_probs\n",
        "        self.self_attn_probs = []\n",
        "        self.enc_attn_probs = []\n",
        "\n",
        "    def forward(self, inputs, encoder_output, source_mask, target_mask):\n",
        "        inputs = self._emb(inputs)\n",
        "        self.self_attn_probs = []\n",
        "        self.enc_attn_probs = []\n",
        "        for block in self._blocks:\n",
        "            inputs = block(inputs, encoder_output, source_mask, target_mask)\n",
        "            if self.save_probs:\n",
        "                self.self_attn_probs.append(block._self_attn._attn_probs)\n",
        "                self.enc_attn_probs.append(block._encoder_attn._attn_probs)\n",
        "        return self._out_layer(self._norm(inputs))"
      ]
    },
    {
      "cell_type": "code",
      "execution_count": null,
      "metadata": {
        "id": "YUJ_Q81xdLO_"
      },
      "outputs": [],
      "source": [
        "class Generator(nn.Module):\n",
        "    \"Define standard linear + softmax generation step.\"\n",
        "    def __init__(self, d_model, vocab):\n",
        "        super(Generator, self).__init__()\n",
        "        self.proj = nn.Linear(d_model, vocab)\n",
        "\n",
        "    def forward(self, x):\n",
        "        return F.log_softmax(self.proj(x), dim=-1)\n",
        "\n",
        "\n",
        "class EncoderDecoder(nn.Module):\n",
        "    \"\"\"\n",
        "    A standard Encoder-Decoder architecture. Base for this and many\n",
        "    other models.\n",
        "    \"\"\"\n",
        "    def __init__(self, source_vocab_size, target_vocab_size, d_model=256, d_ff=1024,\n",
        "                 blocks_count=4, heads_count=8, dropout_rate=0.1, save_probs = False, shared_emb = False):\n",
        "        super(EncoderDecoder, self).__init__()\n",
        "\n",
        "        embeddings = None\n",
        "        if shared_emb:\n",
        "            assert source_vocab_size == target_vocab_size, \"Vocab sizes must match for shared embeddings\"\n",
        "            self._emb = nn.Sequential(\n",
        "                nn.Embedding(vocab_size, d_model),\n",
        "                PositionalEncoding(d_model, dropout_rate)\n",
        "            )\n",
        "            embeddings = self._emb\n",
        "\n",
        "\n",
        "        self.d_model = d_model\n",
        "        self.encoder = Encoder(source_vocab_size, d_model, d_ff, blocks_count, heads_count, dropout_rate, save_probs, embeddings)\n",
        "        self.decoder = Decoder(target_vocab_size, d_model, d_ff, blocks_count, heads_count, dropout_rate, save_probs, embeddings)\n",
        "        # self.generator = Generator(d_model, target_vocab_size)\n",
        "\n",
        "        for p in self.parameters():\n",
        "            if p.dim() > 1:\n",
        "                nn.init.xavier_uniform_(p)\n",
        "\n",
        "    def forward(self, source_inputs, target_inputs, source_mask, target_mask):\n",
        "        encoder_output = self.encoder(source_inputs, source_mask)\n",
        "        return self.decoder(target_inputs, encoder_output, source_mask, target_mask)"
      ]
    },
    {
      "cell_type": "code",
      "source": [
        "with open(\"/content/vocab.pkl\", \"rb\") as f:\n",
        "    word_field = dill.load(f)"
      ],
      "metadata": {
        "id": "biGNbAljkhnR"
      },
      "execution_count": null,
      "outputs": []
    },
    {
      "cell_type": "code",
      "source": [
        "model = EncoderDecoder(source_vocab_size=len(word_field.vocab),\n",
        "                       target_vocab_size=len(word_field.vocab),save_probs = True).to(DEVICE)\n",
        "weights_path = \"/content/model_summary.pt\"\n",
        "model.load_state_dict(torch.load(weights_path, map_location=torch.device('cpu')))\n",
        "model.eval()"
      ],
      "metadata": {
        "colab": {
          "base_uri": "https://localhost:8080/"
        },
        "id": "Rv9S_e8wkhqQ",
        "outputId": "3c638903-b124-4cfa-d1c2-00dc3ca962df"
      },
      "execution_count": null,
      "outputs": [
        {
          "output_type": "execute_result",
          "data": {
            "text/plain": [
              "EncoderDecoder(\n",
              "  (encoder): Encoder(\n",
              "    (_emb): Sequential(\n",
              "      (0): Embedding(55919, 256)\n",
              "      (1): PositionalEncoding(\n",
              "        (dropout): Dropout(p=0.1, inplace=False)\n",
              "      )\n",
              "    )\n",
              "    (_blocks): ModuleList(\n",
              "      (0-3): 4 x EncoderBlock(\n",
              "        (_self_attn): MultiHeadedAttention(\n",
              "          (_attention): ScaledDotProductAttention(\n",
              "            (_dropout): Dropout(p=0.1, inplace=False)\n",
              "          )\n",
              "          (_w_q): Linear(in_features=256, out_features=256, bias=True)\n",
              "          (_w_k): Linear(in_features=256, out_features=256, bias=True)\n",
              "          (_w_v): Linear(in_features=256, out_features=256, bias=True)\n",
              "          (_w_o): Linear(in_features=256, out_features=256, bias=True)\n",
              "        )\n",
              "        (_feed_forward): PositionwiseFeedForward(\n",
              "          (w_1): Linear(in_features=256, out_features=1024, bias=True)\n",
              "          (w_2): Linear(in_features=1024, out_features=256, bias=True)\n",
              "          (dropout): Dropout(p=0.1, inplace=False)\n",
              "        )\n",
              "        (_self_attention_block): ResidualBlock(\n",
              "          (_norm): LayerNorm()\n",
              "          (_dropout): Dropout(p=0.1, inplace=False)\n",
              "        )\n",
              "        (_feed_forward_block): ResidualBlock(\n",
              "          (_norm): LayerNorm()\n",
              "          (_dropout): Dropout(p=0.1, inplace=False)\n",
              "        )\n",
              "      )\n",
              "    )\n",
              "    (_norm): LayerNorm()\n",
              "  )\n",
              "  (decoder): Decoder(\n",
              "    (_emb): Sequential(\n",
              "      (0): Embedding(55919, 256)\n",
              "      (1): PositionalEncoding(\n",
              "        (dropout): Dropout(p=0.1, inplace=False)\n",
              "      )\n",
              "    )\n",
              "    (_blocks): ModuleList(\n",
              "      (0-3): 4 x DecoderLayer(\n",
              "        (_self_attn): MultiHeadedAttention(\n",
              "          (_attention): ScaledDotProductAttention(\n",
              "            (_dropout): Dropout(p=0.1, inplace=False)\n",
              "          )\n",
              "          (_w_q): Linear(in_features=256, out_features=256, bias=True)\n",
              "          (_w_k): Linear(in_features=256, out_features=256, bias=True)\n",
              "          (_w_v): Linear(in_features=256, out_features=256, bias=True)\n",
              "          (_w_o): Linear(in_features=256, out_features=256, bias=True)\n",
              "        )\n",
              "        (_encoder_attn): MultiHeadedAttention(\n",
              "          (_attention): ScaledDotProductAttention(\n",
              "            (_dropout): Dropout(p=0.1, inplace=False)\n",
              "          )\n",
              "          (_w_q): Linear(in_features=256, out_features=256, bias=True)\n",
              "          (_w_k): Linear(in_features=256, out_features=256, bias=True)\n",
              "          (_w_v): Linear(in_features=256, out_features=256, bias=True)\n",
              "          (_w_o): Linear(in_features=256, out_features=256, bias=True)\n",
              "        )\n",
              "        (_feed_forward): PositionwiseFeedForward(\n",
              "          (w_1): Linear(in_features=256, out_features=1024, bias=True)\n",
              "          (w_2): Linear(in_features=1024, out_features=256, bias=True)\n",
              "          (dropout): Dropout(p=0.1, inplace=False)\n",
              "        )\n",
              "        (_self_attention_block): ResidualBlock(\n",
              "          (_norm): LayerNorm()\n",
              "          (_dropout): Dropout(p=0.1, inplace=False)\n",
              "        )\n",
              "        (_attention_block): ResidualBlock(\n",
              "          (_norm): LayerNorm()\n",
              "          (_dropout): Dropout(p=0.1, inplace=False)\n",
              "        )\n",
              "        (_feed_forward_block): ResidualBlock(\n",
              "          (_norm): LayerNorm()\n",
              "          (_dropout): Dropout(p=0.1, inplace=False)\n",
              "        )\n",
              "      )\n",
              "    )\n",
              "    (_norm): LayerNorm()\n",
              "    (_out_layer): Linear(in_features=256, out_features=55919, bias=True)\n",
              "  )\n",
              ")"
            ]
          },
          "metadata": {},
          "execution_count": 32
        }
      ]
    },
    {
      "cell_type": "code",
      "source": [
        "class AttentionData():\n",
        "    def __init__(self, model, word_field, inp_text, out_text):\n",
        "        self.enc_self_attn = model.encoder.attn_probs\n",
        "        self.dec_self_attn = model.decoder.self_attn_probs\n",
        "        self.dec_enc_attn = model.decoder.enc_attn_probs\n",
        "        self.tokens_inp = [word_field.init_token] + word_field.tokenize(inp_text.lower()) + [word_field.eos_token]\n",
        "        self.tokens_out = [word_field.init_token] + word_field.tokenize(out_text.lower()) + [word_field.eos_token]\n",
        "    def visualize(self, layer, head, mode = 0):\n",
        "        #mode = 0 -> enc_self_attn\n",
        "        #mode = 1 -> dec_self_attn\n",
        "        #mode = 2 -> dec_enc_attn\n",
        "        if mode == 0:\n",
        "            arr = self.enc_self_attn\n",
        "            x_tokens = self.tokens_inp\n",
        "            y_tokens = self.tokens_inp\n",
        "            title = \"enc_self_attn\"\n",
        "        if mode == 1:\n",
        "            arr = self.dec_self_attn\n",
        "            x_tokens = self.tokens_out\n",
        "            y_tokens = self.tokens_out\n",
        "            title = \"dec_self_attn\"\n",
        "        if mode == 2:\n",
        "            arr = self.dec_enc_attn\n",
        "            x_tokens = self.tokens_inp\n",
        "            y_tokens = self.tokens_out\n",
        "            title = \"dec_enc_attn\"\n",
        "\n",
        "        arr = arr[layer].cpu().numpy()[0][head]\n",
        "        plt.figure(figsize=(10, 8))\n",
        "        sns.heatmap(arr, xticklabels=x_tokens, yticklabels=y_tokens, cmap='viridis')\n",
        "        plt.title(f\"Attention Weights for {title} (Layer {layer}, Head {head})\")\n",
        "        plt.xlabel(\"Input Tokens\")\n",
        "        plt.ylabel(\"Output Tokens\")\n",
        "        plt.show()"
      ],
      "metadata": {
        "id": "1IVspdLzA-fQ"
      },
      "execution_count": null,
      "outputs": []
    },
    {
      "cell_type": "code",
      "source": [
        "import seaborn as sns"
      ],
      "metadata": {
        "id": "fk9XWnSvYAMK"
      },
      "execution_count": null,
      "outputs": []
    },
    {
      "cell_type": "code",
      "source": [
        "ad = AttentionData(model,word_field,custom_text,generated_summary)"
      ],
      "metadata": {
        "id": "wF67yitqquc5"
      },
      "execution_count": null,
      "outputs": []
    },
    {
      "cell_type": "code",
      "source": [
        "layer = 1\n",
        "head = 7\n",
        "mode = 2\n",
        "ad.visualize(layer,head,mode)"
      ],
      "metadata": {
        "colab": {
          "base_uri": "https://localhost:8080/",
          "height": 791
        },
        "id": "wc6h6QlkW-bX",
        "outputId": "30153875-fe20-4ef7-fdab-3c7060347a7e"
      },
      "execution_count": null,
      "outputs": [
        {
          "output_type": "display_data",
          "data": {
            "text/plain": [
              "<Figure size 1000x800 with 2 Axes>"
            ],
            "image/png": "[encoded data removed]"
          },
          "metadata": {}
        }
      ]
    },
    {
      "cell_type": "code",
      "source": [
        "pip install rouge-score"
      ],
      "metadata": {
        "id": "hYZD1qc2qutm",
        "colab": {
          "base_uri": "https://localhost:8080/"
        },
        "outputId": "38e63664-5ee5-46ec-eb55-6d6d2337788f"
      },
      "execution_count": null,
      "outputs": [
        {
          "output_type": "stream",
          "name": "stdout",
          "text": [
            "Collecting rouge-score\n",
            "  Downloading rouge_score-0.1.2.tar.gz (17 kB)\n",
            "  Preparing metadata (setup.py) ... \u001b[?25l\u001b[?25hdone\n",
            "Requirement already satisfied: absl-py in /usr/local/lib/python3.11/dist-packages (from rouge-score) (1.4.0)\n",
            "Requirement already satisfied: nltk in /usr/local/lib/python3.11/dist-packages (from rouge-score) (3.9.1)\n",
            "Requirement already satisfied: numpy in /usr/local/lib/python3.11/dist-packages (from rouge-score) (2.0.2)\n",
            "Requirement already satisfied: six>=1.14.0 in /usr/local/lib/python3.11/dist-packages (from rouge-score) (1.17.0)\n",
            "Requirement already satisfied: click in /usr/local/lib/python3.11/dist-packages (from nltk->rouge-score) (8.1.8)\n",
            "Requirement already satisfied: joblib in /usr/local/lib/python3.11/dist-packages (from nltk->rouge-score) (1.4.2)\n",
            "Requirement already satisfied: regex>=2021.8.3 in /usr/local/lib/python3.11/dist-packages (from nltk->rouge-score) (2024.11.6)\n",
            "Requirement already satisfied: tqdm in /usr/local/lib/python3.11/dist-packages (from nltk->rouge-score) (4.67.1)\n",
            "Building wheels for collected packages: rouge-score\n",
            "  Building wheel for rouge-score (setup.py) ... \u001b[?25l\u001b[?25hdone\n",
            "  Created wheel for rouge-score: filename=rouge_score-0.1.2-py3-none-any.whl size=24934 sha256=1d4acd9b1160f231c1d4d5c22672cb9335831c77e15f985d735ae6c34d25b57c\n",
            "  Stored in directory: /root/.cache/pip/wheels/1e/19/43/8a442dc83660ca25e163e1bd1f89919284ab0d0c1475475148\n",
            "Successfully built rouge-score\n",
            "Installing collected packages: rouge-score\n",
            "Successfully installed rouge-score-0.1.2\n"
          ]
        }
      ]
    },
    {
      "cell_type": "code",
      "source": [
        "tqdm.get_lock().locks = []\n",
        "from rouge_score import rouge_scorer\n",
        "\n",
        "def do_epoch(model, criterion, data_iter, optimizer=None, name=None, teacher_forcing_ratio=0.5):\n",
        "    epoch_loss = 0\n",
        "    total_rouge1 = 0\n",
        "    total_rouge2 = 0\n",
        "    total_rougeL = 0\n",
        "\n",
        "    is_train = optimizer is not None\n",
        "    name = name or ''\n",
        "    model.train(is_train)\n",
        "\n",
        "    batches_count = len(data_iter)\n",
        "\n",
        "    scorer = rouge_scorer.RougeScorer(['rouge1', 'rouge2', 'rougeL'], use_stemmer=True)\n",
        "\n",
        "    with torch.autograd.set_grad_enabled(is_train):\n",
        "        with tqdm(total=batches_count) as progress_bar:\n",
        "            for i, batch in enumerate(data_iter):\n",
        "                source_inputs, target_inputs, source_mask, target_mask = convert_batch(batch)\n",
        "                encoder_output = model.encoder(source_inputs, source_mask)\n",
        "\n",
        "                batch_size, target_len = target_inputs.size()\n",
        "\n",
        "                output_teacher = target_inputs[:, 0].unsqueeze(1)  # Для обучения (с Teacher Forcing)\n",
        "                output_autoregressive = target_inputs[:, 0].unsqueeze(1)  # Для ROUGE (без Teacher Forcing)\n",
        "\n",
        "                for t in range(1, target_len):\n",
        "                    # Общая часть: вычисление logits для обоих режимов\n",
        "                    logits_teacher = model.decoder(output_teacher, encoder_output, source_mask, target_mask[:, :t, :t])\n",
        "                    logits_autoregressive = model.decoder(output_autoregressive, encoder_output, source_mask, target_mask[:, :t, :t])\n",
        "\n",
        "                    next_token_logits = logits_teacher[:, -1, :]\n",
        "                    next_token = next_token_logits.argmax(dim=-1)\n",
        "\n",
        "                    # Teacher Forcing для обучения\n",
        "                    teacher_force = random.random() < teacher_forcing_ratio\n",
        "                    next_input_teacher = target_inputs[:, t] if teacher_force else next_token\n",
        "                    next_input_teacher = next_input_teacher.unsqueeze(1)\n",
        "                    output_teacher = torch.cat((output_teacher, next_input_teacher), dim=1)\n",
        "\n",
        "                    # Авторегрессия для ROUGE\n",
        "                    next_input_autoregressive = next_token\n",
        "                    output_autoregressive = torch.cat((output_autoregressive, next_input_autoregressive.unsqueeze(1)), dim=1)\n",
        "\n",
        "                # Вычисление потерь на предсказаниях с Teacher Forcing\n",
        "                logits = model.decoder(output_teacher[:, :-1], encoder_output, source_mask, target_mask[:, :-1, :-1])\n",
        "                logits = logits.contiguous().view(-1, logits.shape[-1])\n",
        "                target = target_inputs[:, 1:].contiguous().view(-1)\n",
        "                loss = criterion(logits, target)\n",
        "                epoch_loss += loss.item()\n",
        "\n",
        "\n",
        "                # Вычисление ROUGE на авторегрессионных предсказаниях\n",
        "                pred_sentences = decode_tokens(output_autoregressive, vocab)\n",
        "                target_sentences = decode_tokens(target_inputs[:, 1:], vocab)  # Игнорируем начальный токен\n",
        "\n",
        "\n",
        "                # Считаем метрики Rouge\n",
        "                batch_rouge1 = 0\n",
        "                batch_rouge2 = 0\n",
        "                batch_rougeL = 0\n",
        "                for pred, ref in zip(pred_sentences, target_sentences):\n",
        "                    scores = scorer.score(ref, pred)\n",
        "                    batch_rouge1 += scores['rouge1'].fmeasure\n",
        "                    batch_rouge2 += scores['rouge2'].fmeasure\n",
        "                    batch_rougeL += scores['rougeL'].fmeasure\n",
        "\n",
        "                total_rouge1 += batch_rouge1 / batch_size\n",
        "                total_rouge2 += batch_rouge2 / batch_size\n",
        "                total_rougeL += batch_rougeL / batch_size\n",
        "\n",
        "\n",
        "                if optimizer:\n",
        "                    optimizer.optimizer.zero_grad()\n",
        "                    loss.backward()\n",
        "                    optimizer.step()\n",
        "\n",
        "                progress_bar.update()\n",
        "                progress_bar.set_description(\n",
        "                    '{:>5s} Loss = {:.5f}, PPX = {:.2f}, R1 = {:.3f}, R2 = {:.3f}, RL = {:.3f}'.format(\n",
        "                        name, loss.item(), math.exp(loss.item()),\n",
        "                        batch_rouge1 / batch_size, batch_rouge2 / batch_size, batch_rougeL / batch_size\n",
        "                    )\n",
        "                )\n",
        "\n",
        "\n",
        "            avg_loss = epoch_loss / batches_count\n",
        "            avg_rouge1 = total_rouge1 / batches_count\n",
        "            avg_rouge2 = total_rouge2 / batches_count\n",
        "            avg_rougeL = total_rougeL / batches_count\n",
        "\n",
        "            progress_bar.set_description(\n",
        "                '{:>5s} Loss = {:.5f}, PPX = {:.2f}, R1 = {:.3f}, R2 = {:.3f}, RL = {:.3f}'.format(\n",
        "                    name, avg_loss, math.exp(avg_loss), avg_rouge1, avg_rouge2, avg_rougeL\n",
        "                )\n",
        "            )\n",
        "            progress_bar.refresh()\n",
        "\n",
        "    return {\n",
        "        'loss': avg_loss,\n",
        "        'ppx': math.exp(avg_loss),\n",
        "        'rouge1': avg_rouge1,\n",
        "        'rouge2': avg_rouge2,\n",
        "        'rougeL': avg_rougeL\n",
        "    }\n",
        "\n",
        "def fit(model, criterion, optimizer, train_iter, epochs_count=1, val_iter=None,\n",
        "        save_path1=None, patience=7, start_epoch=0, best_val_loss=float('inf')):\n",
        "\n",
        "    epochs_no_improve = 0\n",
        "    best_model_state = None\n",
        "\n",
        "    initial_teacher_forcing = 0.7\n",
        "    min_teacher_forcing = 0.1\n",
        "    decay_rate = 0.03\n",
        "\n",
        "    for epoch in range(start_epoch, start_epoch + epochs_count):\n",
        "        name_prefix = f\"[{epoch + 1} / {start_epoch + epochs_count}] \"\n",
        "        teacher_forcing_ratio = max(min_teacher_forcing, initial_teacher_forcing - decay_rate * epoch)\n",
        "\n",
        "        train_loss = do_epoch(model, criterion, train_iter, optimizer, name_prefix + \"Train:\", teacher_forcing_ratio)\n",
        "\n",
        "        if val_iter is not None:\n",
        "            metrics = do_epoch(model, criterion, val_iter, None, name_prefix + \"Val:\", teacher_forcing_ratio=0.0)\n",
        "            val_loss = metrics['loss']\n",
        "\n",
        "            if val_loss < best_val_loss - 1e-4:  # небольшая дельта, чтобы избежать флуктуаций\n",
        "                best_val_loss = val_loss\n",
        "                best_model_state = model.state_dict()\n",
        "                epochs_no_improve = 0\n",
        "                print(f\"New best model found! val_loss={val_loss:.4f}\")\n",
        "                if save_path1:\n",
        "                    torch.save({\n",
        "                        'model_state_dict': best_model_state,\n",
        "                        'optimizer_state_dict': optimizer.optimizer.state_dict(),\n",
        "                        'noam_step': optimizer._step,\n",
        "                        'best_val_loss': best_val_loss,\n",
        "                        'epoch': epoch\n",
        "                    }, save_path1)\n",
        "            else:\n",
        "                epochs_no_improve += 1\n",
        "                print(f\"No improvement. Patience: {epochs_no_improve}/{patience}\")\n",
        "                if epochs_no_improve >= patience:\n",
        "                    print(\"Early stopping triggered!\")\n",
        "                    if save_path and best_model_state is not None:\n",
        "                        model.load_state_dict(best_model_state)\n",
        "                    break\n",
        "\n",
        "        print(f\"Epoch {epoch + 1}: Teacher Forcing Ratio = {teacher_forcing_ratio:.2f}\")\n",
        "\n",
        "\n",
        "\n",
        "\n",
        "\n",
        "def decode_tokens(tensor, vocab, skip_tokens=('<pad>', '<sos>', '<eos>')):\n",
        "    \"\"\"\n",
        "    Декодирует тензор с индексами токенов в строки, пропуская служебные токены.\n",
        "\n",
        "    Args:\n",
        "        tensor (torch.Tensor): Тензор формы [batch_size, seq_len].\n",
        "        vocab (torchtext.vocab.Vocab): Словарь для преобразования индексов в слова.\n",
        "        skip_tokens (tuple): Токены, которые нужно пропустить (например, паддинг).\n",
        "\n",
        "    Returns:\n",
        "        list[str]: Декодированные предложения.\n",
        "    \"\"\"\n",
        "    sentences = []\n",
        "    skip_ids = [vocab.stoi[token] for token in skip_tokens if token in vocab.stoi]\n",
        "\n",
        "    for seq in tensor:\n",
        "        tokens = [\n",
        "            vocab.itos[token.item()]\n",
        "            for token in seq\n",
        "            if token.item() not in skip_ids\n",
        "        ]\n",
        "        sentences.append(\" \".join(tokens))\n",
        "\n",
        "    return sentences"
      ],
      "metadata": {
        "id": "l4OG8OJWquwk"
      },
      "execution_count": null,
      "outputs": []
    },
    {
      "cell_type": "code",
      "source": [],
      "metadata": {
        "id": "PO94O9TuzufI"
      },
      "execution_count": null,
      "outputs": []
    },
    {
      "cell_type": "code",
      "source": [],
      "metadata": {
        "id": "JFaeGsKSzuiO"
      },
      "execution_count": null,
      "outputs": []
    },
    {
      "cell_type": "code",
      "source": [],
      "metadata": {
        "id": "yvjcwLDhzule"
      },
      "execution_count": null,
      "outputs": []
    },
    {
      "cell_type": "code",
      "source": [],
      "metadata": {
        "id": "p6rhB6H-qu1y"
      },
      "execution_count": null,
      "outputs": []
    },
    {
      "cell_type": "code",
      "source": [],
      "metadata": {
        "id": "qzSK8Fm_zkVJ"
      },
      "execution_count": null,
      "outputs": []
    },
    {
      "cell_type": "code",
      "source": [],
      "metadata": {
        "id": "87VMOZFVzkYg"
      },
      "execution_count": null,
      "outputs": []
    },
    {
      "cell_type": "code",
      "source": [],
      "metadata": {
        "id": "zbQfe2AAzkcT"
      },
      "execution_count": null,
      "outputs": []
    },
    {
      "cell_type": "code",
      "source": [],
      "metadata": {
        "id": "4RettzJTkhtd"
      },
      "execution_count": null,
      "outputs": []
    },
    {
      "cell_type": "code",
      "source": [],
      "metadata": {
        "id": "LFlJmwb5khwb"
      },
      "execution_count": null,
      "outputs": []
    },
    {
      "cell_type": "code",
      "source": [],
      "metadata": {
        "id": "RhkAAEYnkhzU"
      },
      "execution_count": null,
      "outputs": []
    },
    {
      "cell_type": "code",
      "source": [],
      "metadata": {
        "id": "fQqLHbF5kh2c"
      },
      "execution_count": null,
      "outputs": []
    },
    {
      "cell_type": "markdown",
      "metadata": {
        "id": "iRudmDewoIPJ"
      },
      "source": [
        "# Домашнее задание"
      ]
    },
    {
      "cell_type": "markdown",
      "metadata": {
        "id": "PRMFkzDV-wI9"
      },
      "source": [
        "## Применение модели\n",
        "\n",
        "**Задание** Добавьте генератор суммаризации для модели.\n",
        "\n",
        "**Задание** Добавьте оценку для модели с помощью ROUGE metric (например, из пакета https://pypi.org/project/pyrouge/0.1.3/)\n",
        "\n",
        "**Задание** Добавьте визуализацию механизма attention (можно подсмотреть в коде по ссылкам)."
      ]
    },
    {
      "cell_type": "markdown",
      "metadata": {
        "id": "Ij1GiNx54Ke5"
      },
      "source": [
        "## Улучшения модели\n",
        "\n",
        "**Задание** Попробовать расшарить матрицы эмбеддингов - их тут три (входные в энкодер и декодер + выход декодера).\n",
        "\n",
        "**Задание** Замените лосс на LabelSmoothing.\n",
        "\n",
        "**Задание** Добавьте предодученные эмбединги."
      ]
    },
    {
      "cell_type": "markdown",
      "metadata": {
        "id": "N4-3pYqVJIKA"
      },
      "source": [
        "# Дополнительные материалы\n",
        "\n",
        "## Статьи\n",
        "Attention Is All You Need, 2017 [[pdf]](https://arxiv.org/pdf/1706.03762.pdf)  \n",
        "Get To The Point: Summarization with Pointer-Generator Networks, 2017 [[pdf]](https://arxiv.org/pdf/1704.04368.pdf)  \n",
        "Universal Transformers, 2018 [[arxiv]](https://arxiv.org/abs/1807.03819)\n",
        "\n",
        "## Блоги\n",
        "[Transformer — новая архитектура нейросетей для работы с последовательностями](https://habr.com/post/341240/)  \n",
        "[The Illustrated Transformer](http://jalammar.github.io/illustrated-transformer/)  \n",
        "[The Annotated Transformer](http://nlp.seas.harvard.edu/2018/04/03/attention.html)  \n",
        "[Weighted Tranformer](https://einstein.ai/research/blog/weighted-transformer)  \n",
        "[Your tldr by an ai: a deep reinforced model for abstractive summarization](https://einstein.ai/research/blog/your-tldr-by-an-ai-a-deep-reinforced-model-for-abstractive-summarization)"
      ]
    }
  ],
  "metadata": {
    "colab": {
      "provenance": [],
      "gpuType": "T4",
      "machine_shape": "hm"
    },
    "hide_input": false,
    "kernelspec": {
      "display_name": "Python 3",
      "name": "python3"
    },
    "language_info": {
      "codemirror_mode": {
        "name": "ipython",
        "version": 3
      },
      "file_extension": ".py",
      "mimetype": "text/x-python",
      "name": "python",
      "nbconvert_exporter": "python",
      "pygments_lexer": "ipython3",
      "version": "3.10.12"
    },
    "toc": {
      "base_numbering": 1,
      "nav_menu": {},
      "number_sections": true,
      "sideBar": true,
      "skip_h1_title": false,
      "title_cell": "Table of Contents",
      "title_sidebar": "Contents",
      "toc_cell": false,
      "toc_position": {},
      "toc_section_display": true,
      "toc_window_display": false
    },
    "varInspector": {
      "cols": {
        "lenName": 16,
        "lenType": 16,
        "lenVar": 40
      },
      "kernels_config": {
        "python": {
          "delete_cmd_postfix": "",
          "delete_cmd_prefix": "del ",
          "library": "var_list.py",
          "varRefreshCmd": "print(var_dic_list())"
        },
        "r": {
          "delete_cmd_postfix": ") ",
          "delete_cmd_prefix": "rm(",
          "library": "var_list.r",
          "varRefreshCmd": "cat(var_dic_list()) "
        }
      },
      "types_to_exclude": [
        "module",
        "function",
        "builtin_function_or_method",
        "instance",
        "_Feature"
      ],
      "window_display": false
    },
    "widgets": {
      "application/vnd.jupyter.widget-state+json": {
        "a5534dd723e74160a4f324e52042dc68": {
          "model_module": "@jupyter-widgets/controls",
          "model_name": "HBoxModel",
          "model_module_version": "1.5.0",
          "state": {
            "_dom_classes": [],
            "_model_module": "@jupyter-widgets/controls",
            "_model_module_version": "1.5.0",
            "_model_name": "HBoxModel",
            "_view_count": null,
            "_view_module": "@jupyter-widgets/controls",
            "_view_module_version": "1.5.0",
            "_view_name": "HBoxView",
            "box_style": "",
            "children": [
              "IPY_MODEL_ba674a75f0864056a43312812ede04f2",
              "IPY_MODEL_965368fe022349479191a86d2441b56e",
              "IPY_MODEL_2e41290d063e4c6fac3277cf25c0227d"
            ],
            "layout": "IPY_MODEL_e26abf0db2c94b8b82378b50b08c76cd"
          }
        },
        "ba674a75f0864056a43312812ede04f2": {
          "model_module": "@jupyter-widgets/controls",
          "model_name": "HTMLModel",
          "model_module_version": "1.5.0",
          "state": {
            "_dom_classes": [],
            "_model_module": "@jupyter-widgets/controls",
            "_model_module_version": "1.5.0",
            "_model_name": "HTMLModel",
            "_view_count": null,
            "_view_module": "@jupyter-widgets/controls",
            "_view_module_version": "1.5.0",
            "_view_name": "HTMLView",
            "description": "",
            "description_tooltip": null,
            "layout": "IPY_MODEL_1d764555a01949a28e9eac6bf5c5b571",
            "placeholder": "​",
            "style": "IPY_MODEL_0f6da5682e764519af246446fc079437",
            "value": "[1 / 30] Train: Loss = 4.45843, PPX = 86.35, R1 = 0.273, R2 = 0.171, RL = 0.267: 100%"
          }
        },
        "965368fe022349479191a86d2441b56e": {
          "model_module": "@jupyter-widgets/controls",
          "model_name": "FloatProgressModel",
          "model_module_version": "1.5.0",
          "state": {
            "_dom_classes": [],
            "_model_module": "@jupyter-widgets/controls",
            "_model_module_version": "1.5.0",
            "_model_name": "FloatProgressModel",
            "_view_count": null,
            "_view_module": "@jupyter-widgets/controls",
            "_view_module_version": "1.5.0",
            "_view_name": "ProgressView",
            "bar_style": "success",
            "description": "",
            "description_tooltip": null,
            "layout": "IPY_MODEL_8eb82c8263eb4a619fe93b9838c1dea2",
            "max": 3946,
            "min": 0,
            "orientation": "horizontal",
            "style": "IPY_MODEL_7358f357a35e4fd09ae212776f19ac71",
            "value": 3946
          }
        },
        "2e41290d063e4c6fac3277cf25c0227d": {
          "model_module": "@jupyter-widgets/controls",
          "model_name": "HTMLModel",
          "model_module_version": "1.5.0",
          "state": {
            "_dom_classes": [],
            "_model_module": "@jupyter-widgets/controls",
            "_model_module_version": "1.5.0",
            "_model_name": "HTMLModel",
            "_view_count": null,
            "_view_module": "@jupyter-widgets/controls",
            "_view_module_version": "1.5.0",
            "_view_name": "HTMLView",
            "description": "",
            "description_tooltip": null,
            "layout": "IPY_MODEL_e1db4d2c380844488346671fdaf7dc0c",
            "placeholder": "​",
            "style": "IPY_MODEL_2f85ee3c5bc24d1d843fb487b19f4ece",
            "value": " 3946/3946 [28:37&lt;00:00,  2.52it/s]"
          }
        },
        "e26abf0db2c94b8b82378b50b08c76cd": {
          "model_module": "@jupyter-widgets/base",
          "model_name": "LayoutModel",
          "model_module_version": "1.2.0",
          "state": {
            "_model_module": "@jupyter-widgets/base",
            "_model_module_version": "1.2.0",
            "_model_name": "LayoutModel",
            "_view_count": null,
            "_view_module": "@jupyter-widgets/base",
            "_view_module_version": "1.2.0",
            "_view_name": "LayoutView",
            "align_content": null,
            "align_items": null,
            "align_self": null,
            "border": null,
            "bottom": null,
            "display": null,
            "flex": null,
            "flex_flow": null,
            "grid_area": null,
            "grid_auto_columns": null,
            "grid_auto_flow": null,
            "grid_auto_rows": null,
            "grid_column": null,
            "grid_gap": null,
            "grid_row": null,
            "grid_template_areas": null,
            "grid_template_columns": null,
            "grid_template_rows": null,
            "height": null,
            "justify_content": null,
            "justify_items": null,
            "left": null,
            "margin": null,
            "max_height": null,
            "max_width": null,
            "min_height": null,
            "min_width": null,
            "object_fit": null,
            "object_position": null,
            "order": null,
            "overflow": null,
            "overflow_x": null,
            "overflow_y": null,
            "padding": null,
            "right": null,
            "top": null,
            "visibility": null,
            "width": null
          }
        },
        "1d764555a01949a28e9eac6bf5c5b571": {
          "model_module": "@jupyter-widgets/base",
          "model_name": "LayoutModel",
          "model_module_version": "1.2.0",
          "state": {
            "_model_module": "@jupyter-widgets/base",
            "_model_module_version": "1.2.0",
            "_model_name": "LayoutModel",
            "_view_count": null,
            "_view_module": "@jupyter-widgets/base",
            "_view_module_version": "1.2.0",
            "_view_name": "LayoutView",
            "align_content": null,
            "align_items": null,
            "align_self": null,
            "border": null,
            "bottom": null,
            "display": null,
            "flex": null,
            "flex_flow": null,
            "grid_area": null,
            "grid_auto_columns": null,
            "grid_auto_flow": null,
            "grid_auto_rows": null,
            "grid_column": null,
            "grid_gap": null,
            "grid_row": null,
            "grid_template_areas": null,
            "grid_template_columns": null,
            "grid_template_rows": null,
            "height": null,
            "justify_content": null,
            "justify_items": null,
            "left": null,
            "margin": null,
            "max_height": null,
            "max_width": null,
            "min_height": null,
            "min_width": null,
            "object_fit": null,
            "object_position": null,
            "order": null,
            "overflow": null,
            "overflow_x": null,
            "overflow_y": null,
            "padding": null,
            "right": null,
            "top": null,
            "visibility": null,
            "width": null
          }
        },
        "0f6da5682e764519af246446fc079437": {
          "model_module": "@jupyter-widgets/controls",
          "model_name": "DescriptionStyleModel",
          "model_module_version": "1.5.0",
          "state": {
            "_model_module": "@jupyter-widgets/controls",
            "_model_module_version": "1.5.0",
            "_model_name": "DescriptionStyleModel",
            "_view_count": null,
            "_view_module": "@jupyter-widgets/base",
            "_view_module_version": "1.2.0",
            "_view_name": "StyleView",
            "description_width": ""
          }
        },
        "8eb82c8263eb4a619fe93b9838c1dea2": {
          "model_module": "@jupyter-widgets/base",
          "model_name": "LayoutModel",
          "model_module_version": "1.2.0",
          "state": {
            "_model_module": "@jupyter-widgets/base",
            "_model_module_version": "1.2.0",
            "_model_name": "LayoutModel",
            "_view_count": null,
            "_view_module": "@jupyter-widgets/base",
            "_view_module_version": "1.2.0",
            "_view_name": "LayoutView",
            "align_content": null,
            "align_items": null,
            "align_self": null,
            "border": null,
            "bottom": null,
            "display": null,
            "flex": null,
            "flex_flow": null,
            "grid_area": null,
            "grid_auto_columns": null,
            "grid_auto_flow": null,
            "grid_auto_rows": null,
            "grid_column": null,
            "grid_gap": null,
            "grid_row": null,
            "grid_template_areas": null,
            "grid_template_columns": null,
            "grid_template_rows": null,
            "height": null,
            "justify_content": null,
            "justify_items": null,
            "left": null,
            "margin": null,
            "max_height": null,
            "max_width": null,
            "min_height": null,
            "min_width": null,
            "object_fit": null,
            "object_position": null,
            "order": null,
            "overflow": null,
            "overflow_x": null,
            "overflow_y": null,
            "padding": null,
            "right": null,
            "top": null,
            "visibility": null,
            "width": null
          }
        },
        "7358f357a35e4fd09ae212776f19ac71": {
          "model_module": "@jupyter-widgets/controls",
          "model_name": "ProgressStyleModel",
          "model_module_version": "1.5.0",
          "state": {
            "_model_module": "@jupyter-widgets/controls",
            "_model_module_version": "1.5.0",
            "_model_name": "ProgressStyleModel",
            "_view_count": null,
            "_view_module": "@jupyter-widgets/base",
            "_view_module_version": "1.2.0",
            "_view_name": "StyleView",
            "bar_color": null,
            "description_width": ""
          }
        },
        "e1db4d2c380844488346671fdaf7dc0c": {
          "model_module": "@jupyter-widgets/base",
          "model_name": "LayoutModel",
          "model_module_version": "1.2.0",
          "state": {
            "_model_module": "@jupyter-widgets/base",
            "_model_module_version": "1.2.0",
            "_model_name": "LayoutModel",
            "_view_count": null,
            "_view_module": "@jupyter-widgets/base",
            "_view_module_version": "1.2.0",
            "_view_name": "LayoutView",
            "align_content": null,
            "align_items": null,
            "align_self": null,
            "border": null,
            "bottom": null,
            "display": null,
            "flex": null,
            "flex_flow": null,
            "grid_area": null,
            "grid_auto_columns": null,
            "grid_auto_flow": null,
            "grid_auto_rows": null,
            "grid_column": null,
            "grid_gap": null,
            "grid_row": null,
            "grid_template_areas": null,
            "grid_template_columns": null,
            "grid_template_rows": null,
            "height": null,
            "justify_content": null,
            "justify_items": null,
            "left": null,
            "margin": null,
            "max_height": null,
            "max_width": null,
            "min_height": null,
            "min_width": null,
            "object_fit": null,
            "object_position": null,
            "order": null,
            "overflow": null,
            "overflow_x": null,
            "overflow_y": null,
            "padding": null,
            "right": null,
            "top": null,
            "visibility": null,
            "width": null
          }
        },
        "2f85ee3c5bc24d1d843fb487b19f4ece": {
          "model_module": "@jupyter-widgets/controls",
          "model_name": "DescriptionStyleModel",
          "model_module_version": "1.5.0",
          "state": {
            "_model_module": "@jupyter-widgets/controls",
            "_model_module_version": "1.5.0",
            "_model_name": "DescriptionStyleModel",
            "_view_count": null,
            "_view_module": "@jupyter-widgets/base",
            "_view_module_version": "1.2.0",
            "_view_name": "StyleView",
            "description_width": ""
          }
        },
        "859084eb48f04a23964b590c9be9a752": {
          "model_module": "@jupyter-widgets/controls",
          "model_name": "HBoxModel",
          "model_module_version": "1.5.0",
          "state": {
            "_dom_classes": [],
            "_model_module": "@jupyter-widgets/controls",
            "_model_module_version": "1.5.0",
            "_model_name": "HBoxModel",
            "_view_count": null,
            "_view_module": "@jupyter-widgets/controls",
            "_view_module_version": "1.5.0",
            "_view_name": "HBoxView",
            "box_style": "",
            "children": [
              "IPY_MODEL_0f6490e2853042469728bcabc038a771",
              "IPY_MODEL_f4f41ab420a54404bfb542dd8c6cd8a7",
              "IPY_MODEL_cb9821e8d0e94c748d85c702c1cd7295"
            ],
            "layout": "IPY_MODEL_b998ad0663d142cdbaa2246bffda956f"
          }
        },
        "0f6490e2853042469728bcabc038a771": {
          "model_module": "@jupyter-widgets/controls",
          "model_name": "HTMLModel",
          "model_module_version": "1.5.0",
          "state": {
            "_dom_classes": [],
            "_model_module": "@jupyter-widgets/controls",
            "_model_module_version": "1.5.0",
            "_model_name": "HTMLModel",
            "_view_count": null,
            "_view_module": "@jupyter-widgets/controls",
            "_view_module_version": "1.5.0",
            "_view_name": "HTMLView",
            "description": "",
            "description_tooltip": null,
            "layout": "IPY_MODEL_5d1806efb2f246b2b6b9e5677f00ad0a",
            "placeholder": "​",
            "style": "IPY_MODEL_bd2e8075026543f3af1e7c7392f146b9",
            "value": "[1 / 30] Val: Loss = 4.61022, PPX = 100.51, R1 = 0.258, R2 = 0.119, RL = 0.211: 100%"
          }
        },
        "f4f41ab420a54404bfb542dd8c6cd8a7": {
          "model_module": "@jupyter-widgets/controls",
          "model_name": "FloatProgressModel",
          "model_module_version": "1.5.0",
          "state": {
            "_dom_classes": [],
            "_model_module": "@jupyter-widgets/controls",
            "_model_module_version": "1.5.0",
            "_model_name": "FloatProgressModel",
            "_view_count": null,
            "_view_module": "@jupyter-widgets/controls",
            "_view_module_version": "1.5.0",
            "_view_name": "ProgressView",
            "bar_style": "success",
            "description": "",
            "description_tooltip": null,
            "layout": "IPY_MODEL_da91951f358b43628e8e7f55e57c3f0f",
            "max": 349,
            "min": 0,
            "orientation": "horizontal",
            "style": "IPY_MODEL_1f471ab80abd4a7fa994ad5a9b66956b",
            "value": 349
          }
        },
        "cb9821e8d0e94c748d85c702c1cd7295": {
          "model_module": "@jupyter-widgets/controls",
          "model_name": "HTMLModel",
          "model_module_version": "1.5.0",
          "state": {
            "_dom_classes": [],
            "_model_module": "@jupyter-widgets/controls",
            "_model_module_version": "1.5.0",
            "_model_name": "HTMLModel",
            "_view_count": null,
            "_view_module": "@jupyter-widgets/controls",
            "_view_module_version": "1.5.0",
            "_view_name": "HTMLView",
            "description": "",
            "description_tooltip": null,
            "layout": "IPY_MODEL_3029373edcab4505bf70e7a28669272e",
            "placeholder": "​",
            "style": "IPY_MODEL_875c9a6f51d045b6b3969873484bb00f",
            "value": " 349/349 [03:23&lt;00:00,  2.09it/s]"
          }
        },
        "b998ad0663d142cdbaa2246bffda956f": {
          "model_module": "@jupyter-widgets/base",
          "model_name": "LayoutModel",
          "model_module_version": "1.2.0",
          "state": {
            "_model_module": "@jupyter-widgets/base",
            "_model_module_version": "1.2.0",
            "_model_name": "LayoutModel",
            "_view_count": null,
            "_view_module": "@jupyter-widgets/base",
            "_view_module_version": "1.2.0",
            "_view_name": "LayoutView",
            "align_content": null,
            "align_items": null,
            "align_self": null,
            "border": null,
            "bottom": null,
            "display": null,
            "flex": null,
            "flex_flow": null,
            "grid_area": null,
            "grid_auto_columns": null,
            "grid_auto_flow": null,
            "grid_auto_rows": null,
            "grid_column": null,
            "grid_gap": null,
            "grid_row": null,
            "grid_template_areas": null,
            "grid_template_columns": null,
            "grid_template_rows": null,
            "height": null,
            "justify_content": null,
            "justify_items": null,
            "left": null,
            "margin": null,
            "max_height": null,
            "max_width": null,
            "min_height": null,
            "min_width": null,
            "object_fit": null,
            "object_position": null,
            "order": null,
            "overflow": null,
            "overflow_x": null,
            "overflow_y": null,
            "padding": null,
            "right": null,
            "top": null,
            "visibility": null,
            "width": null
          }
        },
        "5d1806efb2f246b2b6b9e5677f00ad0a": {
          "model_module": "@jupyter-widgets/base",
          "model_name": "LayoutModel",
          "model_module_version": "1.2.0",
          "state": {
            "_model_module": "@jupyter-widgets/base",
            "_model_module_version": "1.2.0",
            "_model_name": "LayoutModel",
            "_view_count": null,
            "_view_module": "@jupyter-widgets/base",
            "_view_module_version": "1.2.0",
            "_view_name": "LayoutView",
            "align_content": null,
            "align_items": null,
            "align_self": null,
            "border": null,
            "bottom": null,
            "display": null,
            "flex": null,
            "flex_flow": null,
            "grid_area": null,
            "grid_auto_columns": null,
            "grid_auto_flow": null,
            "grid_auto_rows": null,
            "grid_column": null,
            "grid_gap": null,
            "grid_row": null,
            "grid_template_areas": null,
            "grid_template_columns": null,
            "grid_template_rows": null,
            "height": null,
            "justify_content": null,
            "justify_items": null,
            "left": null,
            "margin": null,
            "max_height": null,
            "max_width": null,
            "min_height": null,
            "min_width": null,
            "object_fit": null,
            "object_position": null,
            "order": null,
            "overflow": null,
            "overflow_x": null,
            "overflow_y": null,
            "padding": null,
            "right": null,
            "top": null,
            "visibility": null,
            "width": null
          }
        },
        "bd2e8075026543f3af1e7c7392f146b9": {
          "model_module": "@jupyter-widgets/controls",
          "model_name": "DescriptionStyleModel",
          "model_module_version": "1.5.0",
          "state": {
            "_model_module": "@jupyter-widgets/controls",
            "_model_module_version": "1.5.0",
            "_model_name": "DescriptionStyleModel",
            "_view_count": null,
            "_view_module": "@jupyter-widgets/base",
            "_view_module_version": "1.2.0",
            "_view_name": "StyleView",
            "description_width": ""
          }
        },
        "da91951f358b43628e8e7f55e57c3f0f": {
          "model_module": "@jupyter-widgets/base",
          "model_name": "LayoutModel",
          "model_module_version": "1.2.0",
          "state": {
            "_model_module": "@jupyter-widgets/base",
            "_model_module_version": "1.2.0",
            "_model_name": "LayoutModel",
            "_view_count": null,
            "_view_module": "@jupyter-widgets/base",
            "_view_module_version": "1.2.0",
            "_view_name": "LayoutView",
            "align_content": null,
            "align_items": null,
            "align_self": null,
            "border": null,
            "bottom": null,
            "display": null,
            "flex": null,
            "flex_flow": null,
            "grid_area": null,
            "grid_auto_columns": null,
            "grid_auto_flow": null,
            "grid_auto_rows": null,
            "grid_column": null,
            "grid_gap": null,
            "grid_row": null,
            "grid_template_areas": null,
            "grid_template_columns": null,
            "grid_template_rows": null,
            "height": null,
            "justify_content": null,
            "justify_items": null,
            "left": null,
            "margin": null,
            "max_height": null,
            "max_width": null,
            "min_height": null,
            "min_width": null,
            "object_fit": null,
            "object_position": null,
            "order": null,
            "overflow": null,
            "overflow_x": null,
            "overflow_y": null,
            "padding": null,
            "right": null,
            "top": null,
            "visibility": null,
            "width": null
          }
        },
        "1f471ab80abd4a7fa994ad5a9b66956b": {
          "model_module": "@jupyter-widgets/controls",
          "model_name": "ProgressStyleModel",
          "model_module_version": "1.5.0",
          "state": {
            "_model_module": "@jupyter-widgets/controls",
            "_model_module_version": "1.5.0",
            "_model_name": "ProgressStyleModel",
            "_view_count": null,
            "_view_module": "@jupyter-widgets/base",
            "_view_module_version": "1.2.0",
            "_view_name": "StyleView",
            "bar_color": null,
            "description_width": ""
          }
        },
        "3029373edcab4505bf70e7a28669272e": {
          "model_module": "@jupyter-widgets/base",
          "model_name": "LayoutModel",
          "model_module_version": "1.2.0",
          "state": {
            "_model_module": "@jupyter-widgets/base",
            "_model_module_version": "1.2.0",
            "_model_name": "LayoutModel",
            "_view_count": null,
            "_view_module": "@jupyter-widgets/base",
            "_view_module_version": "1.2.0",
            "_view_name": "LayoutView",
            "align_content": null,
            "align_items": null,
            "align_self": null,
            "border": null,
            "bottom": null,
            "display": null,
            "flex": null,
            "flex_flow": null,
            "grid_area": null,
            "grid_auto_columns": null,
            "grid_auto_flow": null,
            "grid_auto_rows": null,
            "grid_column": null,
            "grid_gap": null,
            "grid_row": null,
            "grid_template_areas": null,
            "grid_template_columns": null,
            "grid_template_rows": null,
            "height": null,
            "justify_content": null,
            "justify_items": null,
            "left": null,
            "margin": null,
            "max_height": null,
            "max_width": null,
            "min_height": null,
            "min_width": null,
            "object_fit": null,
            "object_position": null,
            "order": null,
            "overflow": null,
            "overflow_x": null,
            "overflow_y": null,
            "padding": null,
            "right": null,
            "top": null,
            "visibility": null,
            "width": null
          }
        },
        "875c9a6f51d045b6b3969873484bb00f": {
          "model_module": "@jupyter-widgets/controls",
          "model_name": "DescriptionStyleModel",
          "model_module_version": "1.5.0",
          "state": {
            "_model_module": "@jupyter-widgets/controls",
            "_model_module_version": "1.5.0",
            "_model_name": "DescriptionStyleModel",
            "_view_count": null,
            "_view_module": "@jupyter-widgets/base",
            "_view_module_version": "1.2.0",
            "_view_name": "StyleView",
            "description_width": ""
          }
        },
        "d4682e47fcf34325abc90023694f1bba": {
          "model_module": "@jupyter-widgets/controls",
          "model_name": "HBoxModel",
          "model_module_version": "1.5.0",
          "state": {
            "_dom_classes": [],
            "_model_module": "@jupyter-widgets/controls",
            "_model_module_version": "1.5.0",
            "_model_name": "HBoxModel",
            "_view_count": null,
            "_view_module": "@jupyter-widgets/controls",
            "_view_module_version": "1.5.0",
            "_view_name": "HBoxView",
            "box_style": "",
            "children": [
              "IPY_MODEL_fa29315ce2c64abc91efcb3531c3d995",
              "IPY_MODEL_81b20ca169684a51958b30b1d640de92",
              "IPY_MODEL_2140283e99c841db98467437773f9802"
            ],
            "layout": "IPY_MODEL_79f02cb650d44538b18f17d2ba6ff516"
          }
        },
        "fa29315ce2c64abc91efcb3531c3d995": {
          "model_module": "@jupyter-widgets/controls",
          "model_name": "HTMLModel",
          "model_module_version": "1.5.0",
          "state": {
            "_dom_classes": [],
            "_model_module": "@jupyter-widgets/controls",
            "_model_module_version": "1.5.0",
            "_model_name": "HTMLModel",
            "_view_count": null,
            "_view_module": "@jupyter-widgets/controls",
            "_view_module_version": "1.5.0",
            "_view_name": "HTMLView",
            "description": "",
            "description_tooltip": null,
            "layout": "IPY_MODEL_70f979461091416f94d7b0454067cf65",
            "placeholder": "​",
            "style": "IPY_MODEL_f8b58bccd31a41a58b78a2028fd617e7",
            "value": "[2 / 30] Train: Loss = 3.76642, PPX = 43.23, R1 = 0.264, R2 = 0.158, RL = 0.259:  65%"
          }
        },
        "81b20ca169684a51958b30b1d640de92": {
          "model_module": "@jupyter-widgets/controls",
          "model_name": "FloatProgressModel",
          "model_module_version": "1.5.0",
          "state": {
            "_dom_classes": [],
            "_model_module": "@jupyter-widgets/controls",
            "_model_module_version": "1.5.0",
            "_model_name": "FloatProgressModel",
            "_view_count": null,
            "_view_module": "@jupyter-widgets/controls",
            "_view_module_version": "1.5.0",
            "_view_name": "ProgressView",
            "bar_style": "",
            "description": "",
            "description_tooltip": null,
            "layout": "IPY_MODEL_a81dd135b594464fb7119745c51bf83e",
            "max": 3946,
            "min": 0,
            "orientation": "horizontal",
            "style": "IPY_MODEL_337ed40c8b40485ebf9008a65a1e2e8d",
            "value": 2582
          }
        },
        "2140283e99c841db98467437773f9802": {
          "model_module": "@jupyter-widgets/controls",
          "model_name": "HTMLModel",
          "model_module_version": "1.5.0",
          "state": {
            "_dom_classes": [],
            "_model_module": "@jupyter-widgets/controls",
            "_model_module_version": "1.5.0",
            "_model_name": "HTMLModel",
            "_view_count": null,
            "_view_module": "@jupyter-widgets/controls",
            "_view_module_version": "1.5.0",
            "_view_name": "HTMLView",
            "description": "",
            "description_tooltip": null,
            "layout": "IPY_MODEL_54417e3ddad94a51b7489297566478c6",
            "placeholder": "​",
            "style": "IPY_MODEL_61440719a8fb4d46ba43972b0f398900",
            "value": " 2582/3946 [18:30&lt;08:54,  2.55it/s]"
          }
        },
        "79f02cb650d44538b18f17d2ba6ff516": {
          "model_module": "@jupyter-widgets/base",
          "model_name": "LayoutModel",
          "model_module_version": "1.2.0",
          "state": {
            "_model_module": "@jupyter-widgets/base",
            "_model_module_version": "1.2.0",
            "_model_name": "LayoutModel",
            "_view_count": null,
            "_view_module": "@jupyter-widgets/base",
            "_view_module_version": "1.2.0",
            "_view_name": "LayoutView",
            "align_content": null,
            "align_items": null,
            "align_self": null,
            "border": null,
            "bottom": null,
            "display": null,
            "flex": null,
            "flex_flow": null,
            "grid_area": null,
            "grid_auto_columns": null,
            "grid_auto_flow": null,
            "grid_auto_rows": null,
            "grid_column": null,
            "grid_gap": null,
            "grid_row": null,
            "grid_template_areas": null,
            "grid_template_columns": null,
            "grid_template_rows": null,
            "height": null,
            "justify_content": null,
            "justify_items": null,
            "left": null,
            "margin": null,
            "max_height": null,
            "max_width": null,
            "min_height": null,
            "min_width": null,
            "object_fit": null,
            "object_position": null,
            "order": null,
            "overflow": null,
            "overflow_x": null,
            "overflow_y": null,
            "padding": null,
            "right": null,
            "top": null,
            "visibility": null,
            "width": null
          }
        },
        "70f979461091416f94d7b0454067cf65": {
          "model_module": "@jupyter-widgets/base",
          "model_name": "LayoutModel",
          "model_module_version": "1.2.0",
          "state": {
            "_model_module": "@jupyter-widgets/base",
            "_model_module_version": "1.2.0",
            "_model_name": "LayoutModel",
            "_view_count": null,
            "_view_module": "@jupyter-widgets/base",
            "_view_module_version": "1.2.0",
            "_view_name": "LayoutView",
            "align_content": null,
            "align_items": null,
            "align_self": null,
            "border": null,
            "bottom": null,
            "display": null,
            "flex": null,
            "flex_flow": null,
            "grid_area": null,
            "grid_auto_columns": null,
            "grid_auto_flow": null,
            "grid_auto_rows": null,
            "grid_column": null,
            "grid_gap": null,
            "grid_row": null,
            "grid_template_areas": null,
            "grid_template_columns": null,
            "grid_template_rows": null,
            "height": null,
            "justify_content": null,
            "justify_items": null,
            "left": null,
            "margin": null,
            "max_height": null,
            "max_width": null,
            "min_height": null,
            "min_width": null,
            "object_fit": null,
            "object_position": null,
            "order": null,
            "overflow": null,
            "overflow_x": null,
            "overflow_y": null,
            "padding": null,
            "right": null,
            "top": null,
            "visibility": null,
            "width": null
          }
        },
        "f8b58bccd31a41a58b78a2028fd617e7": {
          "model_module": "@jupyter-widgets/controls",
          "model_name": "DescriptionStyleModel",
          "model_module_version": "1.5.0",
          "state": {
            "_model_module": "@jupyter-widgets/controls",
            "_model_module_version": "1.5.0",
            "_model_name": "DescriptionStyleModel",
            "_view_count": null,
            "_view_module": "@jupyter-widgets/base",
            "_view_module_version": "1.2.0",
            "_view_name": "StyleView",
            "description_width": ""
          }
        },
        "a81dd135b594464fb7119745c51bf83e": {
          "model_module": "@jupyter-widgets/base",
          "model_name": "LayoutModel",
          "model_module_version": "1.2.0",
          "state": {
            "_model_module": "@jupyter-widgets/base",
            "_model_module_version": "1.2.0",
            "_model_name": "LayoutModel",
            "_view_count": null,
            "_view_module": "@jupyter-widgets/base",
            "_view_module_version": "1.2.0",
            "_view_name": "LayoutView",
            "align_content": null,
            "align_items": null,
            "align_self": null,
            "border": null,
            "bottom": null,
            "display": null,
            "flex": null,
            "flex_flow": null,
            "grid_area": null,
            "grid_auto_columns": null,
            "grid_auto_flow": null,
            "grid_auto_rows": null,
            "grid_column": null,
            "grid_gap": null,
            "grid_row": null,
            "grid_template_areas": null,
            "grid_template_columns": null,
            "grid_template_rows": null,
            "height": null,
            "justify_content": null,
            "justify_items": null,
            "left": null,
            "margin": null,
            "max_height": null,
            "max_width": null,
            "min_height": null,
            "min_width": null,
            "object_fit": null,
            "object_position": null,
            "order": null,
            "overflow": null,
            "overflow_x": null,
            "overflow_y": null,
            "padding": null,
            "right": null,
            "top": null,
            "visibility": null,
            "width": null
          }
        },
        "337ed40c8b40485ebf9008a65a1e2e8d": {
          "model_module": "@jupyter-widgets/controls",
          "model_name": "ProgressStyleModel",
          "model_module_version": "1.5.0",
          "state": {
            "_model_module": "@jupyter-widgets/controls",
            "_model_module_version": "1.5.0",
            "_model_name": "ProgressStyleModel",
            "_view_count": null,
            "_view_module": "@jupyter-widgets/base",
            "_view_module_version": "1.2.0",
            "_view_name": "StyleView",
            "bar_color": null,
            "description_width": ""
          }
        },
        "54417e3ddad94a51b7489297566478c6": {
          "model_module": "@jupyter-widgets/base",
          "model_name": "LayoutModel",
          "model_module_version": "1.2.0",
          "state": {
            "_model_module": "@jupyter-widgets/base",
            "_model_module_version": "1.2.0",
            "_model_name": "LayoutModel",
            "_view_count": null,
            "_view_module": "@jupyter-widgets/base",
            "_view_module_version": "1.2.0",
            "_view_name": "LayoutView",
            "align_content": null,
            "align_items": null,
            "align_self": null,
            "border": null,
            "bottom": null,
            "display": null,
            "flex": null,
            "flex_flow": null,
            "grid_area": null,
            "grid_auto_columns": null,
            "grid_auto_flow": null,
            "grid_auto_rows": null,
            "grid_column": null,
            "grid_gap": null,
            "grid_row": null,
            "grid_template_areas": null,
            "grid_template_columns": null,
            "grid_template_rows": null,
            "height": null,
            "justify_content": null,
            "justify_items": null,
            "left": null,
            "margin": null,
            "max_height": null,
            "max_width": null,
            "min_height": null,
            "min_width": null,
            "object_fit": null,
            "object_position": null,
            "order": null,
            "overflow": null,
            "overflow_x": null,
            "overflow_y": null,
            "padding": null,
            "right": null,
            "top": null,
            "visibility": null,
            "width": null
          }
        },
        "61440719a8fb4d46ba43972b0f398900": {
          "model_module": "@jupyter-widgets/controls",
          "model_name": "DescriptionStyleModel",
          "model_module_version": "1.5.0",
          "state": {
            "_model_module": "@jupyter-widgets/controls",
            "_model_module_version": "1.5.0",
            "_model_name": "DescriptionStyleModel",
            "_view_count": null,
            "_view_module": "@jupyter-widgets/base",
            "_view_module_version": "1.2.0",
            "_view_name": "StyleView",
            "description_width": ""
          }
        }
      }
    },
    "accelerator": "GPU"
  },
  "nbformat": 4,
  "nbformat_minor": 0
}