{
  "cells": [
    {
      "cell_type": "markdown",
      "metadata": {
        "id": "view-in-github"
      },
      "source": [
        "<a href=\"https://github.com/ml-dafe/ml_mipt_dafe/tree/main/hw2/prototypical_omniglot_unsolved.ipynb\" target=\"_parent\"><img src=\"https://colab.research.google.com/assets/colab-badge.svg\" alt=\"Open In Colab\"/></a>"
      ]
    },
    {
      "cell_type": "markdown",
      "metadata": {
        "id": "GlyMLKngmf-t"
      },
      "source": [
        "# Prototypical Netwoks on the Omniglot dataset"
      ]
    },
    {
      "cell_type": "markdown",
      "metadata": {
        "id": "cmk4erJRdW0w"
      },
      "source": [
        "Заданием является воспроизведение результатов статьи [Prototypical Networks for Few-shot Learning](https://arxiv.org/pdf/1703.05175v2.pdf)"
      ]
    },
    {
      "cell_type": "markdown",
      "metadata": {
        "id": "uh1W3Lszseoa"
      },
      "source": [
        "## Import libraries"
      ]
    },
    {
      "cell_type": "code",
      "source": [
        "from google.colab import drive\n",
        "drive.mount('/content/drive')"
      ],
      "metadata": {
        "colab": {
          "base_uri": "https://localhost:8080/"
        },
        "id": "ht5R5PKPqSIu",
        "outputId": "7acb3a26-0be7-4cf6-830c-b1d382fbdb24"
      },
      "execution_count": null,
      "outputs": [
        {
          "output_type": "stream",
          "name": "stdout",
          "text": [
            "Mounted at /content/drive\n"
          ]
        }
      ]
    },
    {
      "cell_type": "code",
      "source": [
        "save_path = \"/content/drive/MyDrive/Colab Notebooks/ml_hw4/\""
      ],
      "metadata": {
        "id": "RJi_gydoqV1w"
      },
      "execution_count": null,
      "outputs": []
    },
    {
      "cell_type": "code",
      "source": [
        "if torch.cuda.is_available():\n",
        "    device = torch.device('cuda')\n",
        "    DEVICE = torch.device('cuda')\n",
        "    print(f\"Running on GPU: {torch.cuda.get_device_name(0)}\")\n",
        "else:\n",
        "    device = torch.device('cpu')\n",
        "    DEVICE = torch.device('cpu')\n",
        "    print(\"No GPU found, running on CPU\")\n",
        "\n",
        "np.random.seed(42)"
      ],
      "metadata": {
        "colab": {
          "base_uri": "https://localhost:8080/"
        },
        "id": "zBbJvIRfqZKD",
        "outputId": "46a65352-1ad8-471c-cedb-d02f9ee48d8d"
      },
      "execution_count": null,
      "outputs": [
        {
          "output_type": "stream",
          "name": "stdout",
          "text": [
            "Running on GPU: Tesla T4\n"
          ]
        }
      ]
    },
    {
      "cell_type": "code",
      "execution_count": null,
      "metadata": {
        "id": "F8XY5yCCZCYZ"
      },
      "outputs": [],
      "source": [
        "import os\n",
        "from pathlib import Path\n",
        "\n",
        "import cv2\n",
        "import numpy as np\n",
        "import matplotlib.pyplot as plt\n",
        "from tqdm.notebook import tnrange\n",
        "from collections import defaultdict\n",
        "import random\n",
        "\n",
        "\n",
        "import torch\n",
        "import torch.nn as nn\n",
        "import torchvision\n",
        "import torch.nn.functional as F\n",
        "import torch.optim as optim\n",
        "from torch.autograd import Variable\n",
        "from torch.utils.data import Dataset, DataLoader\n",
        "from torchvision.datasets import Omniglot"
      ]
    },
    {
      "cell_type": "code",
      "execution_count": null,
      "metadata": {
        "id": "X5zGtLpGIziY",
        "colab": {
          "base_uri": "https://localhost:8080/"
        },
        "outputId": "b1d42035-058e-4bef-f1a9-e7210491f174"
      },
      "outputs": [
        {
          "output_type": "stream",
          "name": "stdout",
          "text": [
            "True\n"
          ]
        }
      ],
      "source": [
        "# Check GPU support, please do activate GPU\n",
        "print(torch.cuda.is_available())"
      ]
    },
    {
      "cell_type": "markdown",
      "metadata": {
        "id": "Ebffp6XBskUN"
      },
      "source": [
        "## Import data"
      ]
    },
    {
      "cell_type": "markdown",
      "metadata": {
        "id": "5-R_Clr7tEQh"
      },
      "source": [
        "Omniglot dataset - [the official GitHub repository](https://github.com/brendenlake/omniglot)"
      ]
    },
    {
      "cell_type": "code",
      "execution_count": null,
      "metadata": {
        "id": "7aV-Lqty3qTu",
        "colab": {
          "base_uri": "https://localhost:8080/"
        },
        "outputId": "5268055e-6f41-4208-8832-3bd2e4a8a5a6"
      },
      "outputs": [
        {
          "output_type": "stream",
          "name": "stdout",
          "text": [
            "--2025-05-27 23:27:58--  https://github.com/brendenlake/omniglot/raw/master/python/images_evaluation.zip\n",
            "Resolving github.com (github.com)... 20.205.243.166\n",
            "Connecting to github.com (github.com)|20.205.243.166|:443... connected.\n",
            "HTTP request sent, awaiting response... 302 Found\n",
            "Location: https://raw.githubusercontent.com/brendenlake/omniglot/master/python/images_evaluation.zip [following]\n",
            "--2025-05-27 23:27:58--  https://raw.githubusercontent.com/brendenlake/omniglot/master/python/images_evaluation.zip\n",
            "Resolving raw.githubusercontent.com (raw.githubusercontent.com)... 185.199.110.133, 185.199.109.133, 185.199.111.133, ...\n",
            "Connecting to raw.githubusercontent.com (raw.githubusercontent.com)|185.199.110.133|:443... connected.\n",
            "HTTP request sent, awaiting response... 200 OK\n",
            "Length: 6462886 (6.2M) [application/zip]\n",
            "Saving to: ‘images_evaluation.zip’\n",
            "\n",
            "images_evaluation.z 100%[===================>]   6.16M  --.-KB/s    in 0.02s   \n",
            "\n",
            "2025-05-27 23:28:00 (323 MB/s) - ‘images_evaluation.zip’ saved [6462886/6462886]\n",
            "\n",
            "--2025-05-27 23:28:00--  https://github.com/brendenlake/omniglot/raw/master/python/images_background.zip\n",
            "Resolving github.com (github.com)... 20.205.243.166\n",
            "Connecting to github.com (github.com)|20.205.243.166|:443... connected.\n",
            "HTTP request sent, awaiting response... 302 Found\n",
            "Location: https://raw.githubusercontent.com/brendenlake/omniglot/master/python/images_background.zip [following]\n",
            "--2025-05-27 23:28:00--  https://raw.githubusercontent.com/brendenlake/omniglot/master/python/images_background.zip\n",
            "Resolving raw.githubusercontent.com (raw.githubusercontent.com)... 185.199.108.133, 185.199.109.133, 185.199.110.133, ...\n",
            "Connecting to raw.githubusercontent.com (raw.githubusercontent.com)|185.199.108.133|:443... connected.\n",
            "HTTP request sent, awaiting response... 200 OK\n",
            "Length: 9464212 (9.0M) [application/zip]\n",
            "Saving to: ‘images_background.zip’\n",
            "\n",
            "images_background.z 100%[===================>]   9.03M  --.-KB/s    in 0.03s   \n",
            "\n",
            "2025-05-27 23:28:01 (347 MB/s) - ‘images_background.zip’ saved [9464212/9464212]\n",
            "\n"
          ]
        }
      ],
      "source": [
        "!wget https://github.com/brendenlake/omniglot/raw/master/python/images_evaluation.zip\n",
        "\n",
        "!wget https://github.com/brendenlake/omniglot/raw/master/python/images_background.zip"
      ]
    },
    {
      "cell_type": "code",
      "execution_count": null,
      "metadata": {
        "id": "GnYYF9wL6ZuA"
      },
      "outputs": [],
      "source": [
        "!unzip -qq images_background.zip\n",
        "!unzip -qq images_evaluation.zip"
      ]
    },
    {
      "cell_type": "markdown",
      "metadata": {
        "id": "l33V3V0asntp"
      },
      "source": [
        "## Read data"
      ]
    },
    {
      "cell_type": "markdown",
      "metadata": {
        "id": "bMLu94FStR5n"
      },
      "source": [
        "Набор данных Omniglot содержит 1623 различных рукописных символа из 50 различных алфавитов. Каждый из 1623 персонажей был нарисован онлайн с помощью Amazon Mechanical Turk 20 разными людьми (то есть 20 примеров на персонажа).\n",
        "Он разделен на фоновый набор из 30 алфавитов и оценочный набор из 20 алфавитов. Мы будем использовать фоновый набор для обучения и оценочный набор для тестирования."
      ]
    },
    {
      "cell_type": "markdown",
      "metadata": {
        "id": "zuHnj--wdW0y"
      },
      "source": [
        "### Задание № 1 - реализуйте функцию чтения данных\n",
        "\n",
        "Вы можете увеличить размер обучающей выборки, если для каждого символа введете 4 класса, соответствующих повороту на 90 градусов. То есть из одного класса сделать x4."
      ]
    },
    {
      "cell_type": "code",
      "execution_count": null,
      "metadata": {
        "id": "bRStXClJdW0y"
      },
      "outputs": [],
      "source": [
        "def read_alphabets(alphabet_directory_path):\n",
        "    \"\"\"\n",
        "    Reads all the characters from a given alphabet_directory\n",
        "    Args:\n",
        "      alphabet_directory_path (str): path to diretory with files\n",
        "    Returns:\n",
        "      datax (np.array): array of path name of images\n",
        "      datay (np.array): array of labels\n",
        "    \"\"\"\n",
        "    datax = []  # all file names of images\n",
        "    datay = []  # all class names\n",
        "\n",
        "    for character in os.listdir(alphabet_directory_path):\n",
        "        char_path = os.path.join(alphabet_directory_path, character)\n",
        "        if not os.path.isdir(char_path):\n",
        "            continue\n",
        "        for img_file in os.listdir(char_path):\n",
        "            if img_file.endswith(\".png\"):\n",
        "                img_path = os.path.join(char_path, img_file)\n",
        "                datax.append(img_path)\n",
        "                datay.append(character)  # Можно также f\"{alphabet}/{character}\" для уникальности\n",
        "\n",
        "    return np.array(datax), np.array(datay)"
      ]
    },
    {
      "cell_type": "code",
      "execution_count": null,
      "metadata": {
        "id": "v3R9gZyrdW0y"
      },
      "outputs": [],
      "source": [
        "def read_images(base_directory):\n",
        "    \"\"\"\n",
        "    Reads all the alphabets from the base_directory\n",
        "    Uses multithreading to decrease the reading time drastically\n",
        "    \"\"\"\n",
        "    datax = None\n",
        "    datay = None\n",
        "\n",
        "    results = [read_alphabets(base_directory + '/' + directory + '/') for directory in os.listdir(base_directory)]\n",
        "\n",
        "    for result in results:\n",
        "        if datax is None:\n",
        "            datax = result[0]\n",
        "            datay = result[1]\n",
        "        else:\n",
        "            datax = np.concatenate([datax, result[0]])\n",
        "            datay = np.concatenate([datay, result[1]])\n",
        "    return datax, datay"
      ]
    },
    {
      "cell_type": "code",
      "execution_count": null,
      "metadata": {
        "id": "P7UN-n0l7aT0"
      },
      "outputs": [],
      "source": [
        "trainx, trainy = read_images('images_background')"
      ]
    },
    {
      "cell_type": "code",
      "execution_count": null,
      "metadata": {
        "id": "G8urUFzNAaYA"
      },
      "outputs": [],
      "source": [
        "testx, testy = read_images('images_evaluation')"
      ]
    },
    {
      "cell_type": "code",
      "execution_count": null,
      "metadata": {
        "id": "Li3bT2bPAdih",
        "colab": {
          "base_uri": "https://localhost:8080/"
        },
        "outputId": "220fda57-8170-421b-d476-8ba3f2aa1f52"
      },
      "outputs": [
        {
          "output_type": "execute_result",
          "data": {
            "text/plain": [
              "((19280,), (19280,), (13180,), (13180,))"
            ]
          },
          "metadata": {},
          "execution_count": 13
        }
      ],
      "source": [
        "trainx.shape, trainy.shape, testx.shape, testy.shape"
      ]
    },
    {
      "cell_type": "markdown",
      "metadata": {
        "id": "J2VcplJ3xA-z"
      },
      "source": [
        "## Create samples"
      ]
    },
    {
      "cell_type": "code",
      "execution_count": null,
      "metadata": {
        "id": "oDOhxCjd24bw"
      },
      "outputs": [],
      "source": [
        "def extract_sample(n_way, n_support, n_query, datax, datay):\n",
        "    \"\"\"\n",
        "    Picks random sample of size n_support + n_querry, for n_way classes\n",
        "    Args:\n",
        "      n_way (int): number of classes in a classification task\n",
        "      n_support (int): number of labeled examples per class in the support set\n",
        "      n_query (int): number of labeled examples per class in the query set\n",
        "      datax (np.array): dataset of images\n",
        "      datay (np.array): dataset of labels\n",
        "    Returns:\n",
        "      (dict) of:\n",
        "        (torch.Tensor): sample of images. Size (n_way, n_support + n_query, (dim))\n",
        "        (int): n_way\n",
        "        (int): n_support\n",
        "        (int): n_query\n",
        "    \"\"\"\n",
        "    sample = []\n",
        "    K = np.random.choice(np.unique(datay), n_way, replace=False)\n",
        "    for cls in K:\n",
        "        datax_cls = datax[datay == cls]\n",
        "        perm = np.random.permutation(datax_cls)\n",
        "        sample_cls = perm[:(n_support + n_query)]\n",
        "        sample.append([cv2.resize(cv2.imread(fname), (28, 28))\n",
        "                                  for fname in sample_cls])\n",
        "\n",
        "    sample = np.array(sample)\n",
        "    sample = torch.from_numpy(sample).float()\n",
        "    sample = sample.permute(0, 1, 4, 2, 3)\n",
        "    return ({\n",
        "        'images': sample,\n",
        "        'n_way': n_way,\n",
        "        'n_support': n_support,\n",
        "        'n_query': n_query\n",
        "    })"
      ]
    },
    {
      "cell_type": "code",
      "execution_count": null,
      "metadata": {
        "id": "ia3JLpQRu4fh"
      },
      "outputs": [],
      "source": [
        "def display_sample(sample):\n",
        "    \"\"\"\n",
        "    Displays sample in a grid\n",
        "    Args:\n",
        "      sample (torch.Tensor): sample of images to display\n",
        "    \"\"\"\n",
        "    #need 4D tensor to create grid, currently 5D\n",
        "    sample_4D = sample.view(sample.shape[0] * sample.shape[1], *sample.shape[2:])\n",
        "    #make a grid\n",
        "    out = torchvision.utils.make_grid(sample_4D, nrow=sample.shape[1])\n",
        "\n",
        "    plt.figure(figsize=(16, 7))\n",
        "    plt.imshow(out.permute(1, 2, 0))"
      ]
    },
    {
      "cell_type": "markdown",
      "metadata": {
        "id": "-uGq_ya4yG2K"
      },
      "source": [
        "В качестве примера возьмем образец и отобразим его\n",
        "\n",
        "*   n_way = 8\n",
        "*   n_support = 5\n",
        "*   n_query = 5"
      ]
    },
    {
      "cell_type": "code",
      "execution_count": null,
      "metadata": {
        "id": "lxOHvWfO1ApZ",
        "colab": {
          "base_uri": "https://localhost:8080/",
          "height": 623
        },
        "outputId": "f237f267-fbd2-40ec-91c9-544af36284c2"
      },
      "outputs": [
        {
          "output_type": "stream",
          "name": "stderr",
          "text": [
            "WARNING:matplotlib.image:Clipping input data to the valid range for imshow with RGB data ([0..1] for floats or [0..255] for integers). Got range [0.0..255.0].\n"
          ]
        },
        {
          "output_type": "display_data",
          "data": {
            "text/plain": [
              "<Figure size 1600x700 with 1 Axes>"
            ],
            "image/png": "[encoded data removed]"
          },
          "metadata": {}
        }
      ],
      "source": [
        "sample_example = extract_sample(8, 5, 5, trainx, trainy)\n",
        "display_sample(sample_example['images'])"
      ]
    },
    {
      "cell_type": "code",
      "execution_count": null,
      "metadata": {
        "id": "RhDNMyG8AjOB",
        "colab": {
          "base_uri": "https://localhost:8080/"
        },
        "outputId": "106d19e7-c4e4-4a73-dece-aa97df0c875b"
      },
      "outputs": [
        {
          "output_type": "execute_result",
          "data": {
            "text/plain": [
              "torch.Size([8, 10, 3, 28, 28])"
            ]
          },
          "metadata": {},
          "execution_count": 17
        }
      ],
      "source": [
        "sample_example['images'].shape"
      ]
    },
    {
      "cell_type": "markdown",
      "metadata": {
        "id": "HbakTT_nFubI"
      },
      "source": [
        "## Build model"
      ]
    },
    {
      "cell_type": "markdown",
      "metadata": {
        "id": "VuvH9joezgja"
      },
      "source": [
        "Модель берет на вход (28x28x3) и возвращает вектор-столбец длиной 64. Каждый модуль модели состоит из свертки 3 × 3 с 64 фильтрами, слоя пакетной нормализации, нелинейности ReLU и слоя максимального объединения 2 × 2 (см. описание задания).\n",
        "\n",
        "Применительно к изображениям Omniglot 28 × 28 эта архитектура приводит к 64-мерному выходному пространству."
      ]
    },
    {
      "cell_type": "markdown",
      "metadata": {
        "id": "ycnqIEIMdW0z"
      },
      "source": [
        "### Задание № 2 - реализуйте энкодер на основе сверточной нейроннй сети"
      ]
    },
    {
      "cell_type": "code",
      "execution_count": null,
      "metadata": {
        "id": "EEsikv8sdW0z"
      },
      "outputs": [],
      "source": [
        "class ConvBlock(nn.Module):\n",
        "    def __init__(self, in_channels, out_channels):\n",
        "        super().__init__()\n",
        "        self.block = nn.Sequential(\n",
        "            nn.Conv2d(in_channels, out_channels, kernel_size=3, padding=1),\n",
        "            nn.BatchNorm2d(out_channels),\n",
        "            nn.ReLU(),\n",
        "            nn.MaxPool2d(2)\n",
        "        )\n",
        "\n",
        "    def forward(self, x):\n",
        "        return self.block(x)\n",
        "\n",
        "class Encoder(nn.Module):\n",
        "    def __init__(self):\n",
        "        super().__init__()\n",
        "        self.encoder = nn.Sequential(\n",
        "            ConvBlock(3, 64),\n",
        "            ConvBlock(64, 64),\n",
        "            ConvBlock(64, 64),\n",
        "            ConvBlock(64, 64)\n",
        "        )\n",
        "\n",
        "    def forward(self, x):\n",
        "        return self.encoder(x).view(x.size(0), -1)"
      ]
    },
    {
      "cell_type": "markdown",
      "metadata": {
        "id": "7oNxVF_HdW0z"
      },
      "source": [
        "### Задание № 3 - реализуйте Prototypical Networks (``` set_forward_loss ```)"
      ]
    },
    {
      "cell_type": "code",
      "source": [
        "def euclidean_dist(x, y):\n",
        "    # x: (nq, d); y: (ns, d) -> output: (nq, ns)\n",
        "    n = x.size(0)\n",
        "    m = y.size(0)\n",
        "    d = x.size(1)\n",
        "    x = x.unsqueeze(1).expand(n, m, d)\n",
        "    y = y.unsqueeze(0).expand(n, m, d)\n",
        "    return torch.pow(x - y, 2).sum(2)"
      ],
      "metadata": {
        "id": "6EKtRYDSFAVi"
      },
      "execution_count": null,
      "outputs": []
    },
    {
      "cell_type": "code",
      "execution_count": null,
      "metadata": {
        "id": "FTjSYAz1WY5e"
      },
      "outputs": [],
      "source": [
        "class ProtoNet(nn.Module):\n",
        "    def __init__(self, encoder):\n",
        "        \"\"\"\n",
        "        Args:\n",
        "            encoder : CNN encoding the images in sample\n",
        "            n_way (int): number of classes in a classification task\n",
        "            n_support (int): number of labeled examples per class in the support set\n",
        "            n_query (int): number of labeled examples per class in the query set\n",
        "        \"\"\"\n",
        "        super(ProtoNet, self).__init__()\n",
        "        self.encoder = encoder.cuda()\n",
        "\n",
        "    def set_forward_loss(self, sample):\n",
        "        \"\"\"\n",
        "        Computes loss, accuracy and output for classification task\n",
        "        Args:\n",
        "            sample (torch.Tensor): shape (n_way, n_support+n_query, (dim))\n",
        "        Returns:\n",
        "            torch.Tensor: shape(2), loss, accuracy and y_hat (predict)\n",
        "        \"\"\"\n",
        "        sample_images = sample['images'].to(DEVICE)\n",
        "        n_way = sample['n_way']\n",
        "        n_support = sample['n_support']\n",
        "        n_query = sample['n_query']\n",
        "        x_dim = sample_images.size(-3)\n",
        "\n",
        "        support = sample_images[:, :n_support, :, :, :].contiguous().view(n_way * n_support, x_dim, 28, 28)\n",
        "        query = sample_images[:, n_support:, :, :, :].contiguous().view(n_way * n_query, x_dim, 28, 28)\n",
        "\n",
        "        z_support = self.encoder(support)\n",
        "        z_query = self.encoder(query)\n",
        "\n",
        "        z_proto = z_support.view(n_way, n_support, -1).mean(1)\n",
        "\n",
        "        dists = euclidean_dist(z_query, z_proto)\n",
        "        log_p_y = F.log_softmax(-dists, dim=1)\n",
        "        y_query = torch.arange(n_way).unsqueeze(1).expand(n_way, n_query).reshape(-1).to(DEVICE)\n",
        "\n",
        "        loss_val = F.nll_loss(log_p_y, y_query)\n",
        "        acc_val = (log_p_y.argmax(dim=1) == y_query).float().mean()\n",
        "        return loss_val, {\n",
        "            'loss': loss_val.item(),\n",
        "            'acc': acc_val.item(),\n",
        "            'y_hat': log_p_y.argmax(dim=1)\n",
        "        }"
      ]
    },
    {
      "cell_type": "code",
      "execution_count": null,
      "metadata": {
        "id": "DBzAfRyJB-3X"
      },
      "outputs": [],
      "source": [
        "def load_protonet_conv(**kwargs):\n",
        "    \"\"\"\n",
        "    Loads the prototypical network model\n",
        "    Arg:\n",
        "      x_dim (tuple): dimension of input image\n",
        "      hid_dim (int): dimension of hidden layers in conv blocks\n",
        "      z_dim (int): dimension of embedded image\n",
        "    Returns:\n",
        "      Model (Class ProtoNet)\n",
        "    \"\"\"\n",
        "    encoder = Encoder()\n",
        "    return ProtoNet(encoder)"
      ]
    },
    {
      "cell_type": "markdown",
      "metadata": {
        "id": "0Fke38yY6pI9",
        "tags": []
      },
      "source": [
        "## Train"
      ]
    },
    {
      "cell_type": "markdown",
      "metadata": {
        "id": "Q-f1LVnfdW0z"
      },
      "source": [
        "### Задание № 4 - добавьте логирование в процесс обучения (wandb/neptune/tensorboard)"
      ]
    },
    {
      "cell_type": "code",
      "source": [
        "pip install wandb"
      ],
      "metadata": {
        "colab": {
          "base_uri": "https://localhost:8080/"
        },
        "id": "2gYCijJDGqUL",
        "outputId": "e0e1c3c0-6409-4d9a-d88d-d17bc847349b"
      },
      "execution_count": null,
      "outputs": [
        {
          "output_type": "stream",
          "name": "stdout",
          "text": [
            "Requirement already satisfied: wandb in /usr/local/lib/python3.11/dist-packages (0.19.11)\n",
            "Requirement already satisfied: click!=8.0.0,>=7.1 in /usr/local/lib/python3.11/dist-packages (from wandb) (8.2.1)\n",
            "Requirement already satisfied: docker-pycreds>=0.4.0 in /usr/local/lib/python3.11/dist-packages (from wandb) (0.4.0)\n",
            "Requirement already satisfied: gitpython!=3.1.29,>=1.0.0 in /usr/local/lib/python3.11/dist-packages (from wandb) (3.1.44)\n",
            "Requirement already satisfied: platformdirs in /usr/local/lib/python3.11/dist-packages (from wandb) (4.3.8)\n",
            "Requirement already satisfied: protobuf!=4.21.0,!=5.28.0,<7,>=3.19.0 in /usr/local/lib/python3.11/dist-packages (from wandb) (5.29.4)\n",
            "Requirement already satisfied: psutil>=5.0.0 in /usr/local/lib/python3.11/dist-packages (from wandb) (5.9.5)\n",
            "Requirement already satisfied: pydantic<3 in /usr/local/lib/python3.11/dist-packages (from wandb) (2.11.4)\n",
            "Requirement already satisfied: pyyaml in /usr/local/lib/python3.11/dist-packages (from wandb) (6.0.2)\n",
            "Requirement already satisfied: requests<3,>=2.0.0 in /usr/local/lib/python3.11/dist-packages (from wandb) (2.32.3)\n",
            "Requirement already satisfied: sentry-sdk>=2.0.0 in /usr/local/lib/python3.11/dist-packages (from wandb) (2.29.1)\n",
            "Requirement already satisfied: setproctitle in /usr/local/lib/python3.11/dist-packages (from wandb) (1.3.6)\n",
            "Requirement already satisfied: setuptools in /usr/local/lib/python3.11/dist-packages (from wandb) (75.2.0)\n",
            "Requirement already satisfied: typing-extensions<5,>=4.4 in /usr/local/lib/python3.11/dist-packages (from wandb) (4.13.2)\n",
            "Requirement already satisfied: six>=1.4.0 in /usr/local/lib/python3.11/dist-packages (from docker-pycreds>=0.4.0->wandb) (1.17.0)\n",
            "Requirement already satisfied: gitdb<5,>=4.0.1 in /usr/local/lib/python3.11/dist-packages (from gitpython!=3.1.29,>=1.0.0->wandb) (4.0.12)\n",
            "Requirement already satisfied: annotated-types>=0.6.0 in /usr/local/lib/python3.11/dist-packages (from pydantic<3->wandb) (0.7.0)\n",
            "Requirement already satisfied: pydantic-core==2.33.2 in /usr/local/lib/python3.11/dist-packages (from pydantic<3->wandb) (2.33.2)\n",
            "Requirement already satisfied: typing-inspection>=0.4.0 in /usr/local/lib/python3.11/dist-packages (from pydantic<3->wandb) (0.4.1)\n",
            "Requirement already satisfied: charset-normalizer<4,>=2 in /usr/local/lib/python3.11/dist-packages (from requests<3,>=2.0.0->wandb) (3.4.2)\n",
            "Requirement already satisfied: idna<4,>=2.5 in /usr/local/lib/python3.11/dist-packages (from requests<3,>=2.0.0->wandb) (3.10)\n",
            "Requirement already satisfied: urllib3<3,>=1.21.1 in /usr/local/lib/python3.11/dist-packages (from requests<3,>=2.0.0->wandb) (2.4.0)\n",
            "Requirement already satisfied: certifi>=2017.4.17 in /usr/local/lib/python3.11/dist-packages (from requests<3,>=2.0.0->wandb) (2025.4.26)\n",
            "Requirement already satisfied: smmap<6,>=3.0.1 in /usr/local/lib/python3.11/dist-packages (from gitdb<5,>=4.0.1->gitpython!=3.1.29,>=1.0.0->wandb) (5.0.2)\n"
          ]
        }
      ]
    },
    {
      "cell_type": "code",
      "source": [
        "import wandb\n",
        "wandb.login()"
      ],
      "metadata": {
        "colab": {
          "base_uri": "https://localhost:8080/",
          "height": 204
        },
        "id": "9pNenF1yGsuW",
        "outputId": "704c9934-6bf1-49ce-bfb4-57394d9ca041"
      },
      "execution_count": null,
      "outputs": [
        {
          "output_type": "display_data",
          "data": {
            "text/plain": [
              "<IPython.core.display.Javascript object>"
            ],
            "application/javascript": [
              "\n",
              "        window._wandbApiKey = new Promise((resolve, reject) => {\n",
              "            function loadScript(url) {\n",
              "            return new Promise(function(resolve, reject) {\n",
              "                let newScript = document.createElement(\"script\");\n",
              "                newScript.onerror = reject;\n",
              "                newScript.onload = resolve;\n",
              "                document.body.appendChild(newScript);\n",
              "                newScript.src = url;\n",
              "            });\n",
              "            }\n",
              "            loadScript(\"https://cdn.jsdelivr.net/npm/postmate/build/postmate.min.js\").then(() => {\n",
              "            const iframe = document.createElement('iframe')\n",
              "            iframe.style.cssText = \"width:0;height:0;border:none\"\n",
              "            document.body.appendChild(iframe)\n",
              "            const handshake = new Postmate({\n",
              "                container: iframe,\n",
              "                url: 'https://wandb.ai/authorize'\n",
              "            });\n",
              "            const timeout = setTimeout(() => reject(\"Couldn't auto authenticate\"), 5000)\n",
              "            handshake.then(function(child) {\n",
              "                child.on('authorize', data => {\n",
              "                    clearTimeout(timeout)\n",
              "                    resolve(data)\n",
              "                });\n",
              "            });\n",
              "            })\n",
              "        });\n",
              "    "
            ]
          },
          "metadata": {}
        },
        {
          "output_type": "stream",
          "name": "stderr",
          "text": [
            "\u001b[34m\u001b[1mwandb\u001b[0m: Logging into wandb.ai. (Learn how to deploy a W&B server locally: https://wandb.me/wandb-server)\n",
            "\u001b[34m\u001b[1mwandb\u001b[0m: You can find your API key in your browser here: https://wandb.ai/authorize\n",
            "wandb: Paste an API key from your profile and hit enter:"
          ]
        },
        {
          "name": "stdout",
          "output_type": "stream",
          "text": [
            " ··········\n"
          ]
        },
        {
          "output_type": "stream",
          "name": "stderr",
          "text": [
            "\u001b[34m\u001b[1mwandb\u001b[0m: \u001b[33mWARNING\u001b[0m If you're specifying your api key in code, ensure this code is not shared publicly.\n",
            "\u001b[34m\u001b[1mwandb\u001b[0m: \u001b[33mWARNING\u001b[0m Consider setting the WANDB_API_KEY environment variable, or running `wandb login` from the command line.\n",
            "\u001b[34m\u001b[1mwandb\u001b[0m: No netrc file found, creating one.\n",
            "\u001b[34m\u001b[1mwandb\u001b[0m: Appending key for api.wandb.ai to your netrc file: /root/.netrc\n",
            "\u001b[34m\u001b[1mwandb\u001b[0m: Currently logged in as: \u001b[33mmikisevam\u001b[0m (\u001b[33mmikisevam-\u001b[0m) to \u001b[32mhttps://api.wandb.ai\u001b[0m. Use \u001b[1m`wandb login --relogin`\u001b[0m to force relogin\n"
          ]
        },
        {
          "output_type": "execute_result",
          "data": {
            "text/plain": [
              "True"
            ]
          },
          "metadata": {},
          "execution_count": 23
        }
      ]
    },
    {
      "cell_type": "markdown",
      "source": [
        "## версия train с dual-логированием"
      ],
      "metadata": {
        "id": "R8Y7mGGmHOK2"
      }
    },
    {
      "cell_type": "code",
      "execution_count": null,
      "metadata": {
        "id": "BnLOgECOKG_y"
      },
      "outputs": [],
      "source": [
        "def train(model, optimizer, train_x, train_y, n_way, n_support, n_query, max_epoch, epoch_size):\n",
        "    \"\"\"\n",
        "    Trains the protonet\n",
        "    Args:\n",
        "      model\n",
        "      optimizer\n",
        "      train_x (np.array): images of training set\n",
        "      train_y(np.array): labels of training set\n",
        "      n_way (int): number of classes in a classification task\n",
        "      n_support (int): number of labeled examples per class in the support set\n",
        "      n_query (int): number of labeled examples per class in the query set\n",
        "      max_epoch (int): max epochs to train on\n",
        "      epoch_size (int): episodes per epoch\n",
        "    \"\"\"\n",
        "    #divide the learning rate by 2 at each epoch, as suggested in paper\n",
        "    scheduler = optim.lr_scheduler.StepLR(optimizer, 1, gamma=0.5, last_epoch=-1)\n",
        "    epoch = 0  # epochs done so far\n",
        "    stop = False  # status to know when to stop\n",
        "\n",
        "    train_loss_history = []\n",
        "    train_acc_history = []\n",
        "\n",
        "    while epoch < max_epoch and not stop:\n",
        "        running_loss = 0.0\n",
        "        running_acc = 0.0\n",
        "\n",
        "        for episode in tnrange(epoch_size, desc=f\"Epoch {epoch+1} train\"):\n",
        "            sample = extract_sample(n_way, n_support, n_query, train_x, train_y)\n",
        "            optimizer.zero_grad()\n",
        "            loss, output = model.set_forward_loss(sample)\n",
        "            running_loss += output['loss']\n",
        "            running_acc += output['acc']\n",
        "            loss.backward()\n",
        "            optimizer.step()\n",
        "\n",
        "        epoch_loss = running_loss / epoch_size\n",
        "        epoch_acc = running_acc / epoch_size\n",
        "\n",
        "        # ручное логирование\n",
        "        train_loss_history.append(epoch_loss)\n",
        "        train_acc_history.append(epoch_acc)\n",
        "\n",
        "        # wandb логирование\n",
        "        wandb.log({\n",
        "            \"loss\": epoch_loss,\n",
        "            \"accuracy\": epoch_acc,\n",
        "            \"epoch\": epoch + 1\n",
        "        })\n",
        "\n",
        "        print(f\"Epoch {epoch+1} -- Loss: {epoch_loss:.4f} Acc: {epoch_acc:.4f}\")\n",
        "        epoch += 1\n",
        "        scheduler.step()\n",
        "\n",
        "    return train_loss_history, train_acc_history"
      ]
    },
    {
      "cell_type": "code",
      "source": [
        "wandb.init(project=\"protonet-omniglot\", name=\"proto-run\")"
      ],
      "metadata": {
        "id": "NC6cQrlgGxss"
      },
      "execution_count": null,
      "outputs": []
    },
    {
      "cell_type": "code",
      "execution_count": null,
      "metadata": {
        "id": "7uMy99qE-Ed6"
      },
      "outputs": [],
      "source": [
        "model = load_protonet_conv(\n",
        "    x_dim=(3, 28, 28),\n",
        "    hid_dim=64,\n",
        "    z_dim=64,\n",
        ")\n",
        "\n",
        "optimizer = optim.Adam(model.parameters(), lr=0.001)\n",
        "\n",
        "n_way = 60\n",
        "n_support = 5\n",
        "n_query = 5\n",
        "\n",
        "train_x = trainx\n",
        "train_y = trainy\n",
        "\n",
        "max_epoch = 5\n",
        "epoch_size = 2000"
      ]
    },
    {
      "cell_type": "code",
      "source": [
        "os.makedirs(\"models\", exist_ok=True)"
      ],
      "metadata": {
        "id": "UlstleXGITTP"
      },
      "execution_count": null,
      "outputs": []
    },
    {
      "cell_type": "code",
      "execution_count": null,
      "metadata": {
        "id": "VH69I5HJdW00"
      },
      "outputs": [],
      "source": [
        "%%time\n",
        "\n",
        "train_loss, train_acc = train(\n",
        "    model, optimizer, train_x, train_y,\n",
        "    n_way=60, n_support=5, n_query=5,\n",
        "    max_epoch=5, epoch_size=2000\n",
        ")\n",
        "\n",
        "torch.save(model.state_dict(), save_path+\"models/protonet_model.pt\")"
      ]
    },
    {
      "cell_type": "code",
      "source": [
        "plt.figure(figsize=(12, 5))\n",
        "\n",
        "plt.subplot(1, 2, 1)\n",
        "plt.plot(train_loss)\n",
        "plt.title(\"Training Loss\")\n",
        "plt.xlabel(\"Epoch\")\n",
        "plt.ylabel(\"Loss\")\n",
        "\n",
        "plt.subplot(1, 2, 2)\n",
        "plt.plot(train_acc)\n",
        "plt.title(\"Training Accuracy\")\n",
        "plt.xlabel(\"Epoch\")\n",
        "plt.ylabel(\"Accuracy\")\n",
        "\n",
        "plt.tight_layout()\n",
        "plt.savefig(\"report/plots.png\")\n",
        "plt.show()"
      ],
      "metadata": {
        "id": "BPyiYlPiGf_o"
      },
      "execution_count": null,
      "outputs": []
    },
    {
      "cell_type": "markdown",
      "metadata": {
        "id": "pJu50gOb8WxU"
      },
      "source": [
        "## Test"
      ]
    },
    {
      "cell_type": "code",
      "execution_count": null,
      "metadata": {
        "id": "qCgoOcCaERHH"
      },
      "outputs": [],
      "source": [
        "def test(model, test_x, test_y, n_way, n_support, n_query, test_episode):\n",
        "    \"\"\"\n",
        "    Tests the protonet\n",
        "    Args:\n",
        "      model: trained model\n",
        "      test_x (np.array): images of testing set\n",
        "      test_y (np.array): labels of testing set\n",
        "      n_way (int): number of classes in a classification task\n",
        "      n_support (int): number of labeled examples per class in the support set\n",
        "      n_query (int): number of labeled examples per class in the query set\n",
        "      test_episode (int): number of episodes to test on\n",
        "    \"\"\"\n",
        "    running_loss = 0.0\n",
        "    running_acc = 0.0\n",
        "    for episode in tnrange(test_episode):\n",
        "        sample = extract_sample(n_way, n_support, n_query, test_x, test_y)\n",
        "        loss, output = model.set_forward_loss(sample)\n",
        "        running_loss += output['loss']\n",
        "        running_acc += output['acc']\n",
        "\n",
        "    avg_loss = running_loss / test_episode\n",
        "    avg_acc = running_acc / test_episode\n",
        "    print('Test results -- Loss: {:.4f} Acc: {:.4f}'.format(avg_loss, avg_acc))"
      ]
    },
    {
      "cell_type": "code",
      "execution_count": null,
      "metadata": {
        "id": "yvyja6x3I6JB"
      },
      "outputs": [],
      "source": [
        "n_way = 5\n",
        "n_support = 5\n",
        "n_query = 5\n",
        "\n",
        "test_x = testx\n",
        "test_y = testy\n",
        "\n",
        "test_episode = 1000"
      ]
    },
    {
      "cell_type": "code",
      "execution_count": null,
      "metadata": {
        "id": "4n3vLw9EdW03"
      },
      "outputs": [],
      "source": [
        "test(model, test_x, test_y, n_way, n_support, n_query, test_episode)"
      ]
    },
    {
      "cell_type": "markdown",
      "metadata": {
        "id": "nOH0sg_7EKUW"
      },
      "source": [
        "## Test on specific example"
      ]
    },
    {
      "cell_type": "code",
      "execution_count": null,
      "metadata": {
        "id": "eO8PcZ_F0ZWc"
      },
      "outputs": [],
      "source": [
        "my_sample = extract_sample(n_way, n_support, n_query, test_x, test_y)"
      ]
    },
    {
      "cell_type": "code",
      "source": [
        "print(f\"Shape: {my_sample['images'].shape} — (n_way, n_support+n_query, C, H, W)\")\n",
        "print(f\"n_way = {n_way}, n_support = {n_support}, n_query = {n_query}\")\n",
        "display_sample(my_sample['images'])"
      ],
      "metadata": {
        "id": "v3djSs53JqIB"
      },
      "execution_count": null,
      "outputs": []
    },
    {
      "cell_type": "code",
      "source": [
        "loss, output = model.set_forward_loss(my_sample)\n",
        "print(f\"Predicted labels: {output['y_hat'].cpu().numpy()}\")"
      ],
      "metadata": {
        "id": "-wCQamUFJvOR"
      },
      "execution_count": null,
      "outputs": []
    },
    {
      "cell_type": "markdown",
      "metadata": {
        "id": "XeN0I6a9dW03"
      },
      "source": [
        "### Задание № 5 - добавьте функцию для визуализации предсказания с тестирования\n",
        "\n"
      ]
    },
    {
      "cell_type": "code",
      "execution_count": null,
      "metadata": {
        "id": "JIR1_i62gOUB"
      },
      "outputs": [],
      "source": [
        "def predict_and_visualize(model, test_x, test_y, n_way=5, n_support=5, n_query=1, save_path1=save_path+\"predictions/sample_predictions.txt\"):\n",
        "    os.makedirs(\"predictions\", exist_ok=True)\n",
        "    lines = []\n",
        "\n",
        "    for idx in range(10):  # 10 эпизодов\n",
        "        sample = extract_sample(n_way, n_support, n_query, test_x, test_y)\n",
        "        images = sample['images']\n",
        "        display_sample(images)\n",
        "\n",
        "        loss, output = model.set_forward_loss(sample)\n",
        "        preds = output['y_hat'].cpu().numpy()\n",
        "        true = np.tile(np.arange(n_way), n_query)\n",
        "\n",
        "        print(f\"Episode {idx}:\")\n",
        "        lines.append(f\"[Episode {idx}]\")\n",
        "        for i in range(n_way * n_query):\n",
        "            print(f\"  Image {i}: predicted = {preds[i]}, true = {true[i]}\")\n",
        "            lines.append(f\"  Predicted: {preds[i]} | Reference: {true[i]}\")\n",
        "        lines.append(\"\")\n",
        "\n",
        "    with open(save_path1, \"w\") as f:\n",
        "        f.write(\"\\n\".join(lines))\n",
        "\n",
        "    print(f\"Predictions saved to {save_path1}\")"
      ]
    },
    {
      "cell_type": "code",
      "source": [
        "predict_and_visualize(model, testx, testy, n_way=5, n_support=5, n_query=1)"
      ],
      "metadata": {
        "id": "eGzfB5P2JTWq"
      },
      "execution_count": null,
      "outputs": []
    },
    {
      "cell_type": "markdown",
      "metadata": {
        "id": "FxxWkfwMdW03"
      },
      "source": [
        "# Задание 6: Downstream task\n",
        "\n",
        "## Задание 6.1\n",
        "Ваша задача обучить заданную вами модель CNN методом SimCLR для набора данных CIFAR10, а затем использовать обученный энкодер для решения задачи классификации.\n",
        "\n",
        "**Примечание:**\n",
        "- В качестве базового энкодера можете использовать модель из семинара выше (```resnet18```) или определить свою сеть. **Рекомендуется** использовать уже предобученные сети из [torch zoo](https://pytorch.org/vision/stable/models.html).\n",
        "- В качестве обучающего множества для задачи классификации воспользуйетсь ```X_test```, ```y_test```, которые были определены в самом начале ноутбука. Создайте обучающую и валидационную выборку.\n",
        "- В новой CNN для задачи классификации требуется обучить только полносвязные слои после энкодера. Для этого вам потребуется \"заморозить\" веса энкодера и не учить их. Сделать это можно с помощью команды:\n",
        "```python\n",
        "for p in encoder.parameters():\n",
        "    p.requires_grad = False  \n",
        "```\n",
        "- Процесс обучения модели можно взять из предыдущего семинара\n",
        "\n"
      ]
    },
    {
      "cell_type": "code",
      "source": [
        "from torchvision import models, datasets, transforms\n",
        "from torch.utils.data import DataLoader, random_split\n",
        "\n",
        "simclr_transform = transforms.Compose([\n",
        "    transforms.RandomResizedCrop(32),\n",
        "    transforms.RandomHorizontalFlip(),\n",
        "    transforms.RandomApply([\n",
        "        transforms.ColorJitter(0.4, 0.4, 0.4, 0.1)\n",
        "    ], p=0.8),\n",
        "    transforms.RandomGrayscale(p=0.2),\n",
        "    transforms.ToTensor(),\n",
        "    transforms.Normalize((0.5,), (0.5,))\n",
        "])\n",
        "\n",
        "clf_transform = transforms.Compose([\n",
        "    transforms.ToTensor(),\n",
        "    transforms.Normalize((0.5,), (0.5,))\n",
        "])"
      ],
      "metadata": {
        "id": "w2QmE4uTKIva"
      },
      "execution_count": null,
      "outputs": []
    },
    {
      "cell_type": "code",
      "source": [
        "cifar_train = datasets.CIFAR10(root='./data', train=True, download=True, transform=simclr_transform)\n",
        "cifar_clf = datasets.CIFAR10(root='./data', train=True, download=False, transform=clf_transform)\n",
        "cifar_test = datasets.CIFAR10(root='./data', train=False, download=True, transform=clf_transform)\n",
        "\n",
        "train_loader = DataLoader(cifar_train, batch_size=128, shuffle=True)\n",
        "clf_loader = DataLoader(cifar_clf, batch_size=128, shuffle=True)\n",
        "test_loader = DataLoader(cifar_test, batch_size=128, shuffle=False)"
      ],
      "metadata": {
        "id": "75MWC6brOGmf"
      },
      "execution_count": null,
      "outputs": []
    },
    {
      "cell_type": "code",
      "source": [
        "class ProjectionHead(nn.Module):\n",
        "    def __init__(self, in_dim, hid_dim=512, out_dim=128):\n",
        "        super().__init__()\n",
        "        self.proj = nn.Sequential(\n",
        "            nn.Linear(in_dim, hid_dim),\n",
        "            nn.ReLU(),\n",
        "            nn.Linear(hid_dim, out_dim)\n",
        "        )\n",
        "\n",
        "    def forward(self, x):\n",
        "        return F.normalize(self.proj(x), dim=1)\n",
        "\n",
        "class SimCLRModel(nn.Module):\n",
        "    def __init__(self):\n",
        "        super().__init__()\n",
        "        self.encoder = models.resnet18(pretrained=False)\n",
        "        self.encoder.fc = nn.Identity()\n",
        "        self.projector = ProjectionHead(in_dim=512)\n",
        "\n",
        "    def forward(self, x):\n",
        "        features = self.encoder(x)\n",
        "        projections = self.projector(features)\n",
        "        return projections"
      ],
      "metadata": {
        "id": "-6kEgRidKWk8"
      },
      "execution_count": null,
      "outputs": []
    },
    {
      "cell_type": "code",
      "source": [
        "#можно не тут\n",
        "simclr_model = SimCLRModel().to(DEVICE)\n",
        "\n",
        "# Замораживаем энкодер\n",
        "for p in simclr_model.encoder.parameters():\n",
        "    p.requires_grad = False\n",
        "#можно не тут\n",
        "\n",
        "\n",
        "\n",
        "# Добавляем классификатор\n",
        "class DownstreamClassifier(nn.Module):\n",
        "    def __init__(self, encoder, num_classes=10):\n",
        "        super().__init__()\n",
        "        self.encoder = encoder\n",
        "        self.classifier = nn.Linear(512, num_classes)\n",
        "\n",
        "    def forward(self, x):\n",
        "        with torch.no_grad():\n",
        "            h = self.encoder(x)\n",
        "        out = self.classifier(h)\n",
        "        return out"
      ],
      "metadata": {
        "id": "Hu3sfzsKKdwQ"
      },
      "execution_count": null,
      "outputs": []
    },
    {
      "cell_type": "code",
      "source": [
        "def train_classifier(model, loader, epochs=5):\n",
        "    optimizer = torch.optim.Adam(model.parameters(), lr=1e-3)\n",
        "    criterion = nn.CrossEntropyLoss()\n",
        "\n",
        "    model.train()\n",
        "    for epoch in range(epochs):\n",
        "        total_loss = 0\n",
        "        correct = 0\n",
        "        total = 0\n",
        "        for x, y in loader:\n",
        "            x, y = x.to(DEVICE), y.to(DEVICE)\n",
        "            optimizer.zero_grad()\n",
        "            out = model(x)\n",
        "            loss = criterion(out, y)\n",
        "            loss.backward()\n",
        "            optimizer.step()\n",
        "\n",
        "            total_loss += loss.item()\n",
        "            pred = out.argmax(dim=1)\n",
        "            correct += (pred == y).sum().item()\n",
        "            total += y.size(0)\n",
        "\n",
        "        print(f\"Epoch {epoch+1}: Loss {total_loss/len(loader):.4f}, Accuracy {correct/total:.4f}\")"
      ],
      "metadata": {
        "id": "yPUhjfSnONf2"
      },
      "execution_count": null,
      "outputs": []
    },
    {
      "cell_type": "markdown",
      "source": [
        "## Задание 6.2\n",
        "\n",
        "Сравните полученный результат обучения c и без использования метода SimCLR."
      ],
      "metadata": {
        "id": "VcjTeHvyKSz5"
      }
    },
    {
      "cell_type": "code",
      "source": [
        "# Модель с предобученным SimCLR (предположим, ты обучила simclr_model)\n",
        "frozen_encoder = simclr_model.encoder\n",
        "for p in frozen_encoder.parameters():\n",
        "    p.requires_grad = False\n",
        "\n",
        "clf_simclr = DownstreamClassifier(frozen_encoder).to(DEVICE)\n",
        "train_classifier(clf_simclr, clf_loader)\n",
        "\n",
        "# Модель без SimCLR (рандомный ResNet)\n",
        "fresh_encoder = models.resnet18(pretrained=False)\n",
        "fresh_encoder.fc = nn.Identity()\n",
        "\n",
        "clf_random = DownstreamClassifier(fresh_encoder).to(DEVICE)\n",
        "train_classifier(clf_random, clf_loader)"
      ],
      "metadata": {
        "id": "nA4sA38wKHRC"
      },
      "execution_count": null,
      "outputs": []
    },
    {
      "cell_type": "markdown",
      "metadata": {
        "id": "Vqq1v7pEdW03"
      },
      "source": []
    }
  ],
  "metadata": {
    "accelerator": "GPU",
    "colab": {
      "provenance": [],
      "toc_visible": true
    },
    "kernelspec": {
      "display_name": "Python 3 (ipykernel)",
      "language": "python",
      "name": "python3"
    },
    "language_info": {
      "codemirror_mode": {
        "name": "ipython",
        "version": 3
      },
      "file_extension": ".py",
      "mimetype": "text/x-python",
      "name": "python",
      "nbconvert_exporter": "python",
      "pygments_lexer": "ipython3",
      "version": "3.8.10"
    }
  },
  "nbformat": 4,
  "nbformat_minor": 0
}